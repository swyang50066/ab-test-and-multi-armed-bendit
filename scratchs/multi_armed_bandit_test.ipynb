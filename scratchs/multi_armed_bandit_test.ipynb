{
 "cells": [
  {
   "cell_type": "markdown",
   "metadata": {},
   "source": [
    "# Multi-Armed Bandit: Epsilon-Greedy, UCB, Thompson Sampling, and Policy Gradient"
   ]
  },
  {
   "cell_type": "code",
   "execution_count": 1,
   "metadata": {},
   "outputs": [
    {
     "name": "stderr",
     "output_type": "stream",
     "text": [
      "/Users/yang-seungwon/anaconda3/lib/python3.7/site-packages/statsmodels/tools/_testing.py:19: FutureWarning: pandas.util.testing is deprecated. Use the functions in the public API at pandas.testing instead.\n",
      "  import pandas.util.testing as tm\n"
     ]
    }
   ],
   "source": [
    "import sys\n",
    "sys.path.append(\"../source\")\n",
    "\n",
    "import numpy as np\n",
    "\n",
    "import matplotlib.pyplot as plt\n",
    "import seaborn as sns\n",
    "\n",
    "from runner import runner\n",
    "from multi_armed_bandit import (\n",
    "    DeterministicBandit,\n",
    "    GaussianBandit,\n",
    "    BinomialBandit,\n",
    ")\n",
    "from agent import (\n",
    "    Agent,\n",
    "    GradientAgent,\n",
    "    BetaAgent,\n",
    ")\n",
    "from strategy import (\n",
    "    EpsilonGreedy,\n",
    "    UpperConfidenceBound,\n",
    "    Softmax,\n",
    ")"
   ]
  },
  {
   "cell_type": "markdown",
   "metadata": {},
   "source": [
    "## Set-Up"
   ]
  },
  {
   "cell_type": "code",
   "execution_count": 2,
   "metadata": {},
   "outputs": [],
   "source": [
    "# Plots    \n",
    "def plot_result(agents, scores, optimal, labels):\n",
    "    sns.set_style('white')\n",
    "    sns.set_context('talk')\n",
    "    plt.subplot(1, 1, 1)\n",
    "    plt.plot(scores)\n",
    "    plt.ylabel('Average Reward')\n",
    "    plt.ylim([0, np.max(scores)+1])\n",
    "    plt.legend(labels, loc=4)\n",
    "    sns.despine()\n",
    "    plt.show()"
   ]
  },
  {
   "cell_type": "code",
   "execution_count": 3,
   "metadata": {},
   "outputs": [],
   "source": [
    "# Configuration\n",
    "num_arm = 10\n",
    "num_iter = 1000\n",
    "num_experiment = 500"
   ]
  },
  {
   "cell_type": "markdown",
   "metadata": {},
   "source": [
    "## Epsilon-Greedy, UCB, and Thompson Sampling"
   ]
  },
  {
   "cell_type": "code",
   "execution_count": 4,
   "metadata": {},
   "outputs": [
    {
     "name": "stderr",
     "output_type": "stream",
     "text": [
      "iterations: 100%|██████████| 1000/1000 [00:00<00:00, 21873.24it/s]\n",
      "iterations:   0%|          | 0/1000 [00:00<?, ?it/s]../source/strategy.py:36: RuntimeWarning: invalid value encountered in true_divide\n",
      "  exploration = np.log(agent.trial+1) / agent.action_counts\n",
      "../source/strategy.py:36: RuntimeWarning: divide by zero encountered in true_divide\n",
      "  exploration = np.log(agent.trial+1) / agent.action_counts\n",
      "iterations: 100%|██████████| 1000/1000 [00:00<00:00, 15872.00it/s]\n",
      "iterations: 100%|██████████| 1000/1000 [00:00<00:00, 15572.18it/s]\n",
      "iterations:   0%|          | 0/1000 [00:00<?, ?it/s]"
     ]
    },
    {
     "name": "stdout",
     "output_type": "stream",
     "text": [
      "Experiment:  0\n",
      "Experiment:  1\n"
     ]
    },
    {
     "name": "stderr",
     "output_type": "stream",
     "text": [
      "iterations: 100%|██████████| 1000/1000 [00:00<00:00, 19604.04it/s]\n",
      "iterations: 100%|██████████| 1000/1000 [00:00<00:00, 9057.64it/s]\n",
      "iterations: 100%|██████████| 1000/1000 [00:00<00:00, 13065.76it/s]\n",
      "iterations: 100%|██████████| 1000/1000 [00:00<00:00, 21002.71it/s]\n",
      "iterations: 100%|██████████| 1000/1000 [00:00<00:00, 18338.88it/s]\n",
      "iterations: 100%|██████████| 1000/1000 [00:00<00:00, 13684.20it/s]\n",
      "iterations:   0%|          | 0/1000 [00:00<?, ?it/s]"
     ]
    },
    {
     "name": "stdout",
     "output_type": "stream",
     "text": [
      "Experiment:  2\n",
      "Experiment:  3\n"
     ]
    },
    {
     "name": "stderr",
     "output_type": "stream",
     "text": [
      "iterations: 100%|██████████| 1000/1000 [00:00<00:00, 19643.98it/s]\n",
      "iterations: 100%|██████████| 1000/1000 [00:00<00:00, 17184.14it/s]\n",
      "iterations: 100%|██████████| 1000/1000 [00:00<00:00, 15052.28it/s]\n",
      "iterations: 100%|██████████| 1000/1000 [00:00<00:00, 21288.94it/s]\n",
      "iterations: 100%|██████████| 1000/1000 [00:00<00:00, 17137.38it/s]\n",
      "iterations: 100%|██████████| 1000/1000 [00:00<00:00, 14794.83it/s]\n",
      "iterations:   0%|          | 0/1000 [00:00<?, ?it/s]"
     ]
    },
    {
     "name": "stdout",
     "output_type": "stream",
     "text": [
      "Experiment:  4\n",
      "Experiment:  5\n"
     ]
    },
    {
     "name": "stderr",
     "output_type": "stream",
     "text": [
      "iterations: 100%|██████████| 1000/1000 [00:00<00:00, 18500.66it/s]\n",
      "iterations: 100%|██████████| 1000/1000 [00:00<00:00, 11298.15it/s]\n",
      "iterations: 100%|██████████| 1000/1000 [00:00<00:00, 11217.81it/s]\n",
      "iterations: 100%|██████████| 1000/1000 [00:00<00:00, 21177.47it/s]\n",
      "iterations: 100%|██████████| 1000/1000 [00:00<00:00, 16048.98it/s]\n",
      "iterations: 100%|██████████| 1000/1000 [00:00<00:00, 13509.66it/s]\n"
     ]
    },
    {
     "name": "stdout",
     "output_type": "stream",
     "text": [
      "Experiment:  6\n",
      "Experiment:  7\n"
     ]
    },
    {
     "name": "stderr",
     "output_type": "stream",
     "text": [
      "iterations: 100%|██████████| 1000/1000 [00:00<00:00, 19912.00it/s]\n",
      "iterations: 100%|██████████| 1000/1000 [00:00<00:00, 17443.56it/s]\n",
      "iterations: 100%|██████████| 1000/1000 [00:00<00:00, 14577.02it/s]\n",
      "iterations: 100%|██████████| 1000/1000 [00:00<00:00, 20361.59it/s]\n",
      "iterations: 100%|██████████| 1000/1000 [00:00<00:00, 17053.83it/s]\n",
      "iterations:   0%|          | 0/1000 [00:00<?, ?it/s]"
     ]
    },
    {
     "name": "stdout",
     "output_type": "stream",
     "text": [
      "Experiment:  8\n"
     ]
    },
    {
     "name": "stderr",
     "output_type": "stream",
     "text": [
      "iterations: 100%|██████████| 1000/1000 [00:00<00:00, 10871.73it/s]\n",
      "iterations: 100%|██████████| 1000/1000 [00:00<00:00, 17135.27it/s]\n",
      "iterations: 100%|██████████| 1000/1000 [00:00<00:00, 17043.37it/s]\n",
      "iterations: 100%|██████████| 1000/1000 [00:00<00:00, 14938.52it/s]\n",
      "iterations:   0%|          | 0/1000 [00:00<?, ?it/s]"
     ]
    },
    {
     "name": "stdout",
     "output_type": "stream",
     "text": [
      "Experiment:  9\n",
      "Experiment:  10\n"
     ]
    },
    {
     "name": "stderr",
     "output_type": "stream",
     "text": [
      "iterations: 100%|██████████| 1000/1000 [00:00<00:00, 19341.25it/s]\n",
      "iterations: 100%|██████████| 1000/1000 [00:00<00:00, 16971.03it/s]\n",
      "iterations: 100%|██████████| 1000/1000 [00:00<00:00, 15965.29it/s]\n",
      "iterations: 100%|██████████| 1000/1000 [00:00<00:00, 22370.34it/s]\n",
      "iterations: 100%|██████████| 1000/1000 [00:00<00:00, 16941.69it/s]\n",
      "iterations: 100%|██████████| 1000/1000 [00:00<00:00, 14719.49it/s]\n",
      "iterations:   0%|          | 0/1000 [00:00<?, ?it/s]"
     ]
    },
    {
     "name": "stdout",
     "output_type": "stream",
     "text": [
      "Experiment:  11\n",
      "Experiment:  12\n"
     ]
    },
    {
     "name": "stderr",
     "output_type": "stream",
     "text": [
      "iterations: 100%|██████████| 1000/1000 [00:00<00:00, 20132.50it/s]\n",
      "iterations: 100%|██████████| 1000/1000 [00:00<00:00, 15918.99it/s]\n",
      "iterations: 100%|██████████| 1000/1000 [00:00<00:00, 15480.62it/s]\n",
      "iterations: 100%|██████████| 1000/1000 [00:00<00:00, 19775.78it/s]\n",
      "iterations: 100%|██████████| 1000/1000 [00:00<00:00, 15879.33it/s]\n",
      "iterations: 100%|██████████| 1000/1000 [00:00<00:00, 14297.32it/s]\n",
      "iterations:   0%|          | 0/1000 [00:00<?, ?it/s]"
     ]
    },
    {
     "name": "stdout",
     "output_type": "stream",
     "text": [
      "Experiment:  13\n",
      "Experiment:  14\n"
     ]
    },
    {
     "name": "stderr",
     "output_type": "stream",
     "text": [
      "iterations: 100%|██████████| 1000/1000 [00:00<00:00, 19894.91it/s]\n",
      "iterations: 100%|██████████| 1000/1000 [00:00<00:00, 16436.26it/s]\n",
      "iterations: 100%|██████████| 1000/1000 [00:00<00:00, 12709.70it/s]\n",
      "iterations: 100%|██████████| 1000/1000 [00:00<00:00, 19958.81it/s]\n",
      "iterations: 100%|██████████| 1000/1000 [00:00<00:00, 15314.44it/s]\n",
      "iterations:   0%|          | 0/1000 [00:00<?, ?it/s]"
     ]
    },
    {
     "name": "stdout",
     "output_type": "stream",
     "text": [
      "Experiment:  15\n"
     ]
    },
    {
     "name": "stderr",
     "output_type": "stream",
     "text": [
      "iterations: 100%|██████████| 1000/1000 [00:00<00:00, 12277.47it/s]\n",
      "iterations: 100%|██████████| 1000/1000 [00:00<00:00, 19831.97it/s]\n",
      "iterations: 100%|██████████| 1000/1000 [00:00<00:00, 15973.37it/s]\n",
      "iterations: 100%|██████████| 1000/1000 [00:00<00:00, 13399.60it/s]"
     ]
    },
    {
     "name": "stdout",
     "output_type": "stream",
     "text": [
      "Experiment:  16\n"
     ]
    },
    {
     "name": "stderr",
     "output_type": "stream",
     "text": [
      "\n",
      "iterations: 100%|██████████| 1000/1000 [00:00<00:00, 22299.10it/s]\n",
      "iterations: 100%|██████████| 1000/1000 [00:00<00:00, 17705.40it/s]\n",
      "iterations: 100%|██████████| 1000/1000 [00:00<00:00, 15018.60it/s]\n",
      "iterations:   0%|          | 0/1000 [00:00<?, ?it/s]"
     ]
    },
    {
     "name": "stdout",
     "output_type": "stream",
     "text": [
      "Experiment:  17\n",
      "Experiment:  18\n"
     ]
    },
    {
     "name": "stderr",
     "output_type": "stream",
     "text": [
      "iterations: 100%|██████████| 1000/1000 [00:00<00:00, 20062.20it/s]\n",
      "iterations: 100%|██████████| 1000/1000 [00:00<00:00, 17738.65it/s]\n",
      "iterations: 100%|██████████| 1000/1000 [00:00<00:00, 14867.04it/s]\n",
      "iterations: 100%|██████████| 1000/1000 [00:00<00:00, 20851.10it/s]\n",
      "iterations: 100%|██████████| 1000/1000 [00:00<00:00, 14843.63it/s]\n",
      "iterations: 100%|██████████| 1000/1000 [00:00<00:00, 14564.47it/s]\n",
      "iterations:   0%|          | 0/1000 [00:00<?, ?it/s]"
     ]
    },
    {
     "name": "stdout",
     "output_type": "stream",
     "text": [
      "Experiment:  19\n",
      "Experiment:  20\n"
     ]
    },
    {
     "name": "stderr",
     "output_type": "stream",
     "text": [
      "iterations: 100%|██████████| 1000/1000 [00:00<00:00, 18853.69it/s]\n",
      "iterations: 100%|██████████| 1000/1000 [00:00<00:00, 16581.82it/s]\n",
      "iterations: 100%|██████████| 1000/1000 [00:00<00:00, 15101.87it/s]\n",
      "iterations: 100%|██████████| 1000/1000 [00:00<00:00, 22477.39it/s]\n",
      "iterations: 100%|██████████| 1000/1000 [00:00<00:00, 17477.65it/s]\n",
      "iterations:   0%|          | 0/1000 [00:00<?, ?it/s]"
     ]
    },
    {
     "name": "stdout",
     "output_type": "stream",
     "text": [
      "Experiment:  21\n"
     ]
    },
    {
     "name": "stderr",
     "output_type": "stream",
     "text": [
      "iterations: 100%|██████████| 1000/1000 [00:00<00:00, 9404.08it/s]\n",
      "iterations: 100%|██████████| 1000/1000 [00:00<00:00, 23034.11it/s]\n",
      "iterations: 100%|██████████| 1000/1000 [00:00<00:00, 15721.55it/s]\n",
      "iterations: 100%|██████████| 1000/1000 [00:00<00:00, 14801.20it/s]\n",
      "iterations:   0%|          | 0/1000 [00:00<?, ?it/s]"
     ]
    },
    {
     "name": "stdout",
     "output_type": "stream",
     "text": [
      "Experiment:  22\n",
      "Experiment:  23\n"
     ]
    },
    {
     "name": "stderr",
     "output_type": "stream",
     "text": [
      "iterations: 100%|██████████| 1000/1000 [00:00<00:00, 19757.98it/s]\n",
      "iterations: 100%|██████████| 1000/1000 [00:00<00:00, 17066.04it/s]\n",
      "iterations: 100%|██████████| 1000/1000 [00:00<00:00, 15009.84it/s]\n",
      "iterations: 100%|██████████| 1000/1000 [00:00<00:00, 20112.23it/s]\n",
      "iterations: 100%|██████████| 1000/1000 [00:00<00:00, 17717.97it/s]\n",
      "iterations: 100%|██████████| 1000/1000 [00:00<00:00, 14946.40it/s]\n",
      "iterations:   0%|          | 0/1000 [00:00<?, ?it/s]"
     ]
    },
    {
     "name": "stdout",
     "output_type": "stream",
     "text": [
      "Experiment:  24\n",
      "Experiment:  25\n"
     ]
    },
    {
     "name": "stderr",
     "output_type": "stream",
     "text": [
      "iterations: 100%|██████████| 1000/1000 [00:00<00:00, 19718.51it/s]\n",
      "iterations: 100%|██████████| 1000/1000 [00:00<00:00, 17288.47it/s]\n",
      "iterations: 100%|██████████| 1000/1000 [00:00<00:00, 15341.95it/s]\n",
      "iterations: 100%|██████████| 1000/1000 [00:00<00:00, 19870.03it/s]\n",
      "iterations: 100%|██████████| 1000/1000 [00:00<00:00, 17629.57it/s]\n",
      "iterations: 100%|██████████| 1000/1000 [00:00<00:00, 14245.21it/s]\n",
      "iterations:   0%|          | 0/1000 [00:00<?, ?it/s]"
     ]
    },
    {
     "name": "stdout",
     "output_type": "stream",
     "text": [
      "Experiment:  26\n",
      "Experiment:  27\n"
     ]
    },
    {
     "name": "stderr",
     "output_type": "stream",
     "text": [
      "iterations: 100%|██████████| 1000/1000 [00:00<00:00, 16525.11it/s]\n",
      "iterations: 100%|██████████| 1000/1000 [00:00<00:00, 13641.30it/s]\n",
      "iterations: 100%|██████████| 1000/1000 [00:00<00:00, 14304.73it/s]\n",
      "iterations: 100%|██████████| 1000/1000 [00:00<00:00, 19329.21it/s]\n",
      "iterations: 100%|██████████| 1000/1000 [00:00<00:00, 17140.88it/s]\n",
      "iterations: 100%|██████████| 1000/1000 [00:00<00:00, 13931.88it/s]\n",
      "iterations:   0%|          | 0/1000 [00:00<?, ?it/s]"
     ]
    },
    {
     "name": "stdout",
     "output_type": "stream",
     "text": [
      "Experiment:  28\n",
      "Experiment:  29\n"
     ]
    },
    {
     "name": "stderr",
     "output_type": "stream",
     "text": [
      "iterations: 100%|██████████| 1000/1000 [00:00<00:00, 17286.12it/s]\n",
      "iterations: 100%|██████████| 1000/1000 [00:00<00:00, 15998.47it/s]\n",
      "iterations: 100%|██████████| 1000/1000 [00:00<00:00, 13346.31it/s]\n",
      "iterations: 100%|██████████| 1000/1000 [00:00<00:00, 20379.50it/s]\n",
      "iterations: 100%|██████████| 1000/1000 [00:00<00:00, 16650.94it/s]\n",
      "iterations: 100%|██████████| 1000/1000 [00:00<00:00, 13731.74it/s]\n",
      "iterations:   0%|          | 0/1000 [00:00<?, ?it/s]"
     ]
    },
    {
     "name": "stdout",
     "output_type": "stream",
     "text": [
      "Experiment:  30\n",
      "Experiment:  31\n"
     ]
    },
    {
     "name": "stderr",
     "output_type": "stream",
     "text": [
      "iterations: 100%|██████████| 1000/1000 [00:00<00:00, 19499.23it/s]\n",
      "iterations: 100%|██████████| 1000/1000 [00:00<00:00, 17265.84it/s]\n",
      "iterations: 100%|██████████| 1000/1000 [00:00<00:00, 15517.79it/s]\n",
      "iterations: 100%|██████████| 1000/1000 [00:00<00:00, 20408.55it/s]\n",
      "iterations: 100%|██████████| 1000/1000 [00:00<00:00, 18316.38it/s]\n",
      "iterations: 100%|██████████| 1000/1000 [00:00<00:00, 15321.43it/s]\n",
      "iterations:   0%|          | 0/1000 [00:00<?, ?it/s]"
     ]
    },
    {
     "name": "stdout",
     "output_type": "stream",
     "text": [
      "Experiment:  32\n",
      "Experiment:  33\n"
     ]
    },
    {
     "name": "stderr",
     "output_type": "stream",
     "text": [
      "iterations: 100%|██████████| 1000/1000 [00:00<00:00, 21126.91it/s]\n",
      "iterations: 100%|██████████| 1000/1000 [00:00<00:00, 17892.34it/s]\n",
      "iterations: 100%|██████████| 1000/1000 [00:00<00:00, 16080.30it/s]\n",
      "iterations: 100%|██████████| 1000/1000 [00:00<00:00, 21568.09it/s]\n",
      "iterations: 100%|██████████| 1000/1000 [00:00<00:00, 15242.48it/s]\n",
      "iterations:   0%|          | 0/1000 [00:00<?, ?it/s]"
     ]
    },
    {
     "name": "stdout",
     "output_type": "stream",
     "text": [
      "Experiment:  34\n"
     ]
    },
    {
     "name": "stderr",
     "output_type": "stream",
     "text": [
      "iterations: 100%|██████████| 1000/1000 [00:00<00:00, 11022.67it/s]\n",
      "iterations: 100%|██████████| 1000/1000 [00:00<00:00, 18518.55it/s]\n",
      "iterations: 100%|██████████| 1000/1000 [00:00<00:00, 16303.88it/s]\n",
      "iterations: 100%|██████████| 1000/1000 [00:00<00:00, 14123.71it/s]\n",
      "iterations:   0%|          | 0/1000 [00:00<?, ?it/s]"
     ]
    },
    {
     "name": "stdout",
     "output_type": "stream",
     "text": [
      "Experiment:  35\n",
      "Experiment:  36\n"
     ]
    },
    {
     "name": "stderr",
     "output_type": "stream",
     "text": [
      "iterations: 100%|██████████| 1000/1000 [00:00<00:00, 21340.61it/s]\n",
      "iterations: 100%|██████████| 1000/1000 [00:00<00:00, 16150.45it/s]\n",
      "iterations: 100%|██████████| 1000/1000 [00:00<00:00, 15779.57it/s]\n",
      "iterations: 100%|██████████| 1000/1000 [00:00<00:00, 21035.89it/s]\n",
      "iterations: 100%|██████████| 1000/1000 [00:00<00:00, 18041.10it/s]\n",
      "iterations: 100%|██████████| 1000/1000 [00:00<00:00, 15811.27it/s]\n",
      "iterations:   0%|          | 0/1000 [00:00<?, ?it/s]"
     ]
    },
    {
     "name": "stdout",
     "output_type": "stream",
     "text": [
      "Experiment:  37\n",
      "Experiment:  38\n"
     ]
    },
    {
     "name": "stderr",
     "output_type": "stream",
     "text": [
      "iterations: 100%|██████████| 1000/1000 [00:00<00:00, 20862.10it/s]\n",
      "iterations: 100%|██████████| 1000/1000 [00:00<00:00, 16530.64it/s]\n",
      "iterations: 100%|██████████| 1000/1000 [00:00<00:00, 15938.53it/s]\n",
      "iterations: 100%|██████████| 1000/1000 [00:00<00:00, 21348.32it/s]\n",
      "iterations: 100%|██████████| 1000/1000 [00:00<00:00, 10736.65it/s]\n",
      "iterations:   0%|          | 0/1000 [00:00<?, ?it/s]"
     ]
    },
    {
     "name": "stdout",
     "output_type": "stream",
     "text": [
      "Experiment:  39\n"
     ]
    },
    {
     "name": "stderr",
     "output_type": "stream",
     "text": [
      "iterations: 100%|██████████| 1000/1000 [00:00<00:00, 8365.55it/s]\n",
      "iterations: 100%|██████████| 1000/1000 [00:00<00:00, 19258.92it/s]\n",
      "iterations: 100%|██████████| 1000/1000 [00:00<00:00, 18955.94it/s]\n",
      "iterations: 100%|██████████| 1000/1000 [00:00<00:00, 16042.41it/s]\n",
      "iterations:   0%|          | 0/1000 [00:00<?, ?it/s]"
     ]
    },
    {
     "name": "stdout",
     "output_type": "stream",
     "text": [
      "Experiment:  40\n",
      "Experiment:  41\n"
     ]
    },
    {
     "name": "stderr",
     "output_type": "stream",
     "text": [
      "iterations: 100%|██████████| 1000/1000 [00:00<00:00, 21600.08it/s]\n",
      "iterations: 100%|██████████| 1000/1000 [00:00<00:00, 18281.97it/s]\n",
      "iterations: 100%|██████████| 1000/1000 [00:00<00:00, 15282.75it/s]\n",
      "iterations: 100%|██████████| 1000/1000 [00:00<00:00, 24115.45it/s]\n",
      "iterations: 100%|██████████| 1000/1000 [00:00<00:00, 18153.39it/s]\n",
      "iterations: 100%|██████████| 1000/1000 [00:00<00:00, 15973.19it/s]\n",
      "iterations:   0%|          | 0/1000 [00:00<?, ?it/s]"
     ]
    },
    {
     "name": "stdout",
     "output_type": "stream",
     "text": [
      "Experiment:  42\n",
      "Experiment:  43\n"
     ]
    },
    {
     "name": "stderr",
     "output_type": "stream",
     "text": [
      "iterations: 100%|██████████| 1000/1000 [00:00<00:00, 22553.54it/s]\n",
      "iterations: 100%|██████████| 1000/1000 [00:00<00:00, 18896.41it/s]\n",
      "iterations: 100%|██████████| 1000/1000 [00:00<00:00, 16047.50it/s]\n",
      "iterations: 100%|██████████| 1000/1000 [00:00<00:00, 22746.42it/s]\n",
      "iterations: 100%|██████████| 1000/1000 [00:00<00:00, 17933.73it/s]\n",
      "iterations: 100%|██████████| 1000/1000 [00:00<00:00, 15459.97it/s]\n",
      "iterations:   0%|          | 0/1000 [00:00<?, ?it/s]"
     ]
    },
    {
     "name": "stdout",
     "output_type": "stream",
     "text": [
      "Experiment:  44\n",
      "Experiment:  45\n"
     ]
    },
    {
     "name": "stderr",
     "output_type": "stream",
     "text": [
      "iterations: 100%|██████████| 1000/1000 [00:00<00:00, 21997.37it/s]\n",
      "iterations: 100%|██████████| 1000/1000 [00:00<00:00, 17978.23it/s]\n",
      "iterations: 100%|██████████| 1000/1000 [00:00<00:00, 16186.47it/s]\n",
      "iterations: 100%|██████████| 1000/1000 [00:00<00:00, 21366.59it/s]\n",
      "iterations: 100%|██████████| 1000/1000 [00:00<00:00, 17526.07it/s]\n",
      "iterations: 100%|██████████| 1000/1000 [00:00<00:00, 15674.48it/s]\n",
      "iterations:   0%|          | 0/1000 [00:00<?, ?it/s]"
     ]
    },
    {
     "name": "stdout",
     "output_type": "stream",
     "text": [
      "Experiment:  46\n",
      "Experiment:  47\n"
     ]
    },
    {
     "name": "stderr",
     "output_type": "stream",
     "text": [
      "iterations: 100%|██████████| 1000/1000 [00:00<00:00, 23084.44it/s]\n",
      "iterations: 100%|██████████| 1000/1000 [00:00<00:00, 15944.71it/s]\n",
      "iterations: 100%|██████████| 1000/1000 [00:00<00:00, 16184.10it/s]\n",
      "iterations: 100%|██████████| 1000/1000 [00:00<00:00, 21287.10it/s]\n",
      "iterations: 100%|██████████| 1000/1000 [00:00<00:00, 17009.43it/s]\n",
      "iterations: 100%|██████████| 1000/1000 [00:00<00:00, 15871.76it/s]\n",
      "iterations: 100%|██████████| 1000/1000 [00:00<00:00, 21223.33it/s]"
     ]
    },
    {
     "name": "stdout",
     "output_type": "stream",
     "text": [
      "Experiment:  48\n",
      "Experiment:  49\n"
     ]
    },
    {
     "name": "stderr",
     "output_type": "stream",
     "text": [
      "\n",
      "iterations: 100%|██████████| 1000/1000 [00:00<00:00, 18514.79it/s]\n",
      "iterations: 100%|██████████| 1000/1000 [00:00<00:00, 15514.98it/s]\n",
      "iterations: 100%|██████████| 1000/1000 [00:00<00:00, 20985.37it/s]\n",
      "iterations: 100%|██████████| 1000/1000 [00:00<00:00, 17253.91it/s]\n",
      "iterations: 100%|██████████| 1000/1000 [00:00<00:00, 15734.40it/s]\n",
      "iterations:   0%|          | 0/1000 [00:00<?, ?it/s]"
     ]
    },
    {
     "name": "stdout",
     "output_type": "stream",
     "text": [
      "Experiment:  50\n",
      "Experiment:  51\n"
     ]
    },
    {
     "name": "stderr",
     "output_type": "stream",
     "text": [
      "iterations: 100%|██████████| 1000/1000 [00:00<00:00, 21388.92it/s]\n",
      "iterations: 100%|██████████| 1000/1000 [00:00<00:00, 15264.39it/s]\n",
      "iterations: 100%|██████████| 1000/1000 [00:00<00:00, 15622.35it/s]\n",
      "iterations: 100%|██████████| 1000/1000 [00:00<00:00, 21387.62it/s]\n",
      "iterations: 100%|██████████| 1000/1000 [00:00<00:00, 16881.95it/s]\n",
      "iterations: 100%|██████████| 1000/1000 [00:00<00:00, 15890.16it/s]\n",
      "iterations:   0%|          | 0/1000 [00:00<?, ?it/s]"
     ]
    },
    {
     "name": "stdout",
     "output_type": "stream",
     "text": [
      "Experiment:  52\n",
      "Experiment:  53\n"
     ]
    },
    {
     "name": "stderr",
     "output_type": "stream",
     "text": [
      "iterations: 100%|██████████| 1000/1000 [00:00<00:00, 21320.65it/s]\n",
      "iterations: 100%|██████████| 1000/1000 [00:00<00:00, 16037.01it/s]\n",
      "iterations: 100%|██████████| 1000/1000 [00:00<00:00, 15030.33it/s]\n",
      "iterations: 100%|██████████| 1000/1000 [00:00<00:00, 21442.72it/s]\n",
      "iterations: 100%|██████████| 1000/1000 [00:00<00:00, 17938.48it/s]\n",
      "iterations: 100%|██████████| 1000/1000 [00:00<00:00, 15310.92it/s]\n",
      "iterations:   0%|          | 0/1000 [00:00<?, ?it/s]"
     ]
    },
    {
     "name": "stdout",
     "output_type": "stream",
     "text": [
      "Experiment:  54\n",
      "Experiment:  55\n"
     ]
    },
    {
     "name": "stderr",
     "output_type": "stream",
     "text": [
      "iterations: 100%|██████████| 1000/1000 [00:00<00:00, 21150.13it/s]\n",
      "iterations: 100%|██████████| 1000/1000 [00:00<00:00, 16242.20it/s]\n",
      "iterations: 100%|██████████| 1000/1000 [00:00<00:00, 15867.98it/s]\n",
      "iterations: 100%|██████████| 1000/1000 [00:00<00:00, 22172.96it/s]\n",
      "iterations: 100%|██████████| 1000/1000 [00:00<00:00, 15212.13it/s]\n",
      "iterations: 100%|██████████| 1000/1000 [00:00<00:00, 15311.37it/s]\n",
      "iterations:   0%|          | 0/1000 [00:00<?, ?it/s]"
     ]
    },
    {
     "name": "stdout",
     "output_type": "stream",
     "text": [
      "Experiment:  56\n",
      "Experiment:  57\n"
     ]
    },
    {
     "name": "stderr",
     "output_type": "stream",
     "text": [
      "iterations: 100%|██████████| 1000/1000 [00:00<00:00, 19152.60it/s]\n",
      "iterations: 100%|██████████| 1000/1000 [00:00<00:00, 16847.84it/s]\n",
      "iterations: 100%|██████████| 1000/1000 [00:00<00:00, 15359.59it/s]\n",
      "iterations: 100%|██████████| 1000/1000 [00:00<00:00, 21175.23it/s]\n",
      "iterations: 100%|██████████| 1000/1000 [00:00<00:00, 16738.38it/s]\n",
      "iterations: 100%|██████████| 1000/1000 [00:00<00:00, 15747.28it/s]\n",
      "iterations:   0%|          | 0/1000 [00:00<?, ?it/s]"
     ]
    },
    {
     "name": "stdout",
     "output_type": "stream",
     "text": [
      "Experiment:  58\n",
      "Experiment:  59\n"
     ]
    },
    {
     "name": "stderr",
     "output_type": "stream",
     "text": [
      "iterations: 100%|██████████| 1000/1000 [00:00<00:00, 19077.33it/s]\n",
      "iterations: 100%|██████████| 1000/1000 [00:00<00:00, 11376.67it/s]\n",
      "iterations: 100%|██████████| 1000/1000 [00:00<00:00, 13235.54it/s]\n",
      "iterations: 100%|██████████| 1000/1000 [00:00<00:00, 18260.16it/s]\n",
      "iterations: 100%|██████████| 1000/1000 [00:00<00:00, 14889.79it/s]\n",
      "iterations: 100%|██████████| 1000/1000 [00:00<00:00, 15627.41it/s]\n"
     ]
    },
    {
     "name": "stdout",
     "output_type": "stream",
     "text": [
      "Experiment:  60\n",
      "Experiment:  61\n"
     ]
    },
    {
     "name": "stderr",
     "output_type": "stream",
     "text": [
      "iterations: 100%|██████████| 1000/1000 [00:00<00:00, 21263.04it/s]\n",
      "iterations: 100%|██████████| 1000/1000 [00:00<00:00, 16184.35it/s]\n",
      "iterations: 100%|██████████| 1000/1000 [00:00<00:00, 14671.97it/s]\n",
      "iterations: 100%|██████████| 1000/1000 [00:00<00:00, 19281.59it/s]\n",
      "iterations: 100%|██████████| 1000/1000 [00:00<00:00, 17897.68it/s]\n",
      "iterations: 100%|██████████| 1000/1000 [00:00<00:00, 14464.46it/s]\n",
      "iterations:   0%|          | 0/1000 [00:00<?, ?it/s]"
     ]
    },
    {
     "name": "stdout",
     "output_type": "stream",
     "text": [
      "Experiment:  62\n",
      "Experiment:  63\n"
     ]
    },
    {
     "name": "stderr",
     "output_type": "stream",
     "text": [
      "iterations: 100%|██████████| 1000/1000 [00:00<00:00, 18359.11it/s]\n",
      "iterations: 100%|██████████| 1000/1000 [00:00<00:00, 15800.25it/s]\n",
      "iterations: 100%|██████████| 1000/1000 [00:00<00:00, 13090.02it/s]\n",
      "iterations: 100%|██████████| 1000/1000 [00:00<00:00, 17852.96it/s]\n",
      "iterations: 100%|██████████| 1000/1000 [00:00<00:00, 16947.71it/s]\n",
      "iterations: 100%|██████████| 1000/1000 [00:00<00:00, 13140.42it/s]"
     ]
    },
    {
     "name": "stdout",
     "output_type": "stream",
     "text": [
      "Experiment:  64\n"
     ]
    },
    {
     "name": "stderr",
     "output_type": "stream",
     "text": [
      "\n",
      "iterations: 100%|██████████| 1000/1000 [00:00<00:00, 18343.21it/s]\n",
      "iterations: 100%|██████████| 1000/1000 [00:00<00:00, 12813.30it/s]\n",
      "iterations:   0%|          | 0/1000 [00:00<?, ?it/s]"
     ]
    },
    {
     "name": "stdout",
     "output_type": "stream",
     "text": [
      "Experiment:  65\n"
     ]
    },
    {
     "name": "stderr",
     "output_type": "stream",
     "text": [
      "iterations: 100%|██████████| 1000/1000 [00:00<00:00, 2832.29it/s]\n",
      "iterations: 100%|██████████| 1000/1000 [00:00<00:00, 16078.14it/s]\n",
      "iterations: 100%|██████████| 1000/1000 [00:00<00:00, 11228.53it/s]\n",
      "iterations:   0%|          | 0/1000 [00:00<?, ?it/s]"
     ]
    },
    {
     "name": "stdout",
     "output_type": "stream",
     "text": [
      "Experiment:  66\n"
     ]
    },
    {
     "name": "stderr",
     "output_type": "stream",
     "text": [
      "iterations: 100%|██████████| 1000/1000 [00:00<00:00, 13389.72it/s]\n",
      "iterations: 100%|██████████| 1000/1000 [00:00<00:00, 23019.19it/s]\n",
      "iterations: 100%|██████████| 1000/1000 [00:00<00:00, 12772.21it/s]\n",
      "iterations:   0%|          | 0/1000 [00:00<?, ?it/s]"
     ]
    },
    {
     "name": "stdout",
     "output_type": "stream",
     "text": [
      "Experiment:  67\n"
     ]
    },
    {
     "name": "stderr",
     "output_type": "stream",
     "text": [
      "iterations: 100%|██████████| 1000/1000 [00:00<00:00, 13042.92it/s]\n",
      "iterations: 100%|██████████| 1000/1000 [00:00<00:00, 20932.38it/s]\n",
      "iterations: 100%|██████████| 1000/1000 [00:00<00:00, 19445.80it/s]\n",
      "iterations: 100%|██████████| 1000/1000 [00:00<00:00, 14222.99it/s]\n",
      "iterations:   0%|          | 0/1000 [00:00<?, ?it/s]"
     ]
    },
    {
     "name": "stdout",
     "output_type": "stream",
     "text": [
      "Experiment:  68\n",
      "Experiment:  69\n"
     ]
    },
    {
     "name": "stderr",
     "output_type": "stream",
     "text": [
      "iterations: 100%|██████████| 1000/1000 [00:00<00:00, 19453.38it/s]\n",
      "iterations: 100%|██████████| 1000/1000 [00:00<00:00, 17474.30it/s]\n",
      "iterations: 100%|██████████| 1000/1000 [00:00<00:00, 10141.07it/s]\n",
      "iterations: 100%|██████████| 1000/1000 [00:00<00:00, 11100.36it/s]\n",
      "iterations:   0%|          | 0/1000 [00:00<?, ?it/s]"
     ]
    },
    {
     "name": "stdout",
     "output_type": "stream",
     "text": [
      "Experiment:  70\n"
     ]
    },
    {
     "name": "stderr",
     "output_type": "stream",
     "text": [
      "iterations: 100%|██████████| 1000/1000 [00:00<00:00, 6526.66it/s]\n",
      "iterations: 100%|██████████| 1000/1000 [00:00<00:00, 8598.76it/s]\n",
      "iterations: 100%|██████████| 1000/1000 [00:00<00:00, 20515.76it/s]\n",
      "iterations: 100%|██████████| 1000/1000 [00:00<00:00, 10718.35it/s]\n",
      "iterations:   0%|          | 0/1000 [00:00<?, ?it/s]"
     ]
    },
    {
     "name": "stdout",
     "output_type": "stream",
     "text": [
      "Experiment:  71\n"
     ]
    },
    {
     "name": "stderr",
     "output_type": "stream",
     "text": [
      "iterations: 100%|██████████| 1000/1000 [00:00<00:00, 15450.17it/s]\n",
      "iterations: 100%|██████████| 1000/1000 [00:00<00:00, 24124.88it/s]\n",
      "iterations: 100%|██████████| 1000/1000 [00:00<00:00, 19088.44it/s]\n",
      "iterations: 100%|██████████| 1000/1000 [00:00<00:00, 15407.38it/s]\n",
      "iterations:   0%|          | 0/1000 [00:00<?, ?it/s]"
     ]
    },
    {
     "name": "stdout",
     "output_type": "stream",
     "text": [
      "Experiment:  72\n",
      "Experiment:  73\n"
     ]
    },
    {
     "name": "stderr",
     "output_type": "stream",
     "text": [
      "iterations: 100%|██████████| 1000/1000 [00:00<00:00, 22790.92it/s]\n",
      "iterations: 100%|██████████| 1000/1000 [00:00<00:00, 17836.72it/s]\n",
      "iterations: 100%|██████████| 1000/1000 [00:00<00:00, 16067.05it/s]\n",
      "iterations: 100%|██████████| 1000/1000 [00:00<00:00, 23482.90it/s]\n",
      "iterations: 100%|██████████| 1000/1000 [00:00<00:00, 18374.55it/s]\n",
      "iterations: 100%|██████████| 1000/1000 [00:00<00:00, 15625.96it/s]\n",
      "iterations: 100%|██████████| 1000/1000 [00:00<00:00, 20880.38it/s]"
     ]
    },
    {
     "name": "stdout",
     "output_type": "stream",
     "text": [
      "Experiment:  74\n",
      "Experiment:  75\n"
     ]
    },
    {
     "name": "stderr",
     "output_type": "stream",
     "text": [
      "\n",
      "iterations: 100%|██████████| 1000/1000 [00:00<00:00, 16403.61it/s]\n",
      "iterations: 100%|██████████| 1000/1000 [00:00<00:00, 15731.45it/s]\n",
      "iterations: 100%|██████████| 1000/1000 [00:00<00:00, 20808.69it/s]\n",
      "iterations: 100%|██████████| 1000/1000 [00:00<00:00, 15751.78it/s]\n",
      "iterations: 100%|██████████| 1000/1000 [00:00<00:00, 15692.90it/s]\n",
      "iterations:   0%|          | 0/1000 [00:00<?, ?it/s]"
     ]
    },
    {
     "name": "stdout",
     "output_type": "stream",
     "text": [
      "Experiment:  76\n",
      "Experiment:  77\n"
     ]
    },
    {
     "name": "stderr",
     "output_type": "stream",
     "text": [
      "iterations: 100%|██████████| 1000/1000 [00:00<00:00, 21577.86it/s]\n",
      "iterations: 100%|██████████| 1000/1000 [00:00<00:00, 19212.25it/s]\n",
      "iterations: 100%|██████████| 1000/1000 [00:00<00:00, 14689.90it/s]\n",
      "iterations: 100%|██████████| 1000/1000 [00:00<00:00, 20946.28it/s]\n",
      "iterations: 100%|██████████| 1000/1000 [00:00<00:00, 15737.12it/s]\n",
      "iterations: 100%|██████████| 1000/1000 [00:00<00:00, 15527.50it/s]\n",
      "iterations:   0%|          | 0/1000 [00:00<?, ?it/s]"
     ]
    },
    {
     "name": "stdout",
     "output_type": "stream",
     "text": [
      "Experiment:  78\n",
      "Experiment:  79\n"
     ]
    },
    {
     "name": "stderr",
     "output_type": "stream",
     "text": [
      "iterations: 100%|██████████| 1000/1000 [00:00<00:00, 21573.09it/s]\n",
      "iterations: 100%|██████████| 1000/1000 [00:00<00:00, 15991.34it/s]\n",
      "iterations: 100%|██████████| 1000/1000 [00:00<00:00, 14425.66it/s]\n",
      "iterations: 100%|██████████| 1000/1000 [00:00<00:00, 23820.99it/s]\n",
      "iterations: 100%|██████████| 1000/1000 [00:00<00:00, 16019.19it/s]\n",
      "iterations: 100%|██████████| 1000/1000 [00:00<00:00, 15581.43it/s]\n",
      "iterations:   0%|          | 0/1000 [00:00<?, ?it/s]"
     ]
    },
    {
     "name": "stdout",
     "output_type": "stream",
     "text": [
      "Experiment:  80\n",
      "Experiment:  81\n"
     ]
    },
    {
     "name": "stderr",
     "output_type": "stream",
     "text": [
      "iterations: 100%|██████████| 1000/1000 [00:00<00:00, 20145.55it/s]\n",
      "iterations: 100%|██████████| 1000/1000 [00:00<00:00, 18677.63it/s]\n",
      "iterations: 100%|██████████| 1000/1000 [00:00<00:00, 15946.89it/s]\n",
      "iterations: 100%|██████████| 1000/1000 [00:00<00:00, 18672.06it/s]\n",
      "iterations: 100%|██████████| 1000/1000 [00:00<00:00, 15121.20it/s]\n",
      "iterations: 100%|██████████| 1000/1000 [00:00<00:00, 14229.03it/s]\n"
     ]
    },
    {
     "name": "stdout",
     "output_type": "stream",
     "text": [
      "Experiment:  82\n",
      "Experiment:  83\n"
     ]
    },
    {
     "name": "stderr",
     "output_type": "stream",
     "text": [
      "iterations: 100%|██████████| 1000/1000 [00:00<00:00, 24177.45it/s]\n",
      "iterations: 100%|██████████| 1000/1000 [00:00<00:00, 16686.64it/s]\n",
      "iterations: 100%|██████████| 1000/1000 [00:00<00:00, 16286.91it/s]\n",
      "iterations: 100%|██████████| 1000/1000 [00:00<00:00, 20599.39it/s]\n",
      "iterations: 100%|██████████| 1000/1000 [00:00<00:00, 16973.29it/s]\n",
      "iterations: 100%|██████████| 1000/1000 [00:00<00:00, 16224.79it/s]\n",
      "iterations:   0%|          | 0/1000 [00:00<?, ?it/s]"
     ]
    },
    {
     "name": "stdout",
     "output_type": "stream",
     "text": [
      "Experiment:  84\n",
      "Experiment:  85\n"
     ]
    },
    {
     "name": "stderr",
     "output_type": "stream",
     "text": [
      "iterations: 100%|██████████| 1000/1000 [00:00<00:00, 23171.67it/s]\n",
      "iterations: 100%|██████████| 1000/1000 [00:00<00:00, 18537.38it/s]\n",
      "iterations: 100%|██████████| 1000/1000 [00:00<00:00, 16508.78it/s]\n",
      "iterations: 100%|██████████| 1000/1000 [00:00<00:00, 21916.22it/s]\n",
      "iterations: 100%|██████████| 1000/1000 [00:00<00:00, 16479.59it/s]\n",
      "iterations: 100%|██████████| 1000/1000 [00:00<00:00, 13679.78it/s]\n",
      "iterations:   0%|          | 0/1000 [00:00<?, ?it/s]"
     ]
    },
    {
     "name": "stdout",
     "output_type": "stream",
     "text": [
      "Experiment:  86\n",
      "Experiment:  87\n"
     ]
    },
    {
     "name": "stderr",
     "output_type": "stream",
     "text": [
      "iterations: 100%|██████████| 1000/1000 [00:00<00:00, 20051.27it/s]\n",
      "iterations: 100%|██████████| 1000/1000 [00:00<00:00, 15575.13it/s]\n",
      "iterations: 100%|██████████| 1000/1000 [00:00<00:00, 15498.58it/s]\n",
      "iterations: 100%|██████████| 1000/1000 [00:00<00:00, 22238.09it/s]\n",
      "iterations: 100%|██████████| 1000/1000 [00:00<00:00, 16209.06it/s]\n",
      "iterations: 100%|██████████| 1000/1000 [00:00<00:00, 16337.73it/s]\n",
      "iterations:   0%|          | 0/1000 [00:00<?, ?it/s]"
     ]
    },
    {
     "name": "stdout",
     "output_type": "stream",
     "text": [
      "Experiment:  88\n",
      "Experiment:  89\n"
     ]
    },
    {
     "name": "stderr",
     "output_type": "stream",
     "text": [
      "iterations: 100%|██████████| 1000/1000 [00:00<00:00, 21734.85it/s]\n",
      "iterations: 100%|██████████| 1000/1000 [00:00<00:00, 17023.37it/s]\n",
      "iterations: 100%|██████████| 1000/1000 [00:00<00:00, 16690.29it/s]\n",
      "iterations: 100%|██████████| 1000/1000 [00:00<00:00, 21687.31it/s]\n",
      "iterations: 100%|██████████| 1000/1000 [00:00<00:00, 15580.97it/s]\n",
      "iterations: 100%|██████████| 1000/1000 [00:00<00:00, 16427.38it/s]\n",
      "iterations:   0%|          | 0/1000 [00:00<?, ?it/s]"
     ]
    },
    {
     "name": "stdout",
     "output_type": "stream",
     "text": [
      "Experiment:  90\n",
      "Experiment:  91\n"
     ]
    },
    {
     "name": "stderr",
     "output_type": "stream",
     "text": [
      "iterations: 100%|██████████| 1000/1000 [00:00<00:00, 21359.73it/s]\n",
      "iterations: 100%|██████████| 1000/1000 [00:00<00:00, 16270.74it/s]\n",
      "iterations: 100%|██████████| 1000/1000 [00:00<00:00, 16102.03it/s]\n",
      "iterations: 100%|██████████| 1000/1000 [00:00<00:00, 21797.42it/s]\n",
      "iterations: 100%|██████████| 1000/1000 [00:00<00:00, 16304.71it/s]\n",
      "iterations: 100%|██████████| 1000/1000 [00:00<00:00, 16642.81it/s]\n",
      "iterations:   0%|          | 0/1000 [00:00<?, ?it/s]"
     ]
    },
    {
     "name": "stdout",
     "output_type": "stream",
     "text": [
      "Experiment:  92\n",
      "Experiment:  93\n"
     ]
    },
    {
     "name": "stderr",
     "output_type": "stream",
     "text": [
      "iterations: 100%|██████████| 1000/1000 [00:00<00:00, 21272.09it/s]\n",
      "iterations: 100%|██████████| 1000/1000 [00:00<00:00, 18035.21it/s]\n",
      "iterations: 100%|██████████| 1000/1000 [00:00<00:00, 16316.69it/s]\n",
      "iterations: 100%|██████████| 1000/1000 [00:00<00:00, 22031.45it/s]\n",
      "iterations: 100%|██████████| 1000/1000 [00:00<00:00, 15921.29it/s]\n",
      "iterations: 100%|██████████| 1000/1000 [00:00<00:00, 16343.08it/s]\n",
      "iterations:   0%|          | 0/1000 [00:00<?, ?it/s]"
     ]
    },
    {
     "name": "stdout",
     "output_type": "stream",
     "text": [
      "Experiment:  94\n",
      "Experiment:  95\n"
     ]
    },
    {
     "name": "stderr",
     "output_type": "stream",
     "text": [
      "iterations: 100%|██████████| 1000/1000 [00:00<00:00, 22191.03it/s]\n",
      "iterations: 100%|██████████| 1000/1000 [00:00<00:00, 17178.58it/s]\n",
      "iterations: 100%|██████████| 1000/1000 [00:00<00:00, 16879.64it/s]\n",
      "iterations: 100%|██████████| 1000/1000 [00:00<00:00, 24894.97it/s]\n",
      "iterations: 100%|██████████| 1000/1000 [00:00<00:00, 16606.90it/s]\n",
      "iterations: 100%|██████████| 1000/1000 [00:00<00:00, 16428.22it/s]\n",
      "iterations:   0%|          | 0/1000 [00:00<?, ?it/s]"
     ]
    },
    {
     "name": "stdout",
     "output_type": "stream",
     "text": [
      "Experiment:  96\n",
      "Experiment:  97\n"
     ]
    },
    {
     "name": "stderr",
     "output_type": "stream",
     "text": [
      "iterations: 100%|██████████| 1000/1000 [00:00<00:00, 21732.03it/s]\n",
      "iterations: 100%|██████████| 1000/1000 [00:00<00:00, 15871.70it/s]\n",
      "iterations: 100%|██████████| 1000/1000 [00:00<00:00, 16754.03it/s]\n",
      "iterations: 100%|██████████| 1000/1000 [00:00<00:00, 23979.10it/s]\n",
      "iterations: 100%|██████████| 1000/1000 [00:00<00:00, 16139.20it/s]\n",
      "iterations: 100%|██████████| 1000/1000 [00:00<00:00, 16730.04it/s]\n",
      "iterations:   0%|          | 0/1000 [00:00<?, ?it/s]"
     ]
    },
    {
     "name": "stdout",
     "output_type": "stream",
     "text": [
      "Experiment:  98\n",
      "Experiment:  99\n"
     ]
    },
    {
     "name": "stderr",
     "output_type": "stream",
     "text": [
      "iterations: 100%|██████████| 1000/1000 [00:00<00:00, 21209.81it/s]\n",
      "iterations: 100%|██████████| 1000/1000 [00:00<00:00, 17175.62it/s]\n",
      "iterations: 100%|██████████| 1000/1000 [00:00<00:00, 16719.63it/s]\n",
      "iterations: 100%|██████████| 1000/1000 [00:00<00:00, 23676.43it/s]\n",
      "iterations: 100%|██████████| 1000/1000 [00:00<00:00, 16858.34it/s]\n",
      "iterations: 100%|██████████| 1000/1000 [00:00<00:00, 16596.97it/s]\n",
      "iterations:   0%|          | 0/1000 [00:00<?, ?it/s]"
     ]
    },
    {
     "name": "stdout",
     "output_type": "stream",
     "text": [
      "Experiment:  100\n",
      "Experiment:  101\n"
     ]
    },
    {
     "name": "stderr",
     "output_type": "stream",
     "text": [
      "iterations: 100%|██████████| 1000/1000 [00:00<00:00, 24867.07it/s]\n",
      "iterations: 100%|██████████| 1000/1000 [00:00<00:00, 17230.45it/s]\n",
      "iterations: 100%|██████████| 1000/1000 [00:00<00:00, 16502.22it/s]\n",
      "iterations: 100%|██████████| 1000/1000 [00:00<00:00, 25362.08it/s]\n",
      "iterations: 100%|██████████| 1000/1000 [00:00<00:00, 17078.62it/s]\n",
      "iterations: 100%|██████████| 1000/1000 [00:00<00:00, 16796.77it/s]\n",
      "iterations:   0%|          | 0/1000 [00:00<?, ?it/s]"
     ]
    },
    {
     "name": "stdout",
     "output_type": "stream",
     "text": [
      "Experiment:  102\n",
      "Experiment:  103\n"
     ]
    },
    {
     "name": "stderr",
     "output_type": "stream",
     "text": [
      "iterations: 100%|██████████| 1000/1000 [00:00<00:00, 21363.43it/s]\n",
      "iterations: 100%|██████████| 1000/1000 [00:00<00:00, 17555.93it/s]\n",
      "iterations: 100%|██████████| 1000/1000 [00:00<00:00, 16515.02it/s]\n",
      "iterations: 100%|██████████| 1000/1000 [00:00<00:00, 21872.67it/s]\n",
      "iterations: 100%|██████████| 1000/1000 [00:00<00:00, 19354.37it/s]\n",
      "iterations: 100%|██████████| 1000/1000 [00:00<00:00, 16070.19it/s]\n",
      "iterations:   0%|          | 0/1000 [00:00<?, ?it/s]"
     ]
    },
    {
     "name": "stdout",
     "output_type": "stream",
     "text": [
      "Experiment:  104\n",
      "Experiment:  105\n"
     ]
    },
    {
     "name": "stderr",
     "output_type": "stream",
     "text": [
      "iterations: 100%|██████████| 1000/1000 [00:00<00:00, 22017.57it/s]\n",
      "iterations: 100%|██████████| 1000/1000 [00:00<00:00, 16182.10it/s]\n",
      "iterations: 100%|██████████| 1000/1000 [00:00<00:00, 16673.90it/s]\n",
      "iterations: 100%|██████████| 1000/1000 [00:00<00:00, 24194.33it/s]\n",
      "iterations: 100%|██████████| 1000/1000 [00:00<00:00, 16290.33it/s]\n",
      "iterations: 100%|██████████| 1000/1000 [00:00<00:00, 16630.07it/s]\n",
      "iterations:   0%|          | 0/1000 [00:00<?, ?it/s]"
     ]
    },
    {
     "name": "stdout",
     "output_type": "stream",
     "text": [
      "Experiment:  106\n",
      "Experiment:  107\n"
     ]
    },
    {
     "name": "stderr",
     "output_type": "stream",
     "text": [
      "iterations: 100%|██████████| 1000/1000 [00:00<00:00, 22276.12it/s]\n",
      "iterations: 100%|██████████| 1000/1000 [00:00<00:00, 16280.53it/s]\n",
      "iterations: 100%|██████████| 1000/1000 [00:00<00:00, 14891.37it/s]\n",
      "iterations: 100%|██████████| 1000/1000 [00:00<00:00, 22966.38it/s]\n",
      "iterations: 100%|██████████| 1000/1000 [00:00<00:00, 15995.85it/s]\n",
      "iterations: 100%|██████████| 1000/1000 [00:00<00:00, 15435.95it/s]\n",
      "iterations: 100%|██████████| 1000/1000 [00:00<00:00, 14398.23it/s]"
     ]
    },
    {
     "name": "stdout",
     "output_type": "stream",
     "text": [
      "Experiment:  108\n",
      "Experiment:  109\n"
     ]
    },
    {
     "name": "stderr",
     "output_type": "stream",
     "text": [
      "\n",
      "iterations: 100%|██████████| 1000/1000 [00:00<00:00, 12466.83it/s]\n",
      "iterations: 100%|██████████| 1000/1000 [00:00<00:00, 16351.62it/s]\n",
      "iterations: 100%|██████████| 1000/1000 [00:00<00:00, 21886.71it/s]\n",
      "iterations: 100%|██████████| 1000/1000 [00:00<00:00, 18105.43it/s]\n",
      "iterations: 100%|██████████| 1000/1000 [00:00<00:00, 14505.13it/s]\n",
      "iterations:   0%|          | 0/1000 [00:00<?, ?it/s]"
     ]
    },
    {
     "name": "stdout",
     "output_type": "stream",
     "text": [
      "Experiment:  110\n",
      "Experiment:  111\n"
     ]
    },
    {
     "name": "stderr",
     "output_type": "stream",
     "text": [
      "iterations: 100%|██████████| 1000/1000 [00:00<00:00, 23355.28it/s]\n",
      "iterations: 100%|██████████| 1000/1000 [00:00<00:00, 17469.42it/s]\n",
      "iterations: 100%|██████████| 1000/1000 [00:00<00:00, 15712.89it/s]\n",
      "iterations: 100%|██████████| 1000/1000 [00:00<00:00, 25059.02it/s]\n",
      "iterations: 100%|██████████| 1000/1000 [00:00<00:00, 19629.09it/s]\n",
      "iterations: 100%|██████████| 1000/1000 [00:00<00:00, 16240.37it/s]\n",
      "iterations:   0%|          | 0/1000 [00:00<?, ?it/s]"
     ]
    },
    {
     "name": "stdout",
     "output_type": "stream",
     "text": [
      "Experiment:  112\n",
      "Experiment:  113\n"
     ]
    },
    {
     "name": "stderr",
     "output_type": "stream",
     "text": [
      "iterations: 100%|██████████| 1000/1000 [00:00<00:00, 24894.23it/s]\n",
      "iterations: 100%|██████████| 1000/1000 [00:00<00:00, 17998.83it/s]\n",
      "iterations: 100%|██████████| 1000/1000 [00:00<00:00, 16608.01it/s]\n",
      "iterations: 100%|██████████| 1000/1000 [00:00<00:00, 13009.83it/s]\n",
      "iterations: 100%|██████████| 1000/1000 [00:00<00:00, 12051.35it/s]\n",
      "iterations:   0%|          | 0/1000 [00:00<?, ?it/s]"
     ]
    },
    {
     "name": "stdout",
     "output_type": "stream",
     "text": [
      "Experiment:  114\n"
     ]
    },
    {
     "name": "stderr",
     "output_type": "stream",
     "text": [
      "iterations: 100%|██████████| 1000/1000 [00:00<00:00, 11208.12it/s]\n",
      "iterations: 100%|██████████| 1000/1000 [00:00<00:00, 19047.27it/s]\n",
      "iterations: 100%|██████████| 1000/1000 [00:00<00:00, 15906.49it/s]\n",
      "iterations:   0%|          | 0/1000 [00:00<?, ?it/s]"
     ]
    },
    {
     "name": "stdout",
     "output_type": "stream",
     "text": [
      "Experiment:  115\n"
     ]
    },
    {
     "name": "stderr",
     "output_type": "stream",
     "text": [
      "iterations: 100%|██████████| 1000/1000 [00:00<00:00, 13553.67it/s]\n",
      "iterations: 100%|██████████| 1000/1000 [00:00<00:00, 21057.96it/s]\n",
      "iterations: 100%|██████████| 1000/1000 [00:00<00:00, 10343.82it/s]\n",
      "iterations:   0%|          | 0/1000 [00:00<?, ?it/s]"
     ]
    },
    {
     "name": "stdout",
     "output_type": "stream",
     "text": [
      "Experiment:  116\n"
     ]
    },
    {
     "name": "stderr",
     "output_type": "stream",
     "text": [
      "iterations: 100%|██████████| 1000/1000 [00:00<00:00, 8751.06it/s]\n",
      "iterations: 100%|██████████| 1000/1000 [00:00<00:00, 16917.97it/s]\n",
      "iterations: 100%|██████████| 1000/1000 [00:00<00:00, 11547.46it/s]\n",
      "iterations:   0%|          | 0/1000 [00:00<?, ?it/s]"
     ]
    },
    {
     "name": "stdout",
     "output_type": "stream",
     "text": [
      "Experiment:  117\n"
     ]
    },
    {
     "name": "stderr",
     "output_type": "stream",
     "text": [
      "iterations: 100%|██████████| 1000/1000 [00:00<00:00, 8836.66it/s]\n",
      "iterations: 100%|██████████| 1000/1000 [00:00<00:00, 20114.64it/s]\n",
      "iterations:  55%|█████▌    | 554/1000 [00:00<00:00, 5297.70it/s]"
     ]
    },
    {
     "name": "stdout",
     "output_type": "stream",
     "text": [
      "Experiment:  118\n"
     ]
    },
    {
     "name": "stderr",
     "output_type": "stream",
     "text": [
      "iterations: 100%|██████████| 1000/1000 [00:00<00:00, 5036.65it/s]\n",
      "iterations: 100%|██████████| 1000/1000 [00:00<00:00, 8505.20it/s]\n",
      "iterations: 100%|██████████| 1000/1000 [00:00<00:00, 24687.77it/s]\n",
      "iterations: 100%|██████████| 1000/1000 [00:00<00:00, 16758.38it/s]\n",
      "iterations: 100%|██████████| 1000/1000 [00:00<00:00, 12640.95it/s]\n",
      "iterations:   0%|          | 0/1000 [00:00<?, ?it/s]"
     ]
    },
    {
     "name": "stdout",
     "output_type": "stream",
     "text": [
      "Experiment:  119\n",
      "Experiment:  120\n"
     ]
    },
    {
     "name": "stderr",
     "output_type": "stream",
     "text": [
      "iterations: 100%|██████████| 1000/1000 [00:00<00:00, 20903.79it/s]\n",
      "iterations: 100%|██████████| 1000/1000 [00:00<00:00, 17819.29it/s]\n",
      "iterations: 100%|██████████| 1000/1000 [00:00<00:00, 14151.92it/s]\n",
      "iterations: 100%|██████████| 1000/1000 [00:00<00:00, 19408.01it/s]\n",
      "iterations: 100%|██████████| 1000/1000 [00:00<00:00, 15239.16it/s]\n",
      "iterations:   0%|          | 0/1000 [00:00<?, ?it/s]"
     ]
    },
    {
     "name": "stdout",
     "output_type": "stream",
     "text": [
      "Experiment:  121\n"
     ]
    },
    {
     "name": "stderr",
     "output_type": "stream",
     "text": [
      "iterations: 100%|██████████| 1000/1000 [00:00<00:00, 10077.01it/s]\n",
      "iterations: 100%|██████████| 1000/1000 [00:00<00:00, 20496.41it/s]\n",
      "iterations: 100%|██████████| 1000/1000 [00:00<00:00, 16371.91it/s]\n",
      "iterations: 100%|██████████| 1000/1000 [00:00<00:00, 13344.57it/s]\n",
      "iterations:   0%|          | 0/1000 [00:00<?, ?it/s]"
     ]
    },
    {
     "name": "stdout",
     "output_type": "stream",
     "text": [
      "Experiment:  122\n",
      "Experiment:  123\n"
     ]
    },
    {
     "name": "stderr",
     "output_type": "stream",
     "text": [
      "iterations: 100%|██████████| 1000/1000 [00:00<00:00, 16594.48it/s]\n",
      "iterations: 100%|██████████| 1000/1000 [00:00<00:00, 13963.56it/s]\n",
      "iterations: 100%|██████████| 1000/1000 [00:00<00:00, 13918.61it/s]\n",
      "iterations: 100%|██████████| 1000/1000 [00:00<00:00, 20579.99it/s]\n",
      "iterations: 100%|██████████| 1000/1000 [00:00<00:00, 16528.95it/s]\n",
      "iterations: 100%|██████████| 1000/1000 [00:00<00:00, 13713.64it/s]\n",
      "iterations: 100%|██████████| 1000/1000 [00:00<00:00, 21949.59it/s]"
     ]
    },
    {
     "name": "stdout",
     "output_type": "stream",
     "text": [
      "Experiment:  124\n",
      "Experiment:  125\n"
     ]
    },
    {
     "name": "stderr",
     "output_type": "stream",
     "text": [
      "\n",
      "iterations: 100%|██████████| 1000/1000 [00:00<00:00, 15389.85it/s]\n",
      "iterations: 100%|██████████| 1000/1000 [00:00<00:00, 15848.85it/s]\n",
      "iterations: 100%|██████████| 1000/1000 [00:00<00:00, 20821.19it/s]\n",
      "iterations: 100%|██████████| 1000/1000 [00:00<00:00, 16329.46it/s]\n",
      "iterations: 100%|██████████| 1000/1000 [00:00<00:00, 15014.57it/s]\n",
      "iterations:   0%|          | 0/1000 [00:00<?, ?it/s]"
     ]
    },
    {
     "name": "stdout",
     "output_type": "stream",
     "text": [
      "Experiment:  126\n",
      "Experiment:  127\n"
     ]
    },
    {
     "name": "stderr",
     "output_type": "stream",
     "text": [
      "iterations: 100%|██████████| 1000/1000 [00:00<00:00, 23032.59it/s]\n",
      "iterations: 100%|██████████| 1000/1000 [00:00<00:00, 16104.68it/s]\n",
      "iterations: 100%|██████████| 1000/1000 [00:00<00:00, 16448.96it/s]\n",
      "iterations: 100%|██████████| 1000/1000 [00:00<00:00, 21767.45it/s]\n",
      "iterations: 100%|██████████| 1000/1000 [00:00<00:00, 15996.70it/s]\n",
      "iterations: 100%|██████████| 1000/1000 [00:00<00:00, 16726.37it/s]\n",
      "iterations:   0%|          | 0/1000 [00:00<?, ?it/s]"
     ]
    },
    {
     "name": "stdout",
     "output_type": "stream",
     "text": [
      "Experiment:  128\n",
      "Experiment:  129\n"
     ]
    },
    {
     "name": "stderr",
     "output_type": "stream",
     "text": [
      "iterations: 100%|██████████| 1000/1000 [00:00<00:00, 21955.34it/s]\n",
      "iterations: 100%|██████████| 1000/1000 [00:00<00:00, 17570.34it/s]\n",
      "iterations: 100%|██████████| 1000/1000 [00:00<00:00, 16432.78it/s]\n",
      "iterations: 100%|██████████| 1000/1000 [00:00<00:00, 21924.01it/s]\n",
      "iterations: 100%|██████████| 1000/1000 [00:00<00:00, 15522.67it/s]\n",
      "iterations: 100%|██████████| 1000/1000 [00:00<00:00, 16558.77it/s]\n",
      "iterations:   0%|          | 0/1000 [00:00<?, ?it/s]"
     ]
    },
    {
     "name": "stdout",
     "output_type": "stream",
     "text": [
      "Experiment:  130\n",
      "Experiment:  131\n"
     ]
    },
    {
     "name": "stderr",
     "output_type": "stream",
     "text": [
      "iterations: 100%|██████████| 1000/1000 [00:00<00:00, 21920.80it/s]\n",
      "iterations: 100%|██████████| 1000/1000 [00:00<00:00, 15659.68it/s]\n",
      "iterations: 100%|██████████| 1000/1000 [00:00<00:00, 15926.67it/s]\n",
      "iterations: 100%|██████████| 1000/1000 [00:00<00:00, 22004.52it/s]\n",
      "iterations: 100%|██████████| 1000/1000 [00:00<00:00, 16393.48it/s]\n",
      "iterations: 100%|██████████| 1000/1000 [00:00<00:00, 16041.55it/s]\n",
      "iterations:   0%|          | 0/1000 [00:00<?, ?it/s]"
     ]
    },
    {
     "name": "stdout",
     "output_type": "stream",
     "text": [
      "Experiment:  132\n",
      "Experiment:  133\n"
     ]
    },
    {
     "name": "stderr",
     "output_type": "stream",
     "text": [
      "iterations: 100%|██████████| 1000/1000 [00:00<00:00, 22720.18it/s]\n",
      "iterations: 100%|██████████| 1000/1000 [00:00<00:00, 15810.26it/s]\n",
      "iterations: 100%|██████████| 1000/1000 [00:00<00:00, 14911.60it/s]\n",
      "iterations: 100%|██████████| 1000/1000 [00:00<00:00, 23630.01it/s]\n",
      "iterations: 100%|██████████| 1000/1000 [00:00<00:00, 16154.31it/s]\n",
      "iterations: 100%|██████████| 1000/1000 [00:00<00:00, 16634.82it/s]\n",
      "iterations:   0%|          | 0/1000 [00:00<?, ?it/s]"
     ]
    },
    {
     "name": "stdout",
     "output_type": "stream",
     "text": [
      "Experiment:  134\n",
      "Experiment:  135\n"
     ]
    },
    {
     "name": "stderr",
     "output_type": "stream",
     "text": [
      "iterations: 100%|██████████| 1000/1000 [00:00<00:00, 21877.47it/s]\n",
      "iterations: 100%|██████████| 1000/1000 [00:00<00:00, 16117.56it/s]\n",
      "iterations: 100%|██████████| 1000/1000 [00:00<00:00, 16589.82it/s]\n",
      "iterations: 100%|██████████| 1000/1000 [00:00<00:00, 22012.38it/s]\n",
      "iterations: 100%|██████████| 1000/1000 [00:00<00:00, 16410.99it/s]\n",
      "iterations: 100%|██████████| 1000/1000 [00:00<00:00, 16372.74it/s]\n",
      "iterations:   0%|          | 0/1000 [00:00<?, ?it/s]"
     ]
    },
    {
     "name": "stdout",
     "output_type": "stream",
     "text": [
      "Experiment:  136\n",
      "Experiment:  137\n"
     ]
    },
    {
     "name": "stderr",
     "output_type": "stream",
     "text": [
      "iterations: 100%|██████████| 1000/1000 [00:00<00:00, 19298.26it/s]\n",
      "iterations: 100%|██████████| 1000/1000 [00:00<00:00, 16488.60it/s]\n",
      "iterations: 100%|██████████| 1000/1000 [00:00<00:00, 16444.64it/s]\n",
      "iterations: 100%|██████████| 1000/1000 [00:00<00:00, 21217.54it/s]\n",
      "iterations: 100%|██████████| 1000/1000 [00:00<00:00, 15837.24it/s]\n",
      "iterations: 100%|██████████| 1000/1000 [00:00<00:00, 15603.75it/s]\n",
      "iterations:   0%|          | 0/1000 [00:00<?, ?it/s]"
     ]
    },
    {
     "name": "stdout",
     "output_type": "stream",
     "text": [
      "Experiment:  138\n",
      "Experiment:  139\n"
     ]
    },
    {
     "name": "stderr",
     "output_type": "stream",
     "text": [
      "iterations: 100%|██████████| 1000/1000 [00:00<00:00, 22452.13it/s]\n",
      "iterations: 100%|██████████| 1000/1000 [00:00<00:00, 17826.94it/s]\n",
      "iterations: 100%|██████████| 1000/1000 [00:00<00:00, 16488.60it/s]\n",
      "iterations: 100%|██████████| 1000/1000 [00:00<00:00, 21962.47it/s]\n",
      "iterations: 100%|██████████| 1000/1000 [00:00<00:00, 15437.83it/s]\n",
      "iterations: 100%|██████████| 1000/1000 [00:00<00:00, 13523.03it/s]\n",
      "iterations:   0%|          | 0/1000 [00:00<?, ?it/s]"
     ]
    },
    {
     "name": "stdout",
     "output_type": "stream",
     "text": [
      "Experiment:  140\n",
      "Experiment:  141\n"
     ]
    },
    {
     "name": "stderr",
     "output_type": "stream",
     "text": [
      "iterations: 100%|██████████| 1000/1000 [00:00<00:00, 19522.10it/s]\n",
      "iterations: 100%|██████████| 1000/1000 [00:00<00:00, 15912.65it/s]\n",
      "iterations: 100%|██████████| 1000/1000 [00:00<00:00, 15307.34it/s]\n",
      "iterations: 100%|██████████| 1000/1000 [00:00<00:00, 22731.51it/s]\n",
      "iterations: 100%|██████████| 1000/1000 [00:00<00:00, 18456.95it/s]\n",
      "iterations: 100%|██████████| 1000/1000 [00:00<00:00, 16605.84it/s]\n",
      "iterations:   0%|          | 0/1000 [00:00<?, ?it/s]"
     ]
    },
    {
     "name": "stdout",
     "output_type": "stream",
     "text": [
      "Experiment:  142\n",
      "Experiment:  143\n"
     ]
    },
    {
     "name": "stderr",
     "output_type": "stream",
     "text": [
      "iterations: 100%|██████████| 1000/1000 [00:00<00:00, 22150.36it/s]\n",
      "iterations: 100%|██████████| 1000/1000 [00:00<00:00, 16749.88it/s]\n",
      "iterations: 100%|██████████| 1000/1000 [00:00<00:00, 16532.27it/s]\n",
      "iterations: 100%|██████████| 1000/1000 [00:00<00:00, 26135.67it/s]\n",
      "iterations: 100%|██████████| 1000/1000 [00:00<00:00, 18970.68it/s]\n",
      "iterations: 100%|██████████| 1000/1000 [00:00<00:00, 16028.19it/s]\n",
      "iterations:   0%|          | 0/1000 [00:00<?, ?it/s]"
     ]
    },
    {
     "name": "stdout",
     "output_type": "stream",
     "text": [
      "Experiment:  144\n",
      "Experiment:  145\n"
     ]
    },
    {
     "name": "stderr",
     "output_type": "stream",
     "text": [
      "iterations: 100%|██████████| 1000/1000 [00:00<00:00, 23583.91it/s]\n",
      "iterations: 100%|██████████| 1000/1000 [00:00<00:00, 18902.54it/s]\n",
      "iterations: 100%|██████████| 1000/1000 [00:00<00:00, 16243.71it/s]\n",
      "iterations: 100%|██████████| 1000/1000 [00:00<00:00, 25202.97it/s]\n",
      "iterations: 100%|██████████| 1000/1000 [00:00<00:00, 16346.84it/s]\n",
      "iterations: 100%|██████████| 1000/1000 [00:00<00:00, 16818.52it/s]\n",
      "iterations:   0%|          | 0/1000 [00:00<?, ?it/s]"
     ]
    },
    {
     "name": "stdout",
     "output_type": "stream",
     "text": [
      "Experiment:  146\n",
      "Experiment:  147\n"
     ]
    },
    {
     "name": "stderr",
     "output_type": "stream",
     "text": [
      "iterations: 100%|██████████| 1000/1000 [00:00<00:00, 19407.29it/s]\n",
      "iterations: 100%|██████████| 1000/1000 [00:00<00:00, 16578.01it/s]\n",
      "iterations: 100%|██████████| 1000/1000 [00:00<00:00, 16433.36it/s]\n",
      "iterations: 100%|██████████| 1000/1000 [00:00<00:00, 21837.37it/s]\n",
      "iterations: 100%|██████████| 1000/1000 [00:00<00:00, 16073.58it/s]\n",
      "iterations: 100%|██████████| 1000/1000 [00:00<00:00, 16671.92it/s]\n",
      "iterations:   0%|          | 0/1000 [00:00<?, ?it/s]"
     ]
    },
    {
     "name": "stdout",
     "output_type": "stream",
     "text": [
      "Experiment:  148\n",
      "Experiment:  149\n"
     ]
    },
    {
     "name": "stderr",
     "output_type": "stream",
     "text": [
      "iterations: 100%|██████████| 1000/1000 [00:00<00:00, 19988.77it/s]\n",
      "iterations: 100%|██████████| 1000/1000 [00:00<00:00, 15701.83it/s]\n",
      "iterations: 100%|██████████| 1000/1000 [00:00<00:00, 15677.24it/s]\n",
      "iterations: 100%|██████████| 1000/1000 [00:00<00:00, 21903.40it/s]\n",
      "iterations: 100%|██████████| 1000/1000 [00:00<00:00, 17550.64it/s]\n",
      "iterations: 100%|██████████| 1000/1000 [00:00<00:00, 16539.64it/s]\n",
      "iterations:   0%|          | 0/1000 [00:00<?, ?it/s]"
     ]
    },
    {
     "name": "stdout",
     "output_type": "stream",
     "text": [
      "Experiment:  150\n",
      "Experiment:  151\n"
     ]
    },
    {
     "name": "stderr",
     "output_type": "stream",
     "text": [
      "iterations: 100%|██████████| 1000/1000 [00:00<00:00, 22249.89it/s]\n",
      "iterations: 100%|██████████| 1000/1000 [00:00<00:00, 17022.41it/s]\n",
      "iterations: 100%|██████████| 1000/1000 [00:00<00:00, 15627.41it/s]\n",
      "iterations: 100%|██████████| 1000/1000 [00:00<00:00, 22648.65it/s]\n",
      "iterations: 100%|██████████| 1000/1000 [00:00<00:00, 16039.53it/s]\n",
      "iterations: 100%|██████████| 1000/1000 [00:00<00:00, 16481.28it/s]\n",
      "iterations:   0%|          | 0/1000 [00:00<?, ?it/s]"
     ]
    },
    {
     "name": "stdout",
     "output_type": "stream",
     "text": [
      "Experiment:  152\n",
      "Experiment:  153\n"
     ]
    },
    {
     "name": "stderr",
     "output_type": "stream",
     "text": [
      "iterations: 100%|██████████| 1000/1000 [00:00<00:00, 21483.69it/s]\n",
      "iterations: 100%|██████████| 1000/1000 [00:00<00:00, 17115.42it/s]\n",
      "iterations: 100%|██████████| 1000/1000 [00:00<00:00, 16562.04it/s]\n",
      "iterations: 100%|██████████| 1000/1000 [00:00<00:00, 22813.23it/s]\n",
      "iterations: 100%|██████████| 1000/1000 [00:00<00:00, 16511.19it/s]\n",
      "iterations: 100%|██████████| 1000/1000 [00:00<00:00, 16431.18it/s]\n",
      "iterations: 100%|██████████| 1000/1000 [00:00<00:00, 21836.92it/s]"
     ]
    },
    {
     "name": "stdout",
     "output_type": "stream",
     "text": [
      "Experiment:  154\n",
      "Experiment:  155\n"
     ]
    },
    {
     "name": "stderr",
     "output_type": "stream",
     "text": [
      "\n",
      "iterations: 100%|██████████| 1000/1000 [00:00<00:00, 17736.55it/s]\n",
      "iterations: 100%|██████████| 1000/1000 [00:00<00:00, 16117.06it/s]\n",
      "iterations: 100%|██████████| 1000/1000 [00:00<00:00, 21935.13it/s]\n",
      "iterations: 100%|██████████| 1000/1000 [00:00<00:00, 15735.17it/s]\n",
      "iterations: 100%|██████████| 1000/1000 [00:00<00:00, 16599.21it/s]\n",
      "iterations:   0%|          | 0/1000 [00:00<?, ?it/s]"
     ]
    },
    {
     "name": "stdout",
     "output_type": "stream",
     "text": [
      "Experiment:  156\n",
      "Experiment:  157\n"
     ]
    },
    {
     "name": "stderr",
     "output_type": "stream",
     "text": [
      "iterations: 100%|██████████| 1000/1000 [00:00<00:00, 20213.42it/s]\n",
      "iterations: 100%|██████████| 1000/1000 [00:00<00:00, 15689.96it/s]\n",
      "iterations: 100%|██████████| 1000/1000 [00:00<00:00, 16297.99it/s]\n",
      "iterations: 100%|██████████| 1000/1000 [00:00<00:00, 22485.95it/s]\n",
      "iterations: 100%|██████████| 1000/1000 [00:00<00:00, 16039.53it/s]\n",
      "iterations: 100%|██████████| 1000/1000 [00:00<00:00, 16040.88it/s]\n",
      "iterations:   0%|          | 0/1000 [00:00<?, ?it/s]"
     ]
    },
    {
     "name": "stdout",
     "output_type": "stream",
     "text": [
      "Experiment:  158\n",
      "Experiment:  159\n"
     ]
    },
    {
     "name": "stderr",
     "output_type": "stream",
     "text": [
      "iterations: 100%|██████████| 1000/1000 [00:00<00:00, 22097.03it/s]\n",
      "iterations: 100%|██████████| 1000/1000 [00:00<00:00, 17837.40it/s]\n",
      "iterations: 100%|██████████| 1000/1000 [00:00<00:00, 15602.82it/s]\n",
      "iterations: 100%|██████████| 1000/1000 [00:00<00:00, 22667.50it/s]\n",
      "iterations: 100%|██████████| 1000/1000 [00:00<00:00, 16519.90it/s]\n",
      "iterations: 100%|██████████| 1000/1000 [00:00<00:00, 14917.11it/s]\n",
      "iterations:   0%|          | 0/1000 [00:00<?, ?it/s]"
     ]
    },
    {
     "name": "stdout",
     "output_type": "stream",
     "text": [
      "Experiment:  160\n",
      "Experiment:  161\n"
     ]
    },
    {
     "name": "stderr",
     "output_type": "stream",
     "text": [
      "iterations: 100%|██████████| 1000/1000 [00:00<00:00, 21835.10it/s]\n",
      "iterations: 100%|██████████| 1000/1000 [00:00<00:00, 19763.66it/s]\n",
      "iterations: 100%|██████████| 1000/1000 [00:00<00:00, 16467.69it/s]\n",
      "iterations: 100%|██████████| 1000/1000 [00:00<00:00, 23984.31it/s]\n",
      "iterations: 100%|██████████| 1000/1000 [00:00<00:00, 14955.30it/s]\n",
      "iterations: 100%|██████████| 1000/1000 [00:00<00:00, 16523.48it/s]\n",
      "iterations:   0%|          | 0/1000 [00:00<?, ?it/s]"
     ]
    },
    {
     "name": "stdout",
     "output_type": "stream",
     "text": [
      "Experiment:  162\n",
      "Experiment:  163\n"
     ]
    },
    {
     "name": "stderr",
     "output_type": "stream",
     "text": [
      "iterations: 100%|██████████| 1000/1000 [00:00<00:00, 23879.85it/s]\n",
      "iterations: 100%|██████████| 1000/1000 [00:00<00:00, 16341.23it/s]\n",
      "iterations: 100%|██████████| 1000/1000 [00:00<00:00, 16433.82it/s]\n",
      "iterations: 100%|██████████| 1000/1000 [00:00<00:00, 24928.41it/s]\n",
      "iterations: 100%|██████████| 1000/1000 [00:00<00:00, 15929.93it/s]\n",
      "iterations: 100%|██████████| 1000/1000 [00:00<00:00, 15898.78it/s]\n",
      "iterations:   0%|          | 0/1000 [00:00<?, ?it/s]"
     ]
    },
    {
     "name": "stdout",
     "output_type": "stream",
     "text": [
      "Experiment:  164\n",
      "Experiment:  165\n"
     ]
    },
    {
     "name": "stderr",
     "output_type": "stream",
     "text": [
      "iterations: 100%|██████████| 1000/1000 [00:00<00:00, 23376.62it/s]\n",
      "iterations: 100%|██████████| 1000/1000 [00:00<00:00, 16202.73it/s]\n",
      "iterations: 100%|██████████| 1000/1000 [00:00<00:00, 15127.20it/s]\n",
      "iterations: 100%|██████████| 1000/1000 [00:00<00:00, 23605.54it/s]\n",
      "iterations: 100%|██████████| 1000/1000 [00:00<00:00, 17326.46it/s]\n",
      "iterations: 100%|██████████| 1000/1000 [00:00<00:00, 15360.99it/s]\n",
      "iterations:   0%|          | 0/1000 [00:00<?, ?it/s]"
     ]
    },
    {
     "name": "stdout",
     "output_type": "stream",
     "text": [
      "Experiment:  166\n",
      "Experiment:  167\n"
     ]
    },
    {
     "name": "stderr",
     "output_type": "stream",
     "text": [
      "iterations: 100%|██████████| 1000/1000 [00:00<00:00, 18035.60it/s]\n",
      "iterations: 100%|██████████| 1000/1000 [00:00<00:00, 16209.87it/s]\n",
      "iterations: 100%|██████████| 1000/1000 [00:00<00:00, 15569.23it/s]\n",
      "iterations: 100%|██████████| 1000/1000 [00:00<00:00, 21643.55it/s]\n",
      "iterations: 100%|██████████| 1000/1000 [00:00<00:00, 15490.00it/s]\n",
      "iterations: 100%|██████████| 1000/1000 [00:00<00:00, 16382.46it/s]\n",
      "iterations:   0%|          | 0/1000 [00:00<?, ?it/s]"
     ]
    },
    {
     "name": "stdout",
     "output_type": "stream",
     "text": [
      "Experiment:  168\n",
      "Experiment:  169\n"
     ]
    },
    {
     "name": "stderr",
     "output_type": "stream",
     "text": [
      "iterations: 100%|██████████| 1000/1000 [00:00<00:00, 22075.98it/s]\n",
      "iterations: 100%|██████████| 1000/1000 [00:00<00:00, 17049.18it/s]\n",
      "iterations: 100%|██████████| 1000/1000 [00:00<00:00, 16384.32it/s]\n",
      "iterations: 100%|██████████| 1000/1000 [00:00<00:00, 25027.92it/s]\n",
      "iterations: 100%|██████████| 1000/1000 [00:00<00:00, 19814.55it/s]\n",
      "iterations: 100%|██████████| 1000/1000 [00:00<00:00, 16749.88it/s]\n",
      "iterations:   0%|          | 0/1000 [00:00<?, ?it/s]"
     ]
    },
    {
     "name": "stdout",
     "output_type": "stream",
     "text": [
      "Experiment:  170\n",
      "Experiment:  171\n"
     ]
    },
    {
     "name": "stderr",
     "output_type": "stream",
     "text": [
      "iterations: 100%|██████████| 1000/1000 [00:00<00:00, 23370.50it/s]\n",
      "iterations: 100%|██████████| 1000/1000 [00:00<00:00, 18242.53it/s]\n",
      "iterations: 100%|██████████| 1000/1000 [00:00<00:00, 16108.52it/s]\n",
      "iterations: 100%|██████████| 1000/1000 [00:00<00:00, 25126.28it/s]\n",
      "iterations: 100%|██████████| 1000/1000 [00:00<00:00, 19718.14it/s]\n",
      "iterations: 100%|██████████| 1000/1000 [00:00<00:00, 15699.07it/s]\n",
      "iterations:   0%|          | 0/1000 [00:00<?, ?it/s]"
     ]
    },
    {
     "name": "stdout",
     "output_type": "stream",
     "text": [
      "Experiment:  172\n",
      "Experiment:  173\n"
     ]
    },
    {
     "name": "stderr",
     "output_type": "stream",
     "text": [
      "iterations: 100%|██████████| 1000/1000 [00:00<00:00, 20772.83it/s]\n",
      "iterations: 100%|██████████| 1000/1000 [00:00<00:00, 18567.33it/s]\n",
      "iterations: 100%|██████████| 1000/1000 [00:00<00:00, 16595.27it/s]\n",
      "iterations: 100%|██████████| 1000/1000 [00:00<00:00, 23682.18it/s]\n",
      "iterations: 100%|██████████| 1000/1000 [00:00<00:00, 16117.12it/s]\n",
      "iterations: 100%|██████████| 1000/1000 [00:00<00:00, 16376.77it/s]\n",
      "iterations:   0%|          | 0/1000 [00:00<?, ?it/s]"
     ]
    },
    {
     "name": "stdout",
     "output_type": "stream",
     "text": [
      "Experiment:  174\n",
      "Experiment:  175\n"
     ]
    },
    {
     "name": "stderr",
     "output_type": "stream",
     "text": [
      "iterations: 100%|██████████| 1000/1000 [00:00<00:00, 20859.92it/s]\n",
      "iterations: 100%|██████████| 1000/1000 [00:00<00:00, 16054.69it/s]\n",
      "iterations: 100%|██████████| 1000/1000 [00:00<00:00, 15315.11it/s]\n",
      "iterations: 100%|██████████| 1000/1000 [00:00<00:00, 21966.49it/s]\n",
      "iterations: 100%|██████████| 1000/1000 [00:00<00:00, 16055.00it/s]\n",
      "iterations: 100%|██████████| 1000/1000 [00:00<00:00, 15851.61it/s]\n",
      "iterations: 100%|██████████| 1000/1000 [00:00<00:00, 20444.56it/s]"
     ]
    },
    {
     "name": "stdout",
     "output_type": "stream",
     "text": [
      "Experiment:  176\n",
      "Experiment:  177\n"
     ]
    },
    {
     "name": "stderr",
     "output_type": "stream",
     "text": [
      "\n",
      "iterations: 100%|██████████| 1000/1000 [00:00<00:00, 15304.72it/s]\n",
      "iterations: 100%|██████████| 1000/1000 [00:00<00:00, 16719.90it/s]\n",
      "iterations: 100%|██████████| 1000/1000 [00:00<00:00, 23210.39it/s]\n",
      "iterations: 100%|██████████| 1000/1000 [00:00<00:00, 16257.56it/s]\n",
      "iterations: 100%|██████████| 1000/1000 [00:00<00:00, 16706.71it/s]\n",
      "iterations:   0%|          | 0/1000 [00:00<?, ?it/s]"
     ]
    },
    {
     "name": "stdout",
     "output_type": "stream",
     "text": [
      "Experiment:  178\n",
      "Experiment:  179\n"
     ]
    },
    {
     "name": "stderr",
     "output_type": "stream",
     "text": [
      "iterations: 100%|██████████| 1000/1000 [00:00<00:00, 21744.43it/s]\n",
      "iterations: 100%|██████████| 1000/1000 [00:00<00:00, 15787.35it/s]\n",
      "iterations: 100%|██████████| 1000/1000 [00:00<00:00, 16290.39it/s]\n",
      "iterations: 100%|██████████| 1000/1000 [00:00<00:00, 22103.79it/s]\n",
      "iterations: 100%|██████████| 1000/1000 [00:00<00:00, 15168.34it/s]\n",
      "iterations: 100%|██████████| 1000/1000 [00:00<00:00, 16527.52it/s]\n",
      "iterations:   0%|          | 0/1000 [00:00<?, ?it/s]"
     ]
    },
    {
     "name": "stdout",
     "output_type": "stream",
     "text": [
      "Experiment:  180\n",
      "Experiment:  181\n"
     ]
    },
    {
     "name": "stderr",
     "output_type": "stream",
     "text": [
      "iterations: 100%|██████████| 1000/1000 [00:00<00:00, 19389.53it/s]\n",
      "iterations: 100%|██████████| 1000/1000 [00:00<00:00, 15657.52it/s]\n",
      "iterations: 100%|██████████| 1000/1000 [00:00<00:00, 16682.19it/s]\n",
      "iterations: 100%|██████████| 1000/1000 [00:00<00:00, 22071.10it/s]\n",
      "iterations: 100%|██████████| 1000/1000 [00:00<00:00, 15439.76it/s]\n",
      "iterations: 100%|██████████| 1000/1000 [00:00<00:00, 16140.75it/s]\n",
      "iterations:   0%|          | 0/1000 [00:00<?, ?it/s]"
     ]
    },
    {
     "name": "stdout",
     "output_type": "stream",
     "text": [
      "Experiment:  182\n",
      "Experiment:  183\n"
     ]
    },
    {
     "name": "stderr",
     "output_type": "stream",
     "text": [
      "iterations: 100%|██████████| 1000/1000 [00:00<00:00, 22598.86it/s]\n",
      "iterations: 100%|██████████| 1000/1000 [00:00<00:00, 16612.09it/s]\n",
      "iterations: 100%|██████████| 1000/1000 [00:00<00:00, 16625.39it/s]\n",
      "iterations: 100%|██████████| 1000/1000 [00:00<00:00, 21073.94it/s]\n",
      "iterations: 100%|██████████| 1000/1000 [00:00<00:00, 16294.63it/s]\n",
      "iterations: 100%|██████████| 1000/1000 [00:00<00:00, 16523.22it/s]\n",
      "iterations: 100%|██████████| 1000/1000 [00:00<00:00, 21979.85it/s]"
     ]
    },
    {
     "name": "stdout",
     "output_type": "stream",
     "text": [
      "Experiment:  184\n",
      "Experiment:  185\n"
     ]
    },
    {
     "name": "stderr",
     "output_type": "stream",
     "text": [
      "\n",
      "iterations: 100%|██████████| 1000/1000 [00:00<00:00, 17196.32it/s]\n",
      "iterations: 100%|██████████| 1000/1000 [00:00<00:00, 16408.81it/s]\n",
      "iterations: 100%|██████████| 1000/1000 [00:00<00:00, 22254.96it/s]\n",
      "iterations: 100%|██████████| 1000/1000 [00:00<00:00, 16287.99it/s]\n",
      "iterations: 100%|██████████| 1000/1000 [00:00<00:00, 16504.37it/s]\n",
      "iterations: 100%|██████████| 1000/1000 [00:00<00:00, 22296.61it/s]"
     ]
    },
    {
     "name": "stdout",
     "output_type": "stream",
     "text": [
      "Experiment:  186\n",
      "Experiment:  187\n"
     ]
    },
    {
     "name": "stderr",
     "output_type": "stream",
     "text": [
      "\n",
      "iterations: 100%|██████████| 1000/1000 [00:00<00:00, 17591.64it/s]\n",
      "iterations: 100%|██████████| 1000/1000 [00:00<00:00, 15754.44it/s]\n",
      "iterations: 100%|██████████| 1000/1000 [00:00<00:00, 23443.39it/s]\n",
      "iterations: 100%|██████████| 1000/1000 [00:00<00:00, 15806.80it/s]\n",
      "iterations: 100%|██████████| 1000/1000 [00:00<00:00, 16805.58it/s]\n",
      "iterations:   0%|          | 0/1000 [00:00<?, ?it/s]"
     ]
    },
    {
     "name": "stdout",
     "output_type": "stream",
     "text": [
      "Experiment:  188\n",
      "Experiment:  189\n"
     ]
    },
    {
     "name": "stderr",
     "output_type": "stream",
     "text": [
      "iterations: 100%|██████████| 1000/1000 [00:00<00:00, 19764.32it/s]\n",
      "iterations: 100%|██████████| 1000/1000 [00:00<00:00, 16490.22it/s]\n",
      "iterations: 100%|██████████| 1000/1000 [00:00<00:00, 15538.55it/s]\n",
      "iterations: 100%|██████████| 1000/1000 [00:00<00:00, 21080.08it/s]\n",
      "iterations: 100%|██████████| 1000/1000 [00:00<00:00, 15390.81it/s]\n",
      "iterations: 100%|██████████| 1000/1000 [00:00<00:00, 16793.54it/s]\n",
      "iterations:   0%|          | 0/1000 [00:00<?, ?it/s]"
     ]
    },
    {
     "name": "stdout",
     "output_type": "stream",
     "text": [
      "Experiment:  190\n",
      "Experiment:  191\n"
     ]
    },
    {
     "name": "stderr",
     "output_type": "stream",
     "text": [
      "iterations: 100%|██████████| 1000/1000 [00:00<00:00, 19579.15it/s]\n",
      "iterations: 100%|██████████| 1000/1000 [00:00<00:00, 17196.25it/s]\n",
      "iterations: 100%|██████████| 1000/1000 [00:00<00:00, 15439.71it/s]\n",
      "iterations: 100%|██████████| 1000/1000 [00:00<00:00, 22190.79it/s]\n",
      "iterations: 100%|██████████| 1000/1000 [00:00<00:00, 16229.57it/s]\n",
      "iterations: 100%|██████████| 1000/1000 [00:00<00:00, 16331.62it/s]\n",
      "iterations: 100%|██████████| 1000/1000 [00:00<00:00, 22436.03it/s]"
     ]
    },
    {
     "name": "stdout",
     "output_type": "stream",
     "text": [
      "Experiment:  192\n",
      "Experiment:  193\n"
     ]
    },
    {
     "name": "stderr",
     "output_type": "stream",
     "text": [
      "\n",
      "iterations: 100%|██████████| 1000/1000 [00:00<00:00, 17970.45it/s]\n",
      "iterations: 100%|██████████| 1000/1000 [00:00<00:00, 16745.67it/s]\n",
      "iterations: 100%|██████████| 1000/1000 [00:00<00:00, 24665.70it/s]\n",
      "iterations: 100%|██████████| 1000/1000 [00:00<00:00, 15582.82it/s]\n",
      "iterations: 100%|██████████| 1000/1000 [00:00<00:00, 15177.51it/s]\n",
      "iterations:   0%|          | 0/1000 [00:00<?, ?it/s]"
     ]
    },
    {
     "name": "stdout",
     "output_type": "stream",
     "text": [
      "Experiment:  194\n",
      "Experiment:  195\n"
     ]
    },
    {
     "name": "stderr",
     "output_type": "stream",
     "text": [
      "iterations: 100%|██████████| 1000/1000 [00:00<00:00, 21151.41it/s]\n",
      "iterations: 100%|██████████| 1000/1000 [00:00<00:00, 16359.97it/s]\n",
      "iterations: 100%|██████████| 1000/1000 [00:00<00:00, 16733.57it/s]\n",
      "iterations: 100%|██████████| 1000/1000 [00:00<00:00, 25637.08it/s]\n",
      "iterations: 100%|██████████| 1000/1000 [00:00<00:00, 19709.06it/s]\n",
      "iterations: 100%|██████████| 1000/1000 [00:00<00:00, 16214.88it/s]\n",
      "iterations:   0%|          | 0/1000 [00:00<?, ?it/s]"
     ]
    },
    {
     "name": "stdout",
     "output_type": "stream",
     "text": [
      "Experiment:  196\n",
      "Experiment:  197\n"
     ]
    },
    {
     "name": "stderr",
     "output_type": "stream",
     "text": [
      "iterations: 100%|██████████| 1000/1000 [00:00<00:00, 25364.07it/s]\n",
      "iterations: 100%|██████████| 1000/1000 [00:00<00:00, 15316.46it/s]\n",
      "iterations: 100%|██████████| 1000/1000 [00:00<00:00, 16696.47it/s]\n",
      "iterations: 100%|██████████| 1000/1000 [00:00<00:00, 21774.11it/s]\n",
      "iterations: 100%|██████████| 1000/1000 [00:00<00:00, 16429.50it/s]\n",
      "iterations: 100%|██████████| 1000/1000 [00:00<00:00, 13576.96it/s]\n",
      "iterations: 100%|██████████| 1000/1000 [00:00<00:00, 19901.33it/s]"
     ]
    },
    {
     "name": "stdout",
     "output_type": "stream",
     "text": [
      "Experiment:  198\n",
      "Experiment:  199\n"
     ]
    },
    {
     "name": "stderr",
     "output_type": "stream",
     "text": [
      "\n",
      "iterations: 100%|██████████| 1000/1000 [00:00<00:00, 15940.11it/s]\n",
      "iterations: 100%|██████████| 1000/1000 [00:00<00:00, 16489.70it/s]\n",
      "iterations: 100%|██████████| 1000/1000 [00:00<00:00, 22768.03it/s]\n",
      "iterations: 100%|██████████| 1000/1000 [00:00<00:00, 15355.31it/s]\n",
      "iterations: 100%|██████████| 1000/1000 [00:00<00:00, 16607.16it/s]\n",
      "iterations:   0%|          | 0/1000 [00:00<?, ?it/s]"
     ]
    },
    {
     "name": "stdout",
     "output_type": "stream",
     "text": [
      "Experiment:  200\n",
      "Experiment:  201\n"
     ]
    },
    {
     "name": "stderr",
     "output_type": "stream",
     "text": [
      "iterations: 100%|██████████| 1000/1000 [00:00<00:00, 24021.12it/s]\n",
      "iterations: 100%|██████████| 1000/1000 [00:00<00:00, 16096.83it/s]\n",
      "iterations: 100%|██████████| 1000/1000 [00:00<00:00, 12240.96it/s]\n",
      "iterations: 100%|██████████| 1000/1000 [00:00<00:00, 21757.17it/s]\n",
      "iterations: 100%|██████████| 1000/1000 [00:00<00:00, 19924.68it/s]\n",
      "iterations: 100%|██████████| 1000/1000 [00:00<00:00, 16683.12it/s]\n",
      "iterations:   0%|          | 0/1000 [00:00<?, ?it/s]"
     ]
    },
    {
     "name": "stdout",
     "output_type": "stream",
     "text": [
      "Experiment:  202\n",
      "Experiment:  203\n"
     ]
    },
    {
     "name": "stderr",
     "output_type": "stream",
     "text": [
      "iterations: 100%|██████████| 1000/1000 [00:00<00:00, 22680.37it/s]\n",
      "iterations: 100%|██████████| 1000/1000 [00:00<00:00, 14983.03it/s]\n",
      "iterations: 100%|██████████| 1000/1000 [00:00<00:00, 14644.10it/s]\n",
      "iterations: 100%|██████████| 1000/1000 [00:00<00:00, 19758.17it/s]\n",
      "iterations: 100%|██████████| 1000/1000 [00:00<00:00, 14923.80it/s]\n",
      "iterations: 100%|██████████| 1000/1000 [00:00<00:00, 15519.97it/s]\n",
      "iterations: 100%|██████████| 1000/1000 [00:00<00:00, 20746.93it/s]"
     ]
    },
    {
     "name": "stdout",
     "output_type": "stream",
     "text": [
      "Experiment:  204\n",
      "Experiment:  205\n"
     ]
    },
    {
     "name": "stderr",
     "output_type": "stream",
     "text": [
      "\n",
      "iterations: 100%|██████████| 1000/1000 [00:00<00:00, 17410.40it/s]\n",
      "iterations: 100%|██████████| 1000/1000 [00:00<00:00, 15083.46it/s]\n",
      "iterations: 100%|██████████| 1000/1000 [00:00<00:00, 22918.57it/s]\n",
      "iterations: 100%|██████████| 1000/1000 [00:00<00:00, 17281.85it/s]\n",
      "iterations: 100%|██████████| 1000/1000 [00:00<00:00, 15615.72it/s]\n",
      "iterations:   0%|          | 0/1000 [00:00<?, ?it/s]"
     ]
    },
    {
     "name": "stdout",
     "output_type": "stream",
     "text": [
      "Experiment:  206\n",
      "Experiment:  207\n"
     ]
    },
    {
     "name": "stderr",
     "output_type": "stream",
     "text": [
      "iterations: 100%|██████████| 1000/1000 [00:00<00:00, 22201.01it/s]\n",
      "iterations: 100%|██████████| 1000/1000 [00:00<00:00, 17599.46it/s]\n",
      "iterations: 100%|██████████| 1000/1000 [00:00<00:00, 16400.79it/s]\n",
      "iterations: 100%|██████████| 1000/1000 [00:00<00:00, 24342.75it/s]\n",
      "iterations: 100%|██████████| 1000/1000 [00:00<00:00, 17616.76it/s]\n",
      "iterations: 100%|██████████| 1000/1000 [00:00<00:00, 16076.17it/s]\n",
      "iterations:   0%|          | 0/1000 [00:00<?, ?it/s]"
     ]
    },
    {
     "name": "stdout",
     "output_type": "stream",
     "text": [
      "Experiment:  208\n",
      "Experiment:  209\n"
     ]
    },
    {
     "name": "stderr",
     "output_type": "stream",
     "text": [
      "iterations: 100%|██████████| 1000/1000 [00:00<00:00, 21463.90it/s]\n",
      "iterations: 100%|██████████| 1000/1000 [00:00<00:00, 15845.32it/s]\n",
      "iterations: 100%|██████████| 1000/1000 [00:00<00:00, 13683.80it/s]\n",
      "iterations: 100%|██████████| 1000/1000 [00:00<00:00, 19183.61it/s]\n",
      "iterations: 100%|██████████| 1000/1000 [00:00<00:00, 18109.42it/s]\n",
      "iterations: 100%|██████████| 1000/1000 [00:00<00:00, 14368.24it/s]\n",
      "iterations:   0%|          | 0/1000 [00:00<?, ?it/s]"
     ]
    },
    {
     "name": "stdout",
     "output_type": "stream",
     "text": [
      "Experiment:  210\n",
      "Experiment:  211\n"
     ]
    },
    {
     "name": "stderr",
     "output_type": "stream",
     "text": [
      "iterations: 100%|██████████| 1000/1000 [00:00<00:00, 17992.04it/s]\n",
      "iterations: 100%|██████████| 1000/1000 [00:00<00:00, 17163.53it/s]\n",
      "iterations: 100%|██████████| 1000/1000 [00:00<00:00, 14771.22it/s]\n",
      "iterations: 100%|██████████| 1000/1000 [00:00<00:00, 23722.50it/s]\n",
      "iterations: 100%|██████████| 1000/1000 [00:00<00:00, 16739.72it/s]\n",
      "iterations: 100%|██████████| 1000/1000 [00:00<00:00, 15724.49it/s]\n",
      "iterations:   0%|          | 0/1000 [00:00<?, ?it/s]"
     ]
    },
    {
     "name": "stdout",
     "output_type": "stream",
     "text": [
      "Experiment:  212\n",
      "Experiment:  213\n"
     ]
    },
    {
     "name": "stderr",
     "output_type": "stream",
     "text": [
      "iterations: 100%|██████████| 1000/1000 [00:00<00:00, 20127.18it/s]\n",
      "iterations: 100%|██████████| 1000/1000 [00:00<00:00, 15415.42it/s]\n",
      "iterations: 100%|██████████| 1000/1000 [00:00<00:00, 15634.58it/s]\n",
      "iterations: 100%|██████████| 1000/1000 [00:00<00:00, 21160.91it/s]\n",
      "iterations: 100%|██████████| 1000/1000 [00:00<00:00, 16204.36it/s]\n",
      "iterations: 100%|██████████| 1000/1000 [00:00<00:00, 15865.94it/s]\n",
      "iterations: 100%|██████████| 1000/1000 [00:00<00:00, 20701.78it/s]"
     ]
    },
    {
     "name": "stdout",
     "output_type": "stream",
     "text": [
      "Experiment:  214\n",
      "Experiment:  215\n"
     ]
    },
    {
     "name": "stderr",
     "output_type": "stream",
     "text": [
      "\n",
      "iterations: 100%|██████████| 1000/1000 [00:00<00:00, 16769.57it/s]\n",
      "iterations: 100%|██████████| 1000/1000 [00:00<00:00, 16167.38it/s]\n",
      "iterations: 100%|██████████| 1000/1000 [00:00<00:00, 19983.63it/s]\n",
      "iterations: 100%|██████████| 1000/1000 [00:00<00:00, 15407.83it/s]\n",
      "iterations: 100%|██████████| 1000/1000 [00:00<00:00, 16107.71it/s]\n",
      "iterations:   0%|          | 0/1000 [00:00<?, ?it/s]"
     ]
    },
    {
     "name": "stdout",
     "output_type": "stream",
     "text": [
      "Experiment:  216\n",
      "Experiment:  217\n"
     ]
    },
    {
     "name": "stderr",
     "output_type": "stream",
     "text": [
      "iterations: 100%|██████████| 1000/1000 [00:00<00:00, 22932.60it/s]\n",
      "iterations: 100%|██████████| 1000/1000 [00:00<00:00, 15989.02it/s]\n",
      "iterations: 100%|██████████| 1000/1000 [00:00<00:00, 15626.66it/s]\n",
      "iterations: 100%|██████████| 1000/1000 [00:00<00:00, 20336.32it/s]\n",
      "iterations: 100%|██████████| 1000/1000 [00:00<00:00, 15553.53it/s]\n",
      "iterations: 100%|██████████| 1000/1000 [00:00<00:00, 15084.11it/s]\n",
      "iterations:   0%|          | 0/1000 [00:00<?, ?it/s]"
     ]
    },
    {
     "name": "stdout",
     "output_type": "stream",
     "text": [
      "Experiment:  218\n",
      "Experiment:  219\n"
     ]
    },
    {
     "name": "stderr",
     "output_type": "stream",
     "text": [
      "iterations: 100%|██████████| 1000/1000 [00:00<00:00, 21911.07it/s]\n",
      "iterations: 100%|██████████| 1000/1000 [00:00<00:00, 12356.83it/s]\n",
      "iterations: 100%|██████████| 1000/1000 [00:00<00:00, 15480.85it/s]\n",
      "iterations: 100%|██████████| 1000/1000 [00:00<00:00, 22987.40it/s]\n",
      "iterations: 100%|██████████| 1000/1000 [00:00<00:00, 17358.09it/s]\n",
      "iterations: 100%|██████████| 1000/1000 [00:00<00:00, 13937.85it/s]\n",
      "iterations:   0%|          | 0/1000 [00:00<?, ?it/s]"
     ]
    },
    {
     "name": "stdout",
     "output_type": "stream",
     "text": [
      "Experiment:  220\n",
      "Experiment:  221\n"
     ]
    },
    {
     "name": "stderr",
     "output_type": "stream",
     "text": [
      "iterations: 100%|██████████| 1000/1000 [00:00<00:00, 20510.65it/s]\n",
      "iterations: 100%|██████████| 1000/1000 [00:00<00:00, 16173.68it/s]\n",
      "iterations: 100%|██████████| 1000/1000 [00:00<00:00, 13211.78it/s]\n",
      "iterations: 100%|██████████| 1000/1000 [00:00<00:00, 21424.21it/s]\n",
      "iterations: 100%|██████████| 1000/1000 [00:00<00:00, 16501.05it/s]\n",
      "iterations: 100%|██████████| 1000/1000 [00:00<00:00, 14192.82it/s]\n",
      "iterations:   0%|          | 0/1000 [00:00<?, ?it/s]"
     ]
    },
    {
     "name": "stdout",
     "output_type": "stream",
     "text": [
      "Experiment:  222\n",
      "Experiment:  223\n"
     ]
    },
    {
     "name": "stderr",
     "output_type": "stream",
     "text": [
      "iterations: 100%|██████████| 1000/1000 [00:00<00:00, 20915.78it/s]\n",
      "iterations: 100%|██████████| 1000/1000 [00:00<00:00, 19728.52it/s]\n",
      "iterations: 100%|██████████| 1000/1000 [00:00<00:00, 16465.81it/s]\n",
      "iterations: 100%|██████████| 1000/1000 [00:00<00:00, 25660.93it/s]\n",
      "iterations: 100%|██████████| 1000/1000 [00:00<00:00, 19719.90it/s]\n",
      "iterations: 100%|██████████| 1000/1000 [00:00<00:00, 15299.19it/s]\n",
      "iterations:   0%|          | 0/1000 [00:00<?, ?it/s]"
     ]
    },
    {
     "name": "stdout",
     "output_type": "stream",
     "text": [
      "Experiment:  224\n",
      "Experiment:  225\n"
     ]
    },
    {
     "name": "stderr",
     "output_type": "stream",
     "text": [
      "iterations: 100%|██████████| 1000/1000 [00:00<00:00, 22862.23it/s]\n",
      "iterations: 100%|██████████| 1000/1000 [00:00<00:00, 19074.12it/s]\n",
      "iterations: 100%|██████████| 1000/1000 [00:00<00:00, 15765.87it/s]\n",
      "iterations: 100%|██████████| 1000/1000 [00:00<00:00, 23614.45it/s]\n",
      "iterations: 100%|██████████| 1000/1000 [00:00<00:00, 18748.34it/s]\n",
      "iterations: 100%|██████████| 1000/1000 [00:00<00:00, 16183.85it/s]\n",
      "iterations:   0%|          | 0/1000 [00:00<?, ?it/s]"
     ]
    },
    {
     "name": "stdout",
     "output_type": "stream",
     "text": [
      "Experiment:  226\n",
      "Experiment:  227\n"
     ]
    },
    {
     "name": "stderr",
     "output_type": "stream",
     "text": [
      "iterations: 100%|██████████| 1000/1000 [00:00<00:00, 22517.34it/s]\n",
      "iterations: 100%|██████████| 1000/1000 [00:00<00:00, 16888.41it/s]\n",
      "iterations: 100%|██████████| 1000/1000 [00:00<00:00, 10923.24it/s]\n",
      "iterations: 100%|██████████| 1000/1000 [00:00<00:00, 21268.97it/s]\n",
      "iterations: 100%|██████████| 1000/1000 [00:00<00:00, 15476.57it/s]\n",
      "iterations: 100%|██████████| 1000/1000 [00:00<00:00, 15043.48it/s]\n",
      "iterations: 100%|██████████| 1000/1000 [00:00<00:00, 18593.26it/s]"
     ]
    },
    {
     "name": "stdout",
     "output_type": "stream",
     "text": [
      "Experiment:  228\n",
      "Experiment:  229\n"
     ]
    },
    {
     "name": "stderr",
     "output_type": "stream",
     "text": [
      "\n",
      "iterations: 100%|██████████| 1000/1000 [00:00<00:00, 17030.56it/s]\n",
      "iterations: 100%|██████████| 1000/1000 [00:00<00:00, 12741.13it/s]\n",
      "iterations: 100%|██████████| 1000/1000 [00:00<00:00, 20464.91it/s]\n",
      "iterations: 100%|██████████| 1000/1000 [00:00<00:00, 17352.05it/s]\n",
      "iterations:   0%|          | 0/1000 [00:00<?, ?it/s]"
     ]
    },
    {
     "name": "stdout",
     "output_type": "stream",
     "text": [
      "Experiment:  230\n"
     ]
    },
    {
     "name": "stderr",
     "output_type": "stream",
     "text": [
      "iterations: 100%|██████████| 1000/1000 [00:00<00:00, 10740.22it/s]\n",
      "iterations: 100%|██████████| 1000/1000 [00:00<00:00, 25499.15it/s]\n",
      "iterations: 100%|██████████| 1000/1000 [00:00<00:00, 18516.18it/s]\n",
      "iterations: 100%|██████████| 1000/1000 [00:00<00:00, 13244.19it/s]\n",
      "iterations:   0%|          | 0/1000 [00:00<?, ?it/s]"
     ]
    },
    {
     "name": "stdout",
     "output_type": "stream",
     "text": [
      "Experiment:  231\n",
      "Experiment:  232\n"
     ]
    },
    {
     "name": "stderr",
     "output_type": "stream",
     "text": [
      "iterations: 100%|██████████| 1000/1000 [00:00<00:00, 19388.09it/s]\n",
      "iterations: 100%|██████████| 1000/1000 [00:00<00:00, 16374.15it/s]\n",
      "iterations: 100%|██████████| 1000/1000 [00:00<00:00, 14616.64it/s]\n",
      "iterations: 100%|██████████| 1000/1000 [00:00<00:00, 23587.76it/s]\n",
      "iterations: 100%|██████████| 1000/1000 [00:00<00:00, 18579.09it/s]\n",
      "iterations: 100%|██████████| 1000/1000 [00:00<00:00, 14146.67it/s]\n",
      "iterations:   0%|          | 0/1000 [00:00<?, ?it/s]"
     ]
    },
    {
     "name": "stdout",
     "output_type": "stream",
     "text": [
      "Experiment:  233\n",
      "Experiment:  234\n"
     ]
    },
    {
     "name": "stderr",
     "output_type": "stream",
     "text": [
      "iterations: 100%|██████████| 1000/1000 [00:00<00:00, 20265.96it/s]\n",
      "iterations: 100%|██████████| 1000/1000 [00:00<00:00, 16824.53it/s]\n",
      "iterations: 100%|██████████| 1000/1000 [00:00<00:00, 13918.66it/s]\n",
      "iterations: 100%|██████████| 1000/1000 [00:00<00:00, 21357.01it/s]\n",
      "iterations: 100%|██████████| 1000/1000 [00:00<00:00, 13848.48it/s]\n",
      "iterations: 100%|██████████| 1000/1000 [00:00<00:00, 14564.11it/s]\n",
      "iterations:   0%|          | 0/1000 [00:00<?, ?it/s]"
     ]
    },
    {
     "name": "stdout",
     "output_type": "stream",
     "text": [
      "Experiment:  235\n",
      "Experiment:  236\n"
     ]
    },
    {
     "name": "stderr",
     "output_type": "stream",
     "text": [
      "iterations: 100%|██████████| 1000/1000 [00:00<00:00, 22614.09it/s]\n",
      "iterations: 100%|██████████| 1000/1000 [00:00<00:00, 19720.36it/s]\n",
      "iterations: 100%|██████████| 1000/1000 [00:00<00:00, 15264.17it/s]\n",
      "iterations: 100%|██████████| 1000/1000 [00:00<00:00, 22235.03it/s]\n",
      "iterations: 100%|██████████| 1000/1000 [00:00<00:00, 15357.90it/s]\n",
      "iterations: 100%|██████████| 1000/1000 [00:00<00:00, 12688.75it/s]"
     ]
    },
    {
     "name": "stdout",
     "output_type": "stream",
     "text": [
      "Experiment:  237\n"
     ]
    },
    {
     "name": "stderr",
     "output_type": "stream",
     "text": [
      "\n",
      "iterations: 100%|██████████| 1000/1000 [00:00<00:00, 19742.17it/s]\n",
      "iterations: 100%|██████████| 1000/1000 [00:00<00:00, 15068.89it/s]\n",
      "iterations: 100%|██████████| 1000/1000 [00:00<00:00, 15229.31it/s]\n",
      "iterations: 100%|██████████| 1000/1000 [00:00<00:00, 21048.24it/s]\n",
      "iterations: 100%|██████████| 1000/1000 [00:00<00:00, 15898.72it/s]\n",
      "iterations: 100%|██████████| 1000/1000 [00:00<00:00, 14559.87it/s]\n",
      "iterations:   0%|          | 0/1000 [00:00<?, ?it/s]"
     ]
    },
    {
     "name": "stdout",
     "output_type": "stream",
     "text": [
      "Experiment:  238\n",
      "Experiment:  239\n",
      "Experiment:  240\n"
     ]
    },
    {
     "name": "stderr",
     "output_type": "stream",
     "text": [
      "iterations: 100%|██████████| 1000/1000 [00:00<00:00, 19994.87it/s]\n",
      "iterations: 100%|██████████| 1000/1000 [00:00<00:00, 17410.40it/s]\n",
      "iterations: 100%|██████████| 1000/1000 [00:00<00:00, 13313.77it/s]\n",
      "iterations: 100%|██████████| 1000/1000 [00:00<00:00, 19618.99it/s]\n",
      "iterations: 100%|██████████| 1000/1000 [00:00<00:00, 13778.24it/s]\n",
      "iterations:   0%|          | 0/1000 [00:00<?, ?it/s]"
     ]
    },
    {
     "name": "stdout",
     "output_type": "stream",
     "text": [
      "Experiment:  241\n"
     ]
    },
    {
     "name": "stderr",
     "output_type": "stream",
     "text": [
      "iterations: 100%|██████████| 1000/1000 [00:00<00:00, 11635.88it/s]\n",
      "iterations: 100%|██████████| 1000/1000 [00:00<00:00, 19912.38it/s]\n",
      "iterations: 100%|██████████| 1000/1000 [00:00<00:00, 16275.29it/s]\n",
      "iterations: 100%|██████████| 1000/1000 [00:00<00:00, 13834.28it/s]\n"
     ]
    },
    {
     "name": "stdout",
     "output_type": "stream",
     "text": [
      "Experiment:  242\n",
      "Experiment:  243\n"
     ]
    },
    {
     "name": "stderr",
     "output_type": "stream",
     "text": [
      "iterations: 100%|██████████| 1000/1000 [00:00<00:00, 21120.31it/s]\n",
      "iterations: 100%|██████████| 1000/1000 [00:00<00:00, 17053.27it/s]\n",
      "iterations: 100%|██████████| 1000/1000 [00:00<00:00, 11873.10it/s]\n",
      "iterations: 100%|██████████| 1000/1000 [00:00<00:00, 25183.30it/s]\n",
      "iterations: 100%|██████████| 1000/1000 [00:00<00:00, 18947.97it/s]\n",
      "iterations: 100%|██████████| 1000/1000 [00:00<00:00, 15163.02it/s]\n",
      "iterations:   0%|          | 0/1000 [00:00<?, ?it/s]"
     ]
    },
    {
     "name": "stdout",
     "output_type": "stream",
     "text": [
      "Experiment:  244\n",
      "Experiment:  245\n"
     ]
    },
    {
     "name": "stderr",
     "output_type": "stream",
     "text": [
      "iterations: 100%|██████████| 1000/1000 [00:00<00:00, 16633.44it/s]\n",
      "iterations: 100%|██████████| 1000/1000 [00:00<00:00, 13904.72it/s]\n",
      "iterations: 100%|██████████| 1000/1000 [00:00<00:00, 11535.78it/s]\n",
      "iterations: 100%|██████████| 1000/1000 [00:00<00:00, 19945.71it/s]\n",
      "iterations: 100%|██████████| 1000/1000 [00:00<00:00, 17094.56it/s]\n",
      "iterations: 100%|██████████| 1000/1000 [00:00<00:00, 15857.96it/s]\n",
      "iterations:   0%|          | 0/1000 [00:00<?, ?it/s]"
     ]
    },
    {
     "name": "stdout",
     "output_type": "stream",
     "text": [
      "Experiment:  246\n",
      "Experiment:  247\n"
     ]
    },
    {
     "name": "stderr",
     "output_type": "stream",
     "text": [
      "iterations: 100%|██████████| 1000/1000 [00:00<00:00, 21748.15it/s]\n",
      "iterations: 100%|██████████| 1000/1000 [00:00<00:00, 14811.55it/s]\n",
      "iterations: 100%|██████████| 1000/1000 [00:00<00:00, 16435.75it/s]\n",
      "iterations: 100%|██████████| 1000/1000 [00:00<00:00, 23199.10it/s]\n",
      "iterations: 100%|██████████| 1000/1000 [00:00<00:00, 16243.46it/s]\n",
      "iterations: 100%|██████████| 1000/1000 [00:00<00:00, 16073.76it/s]\n",
      "iterations:   0%|          | 0/1000 [00:00<?, ?it/s]"
     ]
    },
    {
     "name": "stdout",
     "output_type": "stream",
     "text": [
      "Experiment:  248\n",
      "Experiment:  249\n"
     ]
    },
    {
     "name": "stderr",
     "output_type": "stream",
     "text": [
      "iterations: 100%|██████████| 1000/1000 [00:00<00:00, 20836.40it/s]\n",
      "iterations: 100%|██████████| 1000/1000 [00:00<00:00, 14783.25it/s]\n",
      "iterations: 100%|██████████| 1000/1000 [00:00<00:00, 13433.12it/s]\n",
      "iterations: 100%|██████████| 1000/1000 [00:00<00:00, 20056.06it/s]\n",
      "iterations: 100%|██████████| 1000/1000 [00:00<00:00, 16552.24it/s]\n",
      "iterations: 100%|██████████| 1000/1000 [00:00<00:00, 15067.32it/s]\n",
      "iterations:   0%|          | 0/1000 [00:00<?, ?it/s]"
     ]
    },
    {
     "name": "stdout",
     "output_type": "stream",
     "text": [
      "Experiment:  250\n",
      "Experiment:  251\n"
     ]
    },
    {
     "name": "stderr",
     "output_type": "stream",
     "text": [
      "iterations: 100%|██████████| 1000/1000 [00:00<00:00, 22284.64it/s]\n",
      "iterations: 100%|██████████| 1000/1000 [00:00<00:00, 17083.28it/s]\n",
      "iterations: 100%|██████████| 1000/1000 [00:00<00:00, 13280.89it/s]\n",
      "iterations: 100%|██████████| 1000/1000 [00:00<00:00, 23471.99it/s]\n",
      "iterations: 100%|██████████| 1000/1000 [00:00<00:00, 16687.44it/s]\n",
      "iterations: 100%|██████████| 1000/1000 [00:00<00:00, 15870.50it/s]\n",
      "iterations:   0%|          | 0/1000 [00:00<?, ?it/s]"
     ]
    },
    {
     "name": "stdout",
     "output_type": "stream",
     "text": [
      "Experiment:  252\n",
      "Experiment:  253\n"
     ]
    },
    {
     "name": "stderr",
     "output_type": "stream",
     "text": [
      "iterations: 100%|██████████| 1000/1000 [00:00<00:00, 19474.97it/s]\n",
      "iterations: 100%|██████████| 1000/1000 [00:00<00:00, 17650.42it/s]\n",
      "iterations: 100%|██████████| 1000/1000 [00:00<00:00, 14875.16it/s]\n",
      "iterations: 100%|██████████| 1000/1000 [00:00<00:00, 14889.10it/s]\n",
      "iterations: 100%|██████████| 1000/1000 [00:00<00:00, 10718.13it/s]\n",
      "iterations:   0%|          | 0/1000 [00:00<?, ?it/s]"
     ]
    },
    {
     "name": "stdout",
     "output_type": "stream",
     "text": [
      "Experiment:  254\n"
     ]
    },
    {
     "name": "stderr",
     "output_type": "stream",
     "text": [
      "iterations: 100%|██████████| 1000/1000 [00:00<00:00, 9341.16it/s]\n",
      "iterations: 100%|██████████| 1000/1000 [00:00<00:00, 19566.00it/s]\n",
      "iterations: 100%|██████████| 1000/1000 [00:00<00:00, 17826.94it/s]\n",
      "iterations: 100%|██████████| 1000/1000 [00:00<00:00, 12539.96it/s]\n"
     ]
    },
    {
     "name": "stdout",
     "output_type": "stream",
     "text": [
      "Experiment:  255\n",
      "Experiment:  256\n"
     ]
    },
    {
     "name": "stderr",
     "output_type": "stream",
     "text": [
      "iterations: 100%|██████████| 1000/1000 [00:00<00:00, 20188.61it/s]\n",
      "iterations: 100%|██████████| 1000/1000 [00:00<00:00, 15251.63it/s]\n",
      "iterations: 100%|██████████| 1000/1000 [00:00<00:00, 13819.96it/s]\n",
      "iterations: 100%|██████████| 1000/1000 [00:00<00:00, 25352.88it/s]\n",
      "iterations: 100%|██████████| 1000/1000 [00:00<00:00, 19054.11it/s]\n",
      "iterations: 100%|██████████| 1000/1000 [00:00<00:00, 15922.56it/s]\n",
      "iterations:   0%|          | 0/1000 [00:00<?, ?it/s]"
     ]
    },
    {
     "name": "stdout",
     "output_type": "stream",
     "text": [
      "Experiment:  257\n",
      "Experiment:  258\n"
     ]
    },
    {
     "name": "stderr",
     "output_type": "stream",
     "text": [
      "iterations: 100%|██████████| 1000/1000 [00:00<00:00, 19881.52it/s]\n",
      "iterations: 100%|██████████| 1000/1000 [00:00<00:00, 16506.77it/s]\n",
      "iterations: 100%|██████████| 1000/1000 [00:00<00:00, 13737.36it/s]\n",
      "iterations: 100%|██████████| 1000/1000 [00:00<00:00, 22456.33it/s]\n",
      "iterations: 100%|██████████| 1000/1000 [00:00<00:00, 12418.33it/s]\n",
      "iterations:   0%|          | 0/1000 [00:00<?, ?it/s]"
     ]
    },
    {
     "name": "stdout",
     "output_type": "stream",
     "text": [
      "Experiment:  259\n"
     ]
    },
    {
     "name": "stderr",
     "output_type": "stream",
     "text": [
      "iterations: 100%|██████████| 1000/1000 [00:00<00:00, 11994.69it/s]\n",
      "iterations: 100%|██████████| 1000/1000 [00:00<00:00, 20338.09it/s]\n",
      "iterations: 100%|██████████| 1000/1000 [00:00<00:00, 15699.07it/s]\n",
      "iterations: 100%|██████████| 1000/1000 [00:00<00:00, 13177.12it/s]\n"
     ]
    },
    {
     "name": "stdout",
     "output_type": "stream",
     "text": [
      "Experiment:  260\n",
      "Experiment:  261\n"
     ]
    },
    {
     "name": "stderr",
     "output_type": "stream",
     "text": [
      "iterations: 100%|██████████| 1000/1000 [00:00<00:00, 19693.23it/s]\n",
      "iterations: 100%|██████████| 1000/1000 [00:00<00:00, 17733.03it/s]\n",
      "iterations: 100%|██████████| 1000/1000 [00:00<00:00, 16082.95it/s]\n",
      "iterations: 100%|██████████| 1000/1000 [00:00<00:00, 21211.64it/s]\n",
      "iterations: 100%|██████████| 1000/1000 [00:00<00:00, 14376.46it/s]\n",
      "iterations: 100%|██████████| 1000/1000 [00:00<00:00, 13286.91it/s]"
     ]
    },
    {
     "name": "stdout",
     "output_type": "stream",
     "text": [
      "Experiment:  262\n"
     ]
    },
    {
     "name": "stderr",
     "output_type": "stream",
     "text": [
      "\n",
      "iterations: 100%|██████████| 1000/1000 [00:00<00:00, 18213.93it/s]\n",
      "iterations: 100%|██████████| 1000/1000 [00:00<00:00, 15924.55it/s]\n",
      "iterations: 100%|██████████| 1000/1000 [00:00<00:00, 10942.24it/s]\n",
      "iterations: 100%|██████████| 1000/1000 [00:00<00:00, 20456.53it/s]\n",
      "iterations: 100%|██████████| 1000/1000 [00:00<00:00, 15730.15it/s]\n",
      "iterations: 100%|██████████| 1000/1000 [00:00<00:00, 15845.56it/s]\n",
      "iterations:   0%|          | 0/1000 [00:00<?, ?it/s]"
     ]
    },
    {
     "name": "stdout",
     "output_type": "stream",
     "text": [
      "Experiment:  263\n",
      "Experiment:  264\n",
      "Experiment:  265\n"
     ]
    },
    {
     "name": "stderr",
     "output_type": "stream",
     "text": [
      "iterations: 100%|██████████| 1000/1000 [00:00<00:00, 20558.30it/s]\n",
      "iterations: 100%|██████████| 1000/1000 [00:00<00:00, 14969.87it/s]\n",
      "iterations: 100%|██████████| 1000/1000 [00:00<00:00, 15876.33it/s]\n",
      "iterations: 100%|██████████| 1000/1000 [00:00<00:00, 22736.56it/s]\n",
      "iterations: 100%|██████████| 1000/1000 [00:00<00:00, 14856.14it/s]\n",
      "iterations: 100%|██████████| 1000/1000 [00:00<00:00, 14901.64it/s]\n",
      "iterations:   0%|          | 0/1000 [00:00<?, ?it/s]"
     ]
    },
    {
     "name": "stdout",
     "output_type": "stream",
     "text": [
      "Experiment:  266\n",
      "Experiment:  267\n"
     ]
    },
    {
     "name": "stderr",
     "output_type": "stream",
     "text": [
      "iterations: 100%|██████████| 1000/1000 [00:00<00:00, 20630.40it/s]\n",
      "iterations: 100%|██████████| 1000/1000 [00:00<00:00, 15299.41it/s]\n",
      "iterations: 100%|██████████| 1000/1000 [00:00<00:00, 15583.34it/s]\n",
      "iterations: 100%|██████████| 1000/1000 [00:00<00:00, 20119.17it/s]\n",
      "iterations: 100%|██████████| 1000/1000 [00:00<00:00, 8829.24it/s]\n",
      "iterations:   0%|          | 0/1000 [00:00<?, ?it/s]"
     ]
    },
    {
     "name": "stdout",
     "output_type": "stream",
     "text": [
      "Experiment:  268\n"
     ]
    },
    {
     "name": "stderr",
     "output_type": "stream",
     "text": [
      "iterations: 100%|██████████| 1000/1000 [00:00<00:00, 13814.64it/s]\n",
      "iterations: 100%|██████████| 1000/1000 [00:00<00:00, 19429.59it/s]\n",
      "iterations: 100%|██████████| 1000/1000 [00:00<00:00, 15642.63it/s]\n",
      "iterations: 100%|██████████| 1000/1000 [00:00<00:00, 14057.72it/s]\n",
      "iterations:   0%|          | 0/1000 [00:00<?, ?it/s]"
     ]
    },
    {
     "name": "stdout",
     "output_type": "stream",
     "text": [
      "Experiment:  269\n",
      "Experiment:  270\n"
     ]
    },
    {
     "name": "stderr",
     "output_type": "stream",
     "text": [
      "iterations: 100%|██████████| 1000/1000 [00:00<00:00, 21957.75it/s]\n",
      "iterations: 100%|██████████| 1000/1000 [00:00<00:00, 14954.18it/s]\n",
      "iterations: 100%|██████████| 1000/1000 [00:00<00:00, 12939.63it/s]\n",
      "iterations: 100%|██████████| 1000/1000 [00:00<00:00, 21114.78it/s]\n",
      "iterations: 100%|██████████| 1000/1000 [00:00<00:00, 15963.71it/s]\n",
      "iterations: 100%|██████████| 1000/1000 [00:00<00:00, 14064.09it/s]\n",
      "iterations:   0%|          | 0/1000 [00:00<?, ?it/s]"
     ]
    },
    {
     "name": "stdout",
     "output_type": "stream",
     "text": [
      "Experiment:  271\n",
      "Experiment:  272\n"
     ]
    },
    {
     "name": "stderr",
     "output_type": "stream",
     "text": [
      "iterations: 100%|██████████| 1000/1000 [00:00<00:00, 17535.23it/s]\n",
      "iterations: 100%|██████████| 1000/1000 [00:00<00:00, 17704.73it/s]\n",
      "iterations: 100%|██████████| 1000/1000 [00:00<00:00, 13864.83it/s]\n",
      "iterations: 100%|██████████| 1000/1000 [00:00<00:00, 21487.87it/s]\n",
      "iterations: 100%|██████████| 1000/1000 [00:00<00:00, 16451.41it/s]\n",
      "iterations: 100%|██████████| 1000/1000 [00:00<00:00, 15200.06it/s]\n",
      "iterations:   0%|          | 0/1000 [00:00<?, ?it/s]"
     ]
    },
    {
     "name": "stdout",
     "output_type": "stream",
     "text": [
      "Experiment:  273\n",
      "Experiment:  274\n"
     ]
    },
    {
     "name": "stderr",
     "output_type": "stream",
     "text": [
      "iterations: 100%|██████████| 1000/1000 [00:00<00:00, 18638.95it/s]\n",
      "iterations: 100%|██████████| 1000/1000 [00:00<00:00, 14311.27it/s]\n",
      "iterations: 100%|██████████| 1000/1000 [00:00<00:00, 12602.05it/s]\n",
      "iterations: 100%|██████████| 1000/1000 [00:00<00:00, 19592.04it/s]\n",
      "iterations: 100%|██████████| 1000/1000 [00:00<00:00, 15282.86it/s]\n",
      "iterations:   0%|          | 0/1000 [00:00<?, ?it/s]"
     ]
    },
    {
     "name": "stdout",
     "output_type": "stream",
     "text": [
      "Experiment:  275\n"
     ]
    },
    {
     "name": "stderr",
     "output_type": "stream",
     "text": [
      "iterations: 100%|██████████| 1000/1000 [00:00<00:00, 12921.41it/s]\n",
      "iterations: 100%|██████████| 1000/1000 [00:00<00:00, 17714.83it/s]\n",
      "iterations: 100%|██████████| 1000/1000 [00:00<00:00, 16459.81it/s]\n",
      "iterations: 100%|██████████| 1000/1000 [00:00<00:00, 13876.75it/s]"
     ]
    },
    {
     "name": "stdout",
     "output_type": "stream",
     "text": [
      "Experiment:  276\n"
     ]
    },
    {
     "name": "stderr",
     "output_type": "stream",
     "text": [
      "\n",
      "iterations: 100%|██████████| 1000/1000 [00:00<00:00, 19294.98it/s]\n",
      "iterations: 100%|██████████| 1000/1000 [00:00<00:00, 16620.45it/s]\n",
      "iterations:   0%|          | 0/1000 [00:00<?, ?it/s]"
     ]
    },
    {
     "name": "stdout",
     "output_type": "stream",
     "text": [
      "Experiment:  277\n"
     ]
    },
    {
     "name": "stderr",
     "output_type": "stream",
     "text": [
      "iterations: 100%|██████████| 1000/1000 [00:00<00:00, 11508.18it/s]\n",
      "iterations: 100%|██████████| 1000/1000 [00:00<00:00, 19277.51it/s]\n",
      "iterations: 100%|██████████| 1000/1000 [00:00<00:00, 15769.36it/s]\n",
      "iterations: 100%|██████████| 1000/1000 [00:00<00:00, 14642.77it/s]\n",
      "iterations:   0%|          | 0/1000 [00:00<?, ?it/s]"
     ]
    },
    {
     "name": "stdout",
     "output_type": "stream",
     "text": [
      "Experiment:  278\n",
      "Experiment:  279\n"
     ]
    },
    {
     "name": "stderr",
     "output_type": "stream",
     "text": [
      "iterations: 100%|██████████| 1000/1000 [00:00<00:00, 17691.96it/s]\n",
      "iterations: 100%|██████████| 1000/1000 [00:00<00:00, 15144.35it/s]\n",
      "iterations: 100%|██████████| 1000/1000 [00:00<00:00, 13339.18it/s]\n",
      "iterations: 100%|██████████| 1000/1000 [00:00<00:00, 20250.21it/s]\n",
      "iterations: 100%|██████████| 1000/1000 [00:00<00:00, 16028.49it/s]\n",
      "iterations: 100%|██████████| 1000/1000 [00:00<00:00, 14531.97it/s]\n",
      "iterations:   0%|          | 0/1000 [00:00<?, ?it/s]"
     ]
    },
    {
     "name": "stdout",
     "output_type": "stream",
     "text": [
      "Experiment:  280\n",
      "Experiment:  281\n"
     ]
    },
    {
     "name": "stderr",
     "output_type": "stream",
     "text": [
      "iterations: 100%|██████████| 1000/1000 [00:00<00:00, 20701.37it/s]\n",
      "iterations: 100%|██████████| 1000/1000 [00:00<00:00, 15695.13it/s]\n",
      "iterations: 100%|██████████| 1000/1000 [00:00<00:00, 15883.78it/s]\n",
      "iterations: 100%|██████████| 1000/1000 [00:00<00:00, 14620.11it/s]\n",
      "iterations: 100%|██████████| 1000/1000 [00:00<00:00, 10839.79it/s]\n",
      "iterations:   0%|          | 0/1000 [00:00<?, ?it/s]"
     ]
    },
    {
     "name": "stdout",
     "output_type": "stream",
     "text": [
      "Experiment:  282\n"
     ]
    },
    {
     "name": "stderr",
     "output_type": "stream",
     "text": [
      "iterations: 100%|██████████| 1000/1000 [00:00<00:00, 3906.03it/s]\n",
      "iterations: 100%|██████████| 1000/1000 [00:00<00:00, 13128.37it/s]\n",
      "iterations: 100%|██████████| 1000/1000 [00:00<00:00, 11810.55it/s]\n",
      "iterations:   0%|          | 0/1000 [00:00<?, ?it/s]"
     ]
    },
    {
     "name": "stdout",
     "output_type": "stream",
     "text": [
      "Experiment:  283\n"
     ]
    },
    {
     "name": "stderr",
     "output_type": "stream",
     "text": [
      "iterations: 100%|██████████| 1000/1000 [00:00<00:00, 13875.38it/s]\n",
      "iterations: 100%|██████████| 1000/1000 [00:00<00:00, 22842.93it/s]\n",
      "iterations: 100%|██████████| 1000/1000 [00:00<00:00, 17950.07it/s]\n",
      "iterations: 100%|██████████| 1000/1000 [00:00<00:00, 12973.53it/s]\n",
      "iterations:   0%|          | 0/1000 [00:00<?, ?it/s]"
     ]
    },
    {
     "name": "stdout",
     "output_type": "stream",
     "text": [
      "Experiment:  284\n",
      "Experiment:  285\n"
     ]
    },
    {
     "name": "stderr",
     "output_type": "stream",
     "text": [
      "iterations: 100%|██████████| 1000/1000 [00:00<00:00, 15673.02it/s]\n",
      "iterations: 100%|██████████| 1000/1000 [00:00<00:00, 13423.71it/s]\n",
      "iterations: 100%|██████████| 1000/1000 [00:00<00:00, 11766.68it/s]\n",
      "iterations: 100%|██████████| 1000/1000 [00:00<00:00, 19909.64it/s]\n",
      "iterations: 100%|██████████| 1000/1000 [00:00<00:00, 16331.31it/s]\n",
      "iterations:   0%|          | 0/1000 [00:00<?, ?it/s]"
     ]
    },
    {
     "name": "stdout",
     "output_type": "stream",
     "text": [
      "Experiment:  286\n"
     ]
    },
    {
     "name": "stderr",
     "output_type": "stream",
     "text": [
      "iterations: 100%|██████████| 1000/1000 [00:00<00:00, 12422.93it/s]\n",
      "iterations: 100%|██████████| 1000/1000 [00:00<00:00, 18680.04it/s]\n",
      "iterations: 100%|██████████| 1000/1000 [00:00<00:00, 15691.96it/s]\n",
      "iterations:   0%|          | 0/1000 [00:00<?, ?it/s]"
     ]
    },
    {
     "name": "stdout",
     "output_type": "stream",
     "text": [
      "Experiment:  287\n"
     ]
    },
    {
     "name": "stderr",
     "output_type": "stream",
     "text": [
      "iterations: 100%|██████████| 1000/1000 [00:00<00:00, 11585.32it/s]\n",
      "iterations: 100%|██████████| 1000/1000 [00:00<00:00, 20326.95it/s]\n",
      "iterations: 100%|██████████| 1000/1000 [00:00<00:00, 11659.95it/s]\n",
      "iterations:   0%|          | 0/1000 [00:00<?, ?it/s]"
     ]
    },
    {
     "name": "stdout",
     "output_type": "stream",
     "text": [
      "Experiment:  288\n"
     ]
    },
    {
     "name": "stderr",
     "output_type": "stream",
     "text": [
      "iterations: 100%|██████████| 1000/1000 [00:00<00:00, 11793.02it/s]\n",
      "iterations: 100%|██████████| 1000/1000 [00:00<00:00, 21014.07it/s]\n",
      "iterations: 100%|██████████| 1000/1000 [00:00<00:00, 14504.98it/s]\n",
      "iterations:   0%|          | 0/1000 [00:00<?, ?it/s]"
     ]
    },
    {
     "name": "stdout",
     "output_type": "stream",
     "text": [
      "Experiment:  289\n"
     ]
    },
    {
     "name": "stderr",
     "output_type": "stream",
     "text": [
      "iterations: 100%|██████████| 1000/1000 [00:00<00:00, 12685.03it/s]\n",
      "iterations: 100%|██████████| 1000/1000 [00:00<00:00, 19950.17it/s]\n",
      "iterations: 100%|██████████| 1000/1000 [00:00<00:00, 14649.42it/s]\n",
      "iterations:   0%|          | 0/1000 [00:00<?, ?it/s]"
     ]
    },
    {
     "name": "stdout",
     "output_type": "stream",
     "text": [
      "Experiment:  290\n"
     ]
    },
    {
     "name": "stderr",
     "output_type": "stream",
     "text": [
      "iterations: 100%|██████████| 1000/1000 [00:00<00:00, 11988.52it/s]\n",
      "iterations: 100%|██████████| 1000/1000 [00:00<00:00, 15107.31it/s]\n",
      "iterations: 100%|██████████| 1000/1000 [00:00<00:00, 9196.64it/s]\n",
      "iterations:   0%|          | 0/1000 [00:00<?, ?it/s]"
     ]
    },
    {
     "name": "stdout",
     "output_type": "stream",
     "text": [
      "Experiment:  291\n"
     ]
    },
    {
     "name": "stderr",
     "output_type": "stream",
     "text": [
      "iterations: 100%|██████████| 1000/1000 [00:00<00:00, 7495.92it/s]\n",
      "iterations: 100%|██████████| 1000/1000 [00:00<00:00, 15359.03it/s]\n",
      "iterations: 100%|██████████| 1000/1000 [00:00<00:00, 13926.05it/s]\n",
      "iterations:   0%|          | 0/1000 [00:00<?, ?it/s]"
     ]
    },
    {
     "name": "stdout",
     "output_type": "stream",
     "text": [
      "Experiment:  292\n"
     ]
    },
    {
     "name": "stderr",
     "output_type": "stream",
     "text": [
      "iterations: 100%|██████████| 1000/1000 [00:00<00:00, 9226.63it/s]\n",
      "iterations: 100%|██████████| 1000/1000 [00:00<00:00, 9101.18it/s]\n",
      "iterations:   0%|          | 0/1000 [00:00<?, ?it/s]"
     ]
    },
    {
     "name": "stdout",
     "output_type": "stream",
     "text": [
      "Experiment:  293\n"
     ]
    },
    {
     "name": "stderr",
     "output_type": "stream",
     "text": [
      "iterations: 100%|██████████| 1000/1000 [00:00<00:00, 9174.13it/s]\n",
      "iterations: 100%|██████████| 1000/1000 [00:00<00:00, 10576.29it/s]\n",
      "iterations: 100%|██████████| 1000/1000 [00:00<00:00, 16592.05it/s]\n",
      "iterations: 100%|██████████| 1000/1000 [00:00<00:00, 12141.36it/s]\n",
      "iterations:   0%|          | 0/1000 [00:00<?, ?it/s]"
     ]
    },
    {
     "name": "stdout",
     "output_type": "stream",
     "text": [
      "Experiment:  294\n"
     ]
    },
    {
     "name": "stderr",
     "output_type": "stream",
     "text": [
      "iterations: 100%|██████████| 1000/1000 [00:00<00:00, 6648.98it/s]\n",
      "iterations: 100%|██████████| 1000/1000 [00:00<00:00, 17493.03it/s]\n",
      "iterations: 100%|██████████| 1000/1000 [00:00<00:00, 14869.20it/s]\n",
      "iterations:   0%|          | 0/1000 [00:00<?, ?it/s]"
     ]
    },
    {
     "name": "stdout",
     "output_type": "stream",
     "text": [
      "Experiment:  295\n"
     ]
    },
    {
     "name": "stderr",
     "output_type": "stream",
     "text": [
      "iterations: 100%|██████████| 1000/1000 [00:00<00:00, 11350.87it/s]\n",
      "iterations: 100%|██████████| 1000/1000 [00:00<00:00, 13445.91it/s]\n",
      "iterations: 100%|██████████| 1000/1000 [00:00<00:00, 13689.83it/s]\n",
      "iterations:   0%|          | 0/1000 [00:00<?, ?it/s]"
     ]
    },
    {
     "name": "stdout",
     "output_type": "stream",
     "text": [
      "Experiment:  296\n"
     ]
    },
    {
     "name": "stderr",
     "output_type": "stream",
     "text": [
      "iterations: 100%|██████████| 1000/1000 [00:00<00:00, 9327.58it/s]\n",
      "iterations: 100%|██████████| 1000/1000 [00:00<00:00, 14249.09it/s]\n",
      "iterations: 100%|██████████| 1000/1000 [00:00<00:00, 13048.52it/s]\n",
      "iterations:   0%|          | 0/1000 [00:00<?, ?it/s]"
     ]
    },
    {
     "name": "stdout",
     "output_type": "stream",
     "text": [
      "Experiment:  297\n"
     ]
    },
    {
     "name": "stderr",
     "output_type": "stream",
     "text": [
      "iterations: 100%|██████████| 1000/1000 [00:00<00:00, 13961.42it/s]\n",
      "iterations: 100%|██████████| 1000/1000 [00:00<00:00, 21622.58it/s]\n",
      "iterations: 100%|██████████| 1000/1000 [00:00<00:00, 18799.52it/s]\n",
      "iterations: 100%|██████████| 1000/1000 [00:00<00:00, 14521.60it/s]\n",
      "iterations:   0%|          | 0/1000 [00:00<?, ?it/s]"
     ]
    },
    {
     "name": "stdout",
     "output_type": "stream",
     "text": [
      "Experiment:  298\n",
      "Experiment:  299\n"
     ]
    },
    {
     "name": "stderr",
     "output_type": "stream",
     "text": [
      "iterations: 100%|██████████| 1000/1000 [00:00<00:00, 19817.73it/s]\n",
      "iterations: 100%|██████████| 1000/1000 [00:00<00:00, 16005.62it/s]\n",
      "iterations: 100%|██████████| 1000/1000 [00:00<00:00, 15205.18it/s]\n",
      "iterations: 100%|██████████| 1000/1000 [00:00<00:00, 23191.66it/s]\n",
      "iterations: 100%|██████████| 1000/1000 [00:00<00:00, 19820.82it/s]\n",
      "iterations:   0%|          | 0/1000 [00:00<?, ?it/s]"
     ]
    },
    {
     "name": "stdout",
     "output_type": "stream",
     "text": [
      "Experiment:  300\n"
     ]
    },
    {
     "name": "stderr",
     "output_type": "stream",
     "text": [
      "iterations: 100%|██████████| 1000/1000 [00:00<00:00, 7988.74it/s]\n",
      "iterations: 100%|██████████| 1000/1000 [00:00<00:00, 9643.01it/s]\n",
      "iterations:   0%|          | 0/1000 [00:00<?, ?it/s]"
     ]
    },
    {
     "name": "stdout",
     "output_type": "stream",
     "text": [
      "Experiment:  301\n"
     ]
    },
    {
     "name": "stderr",
     "output_type": "stream",
     "text": [
      "iterations: 100%|██████████| 1000/1000 [00:00<00:00, 9120.00it/s]\n",
      "iterations: 100%|██████████| 1000/1000 [00:00<00:00, 7164.91it/s]\n",
      "iterations: 100%|██████████| 1000/1000 [00:00<00:00, 15882.58it/s]\n",
      "iterations: 100%|██████████| 1000/1000 [00:00<00:00, 16830.13it/s]\n",
      "iterations:   0%|          | 0/1000 [00:00<?, ?it/s]"
     ]
    },
    {
     "name": "stdout",
     "output_type": "stream",
     "text": [
      "Experiment:  302\n"
     ]
    },
    {
     "name": "stderr",
     "output_type": "stream",
     "text": [
      "iterations: 100%|██████████| 1000/1000 [00:00<00:00, 11611.01it/s]\n",
      "iterations: 100%|██████████| 1000/1000 [00:00<00:00, 15677.71it/s]\n",
      "iterations: 100%|██████████| 1000/1000 [00:00<00:00, 17410.40it/s]\n",
      "iterations:   0%|          | 0/1000 [00:00<?, ?it/s]"
     ]
    },
    {
     "name": "stdout",
     "output_type": "stream",
     "text": [
      "Experiment:  303\n"
     ]
    },
    {
     "name": "stderr",
     "output_type": "stream",
     "text": [
      "iterations: 100%|██████████| 1000/1000 [00:00<00:00, 14301.02it/s]\n",
      "iterations: 100%|██████████| 1000/1000 [00:00<00:00, 22000.25it/s]\n",
      "iterations: 100%|██████████| 1000/1000 [00:00<00:00, 18461.41it/s]\n",
      "iterations: 100%|██████████| 1000/1000 [00:00<00:00, 15824.82it/s]\n",
      "iterations:   0%|          | 0/1000 [00:00<?, ?it/s]"
     ]
    },
    {
     "name": "stdout",
     "output_type": "stream",
     "text": [
      "Experiment:  304\n",
      "Experiment:  305\n"
     ]
    },
    {
     "name": "stderr",
     "output_type": "stream",
     "text": [
      "iterations: 100%|██████████| 1000/1000 [00:00<00:00, 20325.57it/s]\n",
      "iterations: 100%|██████████| 1000/1000 [00:00<00:00, 18422.33it/s]\n",
      "iterations: 100%|██████████| 1000/1000 [00:00<00:00, 13827.44it/s]\n",
      "iterations: 100%|██████████| 1000/1000 [00:00<00:00, 23704.00it/s]\n",
      "iterations: 100%|██████████| 1000/1000 [00:00<00:00, 15929.63it/s]\n",
      "iterations: 100%|██████████| 1000/1000 [00:00<00:00, 16053.46it/s]\n",
      "iterations:   0%|          | 0/1000 [00:00<?, ?it/s]"
     ]
    },
    {
     "name": "stdout",
     "output_type": "stream",
     "text": [
      "Experiment:  306\n",
      "Experiment:  307\n"
     ]
    },
    {
     "name": "stderr",
     "output_type": "stream",
     "text": [
      "iterations: 100%|██████████| 1000/1000 [00:00<00:00, 19770.28it/s]\n",
      "iterations: 100%|██████████| 1000/1000 [00:00<00:00, 19879.54it/s]\n",
      "iterations: 100%|██████████| 1000/1000 [00:00<00:00, 15128.18it/s]\n",
      "iterations: 100%|██████████| 1000/1000 [00:00<00:00, 21032.73it/s]\n",
      "iterations: 100%|██████████| 1000/1000 [00:00<00:00, 16077.21it/s]\n",
      "iterations: 100%|██████████| 1000/1000 [00:00<00:00, 14629.74it/s]\n",
      "iterations:   0%|          | 0/1000 [00:00<?, ?it/s]"
     ]
    },
    {
     "name": "stdout",
     "output_type": "stream",
     "text": [
      "Experiment:  308\n",
      "Experiment:  309\n"
     ]
    },
    {
     "name": "stderr",
     "output_type": "stream",
     "text": [
      "iterations: 100%|██████████| 1000/1000 [00:00<00:00, 19737.07it/s]\n",
      "iterations: 100%|██████████| 1000/1000 [00:00<00:00, 14280.57it/s]\n",
      "iterations: 100%|██████████| 1000/1000 [00:00<00:00, 13925.82it/s]\n",
      "iterations: 100%|██████████| 1000/1000 [00:00<00:00, 22302.89it/s]\n",
      "iterations: 100%|██████████| 1000/1000 [00:00<00:00, 12520.83it/s]\n",
      "iterations:   0%|          | 0/1000 [00:00<?, ?it/s]"
     ]
    },
    {
     "name": "stdout",
     "output_type": "stream",
     "text": [
      "Experiment:  310\n"
     ]
    },
    {
     "name": "stderr",
     "output_type": "stream",
     "text": [
      "iterations: 100%|██████████| 1000/1000 [00:00<00:00, 10794.82it/s]\n",
      "iterations: 100%|██████████| 1000/1000 [00:00<00:00, 21839.76it/s]\n",
      "iterations: 100%|██████████| 1000/1000 [00:00<00:00, 17203.94it/s]\n",
      "iterations: 100%|██████████| 1000/1000 [00:00<00:00, 12800.51it/s]"
     ]
    },
    {
     "name": "stdout",
     "output_type": "stream",
     "text": [
      "Experiment:  311\n",
      "Experiment: "
     ]
    },
    {
     "name": "stderr",
     "output_type": "stream",
     "text": [
      "\n",
      "iterations: 100%|██████████| 1000/1000 [00:00<00:00, 19969.64it/s]\n",
      "iterations: 100%|██████████| 1000/1000 [00:00<00:00, 16919.88it/s]\n",
      "iterations: 100%|██████████| 1000/1000 [00:00<00:00, 13932.25it/s]\n",
      "iterations:   0%|          | 0/1000 [00:00<?, ?it/s]"
     ]
    },
    {
     "name": "stdout",
     "output_type": "stream",
     "text": [
      " 312\n",
      "Experiment:  313\n"
     ]
    },
    {
     "name": "stderr",
     "output_type": "stream",
     "text": [
      "iterations: 100%|██████████| 1000/1000 [00:00<00:00, 20536.35it/s]\n",
      "iterations: 100%|██████████| 1000/1000 [00:00<00:00, 17130.38it/s]\n",
      "iterations: 100%|██████████| 1000/1000 [00:00<00:00, 12370.46it/s]\n",
      "iterations: 100%|██████████| 1000/1000 [00:00<00:00, 18631.00it/s]\n",
      "iterations: 100%|██████████| 1000/1000 [00:00<00:00, 16177.55it/s]\n",
      "iterations: 100%|██████████| 1000/1000 [00:00<00:00, 13569.85it/s]"
     ]
    },
    {
     "name": "stdout",
     "output_type": "stream",
     "text": [
      "Experiment:  314\n"
     ]
    },
    {
     "name": "stderr",
     "output_type": "stream",
     "text": [
      "\n",
      "iterations: 100%|██████████| 1000/1000 [00:00<00:00, 14088.27it/s]\n",
      "iterations: 100%|██████████| 1000/1000 [00:00<00:00, 12173.03it/s]\n",
      "iterations: 100%|██████████| 1000/1000 [00:00<00:00, 9798.63it/s]\n",
      "iterations: 100%|██████████| 1000/1000 [00:00<00:00, 23004.29it/s]\n",
      "iterations: 100%|██████████| 1000/1000 [00:00<00:00, 13881.76it/s]\n",
      "iterations:   0%|          | 0/1000 [00:00<?, ?it/s]"
     ]
    },
    {
     "name": "stdout",
     "output_type": "stream",
     "text": [
      "Experiment:  315\n",
      "Experiment:  316\n"
     ]
    },
    {
     "name": "stderr",
     "output_type": "stream",
     "text": [
      "iterations: 100%|██████████| 1000/1000 [00:00<00:00, 11978.32it/s]\n",
      "iterations: 100%|██████████| 1000/1000 [00:00<00:00, 19486.00it/s]\n",
      "iterations: 100%|██████████| 1000/1000 [00:00<00:00, 16440.90it/s]\n",
      "iterations:   0%|          | 0/1000 [00:00<?, ?it/s]"
     ]
    },
    {
     "name": "stdout",
     "output_type": "stream",
     "text": [
      "Experiment:  317\n"
     ]
    },
    {
     "name": "stderr",
     "output_type": "stream",
     "text": [
      "iterations: 100%|██████████| 1000/1000 [00:00<00:00, 11571.80it/s]\n",
      "iterations: 100%|██████████| 1000/1000 [00:00<00:00, 17650.05it/s]\n",
      "iterations: 100%|██████████| 1000/1000 [00:00<00:00, 11980.06it/s]\n",
      "iterations:   0%|          | 0/1000 [00:00<?, ?it/s]"
     ]
    },
    {
     "name": "stdout",
     "output_type": "stream",
     "text": [
      "Experiment:  318\n"
     ]
    },
    {
     "name": "stderr",
     "output_type": "stream",
     "text": [
      "iterations: 100%|██████████| 1000/1000 [00:00<00:00, 11583.21it/s]\n",
      "iterations: 100%|██████████| 1000/1000 [00:00<00:00, 21865.60it/s]\n",
      "iterations: 100%|██████████| 1000/1000 [00:00<00:00, 16407.33it/s]\n",
      "iterations: 100%|██████████| 1000/1000 [00:00<00:00, 16242.20it/s]\n",
      "iterations:   0%|          | 0/1000 [00:00<?, ?it/s]"
     ]
    },
    {
     "name": "stdout",
     "output_type": "stream",
     "text": [
      "Experiment:  319\n",
      "Experiment:  320\n"
     ]
    },
    {
     "name": "stderr",
     "output_type": "stream",
     "text": [
      "iterations: 100%|██████████| 1000/1000 [00:00<00:00, 18554.52it/s]\n",
      "iterations: 100%|██████████| 1000/1000 [00:00<00:00, 17364.70it/s]\n",
      "iterations: 100%|██████████| 1000/1000 [00:00<00:00, 16296.47it/s]\n",
      "iterations: 100%|██████████| 1000/1000 [00:00<00:00, 21439.98it/s]\n",
      "iterations: 100%|██████████| 1000/1000 [00:00<00:00, 15651.44it/s]\n",
      "iterations: 100%|██████████| 1000/1000 [00:00<00:00, 15980.49it/s]\n",
      "iterations:   0%|          | 0/1000 [00:00<?, ?it/s]"
     ]
    },
    {
     "name": "stdout",
     "output_type": "stream",
     "text": [
      "Experiment:  321\n",
      "Experiment:  322\n"
     ]
    },
    {
     "name": "stderr",
     "output_type": "stream",
     "text": [
      "iterations: 100%|██████████| 1000/1000 [00:00<00:00, 22162.65it/s]\n",
      "iterations: 100%|██████████| 1000/1000 [00:00<00:00, 14266.19it/s]\n",
      "iterations: 100%|██████████| 1000/1000 [00:00<00:00, 16214.26it/s]\n",
      "iterations: 100%|██████████| 1000/1000 [00:00<00:00, 20512.05it/s]\n",
      "iterations: 100%|██████████| 1000/1000 [00:00<00:00, 13679.70it/s]\n",
      "iterations:   0%|          | 0/1000 [00:00<?, ?it/s]"
     ]
    },
    {
     "name": "stdout",
     "output_type": "stream",
     "text": [
      "Experiment:  323\n"
     ]
    },
    {
     "name": "stderr",
     "output_type": "stream",
     "text": [
      "iterations: 100%|██████████| 1000/1000 [00:00<00:00, 11055.48it/s]\n",
      "iterations: 100%|██████████| 1000/1000 [00:00<00:00, 12642.85it/s]\n",
      "iterations: 100%|██████████| 1000/1000 [00:00<00:00, 13233.12it/s]\n",
      "iterations:   0%|          | 0/1000 [00:00<?, ?it/s]"
     ]
    },
    {
     "name": "stdout",
     "output_type": "stream",
     "text": [
      "Experiment:  324\n"
     ]
    },
    {
     "name": "stderr",
     "output_type": "stream",
     "text": [
      "iterations: 100%|██████████| 1000/1000 [00:00<00:00, 12963.79it/s]\n",
      "iterations: 100%|██████████| 1000/1000 [00:00<00:00, 19262.64it/s]\n",
      "iterations: 100%|██████████| 1000/1000 [00:00<00:00, 14376.07it/s]\n",
      "iterations: 100%|██████████| 1000/1000 [00:00<00:00, 14749.46it/s]\n"
     ]
    },
    {
     "name": "stdout",
     "output_type": "stream",
     "text": [
      "Experiment:  325\n",
      "Experiment:  326\n"
     ]
    },
    {
     "name": "stderr",
     "output_type": "stream",
     "text": [
      "iterations: 100%|██████████| 1000/1000 [00:00<00:00, 19599.83it/s]\n",
      "iterations: 100%|██████████| 1000/1000 [00:00<00:00, 15088.02it/s]\n",
      "iterations: 100%|██████████| 1000/1000 [00:00<00:00, 15336.73it/s]\n",
      "iterations: 100%|██████████| 1000/1000 [00:00<00:00, 18383.25it/s]\n",
      "iterations: 100%|██████████| 1000/1000 [00:00<00:00, 18172.58it/s]\n",
      "iterations:   0%|          | 0/1000 [00:00<?, ?it/s]"
     ]
    },
    {
     "name": "stdout",
     "output_type": "stream",
     "text": [
      "Experiment:  327\n"
     ]
    },
    {
     "name": "stderr",
     "output_type": "stream",
     "text": [
      "iterations: 100%|██████████| 1000/1000 [00:00<00:00, 8254.10it/s]\n",
      "iterations:  65%|██████▌   | 654/1000 [00:00<00:00, 5109.01it/s]"
     ]
    },
    {
     "name": "stdout",
     "output_type": "stream",
     "text": [
      "Experiment:  328\n"
     ]
    },
    {
     "name": "stderr",
     "output_type": "stream",
     "text": [
      "iterations: 100%|██████████| 1000/1000 [00:00<00:00, 3865.41it/s]\n",
      "iterations: 100%|██████████| 1000/1000 [00:00<00:00, 5686.99it/s]\n",
      "iterations: 100%|██████████| 1000/1000 [00:00<00:00, 5639.61it/s]\n",
      "iterations: 100%|██████████| 1000/1000 [00:00<00:00, 11293.41it/s]\n",
      "iterations:  95%|█████████▍| 946/1000 [00:00<00:00, 9456.87it/s]"
     ]
    },
    {
     "name": "stdout",
     "output_type": "stream",
     "text": [
      "Experiment:  329\n"
     ]
    },
    {
     "name": "stderr",
     "output_type": "stream",
     "text": [
      "iterations: 100%|██████████| 1000/1000 [00:00<00:00, 9287.04it/s]\n",
      "iterations: 100%|██████████| 1000/1000 [00:00<00:00, 7797.58it/s]\n",
      "iterations: 100%|██████████| 1000/1000 [00:00<00:00, 16876.79it/s]\n",
      "iterations: 100%|██████████| 1000/1000 [00:00<00:00, 13895.28it/s]\n",
      "iterations:   0%|          | 0/1000 [00:00<?, ?it/s]"
     ]
    },
    {
     "name": "stdout",
     "output_type": "stream",
     "text": [
      "Experiment:  330\n"
     ]
    },
    {
     "name": "stderr",
     "output_type": "stream",
     "text": [
      "iterations: 100%|██████████| 1000/1000 [00:00<00:00, 7239.18it/s]\n",
      "iterations: 100%|██████████| 1000/1000 [00:00<00:00, 13576.61it/s]\n",
      "iterations: 100%|██████████| 1000/1000 [00:00<00:00, 16390.79it/s]\n",
      "iterations:   0%|          | 0/1000 [00:00<?, ?it/s]"
     ]
    },
    {
     "name": "stdout",
     "output_type": "stream",
     "text": [
      "Experiment:  331\n"
     ]
    },
    {
     "name": "stderr",
     "output_type": "stream",
     "text": [
      "iterations: 100%|██████████| 1000/1000 [00:00<00:00, 13331.04it/s]\n",
      "iterations: 100%|██████████| 1000/1000 [00:00<00:00, 21862.19it/s]\n",
      "iterations: 100%|██████████| 1000/1000 [00:00<00:00, 14690.83it/s]\n",
      "iterations:   0%|          | 0/1000 [00:00<?, ?it/s]"
     ]
    },
    {
     "name": "stdout",
     "output_type": "stream",
     "text": [
      "Experiment:  332\n"
     ]
    },
    {
     "name": "stderr",
     "output_type": "stream",
     "text": [
      "iterations: 100%|██████████| 1000/1000 [00:00<00:00, 8187.31it/s]\n",
      "iterations: 100%|██████████| 1000/1000 [00:00<00:00, 18782.93it/s]\n",
      "iterations: 100%|██████████| 1000/1000 [00:00<00:00, 14540.33it/s]\n",
      "iterations:   0%|          | 0/1000 [00:00<?, ?it/s]"
     ]
    },
    {
     "name": "stdout",
     "output_type": "stream",
     "text": [
      "Experiment:  333\n"
     ]
    },
    {
     "name": "stderr",
     "output_type": "stream",
     "text": [
      "iterations: 100%|██████████| 1000/1000 [00:00<00:00, 8262.21it/s]\n",
      "iterations: 100%|██████████| 1000/1000 [00:00<00:00, 19662.95it/s]\n",
      "iterations: 100%|██████████| 1000/1000 [00:00<00:00, 7592.15it/s]\n",
      "iterations:   0%|          | 0/1000 [00:00<?, ?it/s]"
     ]
    },
    {
     "name": "stdout",
     "output_type": "stream",
     "text": [
      "Experiment:  334\n"
     ]
    },
    {
     "name": "stderr",
     "output_type": "stream",
     "text": [
      "iterations: 100%|██████████| 1000/1000 [00:00<00:00, 2970.27it/s]\n",
      "iterations: 100%|██████████| 1000/1000 [00:00<00:00, 13930.12it/s]\n",
      "iterations: 100%|██████████| 1000/1000 [00:00<00:00, 12077.93it/s]\n",
      "iterations:   0%|          | 0/1000 [00:00<?, ?it/s]"
     ]
    },
    {
     "name": "stdout",
     "output_type": "stream",
     "text": [
      "Experiment:  335\n"
     ]
    },
    {
     "name": "stderr",
     "output_type": "stream",
     "text": [
      "iterations: 100%|██████████| 1000/1000 [00:00<00:00, 14904.92it/s]\n",
      "iterations: 100%|██████████| 1000/1000 [00:00<00:00, 24899.70it/s]\n",
      "iterations: 100%|██████████| 1000/1000 [00:00<00:00, 20261.85it/s]\n",
      "iterations: 100%|██████████| 1000/1000 [00:00<00:00, 15512.80it/s]\n",
      "iterations:   0%|          | 0/1000 [00:00<?, ?it/s]"
     ]
    },
    {
     "name": "stdout",
     "output_type": "stream",
     "text": [
      "Experiment:  336\n",
      "Experiment:  337\n"
     ]
    },
    {
     "name": "stderr",
     "output_type": "stream",
     "text": [
      "iterations: 100%|██████████| 1000/1000 [00:00<00:00, 21489.64it/s]\n",
      "iterations: 100%|██████████| 1000/1000 [00:00<00:00, 16496.77it/s]\n",
      "iterations: 100%|██████████| 1000/1000 [00:00<00:00, 13084.38it/s]\n",
      "iterations: 100%|██████████| 1000/1000 [00:00<00:00, 20309.14it/s]\n",
      "iterations: 100%|██████████| 1000/1000 [00:00<00:00, 17344.81it/s]\n",
      "iterations: 100%|██████████| 1000/1000 [00:00<00:00, 13991.13it/s]\n",
      "iterations:   0%|          | 0/1000 [00:00<?, ?it/s]"
     ]
    },
    {
     "name": "stdout",
     "output_type": "stream",
     "text": [
      "Experiment:  338\n",
      "Experiment:  339\n"
     ]
    },
    {
     "name": "stderr",
     "output_type": "stream",
     "text": [
      "iterations: 100%|██████████| 1000/1000 [00:00<00:00, 17080.29it/s]\n",
      "iterations: 100%|██████████| 1000/1000 [00:00<00:00, 17116.53it/s]\n",
      "iterations: 100%|██████████| 1000/1000 [00:00<00:00, 14419.66it/s]\n",
      "iterations: 100%|██████████| 1000/1000 [00:00<00:00, 20668.42it/s]\n",
      "iterations: 100%|██████████| 1000/1000 [00:00<00:00, 16733.64it/s]\n",
      "iterations: 100%|██████████| 1000/1000 [00:00<00:00, 15473.14it/s]\n",
      "iterations:   0%|          | 0/1000 [00:00<?, ?it/s]"
     ]
    },
    {
     "name": "stdout",
     "output_type": "stream",
     "text": [
      "Experiment:  340\n",
      "Experiment:  341\n"
     ]
    },
    {
     "name": "stderr",
     "output_type": "stream",
     "text": [
      "iterations: 100%|██████████| 1000/1000 [00:00<00:00, 20999.97it/s]\n",
      "iterations: 100%|██████████| 1000/1000 [00:00<00:00, 16917.84it/s]\n",
      "iterations: 100%|██████████| 1000/1000 [00:00<00:00, 16366.87it/s]\n",
      "iterations: 100%|██████████| 1000/1000 [00:00<00:00, 14622.20it/s]\n",
      "iterations: 100%|██████████| 1000/1000 [00:00<00:00, 12303.33it/s]\n",
      "iterations:   0%|          | 0/1000 [00:00<?, ?it/s]"
     ]
    },
    {
     "name": "stdout",
     "output_type": "stream",
     "text": [
      "Experiment:  342\n"
     ]
    },
    {
     "name": "stderr",
     "output_type": "stream",
     "text": [
      "iterations: 100%|██████████| 1000/1000 [00:00<00:00, 11693.04it/s]\n",
      "iterations: 100%|██████████| 1000/1000 [00:00<00:00, 20434.40it/s]\n",
      "iterations: 100%|██████████| 1000/1000 [00:00<00:00, 14369.22it/s]\n",
      "iterations: 100%|██████████| 1000/1000 [00:00<00:00, 15004.41it/s]\n",
      "iterations:   0%|          | 0/1000 [00:00<?, ?it/s]"
     ]
    },
    {
     "name": "stdout",
     "output_type": "stream",
     "text": [
      "Experiment:  343\n",
      "Experiment:  344\n"
     ]
    },
    {
     "name": "stderr",
     "output_type": "stream",
     "text": [
      "iterations: 100%|██████████| 1000/1000 [00:00<00:00, 18870.40it/s]\n",
      "iterations: 100%|██████████| 1000/1000 [00:00<00:00, 16537.68it/s]\n",
      "iterations: 100%|██████████| 1000/1000 [00:00<00:00, 11709.20it/s]\n",
      "iterations:  68%|██████▊   | 683/1000 [00:00<00:00, 6652.00it/s]"
     ]
    },
    {
     "name": "stdout",
     "output_type": "stream",
     "text": [
      "Experiment:  345\n"
     ]
    },
    {
     "name": "stderr",
     "output_type": "stream",
     "text": [
      "iterations: 100%|██████████| 1000/1000 [00:00<00:00, 4448.56it/s]\n",
      "iterations: 100%|██████████| 1000/1000 [00:00<00:00, 2985.66it/s]\n",
      "iterations: 100%|██████████| 1000/1000 [00:00<00:00, 3382.89it/s]\n",
      "iterations: 100%|██████████| 1000/1000 [00:00<00:00, 12787.40it/s]\n",
      "iterations: 100%|██████████| 1000/1000 [00:00<00:00, 9096.36it/s]\n",
      "iterations:   0%|          | 0/1000 [00:00<?, ?it/s]"
     ]
    },
    {
     "name": "stdout",
     "output_type": "stream",
     "text": [
      "Experiment:  346\n"
     ]
    },
    {
     "name": "stderr",
     "output_type": "stream",
     "text": [
      "iterations: 100%|██████████| 1000/1000 [00:00<00:00, 9570.27it/s]\n",
      "iterations: 100%|██████████| 1000/1000 [00:00<00:00, 17632.31it/s]\n",
      "iterations: 100%|██████████| 1000/1000 [00:00<00:00, 7754.41it/s]\n",
      "iterations:   0%|          | 0/1000 [00:00<?, ?it/s]"
     ]
    },
    {
     "name": "stdout",
     "output_type": "stream",
     "text": [
      "Experiment:  347\n"
     ]
    },
    {
     "name": "stderr",
     "output_type": "stream",
     "text": [
      "iterations: 100%|██████████| 1000/1000 [00:00<00:00, 6099.90it/s]\n",
      "iterations: 100%|██████████| 1000/1000 [00:00<00:00, 12394.33it/s]\n",
      "iterations:  71%|███████▏  | 713/1000 [00:00<00:00, 7110.38it/s]"
     ]
    },
    {
     "name": "stdout",
     "output_type": "stream",
     "text": [
      "Experiment:  348\n"
     ]
    },
    {
     "name": "stderr",
     "output_type": "stream",
     "text": [
      "iterations: 100%|██████████| 1000/1000 [00:00<00:00, 7445.07it/s]\n",
      "iterations: 100%|██████████| 1000/1000 [00:00<00:00, 8530.82it/s]\n",
      "iterations: 100%|██████████| 1000/1000 [00:00<00:00, 7898.77it/s]\n",
      "iterations:   0%|          | 0/1000 [00:00<?, ?it/s]"
     ]
    },
    {
     "name": "stdout",
     "output_type": "stream",
     "text": [
      "Experiment:  349\n"
     ]
    },
    {
     "name": "stderr",
     "output_type": "stream",
     "text": [
      "iterations: 100%|██████████| 1000/1000 [00:00<00:00, 6030.02it/s]\n",
      "iterations: 100%|██████████| 1000/1000 [00:00<00:00, 4611.87it/s]\n",
      "iterations: 100%|██████████| 1000/1000 [00:00<00:00, 11277.92it/s]\n",
      "iterations:  75%|███████▌  | 754/1000 [00:00<00:00, 7539.45it/s]"
     ]
    },
    {
     "name": "stdout",
     "output_type": "stream",
     "text": [
      "Experiment:  350\n"
     ]
    },
    {
     "name": "stderr",
     "output_type": "stream",
     "text": [
      "iterations: 100%|██████████| 1000/1000 [00:00<00:00, 8134.83it/s]\n",
      "iterations: 100%|██████████| 1000/1000 [00:00<00:00, 8669.57it/s]\n",
      "iterations: 100%|██████████| 1000/1000 [00:00<00:00, 14878.17it/s]\n",
      "iterations:   0%|          | 0/1000 [00:00<?, ?it/s]"
     ]
    },
    {
     "name": "stdout",
     "output_type": "stream",
     "text": [
      "Experiment:  351\n"
     ]
    },
    {
     "name": "stderr",
     "output_type": "stream",
     "text": [
      "iterations: 100%|██████████| 1000/1000 [00:00<00:00, 8150.37it/s]\n",
      "iterations: 100%|██████████| 1000/1000 [00:00<00:00, 4251.09it/s]\n",
      "iterations: 100%|██████████| 1000/1000 [00:00<00:00, 6646.85it/s]\n",
      "iterations:   0%|          | 0/1000 [00:00<?, ?it/s]"
     ]
    },
    {
     "name": "stdout",
     "output_type": "stream",
     "text": [
      "Experiment:  352\n"
     ]
    },
    {
     "name": "stderr",
     "output_type": "stream",
     "text": [
      "iterations: 100%|██████████| 1000/1000 [00:00<00:00, 7656.49it/s]\n",
      "iterations: 100%|██████████| 1000/1000 [00:00<00:00, 11040.20it/s]\n",
      "iterations: 100%|██████████| 1000/1000 [00:00<00:00, 15398.16it/s]\n",
      "iterations: 100%|██████████| 1000/1000 [00:00<00:00, 12563.29it/s]\n",
      "iterations:   0%|          | 0/1000 [00:00<?, ?it/s]"
     ]
    },
    {
     "name": "stdout",
     "output_type": "stream",
     "text": [
      "Experiment:  353\n"
     ]
    },
    {
     "name": "stderr",
     "output_type": "stream",
     "text": [
      "iterations: 100%|██████████| 1000/1000 [00:00<00:00, 10451.84it/s]\n",
      "iterations: 100%|██████████| 1000/1000 [00:00<00:00, 10117.14it/s]\n",
      "iterations: 100%|██████████| 1000/1000 [00:00<00:00, 13631.41it/s]\n",
      "iterations:   0%|          | 0/1000 [00:00<?, ?it/s]"
     ]
    },
    {
     "name": "stdout",
     "output_type": "stream",
     "text": [
      "Experiment:  354\n"
     ]
    },
    {
     "name": "stderr",
     "output_type": "stream",
     "text": [
      "iterations: 100%|██████████| 1000/1000 [00:00<00:00, 4505.82it/s]\n",
      "iterations: 100%|██████████| 1000/1000 [00:00<00:00, 8465.10it/s]\n",
      "iterations:   0%|          | 0/1000 [00:00<?, ?it/s]"
     ]
    },
    {
     "name": "stdout",
     "output_type": "stream",
     "text": [
      "Experiment:  355\n"
     ]
    },
    {
     "name": "stderr",
     "output_type": "stream",
     "text": [
      "iterations: 100%|██████████| 1000/1000 [00:00<00:00, 11390.94it/s]\n",
      "iterations: 100%|██████████| 1000/1000 [00:00<00:00, 12568.82it/s]\n",
      "iterations: 100%|██████████| 1000/1000 [00:00<00:00, 16891.95it/s]\n",
      "iterations: 100%|██████████| 1000/1000 [00:00<00:00, 14135.66it/s]\n",
      "iterations:   0%|          | 0/1000 [00:00<?, ?it/s]"
     ]
    },
    {
     "name": "stdout",
     "output_type": "stream",
     "text": [
      "Experiment:  356\n"
     ]
    },
    {
     "name": "stderr",
     "output_type": "stream",
     "text": [
      "iterations: 100%|██████████| 1000/1000 [00:00<00:00, 12056.93it/s]\n",
      "iterations: 100%|██████████| 1000/1000 [00:00<00:00, 18669.98it/s]\n",
      "iterations:  76%|███████▌  | 757/1000 [00:00<00:00, 7569.47it/s]"
     ]
    },
    {
     "name": "stdout",
     "output_type": "stream",
     "text": [
      "Experiment:  357\n"
     ]
    },
    {
     "name": "stderr",
     "output_type": "stream",
     "text": [
      "iterations: 100%|██████████| 1000/1000 [00:00<00:00, 7313.89it/s]\n",
      "iterations: 100%|██████████| 1000/1000 [00:00<00:00, 10991.19it/s]\n",
      "iterations: 100%|██████████| 1000/1000 [00:00<00:00, 19795.28it/s]\n",
      "iterations: 100%|██████████| 1000/1000 [00:00<00:00, 12468.69it/s]\n",
      "iterations:   0%|          | 0/1000 [00:00<?, ?it/s]"
     ]
    },
    {
     "name": "stdout",
     "output_type": "stream",
     "text": [
      "Experiment:  358\n"
     ]
    },
    {
     "name": "stderr",
     "output_type": "stream",
     "text": [
      "iterations: 100%|██████████| 1000/1000 [00:00<00:00, 7904.52it/s]\n",
      "iterations: 100%|██████████| 1000/1000 [00:00<00:00, 18063.79it/s]\n",
      "iterations: 100%|██████████| 1000/1000 [00:00<00:00, 12843.39it/s]\n",
      "iterations:   0%|          | 0/1000 [00:00<?, ?it/s]"
     ]
    },
    {
     "name": "stdout",
     "output_type": "stream",
     "text": [
      "Experiment:  359\n"
     ]
    },
    {
     "name": "stderr",
     "output_type": "stream",
     "text": [
      "iterations: 100%|██████████| 1000/1000 [00:00<00:00, 9972.38it/s]\n",
      "iterations: 100%|██████████| 1000/1000 [00:00<00:00, 18330.87it/s]\n",
      "iterations: 100%|██████████| 1000/1000 [00:00<00:00, 13545.92it/s]\n",
      "iterations:   0%|          | 0/1000 [00:00<?, ?it/s]"
     ]
    },
    {
     "name": "stdout",
     "output_type": "stream",
     "text": [
      "Experiment:  360\n"
     ]
    },
    {
     "name": "stderr",
     "output_type": "stream",
     "text": [
      "iterations: 100%|██████████| 1000/1000 [00:00<00:00, 11956.87it/s]\n",
      "iterations: 100%|██████████| 1000/1000 [00:00<00:00, 16690.82it/s]\n",
      "iterations: 100%|██████████| 1000/1000 [00:00<00:00, 14367.20it/s]\n",
      "iterations:   0%|          | 0/1000 [00:00<?, ?it/s]"
     ]
    },
    {
     "name": "stdout",
     "output_type": "stream",
     "text": [
      "Experiment:  361\n"
     ]
    },
    {
     "name": "stderr",
     "output_type": "stream",
     "text": [
      "iterations: 100%|██████████| 1000/1000 [00:00<00:00, 11109.62it/s]\n",
      "iterations: 100%|██████████| 1000/1000 [00:00<00:00, 18395.26it/s]\n",
      "iterations: 100%|██████████| 1000/1000 [00:00<00:00, 10858.11it/s]\n",
      "iterations:   0%|          | 0/1000 [00:00<?, ?it/s]"
     ]
    },
    {
     "name": "stdout",
     "output_type": "stream",
     "text": [
      "Experiment:  362\n"
     ]
    },
    {
     "name": "stderr",
     "output_type": "stream",
     "text": [
      "iterations: 100%|██████████| 1000/1000 [00:00<00:00, 4711.23it/s]\n",
      "iterations:  55%|█████▌    | 554/1000 [00:00<00:00, 5534.86it/s]"
     ]
    },
    {
     "name": "stdout",
     "output_type": "stream",
     "text": [
      "Experiment:  363\n"
     ]
    },
    {
     "name": "stderr",
     "output_type": "stream",
     "text": [
      "iterations: 100%|██████████| 1000/1000 [00:00<00:00, 4119.36it/s]\n",
      "iterations: 100%|██████████| 1000/1000 [00:00<00:00, 4613.06it/s]\n",
      "iterations: 100%|██████████| 1000/1000 [00:00<00:00, 4464.49it/s]\n",
      "iterations: 100%|██████████| 1000/1000 [00:00<00:00, 15077.07it/s]\n",
      "iterations: 100%|██████████| 1000/1000 [00:00<00:00, 13227.49it/s]\n",
      "iterations:   0%|          | 0/1000 [00:00<?, ?it/s]"
     ]
    },
    {
     "name": "stdout",
     "output_type": "stream",
     "text": [
      "Experiment:  364\n"
     ]
    },
    {
     "name": "stderr",
     "output_type": "stream",
     "text": [
      "iterations: 100%|██████████| 1000/1000 [00:00<00:00, 12858.74it/s]\n",
      "iterations: 100%|██████████| 1000/1000 [00:00<00:00, 18924.72it/s]\n",
      "iterations: 100%|██████████| 1000/1000 [00:00<00:00, 15154.97it/s]\n",
      "iterations:   0%|          | 0/1000 [00:00<?, ?it/s]"
     ]
    },
    {
     "name": "stdout",
     "output_type": "stream",
     "text": [
      "Experiment:  365\n"
     ]
    },
    {
     "name": "stderr",
     "output_type": "stream",
     "text": [
      "iterations: 100%|██████████| 1000/1000 [00:00<00:00, 12602.09it/s]\n",
      "iterations: 100%|██████████| 1000/1000 [00:00<00:00, 19009.29it/s]\n",
      "iterations: 100%|██████████| 1000/1000 [00:00<00:00, 13924.62it/s]\n",
      "iterations:   0%|          | 0/1000 [00:00<?, ?it/s]"
     ]
    },
    {
     "name": "stdout",
     "output_type": "stream",
     "text": [
      "Experiment:  366\n"
     ]
    },
    {
     "name": "stderr",
     "output_type": "stream",
     "text": [
      "iterations: 100%|██████████| 1000/1000 [00:00<00:00, 11155.24it/s]\n",
      "iterations: 100%|██████████| 1000/1000 [00:00<00:00, 16559.30it/s]\n",
      "iterations: 100%|██████████| 1000/1000 [00:00<00:00, 14511.86it/s]\n",
      "iterations:   0%|          | 0/1000 [00:00<?, ?it/s]"
     ]
    },
    {
     "name": "stdout",
     "output_type": "stream",
     "text": [
      "Experiment:  367\n"
     ]
    },
    {
     "name": "stderr",
     "output_type": "stream",
     "text": [
      "iterations: 100%|██████████| 1000/1000 [00:00<00:00, 10213.17it/s]\n",
      "iterations: 100%|██████████| 1000/1000 [00:00<00:00, 12049.52it/s]\n",
      "iterations: 100%|██████████| 1000/1000 [00:00<00:00, 10438.21it/s]\n",
      "iterations:   0%|          | 0/1000 [00:00<?, ?it/s]"
     ]
    },
    {
     "name": "stdout",
     "output_type": "stream",
     "text": [
      "Experiment:  368\n"
     ]
    },
    {
     "name": "stderr",
     "output_type": "stream",
     "text": [
      "iterations: 100%|██████████| 1000/1000 [00:00<00:00, 12608.46it/s]\n",
      "iterations: 100%|██████████| 1000/1000 [00:00<00:00, 19222.64it/s]\n",
      "iterations: 100%|██████████| 1000/1000 [00:00<00:00, 15246.69it/s]\n",
      "iterations:   0%|          | 0/1000 [00:00<?, ?it/s]"
     ]
    },
    {
     "name": "stdout",
     "output_type": "stream",
     "text": [
      "Experiment:  369\n"
     ]
    },
    {
     "name": "stderr",
     "output_type": "stream",
     "text": [
      "iterations: 100%|██████████| 1000/1000 [00:00<00:00, 11187.17it/s]\n",
      "iterations: 100%|██████████| 1000/1000 [00:00<00:00, 18882.88it/s]\n",
      "iterations: 100%|██████████| 1000/1000 [00:00<00:00, 14034.06it/s]\n",
      "iterations:   0%|          | 0/1000 [00:00<?, ?it/s]"
     ]
    },
    {
     "name": "stdout",
     "output_type": "stream",
     "text": [
      "Experiment:  370\n"
     ]
    },
    {
     "name": "stderr",
     "output_type": "stream",
     "text": [
      "iterations: 100%|██████████| 1000/1000 [00:00<00:00, 13104.25it/s]\n",
      "iterations: 100%|██████████| 1000/1000 [00:00<00:00, 20830.81it/s]\n",
      "iterations: 100%|██████████| 1000/1000 [00:00<00:00, 17727.33it/s]\n",
      "iterations: 100%|██████████| 1000/1000 [00:00<00:00, 13617.07it/s]\n",
      "iterations:   0%|          | 0/1000 [00:00<?, ?it/s]"
     ]
    },
    {
     "name": "stdout",
     "output_type": "stream",
     "text": [
      "Experiment:  371\n",
      "Experiment:  372\n"
     ]
    },
    {
     "name": "stderr",
     "output_type": "stream",
     "text": [
      "iterations: 100%|██████████| 1000/1000 [00:00<00:00, 8905.27it/s]\n",
      "iterations: 100%|██████████| 1000/1000 [00:00<00:00, 6733.47it/s]\n",
      "iterations: 100%|██████████| 1000/1000 [00:00<00:00, 12132.82it/s]\n",
      "iterations: 100%|██████████| 1000/1000 [00:00<00:00, 21714.59it/s]\n",
      "iterations: 100%|██████████| 1000/1000 [00:00<00:00, 15243.87it/s]\n",
      "iterations: 100%|██████████| 1000/1000 [00:00<00:00, 12545.48it/s]"
     ]
    },
    {
     "name": "stdout",
     "output_type": "stream",
     "text": [
      "Experiment:  373\n"
     ]
    },
    {
     "name": "stderr",
     "output_type": "stream",
     "text": [
      "\n",
      "iterations: 100%|██████████| 1000/1000 [00:00<00:00, 21257.11it/s]\n",
      "iterations: 100%|██████████| 1000/1000 [00:00<00:00, 17046.21it/s]\n",
      "iterations: 100%|██████████| 1000/1000 [00:00<00:00, 14215.23it/s]\n",
      "iterations:   0%|          | 0/1000 [00:00<?, ?it/s]"
     ]
    },
    {
     "name": "stdout",
     "output_type": "stream",
     "text": [
      "Experiment:  374\n",
      "Experiment:  375\n"
     ]
    },
    {
     "name": "stderr",
     "output_type": "stream",
     "text": [
      "iterations: 100%|██████████| 1000/1000 [00:00<00:00, 19856.20it/s]\n",
      "iterations: 100%|██████████| 1000/1000 [00:00<00:00, 11480.05it/s]\n",
      "iterations: 100%|██████████| 1000/1000 [00:00<00:00, 13987.40it/s]\n",
      "iterations: 100%|██████████| 1000/1000 [00:00<00:00, 19881.61it/s]\n",
      "iterations: 100%|██████████| 1000/1000 [00:00<00:00, 16758.58it/s]\n",
      "iterations: 100%|██████████| 1000/1000 [00:00<00:00, 13459.11it/s]\n",
      "iterations:   0%|          | 0/1000 [00:00<?, ?it/s]"
     ]
    },
    {
     "name": "stdout",
     "output_type": "stream",
     "text": [
      "Experiment:  376\n",
      "Experiment:  377\n"
     ]
    },
    {
     "name": "stderr",
     "output_type": "stream",
     "text": [
      "iterations: 100%|██████████| 1000/1000 [00:00<00:00, 19463.85it/s]\n",
      "iterations: 100%|██████████| 1000/1000 [00:00<00:00, 16277.88it/s]\n",
      "iterations: 100%|██████████| 1000/1000 [00:00<00:00, 10786.90it/s]\n",
      "iterations: 100%|██████████| 1000/1000 [00:00<00:00, 18627.19it/s]\n",
      "iterations: 100%|██████████| 1000/1000 [00:00<00:00, 15134.08it/s]\n",
      "iterations:   0%|          | 0/1000 [00:00<?, ?it/s]"
     ]
    },
    {
     "name": "stdout",
     "output_type": "stream",
     "text": [
      "Experiment:  378\n"
     ]
    },
    {
     "name": "stderr",
     "output_type": "stream",
     "text": [
      "iterations: 100%|██████████| 1000/1000 [00:00<00:00, 11033.17it/s]\n",
      "iterations: 100%|██████████| 1000/1000 [00:00<00:00, 20799.61it/s]\n",
      "iterations: 100%|██████████| 1000/1000 [00:00<00:00, 16469.56it/s]\n",
      "iterations: 100%|██████████| 1000/1000 [00:00<00:00, 12237.67it/s]\n"
     ]
    },
    {
     "name": "stdout",
     "output_type": "stream",
     "text": [
      "Experiment:  379\n",
      "Experiment:  380\n"
     ]
    },
    {
     "name": "stderr",
     "output_type": "stream",
     "text": [
      "iterations: 100%|██████████| 1000/1000 [00:00<00:00, 21361.58it/s]\n",
      "iterations: 100%|██████████| 1000/1000 [00:00<00:00, 16138.21it/s]\n",
      "iterations: 100%|██████████| 1000/1000 [00:00<00:00, 13550.64it/s]\n",
      "iterations: 100%|██████████| 1000/1000 [00:00<00:00, 14531.87it/s]\n",
      "iterations: 100%|██████████| 1000/1000 [00:00<00:00, 13676.31it/s]\n",
      "iterations:   0%|          | 0/1000 [00:00<?, ?it/s]"
     ]
    },
    {
     "name": "stdout",
     "output_type": "stream",
     "text": [
      "Experiment:  381\n"
     ]
    },
    {
     "name": "stderr",
     "output_type": "stream",
     "text": [
      "iterations: 100%|██████████| 1000/1000 [00:00<00:00, 11471.57it/s]\n",
      "iterations: 100%|██████████| 1000/1000 [00:00<00:00, 14683.62it/s]\n",
      "iterations: 100%|██████████| 1000/1000 [00:00<00:00, 16799.86it/s]\n",
      "iterations:   0%|          | 0/1000 [00:00<?, ?it/s]"
     ]
    },
    {
     "name": "stdout",
     "output_type": "stream",
     "text": [
      "Experiment:  382\n"
     ]
    },
    {
     "name": "stderr",
     "output_type": "stream",
     "text": [
      "iterations: 100%|██████████| 1000/1000 [00:00<00:00, 13824.57it/s]\n",
      "iterations: 100%|██████████| 1000/1000 [00:00<00:00, 20274.48it/s]\n",
      "iterations: 100%|██████████| 1000/1000 [00:00<00:00, 15549.95it/s]\n",
      "iterations: 100%|██████████| 1000/1000 [00:00<00:00, 13906.11it/s]\n",
      "iterations:   0%|          | 0/1000 [00:00<?, ?it/s]"
     ]
    },
    {
     "name": "stdout",
     "output_type": "stream",
     "text": [
      "Experiment:  383\n",
      "Experiment:  384\n"
     ]
    },
    {
     "name": "stderr",
     "output_type": "stream",
     "text": [
      "iterations: 100%|██████████| 1000/1000 [00:00<00:00, 20353.78it/s]\n",
      "iterations: 100%|██████████| 1000/1000 [00:00<00:00, 13771.10it/s]\n",
      "iterations: 100%|██████████| 1000/1000 [00:00<00:00, 14112.92it/s]\n",
      "iterations: 100%|██████████| 1000/1000 [00:00<00:00, 22283.10it/s]\n",
      "iterations: 100%|██████████| 1000/1000 [00:00<00:00, 17146.20it/s]\n",
      "iterations:   0%|          | 0/1000 [00:00<?, ?it/s]"
     ]
    },
    {
     "name": "stdout",
     "output_type": "stream",
     "text": [
      "Experiment:  385\n"
     ]
    },
    {
     "name": "stderr",
     "output_type": "stream",
     "text": [
      "iterations: 100%|██████████| 1000/1000 [00:00<00:00, 7067.14it/s]\n",
      "iterations: 100%|██████████| 1000/1000 [00:00<00:00, 9223.30it/s]\n",
      "iterations: 100%|██████████| 1000/1000 [00:00<00:00, 15558.60it/s]\n",
      "iterations:   0%|          | 0/1000 [00:00<?, ?it/s]"
     ]
    },
    {
     "name": "stdout",
     "output_type": "stream",
     "text": [
      "Experiment:  386\n"
     ]
    },
    {
     "name": "stderr",
     "output_type": "stream",
     "text": [
      "iterations: 100%|██████████| 1000/1000 [00:00<00:00, 11482.75it/s]\n",
      "iterations: 100%|██████████| 1000/1000 [00:00<00:00, 20111.07it/s]\n",
      "iterations: 100%|██████████| 1000/1000 [00:00<00:00, 17694.72it/s]\n",
      "iterations:   0%|          | 0/1000 [00:00<?, ?it/s]"
     ]
    },
    {
     "name": "stdout",
     "output_type": "stream",
     "text": [
      "Experiment:  387\n"
     ]
    },
    {
     "name": "stderr",
     "output_type": "stream",
     "text": [
      "iterations: 100%|██████████| 1000/1000 [00:00<00:00, 10504.98it/s]\n",
      "iterations: 100%|██████████| 1000/1000 [00:00<00:00, 18088.41it/s]\n",
      "iterations: 100%|██████████| 1000/1000 [00:00<00:00, 7780.04it/s]\n"
     ]
    },
    {
     "name": "stdout",
     "output_type": "stream",
     "text": [
      "Experiment:  388\n"
     ]
    },
    {
     "name": "stderr",
     "output_type": "stream",
     "text": [
      "iterations: 100%|██████████| 1000/1000 [00:00<00:00, 10198.87it/s]\n",
      "iterations: 100%|██████████| 1000/1000 [00:00<00:00, 21459.62it/s]\n",
      "iterations: 100%|██████████| 1000/1000 [00:00<00:00, 15870.50it/s]\n",
      "iterations: 100%|██████████| 1000/1000 [00:00<00:00, 14092.25it/s]\n",
      "iterations:   0%|          | 0/1000 [00:00<?, ?it/s]"
     ]
    },
    {
     "name": "stdout",
     "output_type": "stream",
     "text": [
      "Experiment:  389\n",
      "Experiment:  390\n"
     ]
    },
    {
     "name": "stderr",
     "output_type": "stream",
     "text": [
      "iterations: 100%|██████████| 1000/1000 [00:00<00:00, 16232.20it/s]\n",
      "iterations: 100%|██████████| 1000/1000 [00:00<00:00, 16533.90it/s]\n",
      "iterations: 100%|██████████| 1000/1000 [00:00<00:00, 8465.68it/s]\n",
      "iterations: 100%|██████████| 1000/1000 [00:00<00:00, 22092.73it/s]\n",
      "iterations: 100%|██████████| 1000/1000 [00:00<00:00, 16533.58it/s]\n",
      "iterations: 100%|██████████| 1000/1000 [00:00<00:00, 14104.38it/s]\n",
      "iterations:   0%|          | 0/1000 [00:00<?, ?it/s]"
     ]
    },
    {
     "name": "stdout",
     "output_type": "stream",
     "text": [
      "Experiment:  391\n",
      "Experiment:  392\n"
     ]
    },
    {
     "name": "stderr",
     "output_type": "stream",
     "text": [
      "iterations: 100%|██████████| 1000/1000 [00:00<00:00, 20582.01it/s]\n",
      "iterations: 100%|██████████| 1000/1000 [00:00<00:00, 14360.17it/s]\n",
      "iterations: 100%|██████████| 1000/1000 [00:00<00:00, 14084.49it/s]\n",
      "iterations: 100%|██████████| 1000/1000 [00:00<00:00, 21715.61it/s]\n",
      "iterations: 100%|██████████| 1000/1000 [00:00<00:00, 16902.36it/s]\n",
      "iterations: 100%|██████████| 1000/1000 [00:00<00:00, 13898.92it/s]\n",
      "iterations:   0%|          | 0/1000 [00:00<?, ?it/s]"
     ]
    },
    {
     "name": "stdout",
     "output_type": "stream",
     "text": [
      "Experiment:  393\n",
      "Experiment:  394\n"
     ]
    },
    {
     "name": "stderr",
     "output_type": "stream",
     "text": [
      "iterations: 100%|██████████| 1000/1000 [00:00<00:00, 17246.10it/s]\n",
      "iterations: 100%|██████████| 1000/1000 [00:00<00:00, 13140.42it/s]\n",
      "iterations: 100%|██████████| 1000/1000 [00:00<00:00, 3907.73it/s]\n",
      "iterations: 100%|██████████| 1000/1000 [00:00<00:00, 17707.95it/s]\n",
      "iterations: 100%|██████████| 1000/1000 [00:00<00:00, 13409.46it/s]\n",
      "iterations:   0%|          | 0/1000 [00:00<?, ?it/s]"
     ]
    },
    {
     "name": "stdout",
     "output_type": "stream",
     "text": [
      "Experiment:  395\n"
     ]
    },
    {
     "name": "stderr",
     "output_type": "stream",
     "text": [
      "iterations: 100%|██████████| 1000/1000 [00:00<00:00, 11235.29it/s]\n",
      "iterations: 100%|██████████| 1000/1000 [00:00<00:00, 22614.34it/s]\n",
      "iterations: 100%|██████████| 1000/1000 [00:00<00:00, 17755.40it/s]\n",
      "iterations: 100%|██████████| 1000/1000 [00:00<00:00, 13065.39it/s]\n",
      "iterations:   0%|          | 0/1000 [00:00<?, ?it/s]"
     ]
    },
    {
     "name": "stdout",
     "output_type": "stream",
     "text": [
      "Experiment:  396\n",
      "Experiment:  397\n"
     ]
    },
    {
     "name": "stderr",
     "output_type": "stream",
     "text": [
      "iterations: 100%|██████████| 1000/1000 [00:00<00:00, 20066.90it/s]\n",
      "iterations: 100%|██████████| 1000/1000 [00:00<00:00, 16101.47it/s]\n",
      "iterations: 100%|██████████| 1000/1000 [00:00<00:00, 5220.62it/s]\n",
      "iterations: 100%|██████████| 1000/1000 [00:00<00:00, 6029.25it/s]\n",
      "iterations:   0%|          | 0/1000 [00:00<?, ?it/s]"
     ]
    },
    {
     "name": "stdout",
     "output_type": "stream",
     "text": [
      "Experiment:  398\n"
     ]
    },
    {
     "name": "stderr",
     "output_type": "stream",
     "text": [
      "iterations: 100%|██████████| 1000/1000 [00:00<00:00, 5052.80it/s]\n",
      "iterations: 100%|██████████| 1000/1000 [00:00<00:00, 8598.14it/s]\n",
      "iterations: 100%|██████████| 1000/1000 [00:00<00:00, 22666.40it/s]\n",
      "iterations: 100%|██████████| 1000/1000 [00:00<00:00, 16883.11it/s]\n",
      "iterations: 100%|██████████| 1000/1000 [00:00<00:00, 14347.64it/s]\n",
      "iterations:   0%|          | 0/1000 [00:00<?, ?it/s]"
     ]
    },
    {
     "name": "stdout",
     "output_type": "stream",
     "text": [
      "Experiment:  399\n",
      "Experiment:  400\n"
     ]
    },
    {
     "name": "stderr",
     "output_type": "stream",
     "text": [
      "iterations: 100%|██████████| 1000/1000 [00:00<00:00, 19629.45it/s]\n",
      "iterations: 100%|██████████| 1000/1000 [00:00<00:00, 16624.27it/s]\n",
      "iterations: 100%|██████████| 1000/1000 [00:00<00:00, 13270.89it/s]\n",
      "iterations: 100%|██████████| 1000/1000 [00:00<00:00, 21429.36it/s]\n",
      "iterations: 100%|██████████| 1000/1000 [00:00<00:00, 16207.18it/s]\n",
      "iterations: 100%|██████████| 1000/1000 [00:00<00:00, 12428.71it/s]\n"
     ]
    },
    {
     "name": "stdout",
     "output_type": "stream",
     "text": [
      "Experiment:  401\n",
      "Experiment:  402\n"
     ]
    },
    {
     "name": "stderr",
     "output_type": "stream",
     "text": [
      "iterations: 100%|██████████| 1000/1000 [00:00<00:00, 20333.75it/s]\n",
      "iterations: 100%|██████████| 1000/1000 [00:00<00:00, 14477.39it/s]\n",
      "iterations: 100%|██████████| 1000/1000 [00:00<00:00, 14748.16it/s]\n",
      "iterations: 100%|██████████| 1000/1000 [00:00<00:00, 20482.50it/s]\n",
      "iterations: 100%|██████████| 1000/1000 [00:00<00:00, 15416.21it/s]\n",
      "iterations: 100%|██████████| 1000/1000 [00:00<00:00, 13714.76it/s]\n",
      "iterations:   0%|          | 0/1000 [00:00<?, ?it/s]"
     ]
    },
    {
     "name": "stdout",
     "output_type": "stream",
     "text": [
      "Experiment:  403\n",
      "Experiment:  404\n"
     ]
    },
    {
     "name": "stderr",
     "output_type": "stream",
     "text": [
      "iterations: 100%|██████████| 1000/1000 [00:00<00:00, 18662.58it/s]\n",
      "iterations: 100%|██████████| 1000/1000 [00:00<00:00, 13366.98it/s]\n",
      "iterations: 100%|██████████| 1000/1000 [00:00<00:00, 13867.53it/s]\n",
      "iterations: 100%|██████████| 1000/1000 [00:00<00:00, 20030.49it/s]\n",
      "iterations: 100%|██████████| 1000/1000 [00:00<00:00, 16879.64it/s]\n",
      "iterations: 100%|██████████| 1000/1000 [00:00<00:00, 13763.14it/s]\n",
      "iterations:   0%|          | 0/1000 [00:00<?, ?it/s]"
     ]
    },
    {
     "name": "stdout",
     "output_type": "stream",
     "text": [
      "Experiment:  405\n",
      "Experiment:  406\n"
     ]
    },
    {
     "name": "stderr",
     "output_type": "stream",
     "text": [
      "iterations: 100%|██████████| 1000/1000 [00:00<00:00, 18329.18it/s]\n",
      "iterations: 100%|██████████| 1000/1000 [00:00<00:00, 6864.82it/s]\n",
      "iterations: 100%|██████████| 1000/1000 [00:00<00:00, 9206.94it/s]\n",
      "iterations: 100%|██████████| 1000/1000 [00:00<00:00, 18069.08it/s]\n",
      "iterations: 100%|██████████| 1000/1000 [00:00<00:00, 15142.33it/s]\n",
      "iterations:   0%|          | 0/1000 [00:00<?, ?it/s]"
     ]
    },
    {
     "name": "stdout",
     "output_type": "stream",
     "text": [
      "Experiment:  407\n"
     ]
    },
    {
     "name": "stderr",
     "output_type": "stream",
     "text": [
      "iterations: 100%|██████████| 1000/1000 [00:00<00:00, 13157.36it/s]\n",
      "iterations: 100%|██████████| 1000/1000 [00:00<00:00, 18928.30it/s]\n",
      "iterations: 100%|██████████| 1000/1000 [00:00<00:00, 10058.84it/s]\n",
      "iterations:   0%|          | 0/1000 [00:00<?, ?it/s]"
     ]
    },
    {
     "name": "stdout",
     "output_type": "stream",
     "text": [
      "Experiment:  408\n"
     ]
    },
    {
     "name": "stderr",
     "output_type": "stream",
     "text": [
      "iterations: 100%|██████████| 1000/1000 [00:00<00:00, 11851.16it/s]\n",
      "iterations: 100%|██████████| 1000/1000 [00:00<00:00, 21074.36it/s]\n",
      "iterations: 100%|██████████| 1000/1000 [00:00<00:00, 15176.19it/s]\n",
      "iterations: 100%|██████████| 1000/1000 [00:00<00:00, 13444.66it/s]\n",
      "iterations:   0%|          | 0/1000 [00:00<?, ?it/s]"
     ]
    },
    {
     "name": "stdout",
     "output_type": "stream",
     "text": [
      "Experiment:  409\n",
      "Experiment:  410\n"
     ]
    },
    {
     "name": "stderr",
     "output_type": "stream",
     "text": [
      "iterations: 100%|██████████| 1000/1000 [00:00<00:00, 20228.23it/s]\n",
      "iterations: 100%|██████████| 1000/1000 [00:00<00:00, 13461.49it/s]\n",
      "iterations: 100%|██████████| 1000/1000 [00:00<00:00, 14624.64it/s]\n",
      "iterations: 100%|██████████| 1000/1000 [00:00<00:00, 20187.73it/s]\n",
      "iterations: 100%|██████████| 1000/1000 [00:00<00:00, 17767.05it/s]\n",
      "iterations: 100%|██████████| 1000/1000 [00:00<00:00, 14728.02it/s]\n",
      "iterations:   0%|          | 0/1000 [00:00<?, ?it/s]"
     ]
    },
    {
     "name": "stdout",
     "output_type": "stream",
     "text": [
      "Experiment:  411\n",
      "Experiment:  412\n"
     ]
    },
    {
     "name": "stderr",
     "output_type": "stream",
     "text": [
      "iterations: 100%|██████████| 1000/1000 [00:00<00:00, 19251.85it/s]\n",
      "iterations: 100%|██████████| 1000/1000 [00:00<00:00, 14006.18it/s]\n",
      "iterations: 100%|██████████| 1000/1000 [00:00<00:00, 13589.19it/s]\n",
      "iterations: 100%|██████████| 1000/1000 [00:00<00:00, 22214.30it/s]\n",
      "iterations: 100%|██████████| 1000/1000 [00:00<00:00, 17362.33it/s]\n",
      "iterations: 100%|██████████| 1000/1000 [00:00<00:00, 13995.76it/s]\n",
      "iterations:   0%|          | 0/1000 [00:00<?, ?it/s]"
     ]
    },
    {
     "name": "stdout",
     "output_type": "stream",
     "text": [
      "Experiment:  413\n",
      "Experiment:  414\n"
     ]
    },
    {
     "name": "stderr",
     "output_type": "stream",
     "text": [
      "iterations: 100%|██████████| 1000/1000 [00:00<00:00, 20995.67it/s]\n",
      "iterations: 100%|██████████| 1000/1000 [00:00<00:00, 16863.69it/s]\n",
      "iterations: 100%|██████████| 1000/1000 [00:00<00:00, 5145.55it/s]\n",
      "iterations: 100%|██████████| 1000/1000 [00:00<00:00, 11525.66it/s]\n",
      "iterations:  56%|█████▋    | 563/1000 [00:00<00:00, 5617.54it/s]"
     ]
    },
    {
     "name": "stdout",
     "output_type": "stream",
     "text": [
      "Experiment:  415\n"
     ]
    },
    {
     "name": "stderr",
     "output_type": "stream",
     "text": [
      "iterations: 100%|██████████| 1000/1000 [00:00<00:00, 6084.54it/s]\n",
      "iterations: 100%|██████████| 1000/1000 [00:00<00:00, 13938.45it/s]\n",
      "iterations: 100%|██████████| 1000/1000 [00:00<00:00, 17195.13it/s]\n",
      "iterations: 100%|██████████| 1000/1000 [00:00<00:00, 14859.72it/s]\n",
      "iterations:   0%|          | 0/1000 [00:00<?, ?it/s]"
     ]
    },
    {
     "name": "stdout",
     "output_type": "stream",
     "text": [
      "Experiment:  416\n"
     ]
    },
    {
     "name": "stderr",
     "output_type": "stream",
     "text": [
      "iterations: 100%|██████████| 1000/1000 [00:00<00:00, 12830.03it/s]\n",
      "iterations: 100%|██████████| 1000/1000 [00:00<00:00, 22720.55it/s]\n",
      "iterations: 100%|██████████| 1000/1000 [00:00<00:00, 16382.40it/s]\n",
      "iterations: 100%|██████████| 1000/1000 [00:00<00:00, 14019.94it/s]\n",
      "iterations:   0%|          | 0/1000 [00:00<?, ?it/s]"
     ]
    },
    {
     "name": "stdout",
     "output_type": "stream",
     "text": [
      "Experiment:  417\n",
      "Experiment:  418\n"
     ]
    },
    {
     "name": "stderr",
     "output_type": "stream",
     "text": [
      "iterations: 100%|██████████| 1000/1000 [00:00<00:00, 19851.22it/s]\n",
      "iterations: 100%|██████████| 1000/1000 [00:00<00:00, 15186.57it/s]\n",
      "iterations: 100%|██████████| 1000/1000 [00:00<00:00, 13925.22it/s]\n",
      "iterations: 100%|██████████| 1000/1000 [00:00<00:00, 21293.80it/s]\n",
      "iterations: 100%|██████████| 1000/1000 [00:00<00:00, 16779.63it/s]\n",
      "iterations: 100%|██████████| 1000/1000 [00:00<00:00, 14123.90it/s]\n",
      "iterations:   0%|          | 0/1000 [00:00<?, ?it/s]"
     ]
    },
    {
     "name": "stdout",
     "output_type": "stream",
     "text": [
      "Experiment:  419\n",
      "Experiment:  420\n"
     ]
    },
    {
     "name": "stderr",
     "output_type": "stream",
     "text": [
      "iterations: 100%|██████████| 1000/1000 [00:00<00:00, 21346.04it/s]\n",
      "iterations: 100%|██████████| 1000/1000 [00:00<00:00, 16806.39it/s]\n",
      "iterations: 100%|██████████| 1000/1000 [00:00<00:00, 14437.73it/s]\n",
      "iterations: 100%|██████████| 1000/1000 [00:00<00:00, 20839.09it/s]\n",
      "iterations: 100%|██████████| 1000/1000 [00:00<00:00, 15269.78it/s]\n",
      "iterations: 100%|██████████| 1000/1000 [00:00<00:00, 14843.84it/s]\n",
      "iterations:   0%|          | 0/1000 [00:00<?, ?it/s]"
     ]
    },
    {
     "name": "stdout",
     "output_type": "stream",
     "text": [
      "Experiment:  421\n",
      "Experiment:  422\n"
     ]
    },
    {
     "name": "stderr",
     "output_type": "stream",
     "text": [
      "iterations: 100%|██████████| 1000/1000 [00:00<00:00, 19139.05it/s]\n",
      "iterations: 100%|██████████| 1000/1000 [00:00<00:00, 13944.06it/s]\n",
      "iterations: 100%|██████████| 1000/1000 [00:00<00:00, 14586.60it/s]\n",
      "iterations: 100%|██████████| 1000/1000 [00:00<00:00, 20128.73it/s]\n",
      "iterations: 100%|██████████| 1000/1000 [00:00<00:00, 14472.65it/s]\n",
      "iterations: 100%|██████████| 1000/1000 [00:00<00:00, 14574.94it/s]\n"
     ]
    },
    {
     "name": "stdout",
     "output_type": "stream",
     "text": [
      "Experiment:  423\n",
      "Experiment:  424\n"
     ]
    },
    {
     "name": "stderr",
     "output_type": "stream",
     "text": [
      "iterations: 100%|██████████| 1000/1000 [00:00<00:00, 22490.05it/s]\n",
      "iterations: 100%|██████████| 1000/1000 [00:00<00:00, 16141.00it/s]\n",
      "iterations: 100%|██████████| 1000/1000 [00:00<00:00, 10717.42it/s]\n",
      "iterations: 100%|██████████| 1000/1000 [00:00<00:00, 19809.78it/s]\n",
      "iterations: 100%|██████████| 1000/1000 [00:00<00:00, 17304.66it/s]\n",
      "iterations:   0%|          | 0/1000 [00:00<?, ?it/s]"
     ]
    },
    {
     "name": "stdout",
     "output_type": "stream",
     "text": [
      "Experiment:  425\n"
     ]
    },
    {
     "name": "stderr",
     "output_type": "stream",
     "text": [
      "iterations: 100%|██████████| 1000/1000 [00:00<00:00, 10706.42it/s]\n",
      "iterations: 100%|██████████| 1000/1000 [00:00<00:00, 17342.15it/s]\n",
      "iterations: 100%|██████████| 1000/1000 [00:00<00:00, 13711.45it/s]\n",
      "iterations:   0%|          | 0/1000 [00:00<?, ?it/s]"
     ]
    },
    {
     "name": "stdout",
     "output_type": "stream",
     "text": [
      "Experiment:  426\n"
     ]
    },
    {
     "name": "stderr",
     "output_type": "stream",
     "text": [
      "iterations: 100%|██████████| 1000/1000 [00:00<00:00, 14244.44it/s]\n",
      "iterations: 100%|██████████| 1000/1000 [00:00<00:00, 18118.57it/s]\n",
      "iterations: 100%|██████████| 1000/1000 [00:00<00:00, 16926.78it/s]\n",
      "iterations: 100%|██████████| 1000/1000 [00:00<00:00, 13691.84it/s]\n",
      "iterations:   0%|          | 0/1000 [00:00<?, ?it/s]"
     ]
    },
    {
     "name": "stdout",
     "output_type": "stream",
     "text": [
      "Experiment:  427\n",
      "Experiment:  428\n"
     ]
    },
    {
     "name": "stderr",
     "output_type": "stream",
     "text": [
      "iterations: 100%|██████████| 1000/1000 [00:00<00:00, 20590.49it/s]\n",
      "iterations: 100%|██████████| 1000/1000 [00:00<00:00, 17723.88it/s]\n",
      "iterations: 100%|██████████| 1000/1000 [00:00<00:00, 14187.44it/s]\n",
      "iterations: 100%|██████████| 1000/1000 [00:00<00:00, 22347.33it/s]\n",
      "iterations: 100%|██████████| 1000/1000 [00:00<00:00, 14812.80it/s]\n",
      "iterations: 100%|██████████| 1000/1000 [00:00<00:00, 13412.76it/s]\n",
      "iterations:   0%|          | 0/1000 [00:00<?, ?it/s]"
     ]
    },
    {
     "name": "stdout",
     "output_type": "stream",
     "text": [
      "Experiment:  429\n",
      "Experiment:  430\n"
     ]
    },
    {
     "name": "stderr",
     "output_type": "stream",
     "text": [
      "iterations: 100%|██████████| 1000/1000 [00:00<00:00, 21504.84it/s]\n",
      "iterations: 100%|██████████| 1000/1000 [00:00<00:00, 16397.45it/s]\n",
      "iterations: 100%|██████████| 1000/1000 [00:00<00:00, 14722.33it/s]\n",
      "iterations: 100%|██████████| 1000/1000 [00:00<00:00, 20168.22it/s]\n",
      "iterations: 100%|██████████| 1000/1000 [00:00<00:00, 15634.05it/s]\n",
      "iterations: 100%|██████████| 1000/1000 [00:00<00:00, 13321.64it/s]\n",
      "iterations:   0%|          | 0/1000 [00:00<?, ?it/s]"
     ]
    },
    {
     "name": "stdout",
     "output_type": "stream",
     "text": [
      "Experiment:  431\n",
      "Experiment:  432\n"
     ]
    },
    {
     "name": "stderr",
     "output_type": "stream",
     "text": [
      "iterations: 100%|██████████| 1000/1000 [00:00<00:00, 18742.39it/s]\n",
      "iterations: 100%|██████████| 1000/1000 [00:00<00:00, 14698.50it/s]\n",
      "iterations: 100%|██████████| 1000/1000 [00:00<00:00, 14481.24it/s]\n",
      "iterations: 100%|██████████| 1000/1000 [00:00<00:00, 19127.01it/s]\n",
      "iterations: 100%|██████████| 1000/1000 [00:00<00:00, 17064.86it/s]\n",
      "iterations: 100%|██████████| 1000/1000 [00:00<00:00, 15360.77it/s]\n",
      "iterations:   0%|          | 0/1000 [00:00<?, ?it/s]"
     ]
    },
    {
     "name": "stdout",
     "output_type": "stream",
     "text": [
      "Experiment:  433\n",
      "Experiment:  434\n"
     ]
    },
    {
     "name": "stderr",
     "output_type": "stream",
     "text": [
      "iterations: 100%|██████████| 1000/1000 [00:00<00:00, 20451.94it/s]\n",
      "iterations: 100%|██████████| 1000/1000 [00:00<00:00, 11709.88it/s]\n",
      "iterations: 100%|██████████| 1000/1000 [00:00<00:00, 14603.72it/s]\n",
      "iterations: 100%|██████████| 1000/1000 [00:00<00:00, 20972.36it/s]\n",
      "iterations: 100%|██████████| 1000/1000 [00:00<00:00, 14768.88it/s]\n",
      "iterations: 100%|██████████| 1000/1000 [00:00<00:00, 14318.70it/s]\n",
      "iterations: 100%|██████████| 1000/1000 [00:00<00:00, 20055.68it/s]"
     ]
    },
    {
     "name": "stdout",
     "output_type": "stream",
     "text": [
      "Experiment:  435\n",
      "Experiment:  436\n"
     ]
    },
    {
     "name": "stderr",
     "output_type": "stream",
     "text": [
      "\n",
      "iterations: 100%|██████████| 1000/1000 [00:00<00:00, 17374.70it/s]\n",
      "iterations: 100%|██████████| 1000/1000 [00:00<00:00, 11392.61it/s]\n",
      "iterations: 100%|██████████| 1000/1000 [00:00<00:00, 16938.54it/s]\n",
      "iterations: 100%|██████████| 1000/1000 [00:00<00:00, 16330.03it/s]\n",
      "iterations: 100%|██████████| 1000/1000 [00:00<00:00, 14147.63it/s]\n"
     ]
    },
    {
     "name": "stdout",
     "output_type": "stream",
     "text": [
      "Experiment:  437\n"
     ]
    },
    {
     "name": "stderr",
     "output_type": "stream",
     "text": [
      "iterations: 100%|██████████| 1000/1000 [00:00<00:00, 22226.66it/s]\n",
      "iterations: 100%|██████████| 1000/1000 [00:00<00:00, 15989.20it/s]\n",
      "iterations: 100%|██████████| 1000/1000 [00:00<00:00, 14346.37it/s]\n"
     ]
    },
    {
     "name": "stdout",
     "output_type": "stream",
     "text": [
      "Experiment:  438\n",
      "Experiment:  439\n"
     ]
    },
    {
     "name": "stderr",
     "output_type": "stream",
     "text": [
      "iterations: 100%|██████████| 1000/1000 [00:00<00:00, 22577.09it/s]\n",
      "iterations: 100%|██████████| 1000/1000 [00:00<00:00, 16202.17it/s]\n",
      "iterations: 100%|██████████| 1000/1000 [00:00<00:00, 5907.40it/s]\n",
      "iterations: 100%|██████████| 1000/1000 [00:00<00:00, 21641.32it/s]\n",
      "iterations: 100%|██████████| 1000/1000 [00:00<00:00, 16702.85it/s]\n",
      "iterations: 100%|██████████| 1000/1000 [00:00<00:00, 12493.91it/s]\n",
      "iterations:   0%|          | 0/1000 [00:00<?, ?it/s]"
     ]
    },
    {
     "name": "stdout",
     "output_type": "stream",
     "text": [
      "Experiment:  440\n",
      "Experiment:  441\n"
     ]
    },
    {
     "name": "stderr",
     "output_type": "stream",
     "text": [
      "iterations: 100%|██████████| 1000/1000 [00:00<00:00, 20604.55it/s]\n",
      "iterations: 100%|██████████| 1000/1000 [00:00<00:00, 16609.07it/s]\n",
      "iterations: 100%|██████████| 1000/1000 [00:00<00:00, 14028.01it/s]\n",
      "iterations: 100%|██████████| 1000/1000 [00:00<00:00, 22598.86it/s]\n",
      "iterations: 100%|██████████| 1000/1000 [00:00<00:00, 16340.98it/s]\n",
      "iterations: 100%|██████████| 1000/1000 [00:00<00:00, 14179.96it/s]\n",
      "iterations:   0%|          | 0/1000 [00:00<?, ?it/s]"
     ]
    },
    {
     "name": "stdout",
     "output_type": "stream",
     "text": [
      "Experiment:  442\n",
      "Experiment:  443\n"
     ]
    },
    {
     "name": "stderr",
     "output_type": "stream",
     "text": [
      "iterations: 100%|██████████| 1000/1000 [00:00<00:00, 17545.79it/s]\n",
      "iterations: 100%|██████████| 1000/1000 [00:00<00:00, 16745.00it/s]\n",
      "iterations: 100%|██████████| 1000/1000 [00:00<00:00, 14077.35it/s]\n",
      "iterations: 100%|██████████| 1000/1000 [00:00<00:00, 22910.55it/s]\n",
      "iterations: 100%|██████████| 1000/1000 [00:00<00:00, 17637.95it/s]\n",
      "iterations: 100%|██████████| 1000/1000 [00:00<00:00, 14673.97it/s]\n",
      "iterations:   0%|          | 0/1000 [00:00<?, ?it/s]"
     ]
    },
    {
     "name": "stdout",
     "output_type": "stream",
     "text": [
      "Experiment:  444\n",
      "Experiment:  445\n"
     ]
    },
    {
     "name": "stderr",
     "output_type": "stream",
     "text": [
      "iterations: 100%|██████████| 1000/1000 [00:00<00:00, 21235.80it/s]\n",
      "iterations: 100%|██████████| 1000/1000 [00:00<00:00, 14811.08it/s]\n",
      "iterations: 100%|██████████| 1000/1000 [00:00<00:00, 14303.07it/s]\n",
      "iterations: 100%|██████████| 1000/1000 [00:00<00:00, 19152.95it/s]\n",
      "iterations: 100%|██████████| 1000/1000 [00:00<00:00, 16893.31it/s]\n",
      "iterations: 100%|██████████| 1000/1000 [00:00<00:00, 14663.25it/s]\n",
      "iterations:   0%|          | 0/1000 [00:00<?, ?it/s]"
     ]
    },
    {
     "name": "stdout",
     "output_type": "stream",
     "text": [
      "Experiment:  446\n",
      "Experiment:  447\n"
     ]
    },
    {
     "name": "stderr",
     "output_type": "stream",
     "text": [
      "iterations: 100%|██████████| 1000/1000 [00:00<00:00, 19273.79it/s]\n",
      "iterations: 100%|██████████| 1000/1000 [00:00<00:00, 15312.82it/s]\n",
      "iterations: 100%|██████████| 1000/1000 [00:00<00:00, 15130.42it/s]\n",
      "iterations: 100%|██████████| 1000/1000 [00:00<00:00, 19494.70it/s]\n",
      "iterations: 100%|██████████| 1000/1000 [00:00<00:00, 16824.80it/s]\n",
      "iterations:   0%|          | 0/1000 [00:00<?, ?it/s]"
     ]
    },
    {
     "name": "stdout",
     "output_type": "stream",
     "text": [
      "Experiment:  448\n"
     ]
    },
    {
     "name": "stderr",
     "output_type": "stream",
     "text": [
      "iterations: 100%|██████████| 1000/1000 [00:00<00:00, 9503.26it/s]\n",
      "iterations: 100%|██████████| 1000/1000 [00:00<00:00, 20030.77it/s]\n",
      "iterations: 100%|██████████| 1000/1000 [00:00<00:00, 11872.56it/s]\n",
      "iterations:   0%|          | 0/1000 [00:00<?, ?it/s]"
     ]
    },
    {
     "name": "stdout",
     "output_type": "stream",
     "text": [
      "Experiment:  449\n"
     ]
    },
    {
     "name": "stderr",
     "output_type": "stream",
     "text": [
      "iterations: 100%|██████████| 1000/1000 [00:00<00:00, 6678.51it/s]\n",
      "iterations: 100%|██████████| 1000/1000 [00:00<00:00, 22335.91it/s]\n",
      "iterations: 100%|██████████| 1000/1000 [00:00<00:00, 16156.17it/s]\n",
      "iterations: 100%|██████████| 1000/1000 [00:00<00:00, 14418.12it/s]\n",
      "iterations:   0%|          | 0/1000 [00:00<?, ?it/s]"
     ]
    },
    {
     "name": "stdout",
     "output_type": "stream",
     "text": [
      "Experiment:  450\n",
      "Experiment:  451\n"
     ]
    },
    {
     "name": "stderr",
     "output_type": "stream",
     "text": [
      "iterations: 100%|██████████| 1000/1000 [00:00<00:00, 19438.23it/s]\n",
      "iterations: 100%|██████████| 1000/1000 [00:00<00:00, 16127.97it/s]\n",
      "iterations: 100%|██████████| 1000/1000 [00:00<00:00, 12627.51it/s]\n",
      "iterations: 100%|██████████| 1000/1000 [00:00<00:00, 20790.85it/s]\n",
      "iterations: 100%|██████████| 1000/1000 [00:00<00:00, 16583.13it/s]\n",
      "iterations: 100%|██████████| 1000/1000 [00:00<00:00, 13819.83it/s]\n",
      "iterations:   0%|          | 0/1000 [00:00<?, ?it/s]"
     ]
    },
    {
     "name": "stdout",
     "output_type": "stream",
     "text": [
      "Experiment:  452\n",
      "Experiment:  453\n"
     ]
    },
    {
     "name": "stderr",
     "output_type": "stream",
     "text": [
      "iterations: 100%|██████████| 1000/1000 [00:00<00:00, 20841.57it/s]\n",
      "iterations: 100%|██████████| 1000/1000 [00:00<00:00, 16869.66it/s]\n",
      "iterations: 100%|██████████| 1000/1000 [00:00<00:00, 9359.17it/s]\n",
      "iterations: 100%|██████████| 1000/1000 [00:00<00:00, 13778.29it/s]\n",
      "iterations: 100%|██████████| 1000/1000 [00:00<00:00, 11829.87it/s]\n",
      "iterations:   0%|          | 0/1000 [00:00<?, ?it/s]"
     ]
    },
    {
     "name": "stdout",
     "output_type": "stream",
     "text": [
      "Experiment:  454\n"
     ]
    },
    {
     "name": "stderr",
     "output_type": "stream",
     "text": [
      "iterations: 100%|██████████| 1000/1000 [00:00<00:00, 13844.28it/s]\n",
      "iterations: 100%|██████████| 1000/1000 [00:00<00:00, 21417.87it/s]\n",
      "iterations: 100%|██████████| 1000/1000 [00:00<00:00, 18524.36it/s]\n",
      "iterations: 100%|██████████| 1000/1000 [00:00<00:00, 11905.35it/s]\n",
      "iterations:   0%|          | 0/1000 [00:00<?, ?it/s]"
     ]
    },
    {
     "name": "stdout",
     "output_type": "stream",
     "text": [
      "Experiment:  455\n",
      "Experiment:  456\n"
     ]
    },
    {
     "name": "stderr",
     "output_type": "stream",
     "text": [
      "iterations: 100%|██████████| 1000/1000 [00:00<00:00, 18465.56it/s]\n",
      "iterations: 100%|██████████| 1000/1000 [00:00<00:00, 15891.25it/s]\n",
      "iterations: 100%|██████████| 1000/1000 [00:00<00:00, 14008.75it/s]\n",
      "iterations: 100%|██████████| 1000/1000 [00:00<00:00, 23649.60it/s]\n",
      "iterations: 100%|██████████| 1000/1000 [00:00<00:00, 7149.95it/s]\n",
      "iterations:   0%|          | 0/1000 [00:00<?, ?it/s]"
     ]
    },
    {
     "name": "stdout",
     "output_type": "stream",
     "text": [
      "Experiment:  457\n"
     ]
    },
    {
     "name": "stderr",
     "output_type": "stream",
     "text": [
      "iterations: 100%|██████████| 1000/1000 [00:00<00:00, 13908.96it/s]\n",
      "iterations: 100%|██████████| 1000/1000 [00:00<00:00, 22142.06it/s]\n",
      "iterations: 100%|██████████| 1000/1000 [00:00<00:00, 16832.76it/s]\n",
      "iterations: 100%|██████████| 1000/1000 [00:00<00:00, 14003.04it/s]\n",
      "iterations:   0%|          | 0/1000 [00:00<?, ?it/s]"
     ]
    },
    {
     "name": "stdout",
     "output_type": "stream",
     "text": [
      "Experiment:  458\n",
      "Experiment:  459\n"
     ]
    },
    {
     "name": "stderr",
     "output_type": "stream",
     "text": [
      "iterations: 100%|██████████| 1000/1000 [00:00<00:00, 21648.36it/s]\n",
      "iterations: 100%|██████████| 1000/1000 [00:00<00:00, 16602.69it/s]\n",
      "iterations: 100%|██████████| 1000/1000 [00:00<00:00, 13699.94it/s]\n",
      "iterations: 100%|██████████| 1000/1000 [00:00<00:00, 21936.05it/s]\n",
      "iterations: 100%|██████████| 1000/1000 [00:00<00:00, 16314.28it/s]\n",
      "iterations: 100%|██████████| 1000/1000 [00:00<00:00, 12792.11it/s]\n"
     ]
    },
    {
     "name": "stdout",
     "output_type": "stream",
     "text": [
      "Experiment:  460\n",
      "Experiment:  461\n"
     ]
    },
    {
     "name": "stderr",
     "output_type": "stream",
     "text": [
      "iterations: 100%|██████████| 1000/1000 [00:00<00:00, 22067.73it/s]\n",
      "iterations: 100%|██████████| 1000/1000 [00:00<00:00, 18077.26it/s]\n",
      "iterations: 100%|██████████| 1000/1000 [00:00<00:00, 14811.55it/s]\n",
      "iterations: 100%|██████████| 1000/1000 [00:00<00:00, 21038.53it/s]\n",
      "iterations: 100%|██████████| 1000/1000 [00:00<00:00, 12553.51it/s]\n",
      "iterations:   0%|          | 0/1000 [00:00<?, ?it/s]"
     ]
    },
    {
     "name": "stdout",
     "output_type": "stream",
     "text": [
      "Experiment:  462\n"
     ]
    },
    {
     "name": "stderr",
     "output_type": "stream",
     "text": [
      "iterations: 100%|██████████| 1000/1000 [00:00<00:00, 13458.98it/s]\n",
      "iterations: 100%|██████████| 1000/1000 [00:00<00:00, 18529.60it/s]\n",
      "iterations: 100%|██████████| 1000/1000 [00:00<00:00, 16321.77it/s]\n",
      "iterations: 100%|██████████| 1000/1000 [00:00<00:00, 13657.11it/s]\n"
     ]
    },
    {
     "name": "stdout",
     "output_type": "stream",
     "text": [
      "Experiment:  463\n",
      "Experiment:  464\n"
     ]
    },
    {
     "name": "stderr",
     "output_type": "stream",
     "text": [
      "iterations: 100%|██████████| 1000/1000 [00:00<00:00, 19964.03it/s]\n",
      "iterations: 100%|██████████| 1000/1000 [00:00<00:00, 16340.09it/s]\n",
      "iterations: 100%|██████████| 1000/1000 [00:00<00:00, 13968.07it/s]\n",
      "iterations: 100%|██████████| 1000/1000 [00:00<00:00, 20821.09it/s]\n",
      "iterations: 100%|██████████| 1000/1000 [00:00<00:00, 15565.65it/s]\n",
      "iterations: 100%|██████████| 1000/1000 [00:00<00:00, 12922.93it/s]\n"
     ]
    },
    {
     "name": "stdout",
     "output_type": "stream",
     "text": [
      "Experiment:  465\n",
      "Experiment:  466\n"
     ]
    },
    {
     "name": "stderr",
     "output_type": "stream",
     "text": [
      "iterations: 100%|██████████| 1000/1000 [00:00<00:00, 20067.48it/s]\n",
      "iterations: 100%|██████████| 1000/1000 [00:00<00:00, 15161.60it/s]\n",
      "iterations: 100%|██████████| 1000/1000 [00:00<00:00, 11863.13it/s]\n",
      "iterations: 100%|██████████| 1000/1000 [00:00<00:00, 20880.38it/s]\n",
      "iterations: 100%|██████████| 1000/1000 [00:00<00:00, 13021.99it/s]\n",
      "iterations:   0%|          | 0/1000 [00:00<?, ?it/s]"
     ]
    },
    {
     "name": "stdout",
     "output_type": "stream",
     "text": [
      "Experiment:  467\n"
     ]
    },
    {
     "name": "stderr",
     "output_type": "stream",
     "text": [
      "iterations: 100%|██████████| 1000/1000 [00:00<00:00, 12891.75it/s]\n",
      "iterations: 100%|██████████| 1000/1000 [00:00<00:00, 21600.64it/s]\n",
      "iterations: 100%|██████████| 1000/1000 [00:00<00:00, 15768.95it/s]\n",
      "iterations:   0%|          | 0/1000 [00:00<?, ?it/s]"
     ]
    },
    {
     "name": "stdout",
     "output_type": "stream",
     "text": [
      "Experiment:  468\n"
     ]
    },
    {
     "name": "stderr",
     "output_type": "stream",
     "text": [
      "iterations: 100%|██████████| 1000/1000 [00:00<00:00, 11683.62it/s]\n",
      "iterations: 100%|██████████| 1000/1000 [00:00<00:00, 20882.14it/s]\n",
      "iterations: 100%|██████████| 1000/1000 [00:00<00:00, 16708.11it/s]\n",
      "iterations:   0%|          | 0/1000 [00:00<?, ?it/s]"
     ]
    },
    {
     "name": "stdout",
     "output_type": "stream",
     "text": [
      "Experiment:  469\n"
     ]
    },
    {
     "name": "stderr",
     "output_type": "stream",
     "text": [
      "iterations: 100%|██████████| 1000/1000 [00:00<00:00, 9558.14it/s]\n",
      "iterations: 100%|██████████| 1000/1000 [00:00<00:00, 22407.98it/s]\n",
      "iterations: 100%|██████████| 1000/1000 [00:00<00:00, 13829.53it/s]\n",
      "iterations: 100%|██████████| 1000/1000 [00:00<00:00, 13827.07it/s]\n"
     ]
    },
    {
     "name": "stdout",
     "output_type": "stream",
     "text": [
      "Experiment:  470\n",
      "Experiment:  471\n"
     ]
    },
    {
     "name": "stderr",
     "output_type": "stream",
     "text": [
      "iterations: 100%|██████████| 1000/1000 [00:00<00:00, 21170.63it/s]\n",
      "iterations: 100%|██████████| 1000/1000 [00:00<00:00, 14865.46it/s]\n",
      "iterations: 100%|██████████| 1000/1000 [00:00<00:00, 14916.00it/s]\n",
      "iterations: 100%|██████████| 1000/1000 [00:00<00:00, 21492.50it/s]\n",
      "iterations: 100%|██████████| 1000/1000 [00:00<00:00, 17734.23it/s]\n",
      "iterations: 100%|██████████| 1000/1000 [00:00<00:00, 11389.24it/s]"
     ]
    },
    {
     "name": "stdout",
     "output_type": "stream",
     "text": [
      "Experiment:  472\n"
     ]
    },
    {
     "name": "stderr",
     "output_type": "stream",
     "text": [
      "\n",
      "iterations: 100%|██████████| 1000/1000 [00:00<00:00, 21782.26it/s]\n",
      "iterations: 100%|██████████| 1000/1000 [00:00<00:00, 15498.58it/s]\n",
      "iterations:   0%|          | 0/1000 [00:00<?, ?it/s]"
     ]
    },
    {
     "name": "stdout",
     "output_type": "stream",
     "text": [
      "Experiment:  473\n"
     ]
    },
    {
     "name": "stderr",
     "output_type": "stream",
     "text": [
      "iterations: 100%|██████████| 1000/1000 [00:00<00:00, 7245.68it/s]\n",
      "iterations: 100%|██████████| 1000/1000 [00:00<00:00, 20823.88it/s]\n",
      "iterations: 100%|██████████| 1000/1000 [00:00<00:00, 16583.00it/s]\n",
      "iterations:   0%|          | 0/1000 [00:00<?, ?it/s]"
     ]
    },
    {
     "name": "stdout",
     "output_type": "stream",
     "text": [
      "Experiment:  474\n"
     ]
    },
    {
     "name": "stderr",
     "output_type": "stream",
     "text": [
      "iterations: 100%|██████████| 1000/1000 [00:00<00:00, 11766.19it/s]\n",
      "iterations: 100%|██████████| 1000/1000 [00:00<00:00, 16810.16it/s]\n",
      "iterations: 100%|██████████| 1000/1000 [00:00<00:00, 7770.99it/s]\n",
      "iterations:   0%|          | 0/1000 [00:00<?, ?it/s]"
     ]
    },
    {
     "name": "stdout",
     "output_type": "stream",
     "text": [
      "Experiment:  475\n"
     ]
    },
    {
     "name": "stderr",
     "output_type": "stream",
     "text": [
      "iterations: 100%|██████████| 1000/1000 [00:00<00:00, 12695.85it/s]\n",
      "iterations: 100%|██████████| 1000/1000 [00:00<00:00, 22706.16it/s]\n",
      "iterations: 100%|██████████| 1000/1000 [00:00<00:00, 17021.30it/s]\n",
      "iterations: 100%|██████████| 1000/1000 [00:00<00:00, 12621.32it/s]\n",
      "iterations:   0%|          | 0/1000 [00:00<?, ?it/s]"
     ]
    },
    {
     "name": "stdout",
     "output_type": "stream",
     "text": [
      "Experiment:  476\n",
      "Experiment:  477\n"
     ]
    },
    {
     "name": "stderr",
     "output_type": "stream",
     "text": [
      "iterations: 100%|██████████| 1000/1000 [00:00<00:00, 21057.96it/s]\n",
      "iterations: 100%|██████████| 1000/1000 [00:00<00:00, 17274.16it/s]\n",
      "iterations: 100%|██████████| 1000/1000 [00:00<00:00, 14270.85it/s]\n",
      "iterations: 100%|██████████| 1000/1000 [00:00<00:00, 19032.32it/s]\n",
      "iterations: 100%|██████████| 1000/1000 [00:00<00:00, 14912.66it/s]\n",
      "iterations: 100%|██████████| 1000/1000 [00:00<00:00, 14592.94it/s]\n",
      "iterations:   0%|          | 0/1000 [00:00<?, ?it/s]"
     ]
    },
    {
     "name": "stdout",
     "output_type": "stream",
     "text": [
      "Experiment:  478\n",
      "Experiment:  479\n"
     ]
    },
    {
     "name": "stderr",
     "output_type": "stream",
     "text": [
      "iterations: 100%|██████████| 1000/1000 [00:00<00:00, 16241.13it/s]\n",
      "iterations: 100%|██████████| 1000/1000 [00:00<00:00, 16532.21it/s]\n",
      "iterations: 100%|██████████| 1000/1000 [00:00<00:00, 12182.30it/s]\n",
      "iterations: 100%|██████████| 1000/1000 [00:00<00:00, 20449.84it/s]\n",
      "iterations: 100%|██████████| 1000/1000 [00:00<00:00, 16398.28it/s]\n",
      "iterations: 100%|██████████| 1000/1000 [00:00<00:00, 14101.96it/s]\n",
      "iterations:   0%|          | 0/1000 [00:00<?, ?it/s]"
     ]
    },
    {
     "name": "stdout",
     "output_type": "stream",
     "text": [
      "Experiment:  480\n",
      "Experiment:  481\n"
     ]
    },
    {
     "name": "stderr",
     "output_type": "stream",
     "text": [
      "iterations: 100%|██████████| 1000/1000 [00:00<00:00, 19174.84it/s]\n",
      "iterations: 100%|██████████| 1000/1000 [00:00<00:00, 14308.19it/s]\n",
      "iterations: 100%|██████████| 1000/1000 [00:00<00:00, 9102.99it/s]\n",
      "iterations: 100%|██████████| 1000/1000 [00:00<00:00, 17182.09it/s]\n",
      "iterations: 100%|██████████| 1000/1000 [00:00<00:00, 16609.13it/s]\n",
      "iterations: 100%|██████████| 1000/1000 [00:00<00:00, 13623.27it/s]"
     ]
    },
    {
     "name": "stdout",
     "output_type": "stream",
     "text": [
      "Experiment:  482\n"
     ]
    },
    {
     "name": "stderr",
     "output_type": "stream",
     "text": [
      "\n",
      "iterations: 100%|██████████| 1000/1000 [00:00<00:00, 20404.78it/s]\n",
      "iterations: 100%|██████████| 1000/1000 [00:00<00:00, 17014.33it/s]\n",
      "iterations: 100%|██████████| 1000/1000 [00:00<00:00, 12406.61it/s]\n"
     ]
    },
    {
     "name": "stdout",
     "output_type": "stream",
     "text": [
      "Experiment:  483\n",
      "Experiment:  484\n"
     ]
    },
    {
     "name": "stderr",
     "output_type": "stream",
     "text": [
      "iterations: 100%|██████████| 1000/1000 [00:00<00:00, 20621.17it/s]\n",
      "iterations: 100%|██████████| 1000/1000 [00:00<00:00, 16784.47it/s]\n",
      "iterations: 100%|██████████| 1000/1000 [00:00<00:00, 14023.46it/s]\n",
      "iterations: 100%|██████████| 1000/1000 [00:00<00:00, 19768.60it/s]\n",
      "iterations: 100%|██████████| 1000/1000 [00:00<00:00, 17711.68it/s]\n",
      "iterations: 100%|██████████| 1000/1000 [00:00<00:00, 14981.53it/s]\n",
      "iterations:   0%|          | 0/1000 [00:00<?, ?it/s]"
     ]
    },
    {
     "name": "stdout",
     "output_type": "stream",
     "text": [
      "Experiment:  485\n",
      "Experiment:  486\n"
     ]
    },
    {
     "name": "stderr",
     "output_type": "stream",
     "text": [
      "iterations: 100%|██████████| 1000/1000 [00:00<00:00, 18633.48it/s]\n",
      "iterations: 100%|██████████| 1000/1000 [00:00<00:00, 15735.11it/s]\n",
      "iterations: 100%|██████████| 1000/1000 [00:00<00:00, 14224.34it/s]\n",
      "iterations: 100%|██████████| 1000/1000 [00:00<00:00, 19353.56it/s]\n",
      "iterations: 100%|██████████| 1000/1000 [00:00<00:00, 14509.75it/s]\n",
      "iterations:   0%|          | 0/1000 [00:00<?, ?it/s]"
     ]
    },
    {
     "name": "stdout",
     "output_type": "stream",
     "text": [
      "Experiment:  487\n"
     ]
    },
    {
     "name": "stderr",
     "output_type": "stream",
     "text": [
      "iterations: 100%|██████████| 1000/1000 [00:00<00:00, 14099.83it/s]\n",
      "iterations: 100%|██████████| 1000/1000 [00:00<00:00, 20092.47it/s]\n",
      "iterations: 100%|██████████| 1000/1000 [00:00<00:00, 14257.80it/s]\n",
      "iterations: 100%|██████████| 1000/1000 [00:00<00:00, 14985.33it/s]"
     ]
    },
    {
     "name": "stdout",
     "output_type": "stream",
     "text": [
      "Experiment:  488\n"
     ]
    },
    {
     "name": "stderr",
     "output_type": "stream",
     "text": [
      "\n",
      "iterations: 100%|██████████| 1000/1000 [00:00<00:00, 20289.78it/s]\n",
      "iterations: 100%|██████████| 1000/1000 [00:00<00:00, 15550.87it/s]\n",
      "iterations: 100%|██████████| 1000/1000 [00:00<00:00, 14500.97it/s]\n",
      "iterations:   0%|          | 0/1000 [00:00<?, ?it/s]"
     ]
    },
    {
     "name": "stdout",
     "output_type": "stream",
     "text": [
      "Experiment:  489\n",
      "Experiment:  490\n"
     ]
    },
    {
     "name": "stderr",
     "output_type": "stream",
     "text": [
      "iterations: 100%|██████████| 1000/1000 [00:00<00:00, 19279.72it/s]\n",
      "iterations: 100%|██████████| 1000/1000 [00:00<00:00, 17223.51it/s]\n",
      "iterations: 100%|██████████| 1000/1000 [00:00<00:00, 12919.58it/s]\n",
      "iterations: 100%|██████████| 1000/1000 [00:00<00:00, 22429.55it/s]\n",
      "iterations: 100%|██████████| 1000/1000 [00:00<00:00, 16489.96it/s]\n",
      "iterations: 100%|██████████| 1000/1000 [00:00<00:00, 14296.49it/s]\n",
      "iterations:   0%|          | 0/1000 [00:00<?, ?it/s]"
     ]
    },
    {
     "name": "stdout",
     "output_type": "stream",
     "text": [
      "Experiment:  491\n",
      "Experiment:  492\n"
     ]
    },
    {
     "name": "stderr",
     "output_type": "stream",
     "text": [
      "iterations: 100%|██████████| 1000/1000 [00:00<00:00, 20272.13it/s]\n",
      "iterations: 100%|██████████| 1000/1000 [00:00<00:00, 17817.02it/s]\n",
      "iterations: 100%|██████████| 1000/1000 [00:00<00:00, 13420.31it/s]\n",
      "iterations: 100%|██████████| 1000/1000 [00:00<00:00, 22931.60it/s]\n",
      "iterations: 100%|██████████| 1000/1000 [00:00<00:00, 15420.92it/s]\n",
      "iterations: 100%|██████████| 1000/1000 [00:00<00:00, 13932.85it/s]\n",
      "iterations:   0%|          | 0/1000 [00:00<?, ?it/s]"
     ]
    },
    {
     "name": "stdout",
     "output_type": "stream",
     "text": [
      "Experiment:  493\n",
      "Experiment:  494\n"
     ]
    },
    {
     "name": "stderr",
     "output_type": "stream",
     "text": [
      "iterations: 100%|██████████| 1000/1000 [00:00<00:00, 18947.29it/s]\n",
      "iterations: 100%|██████████| 1000/1000 [00:00<00:00, 16596.38it/s]\n",
      "iterations: 100%|██████████| 1000/1000 [00:00<00:00, 14662.32it/s]\n",
      "iterations: 100%|██████████| 1000/1000 [00:00<00:00, 18940.19it/s]\n",
      "iterations: 100%|██████████| 1000/1000 [00:00<00:00, 16497.81it/s]\n",
      "iterations: 100%|██████████| 1000/1000 [00:00<00:00, 14283.05it/s]\n",
      "iterations:   0%|          | 0/1000 [00:00<?, ?it/s]"
     ]
    },
    {
     "name": "stdout",
     "output_type": "stream",
     "text": [
      "Experiment:  495\n",
      "Experiment:  496\n"
     ]
    },
    {
     "name": "stderr",
     "output_type": "stream",
     "text": [
      "iterations: 100%|██████████| 1000/1000 [00:00<00:00, 20244.15it/s]\n",
      "iterations: 100%|██████████| 1000/1000 [00:00<00:00, 17545.35it/s]\n",
      "iterations: 100%|██████████| 1000/1000 [00:00<00:00, 14941.40it/s]\n",
      "iterations: 100%|██████████| 1000/1000 [00:00<00:00, 16413.36it/s]\n",
      "iterations: 100%|██████████| 1000/1000 [00:00<00:00, 16566.88it/s]\n",
      "iterations: 100%|██████████| 1000/1000 [00:00<00:00, 14612.42it/s]\n"
     ]
    },
    {
     "name": "stdout",
     "output_type": "stream",
     "text": [
      "Experiment:  497\n",
      "Experiment:  498\n"
     ]
    },
    {
     "name": "stderr",
     "output_type": "stream",
     "text": [
      "iterations: 100%|██████████| 1000/1000 [00:00<00:00, 19743.75it/s]\n",
      "iterations: 100%|██████████| 1000/1000 [00:00<00:00, 16679.14it/s]\n",
      "iterations: 100%|██████████| 1000/1000 [00:00<00:00, 13661.61it/s]\n",
      "iterations: 100%|██████████| 1000/1000 [00:00<00:00, 20848.93it/s]\n",
      "iterations: 100%|██████████| 1000/1000 [00:00<00:00, 17753.14it/s]\n",
      "iterations:   0%|          | 0/1000 [00:00<?, ?it/s]"
     ]
    },
    {
     "name": "stdout",
     "output_type": "stream",
     "text": [
      "Experiment:  499\n"
     ]
    },
    {
     "name": "stderr",
     "output_type": "stream",
     "text": [
      "iterations: 100%|██████████| 1000/1000 [00:00<00:00, 6842.51it/s]\n"
     ]
    },
    {
     "data": {
      "image/png": "[encoded data removed]",
      "text/plain": [
       "<Figure size 432x288 with 1 Axes>"
      ]
     },
     "metadata": {},
     "output_type": "display_data"
    }
   ],
   "source": [
    "# Environment, Agent, and Strategy\n",
    "bandit = BinomialBandit(num_arm=num_arm, num_trial=1, num_sample=3*num_iter)    # Bernoulli distribution\n",
    "agents = [\n",
    "    Agent(policy=EpsilonGreedy(epsilon=0.1), num_arm=num_arm),\n",
    "    Agent(policy=UpperConfidenceBound(const=1), num_arm=num_arm),\n",
    "    BetaAgent(policy=EpsilonGreedy(epsilon=0), num_arm=num_arm, num_trial=1)\n",
    "]\n",
    "\n",
    "# Run simulation\n",
    "scores, optimal = runner(bandit=bandit, agents=agents, num_iter=num_iter, num_experiment=num_experiment)\n",
    "plot_result(agents, scores, optimal, [\"EpsilonGreedy\", \"UCB\", \"ThompsonSampling\"])"
   ]
  },
  {
   "cell_type": "markdown",
   "metadata": {},
   "source": [
    "## Policy Gradient"
   ]
  },
  {
   "cell_type": "code",
   "execution_count": 5,
   "metadata": {},
   "outputs": [
    {
     "name": "stderr",
     "output_type": "stream",
     "text": [
      "iterations: 100%|██████████| 1000/1000 [00:00<00:00, 8855.36it/s]\n",
      "iterations:   0%|          | 0/1000 [00:00<?, ?it/s]"
     ]
    },
    {
     "name": "stdout",
     "output_type": "stream",
     "text": [
      "Experiment:  0\n"
     ]
    },
    {
     "name": "stderr",
     "output_type": "stream",
     "text": [
      "iterations: 100%|██████████| 1000/1000 [00:00<00:00, 8849.00it/s]\n",
      "iterations: 100%|██████████| 1000/1000 [00:00<00:00, 11857.06it/s]\n",
      "iterations: 100%|██████████| 1000/1000 [00:00<00:00, 10615.72it/s]\n",
      "iterations: 100%|██████████| 1000/1000 [00:00<00:00, 9518.64it/s]\n",
      "iterations:   0%|          | 0/1000 [00:00<?, ?it/s]"
     ]
    },
    {
     "name": "stdout",
     "output_type": "stream",
     "text": [
      "Experiment:  1\n"
     ]
    },
    {
     "name": "stderr",
     "output_type": "stream",
     "text": [
      "iterations: 100%|██████████| 1000/1000 [00:00<00:00, 9972.07it/s]\n",
      "iterations: 100%|██████████| 1000/1000 [00:00<00:00, 11594.48it/s]\n",
      "iterations: 100%|██████████| 1000/1000 [00:00<00:00, 11893.71it/s]\n",
      "iterations: 100%|██████████| 1000/1000 [00:00<00:00, 8421.84it/s]\n",
      "iterations:   0%|          | 0/1000 [00:00<?, ?it/s]"
     ]
    },
    {
     "name": "stdout",
     "output_type": "stream",
     "text": [
      "Experiment:  2\n"
     ]
    },
    {
     "name": "stderr",
     "output_type": "stream",
     "text": [
      "iterations: 100%|██████████| 1000/1000 [00:00<00:00, 8356.72it/s]\n",
      "iterations: 100%|██████████| 1000/1000 [00:00<00:00, 11665.30it/s]\n",
      "iterations: 100%|██████████| 1000/1000 [00:00<00:00, 11289.61it/s]\n",
      "iterations: 100%|██████████| 1000/1000 [00:00<00:00, 9112.11it/s]\n",
      "iterations:   0%|          | 0/1000 [00:00<?, ?it/s]"
     ]
    },
    {
     "name": "stdout",
     "output_type": "stream",
     "text": [
      "Experiment:  3\n"
     ]
    },
    {
     "name": "stderr",
     "output_type": "stream",
     "text": [
      "iterations: 100%|██████████| 1000/1000 [00:00<00:00, 9181.04it/s]\n",
      "iterations: 100%|██████████| 1000/1000 [00:00<00:00, 11757.41it/s]\n",
      "iterations: 100%|██████████| 1000/1000 [00:00<00:00, 11064.52it/s]\n",
      "iterations: 100%|██████████| 1000/1000 [00:00<00:00, 10023.84it/s]\n",
      "iterations:   0%|          | 0/1000 [00:00<?, ?it/s]"
     ]
    },
    {
     "name": "stdout",
     "output_type": "stream",
     "text": [
      "Experiment:  4\n"
     ]
    },
    {
     "name": "stderr",
     "output_type": "stream",
     "text": [
      "iterations: 100%|██████████| 1000/1000 [00:00<00:00, 10113.56it/s]\n",
      "iterations: 100%|██████████| 1000/1000 [00:00<00:00, 11210.64it/s]\n",
      "iterations: 100%|██████████| 1000/1000 [00:00<00:00, 11328.61it/s]\n",
      "iterations: 100%|██████████| 1000/1000 [00:00<00:00, 9514.39it/s]\n",
      "iterations:   0%|          | 0/1000 [00:00<?, ?it/s]"
     ]
    },
    {
     "name": "stdout",
     "output_type": "stream",
     "text": [
      "Experiment:  5\n"
     ]
    },
    {
     "name": "stderr",
     "output_type": "stream",
     "text": [
      "iterations: 100%|██████████| 1000/1000 [00:00<00:00, 9836.41it/s]\n",
      "iterations: 100%|██████████| 1000/1000 [00:00<00:00, 9734.64it/s]\n",
      "iterations: 100%|██████████| 1000/1000 [00:00<00:00, 11464.23it/s]\n",
      "iterations: 100%|██████████| 1000/1000 [00:00<00:00, 9652.80it/s]\n",
      "iterations:   0%|          | 0/1000 [00:00<?, ?it/s]"
     ]
    },
    {
     "name": "stdout",
     "output_type": "stream",
     "text": [
      "Experiment:  6\n"
     ]
    },
    {
     "name": "stderr",
     "output_type": "stream",
     "text": [
      "iterations: 100%|██████████| 1000/1000 [00:00<00:00, 9632.78it/s]\n",
      "iterations: 100%|██████████| 1000/1000 [00:00<00:00, 10676.93it/s]\n",
      "iterations: 100%|██████████| 1000/1000 [00:00<00:00, 12288.05it/s]\n",
      "iterations: 100%|██████████| 1000/1000 [00:00<00:00, 10712.71it/s]\n",
      "iterations: 100%|██████████| 1000/1000 [00:00<00:00, 10354.44it/s]\n",
      "iterations:   0%|          | 0/1000 [00:00<?, ?it/s]"
     ]
    },
    {
     "name": "stdout",
     "output_type": "stream",
     "text": [
      "Experiment:  7\n"
     ]
    },
    {
     "name": "stderr",
     "output_type": "stream",
     "text": [
      "iterations: 100%|██████████| 1000/1000 [00:00<00:00, 12405.84it/s]\n",
      "iterations: 100%|██████████| 1000/1000 [00:00<00:00, 8370.73it/s]\n",
      "iterations:  32%|███▏      | 319/1000 [00:00<00:00, 3188.57it/s]"
     ]
    },
    {
     "name": "stdout",
     "output_type": "stream",
     "text": [
      "Experiment:  8\n"
     ]
    },
    {
     "name": "stderr",
     "output_type": "stream",
     "text": [
      "iterations: 100%|██████████| 1000/1000 [00:00<00:00, 4561.96it/s]\n",
      "iterations: 100%|██████████| 1000/1000 [00:00<00:00, 10187.22it/s]\n",
      "iterations: 100%|██████████| 1000/1000 [00:00<00:00, 10209.07it/s]\n",
      "iterations: 100%|██████████| 1000/1000 [00:00<00:00, 11556.94it/s]\n",
      "iterations: 100%|██████████| 1000/1000 [00:00<00:00, 10180.72it/s]\n",
      "iterations:   0%|          | 0/1000 [00:00<?, ?it/s]"
     ]
    },
    {
     "name": "stdout",
     "output_type": "stream",
     "text": [
      "Experiment:  9\n"
     ]
    },
    {
     "name": "stderr",
     "output_type": "stream",
     "text": [
      "iterations: 100%|██████████| 1000/1000 [00:00<00:00, 4042.45it/s]\n",
      "iterations: 100%|██████████| 1000/1000 [00:00<00:00, 11922.92it/s]\n",
      "iterations: 100%|██████████| 1000/1000 [00:00<00:00, 11891.55it/s]\n",
      "iterations: 100%|██████████| 1000/1000 [00:00<00:00, 9458.75it/s]\n",
      "iterations:   0%|          | 0/1000 [00:00<?, ?it/s]"
     ]
    },
    {
     "name": "stdout",
     "output_type": "stream",
     "text": [
      "Experiment:  10\n"
     ]
    },
    {
     "name": "stderr",
     "output_type": "stream",
     "text": [
      "iterations: 100%|██████████| 1000/1000 [00:00<00:00, 9450.63it/s]\n",
      "iterations: 100%|██████████| 1000/1000 [00:00<00:00, 9815.07it/s]\n",
      "iterations: 100%|██████████| 1000/1000 [00:00<00:00, 11688.54it/s]\n",
      "iterations: 100%|██████████| 1000/1000 [00:00<00:00, 9539.88it/s]\n",
      "iterations:   0%|          | 0/1000 [00:00<?, ?it/s]"
     ]
    },
    {
     "name": "stdout",
     "output_type": "stream",
     "text": [
      "Experiment:  11\n"
     ]
    },
    {
     "name": "stderr",
     "output_type": "stream",
     "text": [
      "iterations: 100%|██████████| 1000/1000 [00:00<00:00, 7914.59it/s]\n",
      "iterations: 100%|██████████| 1000/1000 [00:00<00:00, 9199.81it/s]\n",
      "iterations: 100%|██████████| 1000/1000 [00:00<00:00, 9833.13it/s]\n",
      "iterations: 100%|██████████| 1000/1000 [00:00<00:00, 10504.19it/s]\n",
      "iterations:  98%|█████████▊| 979/1000 [00:00<00:00, 9784.90it/s]"
     ]
    },
    {
     "name": "stdout",
     "output_type": "stream",
     "text": [
      "Experiment:  12\n"
     ]
    },
    {
     "name": "stderr",
     "output_type": "stream",
     "text": [
      "iterations: 100%|██████████| 1000/1000 [00:00<00:00, 9465.56it/s]\n",
      "iterations: 100%|██████████| 1000/1000 [00:00<00:00, 11825.77it/s]\n",
      "iterations: 100%|██████████| 1000/1000 [00:00<00:00, 11472.39it/s]\n",
      "iterations: 100%|██████████| 1000/1000 [00:00<00:00, 10218.27it/s]\n",
      "iterations: 100%|██████████| 1000/1000 [00:00<00:00, 10209.39it/s]\n"
     ]
    },
    {
     "name": "stdout",
     "output_type": "stream",
     "text": [
      "Experiment:  13\n"
     ]
    },
    {
     "name": "stderr",
     "output_type": "stream",
     "text": [
      "iterations: 100%|██████████| 1000/1000 [00:00<00:00, 10909.06it/s]\n",
      "iterations: 100%|██████████| 1000/1000 [00:00<00:00, 12515.01it/s]\n",
      "iterations: 100%|██████████| 1000/1000 [00:00<00:00, 10621.56it/s]\n",
      "iterations: 100%|██████████| 1000/1000 [00:00<00:00, 10501.12it/s]\n",
      "iterations:   0%|          | 0/1000 [00:00<?, ?it/s]"
     ]
    },
    {
     "name": "stdout",
     "output_type": "stream",
     "text": [
      "Experiment:  14\n"
     ]
    },
    {
     "name": "stderr",
     "output_type": "stream",
     "text": [
      "iterations: 100%|██████████| 1000/1000 [00:00<00:00, 12147.26it/s]\n",
      "iterations: 100%|██████████| 1000/1000 [00:00<00:00, 12107.29it/s]\n",
      "iterations: 100%|██████████| 1000/1000 [00:00<00:00, 10644.63it/s]\n",
      "iterations: 100%|██████████| 1000/1000 [00:00<00:00, 10877.71it/s]\n",
      "iterations:   0%|          | 0/1000 [00:00<?, ?it/s]"
     ]
    },
    {
     "name": "stdout",
     "output_type": "stream",
     "text": [
      "Experiment:  15\n"
     ]
    },
    {
     "name": "stderr",
     "output_type": "stream",
     "text": [
      "iterations: 100%|██████████| 1000/1000 [00:00<00:00, 12280.92it/s]\n",
      "iterations: 100%|██████████| 1000/1000 [00:00<00:00, 12079.78it/s]\n",
      "iterations: 100%|██████████| 1000/1000 [00:00<00:00, 11159.46it/s]\n",
      "iterations: 100%|██████████| 1000/1000 [00:00<00:00, 9427.82it/s]"
     ]
    },
    {
     "name": "stdout",
     "output_type": "stream",
     "text": [
      "Experiment:  16\n"
     ]
    },
    {
     "name": "stderr",
     "output_type": "stream",
     "text": [
      "\n",
      "iterations: 100%|██████████| 1000/1000 [00:00<00:00, 12059.08it/s]\n",
      "iterations: 100%|██████████| 1000/1000 [00:00<00:00, 11658.84it/s]\n",
      "iterations: 100%|██████████| 1000/1000 [00:00<00:00, 6494.60it/s]\n",
      "iterations:   0%|          | 0/1000 [00:00<?, ?it/s]"
     ]
    },
    {
     "name": "stdout",
     "output_type": "stream",
     "text": [
      "Experiment:  17\n"
     ]
    },
    {
     "name": "stderr",
     "output_type": "stream",
     "text": [
      "iterations: 100%|██████████| 1000/1000 [00:00<00:00, 9270.78it/s]\n",
      "iterations: 100%|██████████| 1000/1000 [00:00<00:00, 10208.65it/s]\n",
      "iterations: 100%|██████████| 1000/1000 [00:00<00:00, 11063.44it/s]\n",
      "iterations: 100%|██████████| 1000/1000 [00:00<00:00, 10153.41it/s]\n",
      "iterations:   0%|          | 0/1000 [00:00<?, ?it/s]"
     ]
    },
    {
     "name": "stdout",
     "output_type": "stream",
     "text": [
      "Experiment:  18\n"
     ]
    },
    {
     "name": "stderr",
     "output_type": "stream",
     "text": [
      "iterations: 100%|██████████| 1000/1000 [00:00<00:00, 5975.75it/s]\n",
      "iterations: 100%|██████████| 1000/1000 [00:00<00:00, 12128.86it/s]\n",
      "iterations: 100%|██████████| 1000/1000 [00:00<00:00, 10690.97it/s]\n",
      "iterations: 100%|██████████| 1000/1000 [00:00<00:00, 10062.19it/s]\n",
      "iterations:   0%|          | 0/1000 [00:00<?, ?it/s]"
     ]
    },
    {
     "name": "stdout",
     "output_type": "stream",
     "text": [
      "Experiment:  19\n"
     ]
    },
    {
     "name": "stderr",
     "output_type": "stream",
     "text": [
      "iterations: 100%|██████████| 1000/1000 [00:00<00:00, 10160.92it/s]\n",
      "iterations: 100%|██████████| 1000/1000 [00:00<00:00, 12408.05it/s]\n",
      "iterations: 100%|██████████| 1000/1000 [00:00<00:00, 12664.46it/s]\n",
      "iterations: 100%|██████████| 1000/1000 [00:00<00:00, 10519.34it/s]\n",
      "iterations: 100%|██████████| 1000/1000 [00:00<00:00, 11088.94it/s]\n",
      "iterations:   0%|          | 0/1000 [00:00<?, ?it/s]"
     ]
    },
    {
     "name": "stdout",
     "output_type": "stream",
     "text": [
      "Experiment:  20\n"
     ]
    },
    {
     "name": "stderr",
     "output_type": "stream",
     "text": [
      "iterations: 100%|██████████| 1000/1000 [00:00<00:00, 11296.97it/s]\n",
      "iterations: 100%|██████████| 1000/1000 [00:00<00:00, 11507.23it/s]\n",
      "iterations: 100%|██████████| 1000/1000 [00:00<00:00, 9807.11it/s]\n",
      "iterations:   0%|          | 0/1000 [00:00<?, ?it/s]"
     ]
    },
    {
     "name": "stdout",
     "output_type": "stream",
     "text": [
      "Experiment:  21\n"
     ]
    },
    {
     "name": "stderr",
     "output_type": "stream",
     "text": [
      "iterations: 100%|██████████| 1000/1000 [00:00<00:00, 10274.77it/s]\n",
      "iterations: 100%|██████████| 1000/1000 [00:00<00:00, 5506.67it/s]\n",
      "iterations: 100%|██████████| 1000/1000 [00:00<00:00, 11663.29it/s]\n",
      "iterations: 100%|██████████| 1000/1000 [00:00<00:00, 10268.83it/s]\n",
      "iterations: 100%|██████████| 1000/1000 [00:00<00:00, 10364.21it/s]\n"
     ]
    },
    {
     "name": "stdout",
     "output_type": "stream",
     "text": [
      "Experiment:  22\n"
     ]
    },
    {
     "name": "stderr",
     "output_type": "stream",
     "text": [
      "iterations: 100%|██████████| 1000/1000 [00:00<00:00, 11481.02it/s]\n",
      "iterations: 100%|██████████| 1000/1000 [00:00<00:00, 10780.25it/s]\n",
      "iterations: 100%|██████████| 1000/1000 [00:00<00:00, 10362.81it/s]\n",
      "iterations: 100%|██████████| 1000/1000 [00:00<00:00, 10879.01it/s]\n",
      "iterations:   0%|          | 0/1000 [00:00<?, ?it/s]"
     ]
    },
    {
     "name": "stdout",
     "output_type": "stream",
     "text": [
      "Experiment:  23\n"
     ]
    },
    {
     "name": "stderr",
     "output_type": "stream",
     "text": [
      "iterations: 100%|██████████| 1000/1000 [00:00<00:00, 11682.65it/s]\n",
      "iterations: 100%|██████████| 1000/1000 [00:00<00:00, 11830.84it/s]\n",
      "iterations: 100%|██████████| 1000/1000 [00:00<00:00, 9276.79it/s]\n",
      "iterations:   0%|          | 0/1000 [00:00<?, ?it/s]"
     ]
    },
    {
     "name": "stdout",
     "output_type": "stream",
     "text": [
      "Experiment:  24\n"
     ]
    },
    {
     "name": "stderr",
     "output_type": "stream",
     "text": [
      "iterations: 100%|██████████| 1000/1000 [00:00<00:00, 10153.61it/s]\n",
      "iterations: 100%|██████████| 1000/1000 [00:00<00:00, 11602.82it/s]\n",
      "iterations: 100%|██████████| 1000/1000 [00:00<00:00, 12319.81it/s]\n",
      "iterations: 100%|██████████| 1000/1000 [00:00<00:00, 10315.00it/s]\n",
      "iterations:  98%|█████████▊| 978/1000 [00:00<00:00, 9778.05it/s]"
     ]
    },
    {
     "name": "stdout",
     "output_type": "stream",
     "text": [
      "Experiment:  25\n"
     ]
    },
    {
     "name": "stderr",
     "output_type": "stream",
     "text": [
      "iterations: 100%|██████████| 1000/1000 [00:00<00:00, 9703.49it/s]\n",
      "iterations: 100%|██████████| 1000/1000 [00:00<00:00, 12213.87it/s]\n",
      "iterations: 100%|██████████| 1000/1000 [00:00<00:00, 12520.31it/s]\n",
      "iterations: 100%|██████████| 1000/1000 [00:00<00:00, 10762.05it/s]\n",
      "iterations: 100%|██████████| 1000/1000 [00:00<00:00, 10665.42it/s]\n",
      "iterations:   0%|          | 0/1000 [00:00<?, ?it/s]"
     ]
    },
    {
     "name": "stdout",
     "output_type": "stream",
     "text": [
      "Experiment:  26\n"
     ]
    },
    {
     "name": "stderr",
     "output_type": "stream",
     "text": [
      "iterations: 100%|██████████| 1000/1000 [00:00<00:00, 10513.59it/s]\n",
      "iterations: 100%|██████████| 1000/1000 [00:00<00:00, 11516.33it/s]\n",
      "iterations: 100%|██████████| 1000/1000 [00:00<00:00, 10198.05it/s]\n",
      "iterations:   0%|          | 0/1000 [00:00<?, ?it/s]"
     ]
    },
    {
     "name": "stdout",
     "output_type": "stream",
     "text": [
      "Experiment:  27\n"
     ]
    },
    {
     "name": "stderr",
     "output_type": "stream",
     "text": [
      "iterations: 100%|██████████| 1000/1000 [00:00<00:00, 10128.92it/s]\n",
      "iterations: 100%|██████████| 1000/1000 [00:00<00:00, 12025.75it/s]\n",
      "iterations: 100%|██████████| 1000/1000 [00:00<00:00, 11707.95it/s]\n",
      "iterations: 100%|██████████| 1000/1000 [00:00<00:00, 10271.97it/s]\n",
      "iterations: 100%|██████████| 1000/1000 [00:00<00:00, 10432.09it/s]"
     ]
    },
    {
     "name": "stdout",
     "output_type": "stream",
     "text": [
      "Experiment:  28\n"
     ]
    },
    {
     "name": "stderr",
     "output_type": "stream",
     "text": [
      "\n",
      "iterations: 100%|██████████| 1000/1000 [00:00<00:00, 11400.69it/s]\n",
      "iterations: 100%|██████████| 1000/1000 [00:00<00:00, 11068.81it/s]\n",
      "iterations: 100%|██████████| 1000/1000 [00:00<00:00, 10557.10it/s]\n",
      "iterations: 100%|██████████| 1000/1000 [00:00<00:00, 10370.65it/s]\n",
      "iterations:   0%|          | 0/1000 [00:00<?, ?it/s]"
     ]
    },
    {
     "name": "stdout",
     "output_type": "stream",
     "text": [
      "Experiment:  29\n"
     ]
    },
    {
     "name": "stderr",
     "output_type": "stream",
     "text": [
      "iterations: 100%|██████████| 1000/1000 [00:00<00:00, 12195.01it/s]\n",
      "iterations: 100%|██████████| 1000/1000 [00:00<00:00, 12079.95it/s]\n",
      "iterations: 100%|██████████| 1000/1000 [00:00<00:00, 10649.74it/s]\n",
      "iterations: 100%|██████████| 1000/1000 [00:00<00:00, 10742.18it/s]\n",
      "iterations:   0%|          | 0/1000 [00:00<?, ?it/s]"
     ]
    },
    {
     "name": "stdout",
     "output_type": "stream",
     "text": [
      "Experiment:  30\n"
     ]
    },
    {
     "name": "stderr",
     "output_type": "stream",
     "text": [
      "iterations: 100%|██████████| 1000/1000 [00:00<00:00, 12428.52it/s]\n",
      "iterations: 100%|██████████| 1000/1000 [00:00<00:00, 12428.71it/s]\n",
      "iterations: 100%|██████████| 1000/1000 [00:00<00:00, 11132.00it/s]\n",
      "iterations:  91%|█████████ | 912/1000 [00:00<00:00, 9117.64it/s]"
     ]
    },
    {
     "name": "stdout",
     "output_type": "stream",
     "text": [
      "Experiment:  31\n"
     ]
    },
    {
     "name": "stderr",
     "output_type": "stream",
     "text": [
      "iterations: 100%|██████████| 1000/1000 [00:00<00:00, 8967.42it/s]\n",
      "iterations: 100%|██████████| 1000/1000 [00:00<00:00, 12333.18it/s]\n",
      "iterations: 100%|██████████| 1000/1000 [00:00<00:00, 12389.43it/s]\n",
      "iterations: 100%|██████████| 1000/1000 [00:00<00:00, 10691.38it/s]\n",
      "iterations: 100%|██████████| 1000/1000 [00:00<00:00, 11058.62it/s]\n",
      "iterations:   0%|          | 0/1000 [00:00<?, ?it/s]"
     ]
    },
    {
     "name": "stdout",
     "output_type": "stream",
     "text": [
      "Experiment:  32\n"
     ]
    },
    {
     "name": "stderr",
     "output_type": "stream",
     "text": [
      "iterations: 100%|██████████| 1000/1000 [00:00<00:00, 11299.80it/s]\n",
      "iterations: 100%|██████████| 1000/1000 [00:00<00:00, 12145.68it/s]\n",
      "iterations: 100%|██████████| 1000/1000 [00:00<00:00, 10840.12it/s]\n",
      "iterations: 100%|██████████| 1000/1000 [00:00<00:00, 10892.74it/s]\n",
      "iterations:   0%|          | 0/1000 [00:00<?, ?it/s]"
     ]
    },
    {
     "name": "stdout",
     "output_type": "stream",
     "text": [
      "Experiment:  33\n"
     ]
    },
    {
     "name": "stderr",
     "output_type": "stream",
     "text": [
      "iterations: 100%|██████████| 1000/1000 [00:00<00:00, 12285.20it/s]\n",
      "iterations: 100%|██████████| 1000/1000 [00:00<00:00, 12010.84it/s]\n",
      "iterations: 100%|██████████| 1000/1000 [00:00<00:00, 10860.61it/s]\n",
      "iterations: 100%|██████████| 1000/1000 [00:00<00:00, 10884.60it/s]\n",
      "iterations:   0%|          | 0/1000 [00:00<?, ?it/s]"
     ]
    },
    {
     "name": "stdout",
     "output_type": "stream",
     "text": [
      "Experiment:  34\n"
     ]
    },
    {
     "name": "stderr",
     "output_type": "stream",
     "text": [
      "iterations: 100%|██████████| 1000/1000 [00:00<00:00, 11743.85it/s]\n",
      "iterations: 100%|██████████| 1000/1000 [00:00<00:00, 12308.89it/s]\n",
      "iterations: 100%|██████████| 1000/1000 [00:00<00:00, 10650.33it/s]\n",
      "iterations: 100%|██████████| 1000/1000 [00:00<00:00, 10620.21it/s]\n",
      "iterations:   0%|          | 0/1000 [00:00<?, ?it/s]"
     ]
    },
    {
     "name": "stdout",
     "output_type": "stream",
     "text": [
      "Experiment:  35\n"
     ]
    },
    {
     "name": "stderr",
     "output_type": "stream",
     "text": [
      "iterations: 100%|██████████| 1000/1000 [00:00<00:00, 5737.46it/s]\n",
      "iterations: 100%|██████████| 1000/1000 [00:00<00:00, 10984.80it/s]\n",
      "iterations: 100%|██████████| 1000/1000 [00:00<00:00, 10925.03it/s]\n",
      "iterations: 100%|██████████| 1000/1000 [00:00<00:00, 10903.44it/s]\n",
      "iterations:   0%|          | 0/1000 [00:00<?, ?it/s]"
     ]
    },
    {
     "name": "stdout",
     "output_type": "stream",
     "text": [
      "Experiment:  36\n"
     ]
    },
    {
     "name": "stderr",
     "output_type": "stream",
     "text": [
      "iterations: 100%|██████████| 1000/1000 [00:00<00:00, 12098.91it/s]\n",
      "iterations: 100%|██████████| 1000/1000 [00:00<00:00, 12823.60it/s]\n",
      "iterations: 100%|██████████| 1000/1000 [00:00<00:00, 10377.55it/s]\n",
      "iterations: 100%|██████████| 1000/1000 [00:00<00:00, 10815.50it/s]\n",
      "iterations:   0%|          | 0/1000 [00:00<?, ?it/s]"
     ]
    },
    {
     "name": "stdout",
     "output_type": "stream",
     "text": [
      "Experiment:  37\n"
     ]
    },
    {
     "name": "stderr",
     "output_type": "stream",
     "text": [
      "iterations: 100%|██████████| 1000/1000 [00:00<00:00, 12051.84it/s]\n",
      "iterations: 100%|██████████| 1000/1000 [00:00<00:00, 10011.61it/s]\n",
      "iterations: 100%|██████████| 1000/1000 [00:00<00:00, 8847.62it/s]\n",
      "iterations:   0%|          | 0/1000 [00:00<?, ?it/s]"
     ]
    },
    {
     "name": "stdout",
     "output_type": "stream",
     "text": [
      "Experiment:  38\n"
     ]
    },
    {
     "name": "stderr",
     "output_type": "stream",
     "text": [
      "iterations: 100%|██████████| 1000/1000 [00:00<00:00, 8904.33it/s]\n",
      "iterations: 100%|██████████| 1000/1000 [00:00<00:00, 12298.46it/s]\n",
      "iterations: 100%|██████████| 1000/1000 [00:00<00:00, 11987.70it/s]\n",
      "iterations: 100%|██████████| 1000/1000 [00:00<00:00, 9618.33it/s]\n",
      "iterations:   0%|          | 0/1000 [00:00<?, ?it/s]"
     ]
    },
    {
     "name": "stdout",
     "output_type": "stream",
     "text": [
      "Experiment:  39\n"
     ]
    },
    {
     "name": "stderr",
     "output_type": "stream",
     "text": [
      "iterations: 100%|██████████| 1000/1000 [00:00<00:00, 9439.83it/s]\n",
      "iterations: 100%|██████████| 1000/1000 [00:00<00:00, 11548.00it/s]\n",
      "iterations: 100%|██████████| 1000/1000 [00:00<00:00, 12229.90it/s]\n",
      "iterations: 100%|██████████| 1000/1000 [00:00<00:00, 10917.24it/s]\n",
      "iterations: 100%|██████████| 1000/1000 [00:00<00:00, 10308.20it/s]\n",
      "iterations:   0%|          | 0/1000 [00:00<?, ?it/s]"
     ]
    },
    {
     "name": "stdout",
     "output_type": "stream",
     "text": [
      "Experiment:  40\n"
     ]
    },
    {
     "name": "stderr",
     "output_type": "stream",
     "text": [
      "iterations: 100%|██████████| 1000/1000 [00:00<00:00, 12164.14it/s]\n",
      "iterations: 100%|██████████| 1000/1000 [00:00<00:00, 11322.86it/s]\n",
      "iterations: 100%|██████████| 1000/1000 [00:00<00:00, 10304.10it/s]\n",
      "iterations: 100%|██████████| 1000/1000 [00:00<00:00, 10156.61it/s]"
     ]
    },
    {
     "name": "stdout",
     "output_type": "stream",
     "text": [
      "Experiment:  41\n"
     ]
    },
    {
     "name": "stderr",
     "output_type": "stream",
     "text": [
      "\n",
      "iterations: 100%|██████████| 1000/1000 [00:00<00:00, 10850.89it/s]\n",
      "iterations: 100%|██████████| 1000/1000 [00:00<00:00, 10097.66it/s]\n",
      "iterations: 100%|██████████| 1000/1000 [00:00<00:00, 10167.05it/s]\n",
      "iterations: 100%|██████████| 1000/1000 [00:00<00:00, 10221.81it/s]"
     ]
    },
    {
     "name": "stdout",
     "output_type": "stream",
     "text": [
      "Experiment:  42\n"
     ]
    },
    {
     "name": "stderr",
     "output_type": "stream",
     "text": [
      "\n",
      "iterations: 100%|██████████| 1000/1000 [00:00<00:00, 11435.73it/s]\n",
      "iterations: 100%|██████████| 1000/1000 [00:00<00:00, 12211.67it/s]\n",
      "iterations: 100%|██████████| 1000/1000 [00:00<00:00, 10328.25it/s]\n",
      "iterations: 100%|██████████| 1000/1000 [00:00<00:00, 10680.79it/s]\n",
      "iterations:   0%|          | 0/1000 [00:00<?, ?it/s]"
     ]
    },
    {
     "name": "stdout",
     "output_type": "stream",
     "text": [
      "Experiment:  43\n"
     ]
    },
    {
     "name": "stderr",
     "output_type": "stream",
     "text": [
      "iterations: 100%|██████████| 1000/1000 [00:00<00:00, 11992.02it/s]\n",
      "iterations: 100%|██████████| 1000/1000 [00:00<00:00, 11792.98it/s]\n",
      "iterations: 100%|██████████| 1000/1000 [00:00<00:00, 11102.36it/s]\n",
      "iterations: 100%|██████████| 1000/1000 [00:00<00:00, 10480.10it/s]\n",
      "iterations:   0%|          | 0/1000 [00:00<?, ?it/s]"
     ]
    },
    {
     "name": "stdout",
     "output_type": "stream",
     "text": [
      "Experiment:  44\n"
     ]
    },
    {
     "name": "stderr",
     "output_type": "stream",
     "text": [
      "iterations: 100%|██████████| 1000/1000 [00:00<00:00, 11882.82it/s]\n",
      "iterations: 100%|██████████| 1000/1000 [00:00<00:00, 12595.39it/s]\n",
      "iterations: 100%|██████████| 1000/1000 [00:00<00:00, 10655.34it/s]\n",
      "iterations: 100%|██████████| 1000/1000 [00:00<00:00, 10874.27it/s]\n",
      "iterations:   0%|          | 0/1000 [00:00<?, ?it/s]"
     ]
    },
    {
     "name": "stdout",
     "output_type": "stream",
     "text": [
      "Experiment:  45\n"
     ]
    },
    {
     "name": "stderr",
     "output_type": "stream",
     "text": [
      "iterations: 100%|██████████| 1000/1000 [00:00<00:00, 11171.32it/s]\n",
      "iterations: 100%|██████████| 1000/1000 [00:00<00:00, 8209.38it/s]\n",
      "iterations: 100%|██████████| 1000/1000 [00:00<00:00, 5654.32it/s]\n",
      "iterations:   0%|          | 0/1000 [00:00<?, ?it/s]"
     ]
    },
    {
     "name": "stdout",
     "output_type": "stream",
     "text": [
      "Experiment:  46\n"
     ]
    },
    {
     "name": "stderr",
     "output_type": "stream",
     "text": [
      "iterations: 100%|██████████| 1000/1000 [00:00<00:00, 10233.53it/s]\n",
      "iterations: 100%|██████████| 1000/1000 [00:00<00:00, 11224.74it/s]\n",
      "iterations: 100%|██████████| 1000/1000 [00:00<00:00, 12047.16it/s]\n",
      "iterations: 100%|██████████| 1000/1000 [00:00<00:00, 10751.84it/s]\n",
      "iterations: 100%|██████████| 1000/1000 [00:00<00:00, 10501.78it/s]"
     ]
    },
    {
     "name": "stdout",
     "output_type": "stream",
     "text": [
      "Experiment:  47\n"
     ]
    },
    {
     "name": "stderr",
     "output_type": "stream",
     "text": [
      "\n",
      "iterations: 100%|██████████| 1000/1000 [00:00<00:00, 12517.55it/s]\n",
      "iterations: 100%|██████████| 1000/1000 [00:00<00:00, 12567.69it/s]\n",
      "iterations: 100%|██████████| 1000/1000 [00:00<00:00, 11080.21it/s]\n",
      "iterations: 100%|██████████| 1000/1000 [00:00<00:00, 10617.31it/s]\n",
      "iterations:   0%|          | 0/1000 [00:00<?, ?it/s]"
     ]
    },
    {
     "name": "stdout",
     "output_type": "stream",
     "text": [
      "Experiment:  48\n"
     ]
    },
    {
     "name": "stderr",
     "output_type": "stream",
     "text": [
      "iterations: 100%|██████████| 1000/1000 [00:00<00:00, 11549.18it/s]\n",
      "iterations: 100%|██████████| 1000/1000 [00:00<00:00, 12602.89it/s]\n",
      "iterations: 100%|██████████| 1000/1000 [00:00<00:00, 10710.30it/s]\n",
      "iterations: 100%|██████████| 1000/1000 [00:00<00:00, 10838.25it/s]\n",
      "iterations:   0%|          | 0/1000 [00:00<?, ?it/s]"
     ]
    },
    {
     "name": "stdout",
     "output_type": "stream",
     "text": [
      "Experiment:  49\n"
     ]
    },
    {
     "name": "stderr",
     "output_type": "stream",
     "text": [
      "iterations: 100%|██████████| 1000/1000 [00:00<00:00, 12115.93it/s]\n",
      "iterations: 100%|██████████| 1000/1000 [00:00<00:00, 12540.56it/s]\n",
      "iterations: 100%|██████████| 1000/1000 [00:00<00:00, 10850.33it/s]\n",
      "iterations: 100%|██████████| 1000/1000 [00:00<00:00, 10993.12it/s]\n",
      "iterations:   0%|          | 0/1000 [00:00<?, ?it/s]"
     ]
    },
    {
     "name": "stdout",
     "output_type": "stream",
     "text": [
      "Experiment:  50\n"
     ]
    },
    {
     "name": "stderr",
     "output_type": "stream",
     "text": [
      "iterations: 100%|██████████| 1000/1000 [00:00<00:00, 9579.84it/s]\n",
      "iterations: 100%|██████████| 1000/1000 [00:00<00:00, 12665.61it/s]\n",
      "iterations: 100%|██████████| 1000/1000 [00:00<00:00, 10994.24it/s]\n",
      "iterations: 100%|██████████| 1000/1000 [00:00<00:00, 10712.82it/s]\n",
      "iterations:   0%|          | 0/1000 [00:00<?, ?it/s]"
     ]
    },
    {
     "name": "stdout",
     "output_type": "stream",
     "text": [
      "Experiment:  51\n"
     ]
    },
    {
     "name": "stderr",
     "output_type": "stream",
     "text": [
      "iterations: 100%|██████████| 1000/1000 [00:00<00:00, 11379.29it/s]\n",
      "iterations: 100%|██████████| 1000/1000 [00:00<00:00, 12243.68it/s]\n",
      "iterations: 100%|██████████| 1000/1000 [00:00<00:00, 10985.26it/s]\n",
      "iterations: 100%|██████████| 1000/1000 [00:00<00:00, 10771.78it/s]\n",
      "iterations:   0%|          | 0/1000 [00:00<?, ?it/s]"
     ]
    },
    {
     "name": "stdout",
     "output_type": "stream",
     "text": [
      "Experiment:  52\n"
     ]
    },
    {
     "name": "stderr",
     "output_type": "stream",
     "text": [
      "iterations: 100%|██████████| 1000/1000 [00:00<00:00, 12362.77it/s]\n",
      "iterations: 100%|██████████| 1000/1000 [00:00<00:00, 12216.11it/s]\n",
      "iterations: 100%|██████████| 1000/1000 [00:00<00:00, 9544.46it/s]\n",
      "iterations:   0%|          | 0/1000 [00:00<?, ?it/s]"
     ]
    },
    {
     "name": "stdout",
     "output_type": "stream",
     "text": [
      "Experiment:  53\n"
     ]
    },
    {
     "name": "stderr",
     "output_type": "stream",
     "text": [
      "iterations: 100%|██████████| 1000/1000 [00:00<00:00, 10387.47it/s]\n",
      "iterations: 100%|██████████| 1000/1000 [00:00<00:00, 11826.37it/s]\n",
      "iterations: 100%|██████████| 1000/1000 [00:00<00:00, 11572.47it/s]\n",
      "iterations: 100%|██████████| 1000/1000 [00:00<00:00, 10299.62it/s]\n",
      "iterations:  92%|█████████▏| 921/1000 [00:00<00:00, 9203.21it/s]"
     ]
    },
    {
     "name": "stdout",
     "output_type": "stream",
     "text": [
      "Experiment:  54\n"
     ]
    },
    {
     "name": "stderr",
     "output_type": "stream",
     "text": [
      "iterations: 100%|██████████| 1000/1000 [00:00<00:00, 9261.59it/s]\n",
      "iterations: 100%|██████████| 1000/1000 [00:00<00:00, 11317.21it/s]\n",
      "iterations: 100%|██████████| 1000/1000 [00:00<00:00, 12124.47it/s]\n",
      "iterations: 100%|██████████| 1000/1000 [00:00<00:00, 10076.07it/s]\n",
      "iterations:   0%|          | 0/1000 [00:00<?, ?it/s]"
     ]
    },
    {
     "name": "stdout",
     "output_type": "stream",
     "text": [
      "Experiment:  55\n"
     ]
    },
    {
     "name": "stderr",
     "output_type": "stream",
     "text": [
      "iterations: 100%|██████████| 1000/1000 [00:00<00:00, 10282.88it/s]\n",
      "iterations: 100%|██████████| 1000/1000 [00:00<00:00, 10301.52it/s]\n",
      "iterations: 100%|██████████| 1000/1000 [00:00<00:00, 12092.18it/s]\n",
      "iterations: 100%|██████████| 1000/1000 [00:00<00:00, 10275.04it/s]\n",
      "iterations:   0%|          | 0/1000 [00:00<?, ?it/s]"
     ]
    },
    {
     "name": "stdout",
     "output_type": "stream",
     "text": [
      "Experiment:  56\n"
     ]
    },
    {
     "name": "stderr",
     "output_type": "stream",
     "text": [
      "iterations: 100%|██████████| 1000/1000 [00:00<00:00, 4266.40it/s]\n",
      "iterations: 100%|██████████| 1000/1000 [00:00<00:00, 11703.58it/s]\n",
      "iterations: 100%|██████████| 1000/1000 [00:00<00:00, 12232.71it/s]\n",
      "iterations: 100%|██████████| 1000/1000 [00:00<00:00, 9717.88it/s]\n",
      "iterations:   0%|          | 0/1000 [00:00<?, ?it/s]"
     ]
    },
    {
     "name": "stdout",
     "output_type": "stream",
     "text": [
      "Experiment:  57\n"
     ]
    },
    {
     "name": "stderr",
     "output_type": "stream",
     "text": [
      "iterations: 100%|██████████| 1000/1000 [00:00<00:00, 10786.90it/s]\n",
      "iterations: 100%|██████████| 1000/1000 [00:00<00:00, 12321.04it/s]\n",
      "iterations: 100%|██████████| 1000/1000 [00:00<00:00, 12680.04it/s]\n",
      "iterations: 100%|██████████| 1000/1000 [00:00<00:00, 10822.98it/s]\n",
      "iterations: 100%|██████████| 1000/1000 [00:00<00:00, 10690.84it/s]\n",
      "iterations:   0%|          | 0/1000 [00:00<?, ?it/s]"
     ]
    },
    {
     "name": "stdout",
     "output_type": "stream",
     "text": [
      "Experiment:  58\n"
     ]
    },
    {
     "name": "stderr",
     "output_type": "stream",
     "text": [
      "iterations: 100%|██████████| 1000/1000 [00:00<00:00, 11740.53it/s]\n",
      "iterations: 100%|██████████| 1000/1000 [00:00<00:00, 7722.60it/s]\n",
      "iterations: 100%|██████████| 1000/1000 [00:00<00:00, 10577.31it/s]\n",
      "iterations: 100%|██████████| 1000/1000 [00:00<00:00, 10172.84it/s]\n",
      "iterations:   0%|          | 0/1000 [00:00<?, ?it/s]"
     ]
    },
    {
     "name": "stdout",
     "output_type": "stream",
     "text": [
      "Experiment:  59\n"
     ]
    },
    {
     "name": "stderr",
     "output_type": "stream",
     "text": [
      "iterations: 100%|██████████| 1000/1000 [00:00<00:00, 11933.33it/s]\n",
      "iterations: 100%|██████████| 1000/1000 [00:00<00:00, 12144.20it/s]\n",
      "iterations: 100%|██████████| 1000/1000 [00:00<00:00, 8516.42it/s]\n",
      "iterations:   0%|          | 0/1000 [00:00<?, ?it/s]"
     ]
    },
    {
     "name": "stdout",
     "output_type": "stream",
     "text": [
      "Experiment:  60\n"
     ]
    },
    {
     "name": "stderr",
     "output_type": "stream",
     "text": [
      "iterations: 100%|██████████| 1000/1000 [00:00<00:00, 10719.96it/s]\n",
      "iterations: 100%|██████████| 1000/1000 [00:00<00:00, 12083.54it/s]\n",
      "iterations: 100%|██████████| 1000/1000 [00:00<00:00, 11744.64it/s]\n",
      "iterations: 100%|██████████| 1000/1000 [00:00<00:00, 10333.37it/s]\n",
      "iterations:  95%|█████████▌| 953/1000 [00:00<00:00, 9524.76it/s]"
     ]
    },
    {
     "name": "stdout",
     "output_type": "stream",
     "text": [
      "Experiment:  61\n"
     ]
    },
    {
     "name": "stderr",
     "output_type": "stream",
     "text": [
      "iterations: 100%|██████████| 1000/1000 [00:00<00:00, 9510.57it/s]\n",
      "iterations: 100%|██████████| 1000/1000 [00:00<00:00, 11465.52it/s]\n",
      "iterations: 100%|██████████| 1000/1000 [00:00<00:00, 12298.46it/s]\n",
      "iterations: 100%|██████████| 1000/1000 [00:00<00:00, 10508.51it/s]\n",
      "iterations: 100%|██████████| 1000/1000 [00:00<00:00, 10502.46it/s]\n",
      "iterations:   0%|          | 0/1000 [00:00<?, ?it/s]"
     ]
    },
    {
     "name": "stdout",
     "output_type": "stream",
     "text": [
      "Experiment:  62\n"
     ]
    },
    {
     "name": "stderr",
     "output_type": "stream",
     "text": [
      "iterations: 100%|██████████| 1000/1000 [00:00<00:00, 11054.75it/s]\n",
      "iterations: 100%|██████████| 1000/1000 [00:00<00:00, 12501.91it/s]\n",
      "iterations: 100%|██████████| 1000/1000 [00:00<00:00, 10661.43it/s]\n",
      "iterations:  88%|████████▊ | 879/1000 [00:00<00:00, 8788.83it/s]"
     ]
    },
    {
     "name": "stdout",
     "output_type": "stream",
     "text": [
      "Experiment:  63\n"
     ]
    },
    {
     "name": "stderr",
     "output_type": "stream",
     "text": [
      "iterations: 100%|██████████| 1000/1000 [00:00<00:00, 8734.08it/s]\n",
      "iterations: 100%|██████████| 1000/1000 [00:00<00:00, 12665.76it/s]\n",
      "iterations: 100%|██████████| 1000/1000 [00:00<00:00, 12133.87it/s]\n",
      "iterations: 100%|██████████| 1000/1000 [00:00<00:00, 8992.16it/s]\n",
      "iterations:   0%|          | 0/1000 [00:00<?, ?it/s]"
     ]
    },
    {
     "name": "stdout",
     "output_type": "stream",
     "text": [
      "Experiment:  64\n"
     ]
    },
    {
     "name": "stderr",
     "output_type": "stream",
     "text": [
      "iterations: 100%|██████████| 1000/1000 [00:00<00:00, 8312.00it/s]\n",
      "iterations: 100%|██████████| 1000/1000 [00:00<00:00, 10542.85it/s]\n",
      "iterations: 100%|██████████| 1000/1000 [00:00<00:00, 12127.73it/s]\n",
      "iterations: 100%|██████████| 1000/1000 [00:00<00:00, 10653.91it/s]\n",
      "iterations: 100%|██████████| 1000/1000 [00:00<00:00, 10639.80it/s]\n",
      "iterations:   0%|          | 0/1000 [00:00<?, ?it/s]"
     ]
    },
    {
     "name": "stdout",
     "output_type": "stream",
     "text": [
      "Experiment:  65\n"
     ]
    },
    {
     "name": "stderr",
     "output_type": "stream",
     "text": [
      "iterations: 100%|██████████| 1000/1000 [00:00<00:00, 10844.80it/s]\n",
      "iterations: 100%|██████████| 1000/1000 [00:00<00:00, 11593.94it/s]\n",
      "iterations: 100%|██████████| 1000/1000 [00:00<00:00, 9992.10it/s]\n",
      "iterations:   0%|          | 0/1000 [00:00<?, ?it/s]"
     ]
    },
    {
     "name": "stdout",
     "output_type": "stream",
     "text": [
      "Experiment:  66\n"
     ]
    },
    {
     "name": "stderr",
     "output_type": "stream",
     "text": [
      "iterations: 100%|██████████| 1000/1000 [00:00<00:00, 10092.14it/s]\n",
      "iterations: 100%|██████████| 1000/1000 [00:00<00:00, 12041.08it/s]\n",
      "iterations: 100%|██████████| 1000/1000 [00:00<00:00, 10815.16it/s]\n",
      "iterations: 100%|██████████| 1000/1000 [00:00<00:00, 10024.58it/s]\n",
      "iterations: 100%|██████████| 1000/1000 [00:00<00:00, 10461.54it/s]\n"
     ]
    },
    {
     "name": "stdout",
     "output_type": "stream",
     "text": [
      "Experiment:  67\n"
     ]
    },
    {
     "name": "stderr",
     "output_type": "stream",
     "text": [
      "iterations: 100%|██████████| 1000/1000 [00:00<00:00, 11724.02it/s]\n",
      "iterations: 100%|██████████| 1000/1000 [00:00<00:00, 11122.23it/s]\n",
      "iterations: 100%|██████████| 1000/1000 [00:00<00:00, 10998.57it/s]\n",
      "iterations: 100%|██████████| 1000/1000 [00:00<00:00, 11146.11it/s]\n",
      "iterations:   0%|          | 0/1000 [00:00<?, ?it/s]"
     ]
    },
    {
     "name": "stdout",
     "output_type": "stream",
     "text": [
      "Experiment:  68\n"
     ]
    },
    {
     "name": "stderr",
     "output_type": "stream",
     "text": [
      "iterations: 100%|██████████| 1000/1000 [00:00<00:00, 9272.56it/s]\n",
      "iterations: 100%|██████████| 1000/1000 [00:00<00:00, 12460.43it/s]\n",
      "iterations: 100%|██████████| 1000/1000 [00:00<00:00, 10208.85it/s]\n",
      "iterations: 100%|██████████| 1000/1000 [00:00<00:00, 10232.36it/s]\n"
     ]
    },
    {
     "name": "stdout",
     "output_type": "stream",
     "text": [
      "Experiment:  69\n"
     ]
    },
    {
     "name": "stderr",
     "output_type": "stream",
     "text": [
      "iterations: 100%|██████████| 1000/1000 [00:00<00:00, 7448.34it/s]\n",
      "iterations: 100%|██████████| 1000/1000 [00:00<00:00, 6584.35it/s]\n",
      "iterations: 100%|██████████| 1000/1000 [00:00<00:00, 9402.56it/s]\n",
      "iterations:   0%|          | 0/1000 [00:00<?, ?it/s]"
     ]
    },
    {
     "name": "stdout",
     "output_type": "stream",
     "text": [
      "Experiment:  70\n"
     ]
    },
    {
     "name": "stderr",
     "output_type": "stream",
     "text": [
      "iterations: 100%|██████████| 1000/1000 [00:00<00:00, 10199.09it/s]\n",
      "iterations: 100%|██████████| 1000/1000 [00:00<00:00, 11680.21it/s]\n",
      "iterations: 100%|██████████| 1000/1000 [00:00<00:00, 11246.44it/s]\n",
      "iterations: 100%|██████████| 1000/1000 [00:00<00:00, 10283.81it/s]\n",
      "iterations:   0%|          | 0/1000 [00:00<?, ?it/s]"
     ]
    },
    {
     "name": "stdout",
     "output_type": "stream",
     "text": [
      "Experiment:  71\n"
     ]
    },
    {
     "name": "stderr",
     "output_type": "stream",
     "text": [
      "iterations: 100%|██████████| 1000/1000 [00:00<00:00, 9500.38it/s]\n",
      "iterations: 100%|██████████| 1000/1000 [00:00<00:00, 11445.56it/s]\n",
      "iterations: 100%|██████████| 1000/1000 [00:00<00:00, 12047.58it/s]\n",
      "iterations: 100%|██████████| 1000/1000 [00:00<00:00, 9842.32it/s]\n",
      "iterations:   0%|          | 0/1000 [00:00<?, ?it/s]"
     ]
    },
    {
     "name": "stdout",
     "output_type": "stream",
     "text": [
      "Experiment:  72\n"
     ]
    },
    {
     "name": "stderr",
     "output_type": "stream",
     "text": [
      "iterations: 100%|██████████| 1000/1000 [00:00<00:00, 8859.21it/s]\n",
      "iterations: 100%|██████████| 1000/1000 [00:00<00:00, 12536.81it/s]\n",
      "iterations: 100%|██████████| 1000/1000 [00:00<00:00, 12256.09it/s]\n",
      "iterations: 100%|██████████| 1000/1000 [00:00<00:00, 10873.14it/s]\n",
      "iterations: 100%|██████████| 1000/1000 [00:00<00:00, 11015.38it/s]\n",
      "iterations:   0%|          | 0/1000 [00:00<?, ?it/s]"
     ]
    },
    {
     "name": "stdout",
     "output_type": "stream",
     "text": [
      "Experiment:  73\n"
     ]
    },
    {
     "name": "stderr",
     "output_type": "stream",
     "text": [
      "iterations: 100%|██████████| 1000/1000 [00:00<00:00, 12428.08it/s]\n",
      "iterations: 100%|██████████| 1000/1000 [00:00<00:00, 11457.41it/s]\n",
      "iterations: 100%|██████████| 1000/1000 [00:00<00:00, 10841.08it/s]\n",
      "iterations: 100%|██████████| 1000/1000 [00:00<00:00, 11146.29it/s]\n",
      "iterations:   0%|          | 0/1000 [00:00<?, ?it/s]"
     ]
    },
    {
     "name": "stdout",
     "output_type": "stream",
     "text": [
      "Experiment:  74\n"
     ]
    },
    {
     "name": "stderr",
     "output_type": "stream",
     "text": [
      "iterations: 100%|██████████| 1000/1000 [00:00<00:00, 11983.04it/s]\n",
      "iterations: 100%|██████████| 1000/1000 [00:00<00:00, 12547.39it/s]\n",
      "iterations: 100%|██████████| 1000/1000 [00:00<00:00, 9522.83it/s]\n",
      "iterations:   0%|          | 0/1000 [00:00<?, ?it/s]"
     ]
    },
    {
     "name": "stdout",
     "output_type": "stream",
     "text": [
      "Experiment:  75\n"
     ]
    },
    {
     "name": "stderr",
     "output_type": "stream",
     "text": [
      "iterations: 100%|██████████| 1000/1000 [00:00<00:00, 10103.37it/s]\n",
      "iterations: 100%|██████████| 1000/1000 [00:00<00:00, 12088.10it/s]\n",
      "iterations: 100%|██████████| 1000/1000 [00:00<00:00, 11400.82it/s]\n",
      "iterations: 100%|██████████| 1000/1000 [00:00<00:00, 10336.96it/s]\n",
      "iterations:   0%|          | 0/1000 [00:00<?, ?it/s]"
     ]
    },
    {
     "name": "stdout",
     "output_type": "stream",
     "text": [
      "Experiment:  76\n"
     ]
    },
    {
     "name": "stderr",
     "output_type": "stream",
     "text": [
      "iterations: 100%|██████████| 1000/1000 [00:00<00:00, 9116.37it/s]\n",
      "iterations: 100%|██████████| 1000/1000 [00:00<00:00, 11451.43it/s]\n",
      "iterations: 100%|██████████| 1000/1000 [00:00<00:00, 11435.38it/s]\n",
      "iterations: 100%|██████████| 1000/1000 [00:00<00:00, 9149.72it/s]\n",
      "iterations:   0%|          | 0/1000 [00:00<?, ?it/s]"
     ]
    },
    {
     "name": "stdout",
     "output_type": "stream",
     "text": [
      "Experiment:  77\n"
     ]
    },
    {
     "name": "stderr",
     "output_type": "stream",
     "text": [
      "iterations: 100%|██████████| 1000/1000 [00:00<00:00, 9468.47it/s]\n",
      "iterations: 100%|██████████| 1000/1000 [00:00<00:00, 11546.03it/s]\n",
      "iterations: 100%|██████████| 1000/1000 [00:00<00:00, 11532.06it/s]\n",
      "iterations: 100%|██████████| 1000/1000 [00:00<00:00, 10334.29it/s]\n",
      "iterations: 100%|██████████| 1000/1000 [00:00<00:00, 10233.25it/s]\n"
     ]
    },
    {
     "name": "stdout",
     "output_type": "stream",
     "text": [
      "Experiment:  78\n"
     ]
    },
    {
     "name": "stderr",
     "output_type": "stream",
     "text": [
      "iterations: 100%|██████████| 1000/1000 [00:00<00:00, 11366.71it/s]\n",
      "iterations: 100%|██████████| 1000/1000 [00:00<00:00, 12569.73it/s]\n",
      "iterations: 100%|██████████| 1000/1000 [00:00<00:00, 10717.99it/s]\n",
      "iterations: 100%|██████████| 1000/1000 [00:00<00:00, 10744.13it/s]\n",
      "iterations:   0%|          | 0/1000 [00:00<?, ?it/s]"
     ]
    },
    {
     "name": "stdout",
     "output_type": "stream",
     "text": [
      "Experiment:  79\n"
     ]
    },
    {
     "name": "stderr",
     "output_type": "stream",
     "text": [
      "iterations: 100%|██████████| 1000/1000 [00:00<00:00, 12199.59it/s]\n",
      "iterations: 100%|██████████| 1000/1000 [00:00<00:00, 11961.41it/s]\n",
      "iterations: 100%|██████████| 1000/1000 [00:00<00:00, 10560.21it/s]\n",
      "iterations: 100%|██████████| 1000/1000 [00:00<00:00, 10802.18it/s]\n",
      "iterations:   0%|          | 0/1000 [00:00<?, ?it/s]"
     ]
    },
    {
     "name": "stdout",
     "output_type": "stream",
     "text": [
      "Experiment:  80\n"
     ]
    },
    {
     "name": "stderr",
     "output_type": "stream",
     "text": [
      "iterations: 100%|██████████| 1000/1000 [00:00<00:00, 10312.99it/s]\n",
      "iterations: 100%|██████████| 1000/1000 [00:00<00:00, 3989.20it/s]\n",
      "iterations: 100%|██████████| 1000/1000 [00:00<00:00, 5101.60it/s]"
     ]
    },
    {
     "name": "stdout",
     "output_type": "stream",
     "text": [
      "Experiment:  81\n"
     ]
    },
    {
     "name": "stderr",
     "output_type": "stream",
     "text": [
      "\n",
      "iterations: 100%|██████████| 1000/1000 [00:00<00:00, 4717.56it/s]\n",
      "iterations: 100%|██████████| 1000/1000 [00:00<00:00, 10174.20it/s]\n",
      "iterations: 100%|██████████| 1000/1000 [00:00<00:00, 10984.05it/s]\n",
      "iterations: 100%|██████████| 1000/1000 [00:00<00:00, 10040.18it/s]\n",
      "iterations:   0%|          | 0/1000 [00:00<?, ?it/s]"
     ]
    },
    {
     "name": "stdout",
     "output_type": "stream",
     "text": [
      "Experiment:  82\n"
     ]
    },
    {
     "name": "stderr",
     "output_type": "stream",
     "text": [
      "iterations: 100%|██████████| 1000/1000 [00:00<00:00, 9986.49it/s]\n",
      "iterations: 100%|██████████| 1000/1000 [00:00<00:00, 11508.40it/s]\n",
      "iterations: 100%|██████████| 1000/1000 [00:00<00:00, 5226.21it/s]\n",
      "iterations:  54%|█████▍    | 541/1000 [00:00<00:00, 5403.41it/s]"
     ]
    },
    {
     "name": "stdout",
     "output_type": "stream",
     "text": [
      "Experiment:  83\n"
     ]
    },
    {
     "name": "stderr",
     "output_type": "stream",
     "text": [
      "iterations: 100%|██████████| 1000/1000 [00:00<00:00, 5024.65it/s]\n",
      "iterations: 100%|██████████| 1000/1000 [00:00<00:00, 6361.13it/s]\n",
      "iterations: 100%|██████████| 1000/1000 [00:00<00:00, 9418.14it/s]\n",
      "iterations: 100%|██████████| 1000/1000 [00:00<00:00, 10726.63it/s]\n",
      "iterations: 100%|██████████| 1000/1000 [00:00<00:00, 10608.26it/s]\n",
      "iterations: 100%|██████████| 1000/1000 [00:00<00:00, 10375.57it/s]\n",
      "iterations:   0%|          | 0/1000 [00:00<?, ?it/s]"
     ]
    },
    {
     "name": "stdout",
     "output_type": "stream",
     "text": [
      "Experiment:  84\n"
     ]
    },
    {
     "name": "stderr",
     "output_type": "stream",
     "text": [
      "iterations: 100%|██████████| 1000/1000 [00:00<00:00, 10708.82it/s]\n",
      "iterations: 100%|██████████| 1000/1000 [00:00<00:00, 11757.12it/s]\n",
      "iterations: 100%|██████████| 1000/1000 [00:00<00:00, 10897.38it/s]\n",
      "iterations: 100%|██████████| 1000/1000 [00:00<00:00, 10200.95it/s]\n",
      "iterations:   0%|          | 0/1000 [00:00<?, ?it/s]"
     ]
    },
    {
     "name": "stdout",
     "output_type": "stream",
     "text": [
      "Experiment:  85\n"
     ]
    },
    {
     "name": "stderr",
     "output_type": "stream",
     "text": [
      "iterations: 100%|██████████| 1000/1000 [00:00<00:00, 11230.78it/s]\n",
      "iterations: 100%|██████████| 1000/1000 [00:00<00:00, 8842.98it/s]\n",
      "iterations: 100%|██████████| 1000/1000 [00:00<00:00, 8263.69it/s]\n",
      "iterations:   0%|          | 0/1000 [00:00<?, ?it/s]"
     ]
    },
    {
     "name": "stdout",
     "output_type": "stream",
     "text": [
      "Experiment:  86\n"
     ]
    },
    {
     "name": "stderr",
     "output_type": "stream",
     "text": [
      "iterations: 100%|██████████| 1000/1000 [00:00<00:00, 8426.00it/s]\n",
      "iterations: 100%|██████████| 1000/1000 [00:00<00:00, 10569.47it/s]\n",
      "iterations: 100%|██████████| 1000/1000 [00:00<00:00, 9576.34it/s]\n",
      "iterations: 100%|██████████| 1000/1000 [00:00<00:00, 8836.57it/s]\n",
      "iterations:   0%|          | 0/1000 [00:00<?, ?it/s]"
     ]
    },
    {
     "name": "stdout",
     "output_type": "stream",
     "text": [
      "Experiment:  87\n"
     ]
    },
    {
     "name": "stderr",
     "output_type": "stream",
     "text": [
      "iterations: 100%|██████████| 1000/1000 [00:00<00:00, 8412.48it/s]\n",
      "iterations: 100%|██████████| 1000/1000 [00:00<00:00, 10580.64it/s]\n",
      "iterations: 100%|██████████| 1000/1000 [00:00<00:00, 9220.93it/s]\n",
      "iterations: 100%|██████████| 1000/1000 [00:00<00:00, 6743.63it/s]\n",
      "iterations:   0%|          | 0/1000 [00:00<?, ?it/s]"
     ]
    },
    {
     "name": "stdout",
     "output_type": "stream",
     "text": [
      "Experiment:  88\n"
     ]
    },
    {
     "name": "stderr",
     "output_type": "stream",
     "text": [
      "iterations: 100%|██████████| 1000/1000 [00:00<00:00, 4645.31it/s]\n",
      "iterations: 100%|██████████| 1000/1000 [00:00<00:00, 8865.56it/s]\n",
      "iterations: 100%|██████████| 1000/1000 [00:00<00:00, 10292.82it/s]\n",
      "iterations: 100%|██████████| 1000/1000 [00:00<00:00, 8817.18it/s]\n",
      "iterations:   0%|          | 0/1000 [00:00<?, ?it/s]"
     ]
    },
    {
     "name": "stdout",
     "output_type": "stream",
     "text": [
      "Experiment:  89\n"
     ]
    },
    {
     "name": "stderr",
     "output_type": "stream",
     "text": [
      "iterations: 100%|██████████| 1000/1000 [00:00<00:00, 6657.69it/s]\n",
      "iterations: 100%|██████████| 1000/1000 [00:00<00:00, 9669.51it/s]\n",
      "iterations: 100%|██████████| 1000/1000 [00:00<00:00, 10324.49it/s]\n",
      "iterations: 100%|██████████| 1000/1000 [00:00<00:00, 8049.47it/s]\n",
      "iterations:   0%|          | 0/1000 [00:00<?, ?it/s]"
     ]
    },
    {
     "name": "stdout",
     "output_type": "stream",
     "text": [
      "Experiment:  90\n"
     ]
    },
    {
     "name": "stderr",
     "output_type": "stream",
     "text": [
      "iterations: 100%|██████████| 1000/1000 [00:00<00:00, 3648.64it/s]\n",
      "iterations: 100%|██████████| 1000/1000 [00:00<00:00, 8097.17it/s]\n",
      "iterations: 100%|██████████| 1000/1000 [00:00<00:00, 8857.00it/s]\n",
      "iterations: 100%|██████████| 1000/1000 [00:00<00:00, 9108.03it/s]\n",
      "iterations:   0%|          | 0/1000 [00:00<?, ?it/s]"
     ]
    },
    {
     "name": "stdout",
     "output_type": "stream",
     "text": [
      "Experiment:  91\n"
     ]
    },
    {
     "name": "stderr",
     "output_type": "stream",
     "text": [
      "iterations: 100%|██████████| 1000/1000 [00:00<00:00, 9176.00it/s]\n",
      "iterations: 100%|██████████| 1000/1000 [00:00<00:00, 6304.68it/s]\n",
      "iterations: 100%|██████████| 1000/1000 [00:00<00:00, 7898.67it/s]\n",
      "iterations: 100%|██████████| 1000/1000 [00:00<00:00, 7814.83it/s]\n",
      "iterations:   0%|          | 0/1000 [00:00<?, ?it/s]"
     ]
    },
    {
     "name": "stdout",
     "output_type": "stream",
     "text": [
      "Experiment:  92\n"
     ]
    },
    {
     "name": "stderr",
     "output_type": "stream",
     "text": [
      "iterations: 100%|██████████| 1000/1000 [00:00<00:00, 8376.46it/s]\n",
      "iterations: 100%|██████████| 1000/1000 [00:00<00:00, 4447.35it/s]\n",
      "iterations: 100%|██████████| 1000/1000 [00:00<00:00, 3317.88it/s]\n",
      "iterations:  33%|███▎      | 326/1000 [00:00<00:00, 3250.74it/s]"
     ]
    },
    {
     "name": "stdout",
     "output_type": "stream",
     "text": [
      "Experiment:  93\n"
     ]
    },
    {
     "name": "stderr",
     "output_type": "stream",
     "text": [
      "iterations: 100%|██████████| 1000/1000 [00:00<00:00, 2669.59it/s]\n",
      "iterations: 100%|██████████| 1000/1000 [00:00<00:00, 7542.27it/s]\n",
      "iterations: 100%|██████████| 1000/1000 [00:00<00:00, 6241.19it/s]\n",
      "iterations: 100%|██████████| 1000/1000 [00:00<00:00, 7472.27it/s]\n",
      "iterations:  46%|████▌     | 456/1000 [00:00<00:00, 4559.59it/s]"
     ]
    },
    {
     "name": "stdout",
     "output_type": "stream",
     "text": [
      "Experiment:  94\n"
     ]
    },
    {
     "name": "stderr",
     "output_type": "stream",
     "text": [
      "iterations: 100%|██████████| 1000/1000 [00:00<00:00, 2544.21it/s]\n",
      "iterations: 100%|██████████| 1000/1000 [00:00<00:00, 6126.60it/s]\n",
      "iterations: 100%|██████████| 1000/1000 [00:00<00:00, 10328.53it/s]\n",
      "iterations: 100%|██████████| 1000/1000 [00:00<00:00, 9947.48it/s]\n",
      "iterations: 100%|██████████| 1000/1000 [00:00<00:00, 7691.85it/s]\n",
      "iterations:   0%|          | 0/1000 [00:00<?, ?it/s]"
     ]
    },
    {
     "name": "stdout",
     "output_type": "stream",
     "text": [
      "Experiment:  95\n"
     ]
    },
    {
     "name": "stderr",
     "output_type": "stream",
     "text": [
      "iterations: 100%|██████████| 1000/1000 [00:00<00:00, 4216.96it/s]\n",
      "iterations: 100%|██████████| 1000/1000 [00:00<00:00, 2093.80it/s]\n",
      "iterations: 100%|██████████| 1000/1000 [00:00<00:00, 3852.59it/s]\n",
      "iterations:  48%|████▊     | 477/1000 [00:00<00:00, 4448.72it/s]"
     ]
    },
    {
     "name": "stdout",
     "output_type": "stream",
     "text": [
      "Experiment:  96\n"
     ]
    },
    {
     "name": "stderr",
     "output_type": "stream",
     "text": [
      "iterations: 100%|██████████| 1000/1000 [00:00<00:00, 4220.17it/s]\n",
      "iterations: 100%|██████████| 1000/1000 [00:00<00:00, 7772.73it/s]\n",
      "iterations: 100%|██████████| 1000/1000 [00:00<00:00, 9765.32it/s]\n",
      "iterations: 100%|██████████| 1000/1000 [00:00<00:00, 8613.91it/s]\n",
      "iterations: 100%|██████████| 1000/1000 [00:00<00:00, 7023.66it/s]\n",
      "iterations:   0%|          | 0/1000 [00:00<?, ?it/s]"
     ]
    },
    {
     "name": "stdout",
     "output_type": "stream",
     "text": [
      "Experiment:  97\n"
     ]
    },
    {
     "name": "stderr",
     "output_type": "stream",
     "text": [
      "iterations: 100%|██████████| 1000/1000 [00:00<00:00, 8647.62it/s]\n",
      "iterations: 100%|██████████| 1000/1000 [00:00<00:00, 10473.85it/s]\n",
      "iterations: 100%|██████████| 1000/1000 [00:00<00:00, 11601.89it/s]\n",
      "iterations: 100%|██████████| 1000/1000 [00:00<00:00, 9016.54it/s]\n",
      "iterations:   0%|          | 0/1000 [00:00<?, ?it/s]"
     ]
    },
    {
     "name": "stdout",
     "output_type": "stream",
     "text": [
      "Experiment:  98\n"
     ]
    },
    {
     "name": "stderr",
     "output_type": "stream",
     "text": [
      "iterations: 100%|██████████| 1000/1000 [00:00<00:00, 9003.72it/s]\n",
      "iterations: 100%|██████████| 1000/1000 [00:00<00:00, 11513.04it/s]\n",
      "iterations: 100%|██████████| 1000/1000 [00:00<00:00, 11476.84it/s]\n",
      "iterations: 100%|██████████| 1000/1000 [00:00<00:00, 7921.18it/s]\n",
      "iterations:   0%|          | 0/1000 [00:00<?, ?it/s]"
     ]
    },
    {
     "name": "stdout",
     "output_type": "stream",
     "text": [
      "Experiment:  99\n"
     ]
    },
    {
     "name": "stderr",
     "output_type": "stream",
     "text": [
      "iterations: 100%|██████████| 1000/1000 [00:00<00:00, 5598.17it/s]\n",
      "iterations: 100%|██████████| 1000/1000 [00:00<00:00, 9225.85it/s]\n",
      "iterations: 100%|██████████| 1000/1000 [00:00<00:00, 11626.82it/s]\n",
      "iterations: 100%|██████████| 1000/1000 [00:00<00:00, 5377.38it/s]\n",
      "iterations:   0%|          | 0/1000 [00:00<?, ?it/s]"
     ]
    },
    {
     "name": "stdout",
     "output_type": "stream",
     "text": [
      "Experiment:  100\n"
     ]
    },
    {
     "name": "stderr",
     "output_type": "stream",
     "text": [
      "iterations: 100%|██████████| 1000/1000 [00:00<00:00, 7850.47it/s]\n",
      "iterations: 100%|██████████| 1000/1000 [00:00<00:00, 9550.74it/s]\n",
      "iterations: 100%|██████████| 1000/1000 [00:00<00:00, 8175.08it/s]\n",
      "iterations: 100%|██████████| 1000/1000 [00:00<00:00, 8772.71it/s]\n",
      "iterations:   0%|          | 0/1000 [00:00<?, ?it/s]"
     ]
    },
    {
     "name": "stdout",
     "output_type": "stream",
     "text": [
      "Experiment:  101\n"
     ]
    },
    {
     "name": "stderr",
     "output_type": "stream",
     "text": [
      "iterations: 100%|██████████| 1000/1000 [00:00<00:00, 6377.43it/s]\n",
      "iterations: 100%|██████████| 1000/1000 [00:00<00:00, 3322.66it/s]\n",
      "iterations: 100%|██████████| 1000/1000 [00:00<00:00, 4301.57it/s]\n",
      "iterations:  32%|███▏      | 321/1000 [00:00<00:00, 3201.30it/s]"
     ]
    },
    {
     "name": "stdout",
     "output_type": "stream",
     "text": [
      "Experiment:  102\n"
     ]
    },
    {
     "name": "stderr",
     "output_type": "stream",
     "text": [
      "iterations: 100%|██████████| 1000/1000 [00:00<00:00, 4822.25it/s]\n",
      "iterations: 100%|██████████| 1000/1000 [00:00<00:00, 7076.33it/s]\n",
      "iterations: 100%|██████████| 1000/1000 [00:00<00:00, 4622.05it/s]\n",
      "iterations: 100%|██████████| 1000/1000 [00:00<00:00, 5747.52it/s]\n",
      "iterations:  28%|██▊       | 282/1000 [00:00<00:00, 2812.04it/s]"
     ]
    },
    {
     "name": "stdout",
     "output_type": "stream",
     "text": [
      "Experiment:  103\n"
     ]
    },
    {
     "name": "stderr",
     "output_type": "stream",
     "text": [
      "iterations: 100%|██████████| 1000/1000 [00:00<00:00, 2048.49it/s]\n",
      "iterations: 100%|██████████| 1000/1000 [00:00<00:00, 6056.61it/s]\n",
      "iterations: 100%|██████████| 1000/1000 [00:00<00:00, 6853.59it/s]\n",
      "iterations: 100%|██████████| 1000/1000 [00:00<00:00, 6510.75it/s]\n",
      "iterations: 100%|██████████| 1000/1000 [00:00<00:00, 7361.94it/s]\n",
      "iterations:   0%|          | 0/1000 [00:00<?, ?it/s]"
     ]
    },
    {
     "name": "stdout",
     "output_type": "stream",
     "text": [
      "Experiment:  104\n"
     ]
    },
    {
     "name": "stderr",
     "output_type": "stream",
     "text": [
      "iterations: 100%|██████████| 1000/1000 [00:00<00:00, 8956.08it/s]\n",
      "iterations: 100%|██████████| 1000/1000 [00:00<00:00, 8016.48it/s]\n",
      "iterations: 100%|██████████| 1000/1000 [00:00<00:00, 5162.35it/s]\n",
      "iterations:  28%|██▊       | 283/1000 [00:00<00:00, 2690.86it/s]"
     ]
    },
    {
     "name": "stdout",
     "output_type": "stream",
     "text": [
      "Experiment:  105\n"
     ]
    },
    {
     "name": "stderr",
     "output_type": "stream",
     "text": [
      "iterations: 100%|██████████| 1000/1000 [00:00<00:00, 2447.31it/s]\n",
      "iterations: 100%|██████████| 1000/1000 [00:00<00:00, 7207.15it/s]\n",
      "iterations: 100%|██████████| 1000/1000 [00:00<00:00, 8823.22it/s]\n",
      "iterations: 100%|██████████| 1000/1000 [00:00<00:00, 10208.03it/s]\n",
      "iterations: 100%|██████████| 1000/1000 [00:00<00:00, 9513.94it/s]\n",
      "iterations:   0%|          | 0/1000 [00:00<?, ?it/s]"
     ]
    },
    {
     "name": "stdout",
     "output_type": "stream",
     "text": [
      "Experiment:  106\n"
     ]
    },
    {
     "name": "stderr",
     "output_type": "stream",
     "text": [
      "iterations: 100%|██████████| 1000/1000 [00:00<00:00, 8030.40it/s]\n",
      "iterations: 100%|██████████| 1000/1000 [00:00<00:00, 10740.55it/s]\n",
      "iterations: 100%|██████████| 1000/1000 [00:00<00:00, 10554.97it/s]\n",
      "iterations: 100%|██████████| 1000/1000 [00:00<00:00, 6624.15it/s]\n",
      "iterations:   0%|          | 0/1000 [00:00<?, ?it/s]"
     ]
    },
    {
     "name": "stdout",
     "output_type": "stream",
     "text": [
      "Experiment:  107\n"
     ]
    },
    {
     "name": "stderr",
     "output_type": "stream",
     "text": [
      "iterations: 100%|██████████| 1000/1000 [00:00<00:00, 7029.13it/s]\n",
      "iterations: 100%|██████████| 1000/1000 [00:00<00:00, 8401.95it/s]\n",
      "iterations: 100%|██████████| 1000/1000 [00:00<00:00, 9114.92it/s]\n",
      "iterations: 100%|██████████| 1000/1000 [00:00<00:00, 8357.43it/s]\n",
      "iterations:   0%|          | 0/1000 [00:00<?, ?it/s]"
     ]
    },
    {
     "name": "stdout",
     "output_type": "stream",
     "text": [
      "Experiment:  108\n"
     ]
    },
    {
     "name": "stderr",
     "output_type": "stream",
     "text": [
      "iterations: 100%|██████████| 1000/1000 [00:00<00:00, 8806.94it/s]\n",
      "iterations: 100%|██████████| 1000/1000 [00:00<00:00, 11729.63it/s]\n",
      "iterations: 100%|██████████| 1000/1000 [00:00<00:00, 12247.68it/s]\n",
      "iterations: 100%|██████████| 1000/1000 [00:00<00:00, 9555.94it/s]\n",
      "iterations:   0%|          | 0/1000 [00:00<?, ?it/s]"
     ]
    },
    {
     "name": "stdout",
     "output_type": "stream",
     "text": [
      "Experiment:  109\n"
     ]
    },
    {
     "name": "stderr",
     "output_type": "stream",
     "text": [
      "iterations: 100%|██████████| 1000/1000 [00:00<00:00, 9570.01it/s]\n",
      "iterations: 100%|██████████| 1000/1000 [00:00<00:00, 11137.32it/s]\n",
      "iterations: 100%|██████████| 1000/1000 [00:00<00:00, 2536.07it/s]\n",
      "iterations:  27%|██▋       | 272/1000 [00:00<00:00, 2718.77it/s]"
     ]
    },
    {
     "name": "stdout",
     "output_type": "stream",
     "text": [
      "Experiment:  110\n"
     ]
    },
    {
     "name": "stderr",
     "output_type": "stream",
     "text": [
      "iterations: 100%|██████████| 1000/1000 [00:00<00:00, 3309.05it/s]\n",
      "iterations: 100%|██████████| 1000/1000 [00:00<00:00, 7126.12it/s]\n",
      "iterations: 100%|██████████| 1000/1000 [00:00<00:00, 10564.33it/s]\n",
      "iterations: 100%|██████████| 1000/1000 [00:00<00:00, 10246.23it/s]\n",
      "iterations: 100%|██████████| 1000/1000 [00:00<00:00, 9265.70it/s]\n",
      "iterations:   0%|          | 0/1000 [00:00<?, ?it/s]"
     ]
    },
    {
     "name": "stdout",
     "output_type": "stream",
     "text": [
      "Experiment:  111\n"
     ]
    },
    {
     "name": "stderr",
     "output_type": "stream",
     "text": [
      "iterations: 100%|██████████| 1000/1000 [00:00<00:00, 2456.95it/s]\n",
      "iterations: 100%|██████████| 1000/1000 [00:00<00:00, 4799.29it/s]\n",
      "iterations: 100%|██████████| 1000/1000 [00:00<00:00, 8646.41it/s]\n",
      "iterations: 100%|██████████| 1000/1000 [00:00<00:00, 6535.14it/s]\n",
      "iterations:   0%|          | 0/1000 [00:00<?, ?it/s]"
     ]
    },
    {
     "name": "stdout",
     "output_type": "stream",
     "text": [
      "Experiment:  112\n"
     ]
    },
    {
     "name": "stderr",
     "output_type": "stream",
     "text": [
      "iterations: 100%|██████████| 1000/1000 [00:00<00:00, 8019.76it/s]\n",
      "iterations: 100%|██████████| 1000/1000 [00:00<00:00, 11302.78it/s]\n",
      "iterations: 100%|██████████| 1000/1000 [00:00<00:00, 10129.24it/s]\n",
      "iterations: 100%|██████████| 1000/1000 [00:00<00:00, 9025.77it/s]\n",
      "iterations:   0%|          | 0/1000 [00:00<?, ?it/s]"
     ]
    },
    {
     "name": "stdout",
     "output_type": "stream",
     "text": [
      "Experiment:  113\n"
     ]
    },
    {
     "name": "stderr",
     "output_type": "stream",
     "text": [
      "iterations: 100%|██████████| 1000/1000 [00:00<00:00, 8775.61it/s]\n",
      "iterations: 100%|██████████| 1000/1000 [00:00<00:00, 9290.14it/s]\n",
      "iterations: 100%|██████████| 1000/1000 [00:00<00:00, 7528.70it/s]\n",
      "iterations: 100%|██████████| 1000/1000 [00:00<00:00, 8149.98it/s]\n",
      "iterations:   0%|          | 0/1000 [00:00<?, ?it/s]"
     ]
    },
    {
     "name": "stdout",
     "output_type": "stream",
     "text": [
      "Experiment:  114\n"
     ]
    },
    {
     "name": "stderr",
     "output_type": "stream",
     "text": [
      "iterations: 100%|██████████| 1000/1000 [00:00<00:00, 8468.77it/s]\n",
      "iterations: 100%|██████████| 1000/1000 [00:00<00:00, 5877.82it/s]\n",
      "iterations: 100%|██████████| 1000/1000 [00:00<00:00, 1913.40it/s]\n",
      "iterations:  28%|██▊       | 275/1000 [00:00<00:00, 2699.44it/s]"
     ]
    },
    {
     "name": "stdout",
     "output_type": "stream",
     "text": [
      "Experiment:  115\n"
     ]
    },
    {
     "name": "stderr",
     "output_type": "stream",
     "text": [
      "iterations: 100%|██████████| 1000/1000 [00:00<00:00, 3741.98it/s]\n",
      "iterations: 100%|██████████| 1000/1000 [00:00<00:00, 5222.79it/s]\n",
      "iterations: 100%|██████████| 1000/1000 [00:00<00:00, 8988.37it/s]\n",
      "iterations: 100%|██████████| 1000/1000 [00:00<00:00, 8436.26it/s]\n",
      "iterations: 100%|██████████| 1000/1000 [00:00<00:00, 8408.50it/s]\n",
      "iterations:   0%|          | 0/1000 [00:00<?, ?it/s]"
     ]
    },
    {
     "name": "stdout",
     "output_type": "stream",
     "text": [
      "Experiment:  116\n"
     ]
    },
    {
     "name": "stderr",
     "output_type": "stream",
     "text": [
      "iterations: 100%|██████████| 1000/1000 [00:00<00:00, 9082.57it/s]\n",
      "iterations: 100%|██████████| 1000/1000 [00:00<00:00, 10989.72it/s]\n",
      "iterations: 100%|██████████| 1000/1000 [00:00<00:00, 12537.11it/s]\n",
      "iterations: 100%|██████████| 1000/1000 [00:00<00:00, 9810.87it/s]\n",
      "iterations:   0%|          | 0/1000 [00:00<?, ?it/s]"
     ]
    },
    {
     "name": "stdout",
     "output_type": "stream",
     "text": [
      "Experiment:  117\n"
     ]
    },
    {
     "name": "stderr",
     "output_type": "stream",
     "text": [
      "iterations: 100%|██████████| 1000/1000 [00:00<00:00, 10126.79it/s]\n",
      "iterations: 100%|██████████| 1000/1000 [00:00<00:00, 11905.05it/s]\n",
      "iterations: 100%|██████████| 1000/1000 [00:00<00:00, 11122.85it/s]\n",
      "iterations: 100%|██████████| 1000/1000 [00:00<00:00, 10261.14it/s]\n",
      "iterations: 100%|██████████| 1000/1000 [00:00<00:00, 10143.20it/s]"
     ]
    },
    {
     "name": "stdout",
     "output_type": "stream",
     "text": [
      "Experiment:  118\n"
     ]
    },
    {
     "name": "stderr",
     "output_type": "stream",
     "text": [
      "\n",
      "iterations: 100%|██████████| 1000/1000 [00:00<00:00, 12139.77it/s]\n",
      "iterations: 100%|██████████| 1000/1000 [00:00<00:00, 12386.79it/s]\n",
      "iterations: 100%|██████████| 1000/1000 [00:00<00:00, 9835.86it/s]\n",
      "iterations:   0%|          | 0/1000 [00:00<?, ?it/s]"
     ]
    },
    {
     "name": "stdout",
     "output_type": "stream",
     "text": [
      "Experiment:  119\n"
     ]
    },
    {
     "name": "stderr",
     "output_type": "stream",
     "text": [
      "iterations: 100%|██████████| 1000/1000 [00:00<00:00, 10250.11it/s]\n",
      "iterations: 100%|██████████| 1000/1000 [00:00<00:00, 12491.41it/s]\n",
      "iterations: 100%|██████████| 1000/1000 [00:00<00:00, 9293.76it/s]\n",
      "iterations: 100%|██████████| 1000/1000 [00:00<00:00, 11054.11it/s]\n",
      "iterations: 100%|██████████| 1000/1000 [00:00<00:00, 10381.40it/s]\n",
      "iterations:   0%|          | 0/1000 [00:00<?, ?it/s]"
     ]
    },
    {
     "name": "stdout",
     "output_type": "stream",
     "text": [
      "Experiment:  120\n"
     ]
    },
    {
     "name": "stderr",
     "output_type": "stream",
     "text": [
      "iterations: 100%|██████████| 1000/1000 [00:00<00:00, 11340.06it/s]\n",
      "iterations: 100%|██████████| 1000/1000 [00:00<00:00, 12204.81it/s]\n",
      "iterations: 100%|██████████| 1000/1000 [00:00<00:00, 10551.87it/s]\n",
      "iterations: 100%|██████████| 1000/1000 [00:00<00:00, 10501.35it/s]\n",
      "iterations:   0%|          | 0/1000 [00:00<?, ?it/s]"
     ]
    },
    {
     "name": "stdout",
     "output_type": "stream",
     "text": [
      "Experiment:  121\n"
     ]
    },
    {
     "name": "stderr",
     "output_type": "stream",
     "text": [
      "iterations: 100%|██████████| 1000/1000 [00:00<00:00, 12371.78it/s]\n",
      "iterations: 100%|██████████| 1000/1000 [00:00<00:00, 10846.68it/s]\n",
      "iterations: 100%|██████████| 1000/1000 [00:00<00:00, 7458.40it/s]\n",
      "iterations:   0%|          | 0/1000 [00:00<?, ?it/s]"
     ]
    },
    {
     "name": "stdout",
     "output_type": "stream",
     "text": [
      "Experiment:  122\n"
     ]
    },
    {
     "name": "stderr",
     "output_type": "stream",
     "text": [
      "iterations: 100%|██████████| 1000/1000 [00:00<00:00, 4274.76it/s]\n",
      "iterations: 100%|██████████| 1000/1000 [00:00<00:00, 10595.13it/s]\n",
      "iterations: 100%|██████████| 1000/1000 [00:00<00:00, 9779.01it/s]\n",
      "iterations: 100%|██████████| 1000/1000 [00:00<00:00, 9389.51it/s]\n",
      "iterations:   0%|          | 0/1000 [00:00<?, ?it/s]"
     ]
    },
    {
     "name": "stdout",
     "output_type": "stream",
     "text": [
      "Experiment:  123\n"
     ]
    },
    {
     "name": "stderr",
     "output_type": "stream",
     "text": [
      "iterations: 100%|██████████| 1000/1000 [00:00<00:00, 9503.98it/s]\n",
      "iterations: 100%|██████████| 1000/1000 [00:00<00:00, 11771.37it/s]\n",
      "iterations: 100%|██████████| 1000/1000 [00:00<00:00, 11408.35it/s]\n",
      "iterations: 100%|██████████| 1000/1000 [00:00<00:00, 9697.23it/s]\n",
      "iterations:   0%|          | 0/1000 [00:00<?, ?it/s]"
     ]
    },
    {
     "name": "stdout",
     "output_type": "stream",
     "text": [
      "Experiment:  124\n"
     ]
    },
    {
     "name": "stderr",
     "output_type": "stream",
     "text": [
      "iterations: 100%|██████████| 1000/1000 [00:00<00:00, 9943.73it/s]\n",
      "iterations: 100%|██████████| 1000/1000 [00:00<00:00, 12375.13it/s]\n",
      "iterations: 100%|██████████| 1000/1000 [00:00<00:00, 12095.70it/s]\n",
      "iterations: 100%|██████████| 1000/1000 [00:00<00:00, 10368.29it/s]\n",
      "iterations: 100%|██████████| 1000/1000 [00:00<00:00, 10301.49it/s]\n",
      "iterations:   0%|          | 0/1000 [00:00<?, ?it/s]"
     ]
    },
    {
     "name": "stdout",
     "output_type": "stream",
     "text": [
      "Experiment:  125\n"
     ]
    },
    {
     "name": "stderr",
     "output_type": "stream",
     "text": [
      "iterations: 100%|██████████| 1000/1000 [00:00<00:00, 11810.82it/s]\n",
      "iterations: 100%|██████████| 1000/1000 [00:00<00:00, 10989.49it/s]\n",
      "iterations: 100%|██████████| 1000/1000 [00:00<00:00, 10147.22it/s]\n",
      "iterations:   0%|          | 0/1000 [00:00<?, ?it/s]"
     ]
    },
    {
     "name": "stdout",
     "output_type": "stream",
     "text": [
      "Experiment:  126\n"
     ]
    },
    {
     "name": "stderr",
     "output_type": "stream",
     "text": [
      "iterations: 100%|██████████| 1000/1000 [00:00<00:00, 10029.37it/s]\n",
      "iterations: 100%|██████████| 1000/1000 [00:00<00:00, 11313.73it/s]\n",
      "iterations: 100%|██████████| 1000/1000 [00:00<00:00, 11522.59it/s]\n",
      "iterations: 100%|██████████| 1000/1000 [00:00<00:00, 8592.46it/s]\n",
      "iterations:   0%|          | 0/1000 [00:00<?, ?it/s]"
     ]
    },
    {
     "name": "stdout",
     "output_type": "stream",
     "text": [
      "Experiment:  127\n"
     ]
    },
    {
     "name": "stderr",
     "output_type": "stream",
     "text": [
      "iterations: 100%|██████████| 1000/1000 [00:00<00:00, 8467.39it/s]\n",
      "iterations: 100%|██████████| 1000/1000 [00:00<00:00, 9566.36it/s]\n",
      "iterations: 100%|██████████| 1000/1000 [00:00<00:00, 12002.93it/s]\n",
      "iterations: 100%|██████████| 1000/1000 [00:00<00:00, 9659.42it/s]\n",
      "iterations:   0%|          | 0/1000 [00:00<?, ?it/s]"
     ]
    },
    {
     "name": "stdout",
     "output_type": "stream",
     "text": [
      "Experiment:  128\n"
     ]
    },
    {
     "name": "stderr",
     "output_type": "stream",
     "text": [
      "iterations: 100%|██████████| 1000/1000 [00:00<00:00, 9282.90it/s]\n",
      "iterations: 100%|██████████| 1000/1000 [00:00<00:00, 11699.04it/s]\n",
      "iterations: 100%|██████████| 1000/1000 [00:00<00:00, 11680.60it/s]\n",
      "iterations: 100%|██████████| 1000/1000 [00:00<00:00, 10606.38it/s]\n",
      "iterations: 100%|██████████| 1000/1000 [00:00<00:00, 10933.89it/s]\n"
     ]
    },
    {
     "name": "stdout",
     "output_type": "stream",
     "text": [
      "Experiment:  129\n"
     ]
    },
    {
     "name": "stderr",
     "output_type": "stream",
     "text": [
      "iterations: 100%|██████████| 1000/1000 [00:00<00:00, 3594.81it/s]\n",
      "iterations: 100%|██████████| 1000/1000 [00:00<00:00, 7102.83it/s]\n",
      "iterations: 100%|██████████| 1000/1000 [00:00<00:00, 6744.09it/s]\n",
      "iterations:   0%|          | 0/1000 [00:00<?, ?it/s]"
     ]
    },
    {
     "name": "stdout",
     "output_type": "stream",
     "text": [
      "Experiment:  130\n"
     ]
    },
    {
     "name": "stderr",
     "output_type": "stream",
     "text": [
      "iterations: 100%|██████████| 1000/1000 [00:00<00:00, 8044.20it/s]\n",
      "iterations: 100%|██████████| 1000/1000 [00:00<00:00, 7675.59it/s]\n",
      "iterations: 100%|██████████| 1000/1000 [00:00<00:00, 8888.01it/s]\n",
      "iterations: 100%|██████████| 1000/1000 [00:00<00:00, 8185.53it/s]\n",
      "iterations:   0%|          | 0/1000 [00:00<?, ?it/s]"
     ]
    },
    {
     "name": "stdout",
     "output_type": "stream",
     "text": [
      "Experiment:  131\n"
     ]
    },
    {
     "name": "stderr",
     "output_type": "stream",
     "text": [
      "iterations: 100%|██████████| 1000/1000 [00:00<00:00, 8708.07it/s]\n",
      "iterations: 100%|██████████| 1000/1000 [00:00<00:00, 7939.59it/s]\n",
      "iterations: 100%|██████████| 1000/1000 [00:00<00:00, 10574.61it/s]\n",
      "iterations: 100%|██████████| 1000/1000 [00:00<00:00, 10591.86it/s]\n",
      "iterations:  85%|████████▍ | 846/1000 [00:00<00:00, 8449.67it/s]"
     ]
    },
    {
     "name": "stdout",
     "output_type": "stream",
     "text": [
      "Experiment:  132\n"
     ]
    },
    {
     "name": "stderr",
     "output_type": "stream",
     "text": [
      "iterations: 100%|██████████| 1000/1000 [00:00<00:00, 7778.45it/s]\n",
      "iterations: 100%|██████████| 1000/1000 [00:00<00:00, 10253.89it/s]\n",
      "iterations: 100%|██████████| 1000/1000 [00:00<00:00, 10927.82it/s]\n",
      "iterations: 100%|██████████| 1000/1000 [00:00<00:00, 10043.09it/s]\n",
      "iterations:   0%|          | 0/1000 [00:00<?, ?it/s]"
     ]
    },
    {
     "name": "stdout",
     "output_type": "stream",
     "text": [
      "Experiment:  133\n"
     ]
    },
    {
     "name": "stderr",
     "output_type": "stream",
     "text": [
      "iterations: 100%|██████████| 1000/1000 [00:00<00:00, 9297.37it/s]\n",
      "iterations: 100%|██████████| 1000/1000 [00:00<00:00, 5871.20it/s]\n",
      "iterations: 100%|██████████| 1000/1000 [00:00<00:00, 10739.98it/s]\n",
      "iterations: 100%|██████████| 1000/1000 [00:00<00:00, 9708.95it/s]\n",
      "iterations:   0%|          | 0/1000 [00:00<?, ?it/s]"
     ]
    },
    {
     "name": "stdout",
     "output_type": "stream",
     "text": [
      "Experiment:  134\n"
     ]
    },
    {
     "name": "stderr",
     "output_type": "stream",
     "text": [
      "iterations: 100%|██████████| 1000/1000 [00:00<00:00, 9078.13it/s]\n",
      "iterations: 100%|██████████| 1000/1000 [00:00<00:00, 8737.61it/s]\n",
      "iterations: 100%|██████████| 1000/1000 [00:00<00:00, 7554.57it/s]\n",
      "iterations: 100%|██████████| 1000/1000 [00:00<00:00, 7927.63it/s]\n",
      "iterations:   0%|          | 0/1000 [00:00<?, ?it/s]"
     ]
    },
    {
     "name": "stdout",
     "output_type": "stream",
     "text": [
      "Experiment:  135\n"
     ]
    },
    {
     "name": "stderr",
     "output_type": "stream",
     "text": [
      "iterations: 100%|██████████| 1000/1000 [00:00<00:00, 2293.33it/s]\n",
      "iterations: 100%|██████████| 1000/1000 [00:00<00:00, 7725.23it/s]\n",
      "iterations: 100%|██████████| 1000/1000 [00:00<00:00, 7322.15it/s]\n",
      "iterations: 100%|██████████| 1000/1000 [00:00<00:00, 5543.12it/s]\n",
      "iterations:   0%|          | 0/1000 [00:00<?, ?it/s]"
     ]
    },
    {
     "name": "stdout",
     "output_type": "stream",
     "text": [
      "Experiment:  136\n"
     ]
    },
    {
     "name": "stderr",
     "output_type": "stream",
     "text": [
      "iterations: 100%|██████████| 1000/1000 [00:00<00:00, 8373.12it/s]\n",
      "iterations: 100%|██████████| 1000/1000 [00:00<00:00, 3422.41it/s]\n",
      "iterations: 100%|██████████| 1000/1000 [00:00<00:00, 2065.41it/s]\n",
      "iterations: 100%|██████████| 1000/1000 [00:00<00:00, 6278.08it/s]\n",
      "iterations:   0%|          | 0/1000 [00:00<?, ?it/s]"
     ]
    },
    {
     "name": "stdout",
     "output_type": "stream",
     "text": [
      "Experiment:  137\n"
     ]
    },
    {
     "name": "stderr",
     "output_type": "stream",
     "text": [
      "iterations: 100%|██████████| 1000/1000 [00:00<00:00, 9431.46it/s]\n",
      "iterations: 100%|██████████| 1000/1000 [00:00<00:00, 10544.63it/s]\n",
      "iterations: 100%|██████████| 1000/1000 [00:00<00:00, 11360.40it/s]\n",
      "iterations: 100%|██████████| 1000/1000 [00:00<00:00, 9670.04it/s]\n",
      "iterations:   0%|          | 0/1000 [00:00<?, ?it/s]"
     ]
    },
    {
     "name": "stdout",
     "output_type": "stream",
     "text": [
      "Experiment:  138\n"
     ]
    },
    {
     "name": "stderr",
     "output_type": "stream",
     "text": [
      "iterations: 100%|██████████| 1000/1000 [00:00<00:00, 9353.39it/s]\n",
      "iterations: 100%|██████████| 1000/1000 [00:00<00:00, 11670.52it/s]\n",
      "iterations: 100%|██████████| 1000/1000 [00:00<00:00, 11319.04it/s]\n",
      "iterations: 100%|██████████| 1000/1000 [00:00<00:00, 10303.34it/s]\n",
      "iterations: 100%|██████████| 1000/1000 [00:00<00:00, 9971.77it/s]"
     ]
    },
    {
     "name": "stdout",
     "output_type": "stream",
     "text": [
      "Experiment:  139\n"
     ]
    },
    {
     "name": "stderr",
     "output_type": "stream",
     "text": [
      "\n",
      "iterations: 100%|██████████| 1000/1000 [00:00<00:00, 12032.37it/s]\n",
      "iterations: 100%|██████████| 1000/1000 [00:00<00:00, 12380.65it/s]\n",
      "iterations: 100%|██████████| 1000/1000 [00:00<00:00, 10406.26it/s]\n",
      "iterations:  99%|█████████▉| 991/1000 [00:00<00:00, 9908.64it/s]"
     ]
    },
    {
     "name": "stdout",
     "output_type": "stream",
     "text": [
      "Experiment:  140\n"
     ]
    },
    {
     "name": "stderr",
     "output_type": "stream",
     "text": [
      "iterations: 100%|██████████| 1000/1000 [00:00<00:00, 9737.39it/s]\n",
      "iterations: 100%|██████████| 1000/1000 [00:00<00:00, 10663.03it/s]\n",
      "iterations: 100%|██████████| 1000/1000 [00:00<00:00, 11234.81it/s]\n",
      "iterations: 100%|██████████| 1000/1000 [00:00<00:00, 7979.65it/s]\n",
      "iterations:   0%|          | 0/1000 [00:00<?, ?it/s]"
     ]
    },
    {
     "name": "stdout",
     "output_type": "stream",
     "text": [
      "Experiment:  141\n"
     ]
    },
    {
     "name": "stderr",
     "output_type": "stream",
     "text": [
      "iterations: 100%|██████████| 1000/1000 [00:00<00:00, 5097.00it/s]\n",
      "iterations: 100%|██████████| 1000/1000 [00:00<00:00, 2862.73it/s]\n",
      "iterations: 100%|██████████| 1000/1000 [00:00<00:00, 4551.54it/s]\n",
      "iterations: 100%|██████████| 1000/1000 [00:00<00:00, 6279.30it/s]\n",
      "iterations:   0%|          | 0/1000 [00:00<?, ?it/s]"
     ]
    },
    {
     "name": "stdout",
     "output_type": "stream",
     "text": [
      "Experiment:  142\n"
     ]
    },
    {
     "name": "stderr",
     "output_type": "stream",
     "text": [
      "iterations: 100%|██████████| 1000/1000 [00:00<00:00, 6200.82it/s]\n",
      "iterations: 100%|██████████| 1000/1000 [00:00<00:00, 10196.26it/s]\n",
      "iterations: 100%|██████████| 1000/1000 [00:00<00:00, 10890.28it/s]\n",
      "iterations: 100%|██████████| 1000/1000 [00:00<00:00, 10607.13it/s]\n",
      "iterations: 100%|██████████| 1000/1000 [00:00<00:00, 10174.79it/s]\n",
      "iterations:   0%|          | 0/1000 [00:00<?, ?it/s]"
     ]
    },
    {
     "name": "stdout",
     "output_type": "stream",
     "text": [
      "Experiment:  143\n"
     ]
    },
    {
     "name": "stderr",
     "output_type": "stream",
     "text": [
      "iterations: 100%|██████████| 1000/1000 [00:00<00:00, 11655.57it/s]\n",
      "iterations: 100%|██████████| 1000/1000 [00:00<00:00, 10232.28it/s]\n",
      "iterations:  36%|███▌      | 361/1000 [00:00<00:00, 3606.02it/s]"
     ]
    },
    {
     "name": "stdout",
     "output_type": "stream",
     "text": [
      "Experiment:  144\n"
     ]
    },
    {
     "name": "stderr",
     "output_type": "stream",
     "text": [
      "iterations: 100%|██████████| 1000/1000 [00:00<00:00, 4076.89it/s]\n",
      "iterations: 100%|██████████| 1000/1000 [00:00<00:00, 9585.16it/s]\n",
      "iterations: 100%|██████████| 1000/1000 [00:00<00:00, 10700.44it/s]\n",
      "iterations: 100%|██████████| 1000/1000 [00:00<00:00, 11543.24it/s]\n",
      "iterations: 100%|██████████| 1000/1000 [00:00<00:00, 9497.82it/s]\n",
      "iterations:   0%|          | 0/1000 [00:00<?, ?it/s]"
     ]
    },
    {
     "name": "stdout",
     "output_type": "stream",
     "text": [
      "Experiment:  145\n"
     ]
    },
    {
     "name": "stderr",
     "output_type": "stream",
     "text": [
      "iterations: 100%|██████████| 1000/1000 [00:00<00:00, 10083.26it/s]\n",
      "iterations: 100%|██████████| 1000/1000 [00:00<00:00, 9244.09it/s]\n",
      "iterations: 100%|██████████| 1000/1000 [00:00<00:00, 12419.73it/s]\n",
      "iterations: 100%|██████████| 1000/1000 [00:00<00:00, 10258.58it/s]\n",
      "iterations: 100%|██████████| 1000/1000 [00:00<00:00, 10178.94it/s]"
     ]
    },
    {
     "name": "stdout",
     "output_type": "stream",
     "text": [
      "Experiment:  146\n"
     ]
    },
    {
     "name": "stderr",
     "output_type": "stream",
     "text": [
      "\n",
      "iterations: 100%|██████████| 1000/1000 [00:00<00:00, 11420.75it/s]\n",
      "iterations: 100%|██████████| 1000/1000 [00:00<00:00, 12034.55it/s]\n",
      "iterations: 100%|██████████| 1000/1000 [00:00<00:00, 10066.06it/s]\n",
      "iterations:   0%|          | 0/1000 [00:00<?, ?it/s]"
     ]
    },
    {
     "name": "stdout",
     "output_type": "stream",
     "text": [
      "Experiment:  147\n"
     ]
    },
    {
     "name": "stderr",
     "output_type": "stream",
     "text": [
      "iterations: 100%|██████████| 1000/1000 [00:00<00:00, 9546.44it/s]\n",
      "iterations: 100%|██████████| 1000/1000 [00:00<00:00, 10610.75it/s]\n",
      "iterations: 100%|██████████| 1000/1000 [00:00<00:00, 8657.33it/s]\n",
      "iterations: 100%|██████████| 1000/1000 [00:00<00:00, 7842.96it/s]\n",
      "iterations:   0%|          | 0/1000 [00:00<?, ?it/s]"
     ]
    },
    {
     "name": "stdout",
     "output_type": "stream",
     "text": [
      "Experiment:  148\n"
     ]
    },
    {
     "name": "stderr",
     "output_type": "stream",
     "text": [
      "iterations: 100%|██████████| 1000/1000 [00:00<00:00, 7807.54it/s]\n",
      "iterations: 100%|██████████| 1000/1000 [00:00<00:00, 9407.96it/s]\n",
      "iterations: 100%|██████████| 1000/1000 [00:00<00:00, 8636.92it/s]\n",
      "iterations: 100%|██████████| 1000/1000 [00:00<00:00, 9016.31it/s]\n",
      "iterations:   0%|          | 0/1000 [00:00<?, ?it/s]"
     ]
    },
    {
     "name": "stdout",
     "output_type": "stream",
     "text": [
      "Experiment:  149\n"
     ]
    },
    {
     "name": "stderr",
     "output_type": "stream",
     "text": [
      "iterations: 100%|██████████| 1000/1000 [00:00<00:00, 8732.88it/s]\n",
      "iterations: 100%|██████████| 1000/1000 [00:00<00:00, 9741.92it/s]\n",
      "iterations: 100%|██████████| 1000/1000 [00:00<00:00, 10578.53it/s]\n",
      "iterations: 100%|██████████| 1000/1000 [00:00<00:00, 9566.45it/s]\n",
      "iterations:   0%|          | 0/1000 [00:00<?, ?it/s]"
     ]
    },
    {
     "name": "stdout",
     "output_type": "stream",
     "text": [
      "Experiment:  150\n"
     ]
    },
    {
     "name": "stderr",
     "output_type": "stream",
     "text": [
      "iterations: 100%|██████████| 1000/1000 [00:00<00:00, 8631.34it/s]\n",
      "iterations: 100%|██████████| 1000/1000 [00:00<00:00, 11421.09it/s]\n",
      "iterations: 100%|██████████| 1000/1000 [00:00<00:00, 10939.02it/s]\n",
      "iterations: 100%|██████████| 1000/1000 [00:00<00:00, 10140.13it/s]\n",
      "iterations:   0%|          | 0/1000 [00:00<?, ?it/s]"
     ]
    },
    {
     "name": "stdout",
     "output_type": "stream",
     "text": [
      "Experiment:  151\n"
     ]
    },
    {
     "name": "stderr",
     "output_type": "stream",
     "text": [
      "iterations: 100%|██████████| 1000/1000 [00:00<00:00, 9543.18it/s]\n",
      "iterations: 100%|██████████| 1000/1000 [00:00<00:00, 11014.02it/s]\n",
      "iterations: 100%|██████████| 1000/1000 [00:00<00:00, 12015.07it/s]\n",
      "iterations: 100%|██████████| 1000/1000 [00:00<00:00, 9255.68it/s]\n",
      "iterations:   0%|          | 0/1000 [00:00<?, ?it/s]"
     ]
    },
    {
     "name": "stdout",
     "output_type": "stream",
     "text": [
      "Experiment:  152\n"
     ]
    },
    {
     "name": "stderr",
     "output_type": "stream",
     "text": [
      "iterations: 100%|██████████| 1000/1000 [00:00<00:00, 10003.30it/s]\n",
      "iterations: 100%|██████████| 1000/1000 [00:00<00:00, 11338.26it/s]\n",
      "iterations: 100%|██████████| 1000/1000 [00:00<00:00, 10024.08it/s]\n",
      "iterations: 100%|██████████| 1000/1000 [00:00<00:00, 8391.31it/s]\n",
      "iterations:   0%|          | 0/1000 [00:00<?, ?it/s]"
     ]
    },
    {
     "name": "stdout",
     "output_type": "stream",
     "text": [
      "Experiment:  153\n"
     ]
    },
    {
     "name": "stderr",
     "output_type": "stream",
     "text": [
      "iterations: 100%|██████████| 1000/1000 [00:00<00:00, 8675.29it/s]\n",
      "iterations: 100%|██████████| 1000/1000 [00:00<00:00, 10212.30it/s]\n",
      "iterations: 100%|██████████| 1000/1000 [00:00<00:00, 11571.10it/s]\n",
      "iterations: 100%|██████████| 1000/1000 [00:00<00:00, 8880.44it/s]\n",
      "iterations:   0%|          | 0/1000 [00:00<?, ?it/s]"
     ]
    },
    {
     "name": "stdout",
     "output_type": "stream",
     "text": [
      "Experiment:  154\n"
     ]
    },
    {
     "name": "stderr",
     "output_type": "stream",
     "text": [
      "iterations: 100%|██████████| 1000/1000 [00:00<00:00, 10091.12it/s]\n",
      "iterations: 100%|██████████| 1000/1000 [00:00<00:00, 11321.06it/s]\n",
      "iterations: 100%|██████████| 1000/1000 [00:00<00:00, 12294.57it/s]\n",
      "iterations: 100%|██████████| 1000/1000 [00:00<00:00, 10210.56it/s]\n",
      "iterations: 100%|██████████| 1000/1000 [00:00<00:00, 10155.77it/s]"
     ]
    },
    {
     "name": "stdout",
     "output_type": "stream",
     "text": [
      "Experiment:  155\n"
     ]
    },
    {
     "name": "stderr",
     "output_type": "stream",
     "text": [
      "\n",
      "iterations: 100%|██████████| 1000/1000 [00:00<00:00, 10554.66it/s]\n",
      "iterations: 100%|██████████| 1000/1000 [00:00<00:00, 7845.35it/s]\n",
      "iterations: 100%|██████████| 1000/1000 [00:00<00:00, 5161.96it/s]\n",
      "iterations:   0%|          | 0/1000 [00:00<?, ?it/s]"
     ]
    },
    {
     "name": "stdout",
     "output_type": "stream",
     "text": [
      "Experiment:  156\n"
     ]
    },
    {
     "name": "stderr",
     "output_type": "stream",
     "text": [
      "iterations: 100%|██████████| 1000/1000 [00:00<00:00, 8679.87it/s]\n",
      "iterations: 100%|██████████| 1000/1000 [00:00<00:00, 9528.07it/s]\n",
      "iterations: 100%|██████████| 1000/1000 [00:00<00:00, 11073.84it/s]\n",
      "iterations: 100%|██████████| 1000/1000 [00:00<00:00, 9615.73it/s]\n",
      "iterations:   0%|          | 0/1000 [00:00<?, ?it/s]"
     ]
    },
    {
     "name": "stdout",
     "output_type": "stream",
     "text": [
      "Experiment:  157\n"
     ]
    },
    {
     "name": "stderr",
     "output_type": "stream",
     "text": [
      "iterations: 100%|██████████| 1000/1000 [00:00<00:00, 9298.46it/s]\n",
      "iterations: 100%|██████████| 1000/1000 [00:00<00:00, 11187.08it/s]\n",
      "iterations: 100%|██████████| 1000/1000 [00:00<00:00, 12070.01it/s]\n",
      "iterations: 100%|██████████| 1000/1000 [00:00<00:00, 9397.25it/s]\n",
      "iterations:   0%|          | 0/1000 [00:00<?, ?it/s]"
     ]
    },
    {
     "name": "stdout",
     "output_type": "stream",
     "text": [
      "Experiment:  158\n"
     ]
    },
    {
     "name": "stderr",
     "output_type": "stream",
     "text": [
      "iterations: 100%|██████████| 1000/1000 [00:00<00:00, 9830.02it/s]\n",
      "iterations: 100%|██████████| 1000/1000 [00:00<00:00, 11490.30it/s]\n",
      "iterations: 100%|██████████| 1000/1000 [00:00<00:00, 9433.69it/s]\n",
      "iterations: 100%|██████████| 1000/1000 [00:00<00:00, 9989.22it/s]\n",
      "iterations:   0%|          | 0/1000 [00:00<?, ?it/s]"
     ]
    },
    {
     "name": "stdout",
     "output_type": "stream",
     "text": [
      "Experiment:  159\n"
     ]
    },
    {
     "name": "stderr",
     "output_type": "stream",
     "text": [
      "iterations: 100%|██████████| 1000/1000 [00:00<00:00, 9989.32it/s]\n",
      "iterations: 100%|██████████| 1000/1000 [00:00<00:00, 12325.57it/s]\n",
      "iterations: 100%|██████████| 1000/1000 [00:00<00:00, 10072.29it/s]\n",
      "iterations: 100%|██████████| 1000/1000 [00:00<00:00, 9402.98it/s]\n",
      "iterations:   0%|          | 0/1000 [00:00<?, ?it/s]"
     ]
    },
    {
     "name": "stdout",
     "output_type": "stream",
     "text": [
      "Experiment:  160\n"
     ]
    },
    {
     "name": "stderr",
     "output_type": "stream",
     "text": [
      "iterations: 100%|██████████| 1000/1000 [00:00<00:00, 10183.61it/s]\n",
      "iterations: 100%|██████████| 1000/1000 [00:00<00:00, 10471.34it/s]\n",
      "iterations: 100%|██████████| 1000/1000 [00:00<00:00, 11209.50it/s]\n",
      "iterations: 100%|██████████| 1000/1000 [00:00<00:00, 8992.89it/s]\n",
      "iterations:   0%|          | 0/1000 [00:00<?, ?it/s]"
     ]
    },
    {
     "name": "stdout",
     "output_type": "stream",
     "text": [
      "Experiment:  161\n"
     ]
    },
    {
     "name": "stderr",
     "output_type": "stream",
     "text": [
      "iterations: 100%|██████████| 1000/1000 [00:00<00:00, 9361.45it/s]\n",
      "iterations: 100%|██████████| 1000/1000 [00:00<00:00, 11327.72it/s]\n",
      "iterations: 100%|██████████| 1000/1000 [00:00<00:00, 11793.18it/s]\n",
      "iterations: 100%|██████████| 1000/1000 [00:00<00:00, 8970.70it/s]\n",
      "iterations:   0%|          | 0/1000 [00:00<?, ?it/s]"
     ]
    },
    {
     "name": "stdout",
     "output_type": "stream",
     "text": [
      "Experiment:  162\n"
     ]
    },
    {
     "name": "stderr",
     "output_type": "stream",
     "text": [
      "iterations: 100%|██████████| 1000/1000 [00:00<00:00, 6640.19it/s]\n",
      "iterations: 100%|██████████| 1000/1000 [00:00<00:00, 10704.59it/s]\n",
      "iterations: 100%|██████████| 1000/1000 [00:00<00:00, 10661.19it/s]\n",
      "iterations: 100%|██████████| 1000/1000 [00:00<00:00, 9720.15it/s]\n",
      "iterations:   0%|          | 0/1000 [00:00<?, ?it/s]"
     ]
    },
    {
     "name": "stdout",
     "output_type": "stream",
     "text": [
      "Experiment:  163\n"
     ]
    },
    {
     "name": "stderr",
     "output_type": "stream",
     "text": [
      "iterations: 100%|██████████| 1000/1000 [00:00<00:00, 8975.69it/s]\n",
      "iterations: 100%|██████████| 1000/1000 [00:00<00:00, 11603.37it/s]\n",
      "iterations: 100%|██████████| 1000/1000 [00:00<00:00, 10729.62it/s]\n",
      "iterations: 100%|██████████| 1000/1000 [00:00<00:00, 8623.37it/s]\n",
      "iterations:   0%|          | 0/1000 [00:00<?, ?it/s]"
     ]
    },
    {
     "name": "stdout",
     "output_type": "stream",
     "text": [
      "Experiment:  164\n"
     ]
    },
    {
     "name": "stderr",
     "output_type": "stream",
     "text": [
      "iterations: 100%|██████████| 1000/1000 [00:00<00:00, 10112.68it/s]\n",
      "iterations: 100%|██████████| 1000/1000 [00:00<00:00, 8915.19it/s]\n",
      "iterations: 100%|██████████| 1000/1000 [00:00<00:00, 6207.44it/s]\n",
      "iterations: 100%|██████████| 1000/1000 [00:00<00:00, 7379.70it/s]\n",
      "iterations:   0%|          | 0/1000 [00:00<?, ?it/s]"
     ]
    },
    {
     "name": "stdout",
     "output_type": "stream",
     "text": [
      "Experiment:  165\n"
     ]
    },
    {
     "name": "stderr",
     "output_type": "stream",
     "text": [
      "iterations: 100%|██████████| 1000/1000 [00:00<00:00, 7249.68it/s]\n",
      "iterations: 100%|██████████| 1000/1000 [00:00<00:00, 6608.29it/s]\n",
      "iterations: 100%|██████████| 1000/1000 [00:00<00:00, 9476.43it/s]\n",
      "iterations: 100%|██████████| 1000/1000 [00:00<00:00, 7789.81it/s]\n",
      "iterations:   0%|          | 0/1000 [00:00<?, ?it/s]"
     ]
    },
    {
     "name": "stdout",
     "output_type": "stream",
     "text": [
      "Experiment:  166\n"
     ]
    },
    {
     "name": "stderr",
     "output_type": "stream",
     "text": [
      "iterations: 100%|██████████| 1000/1000 [00:00<00:00, 8319.06it/s]\n",
      "iterations: 100%|██████████| 1000/1000 [00:00<00:00, 9065.12it/s]\n",
      "iterations: 100%|██████████| 1000/1000 [00:00<00:00, 9606.99it/s]\n",
      "iterations: 100%|██████████| 1000/1000 [00:00<00:00, 6375.40it/s]\n",
      "iterations:   0%|          | 0/1000 [00:00<?, ?it/s]"
     ]
    },
    {
     "name": "stdout",
     "output_type": "stream",
     "text": [
      "Experiment:  167\n"
     ]
    },
    {
     "name": "stderr",
     "output_type": "stream",
     "text": [
      "iterations: 100%|██████████| 1000/1000 [00:00<00:00, 7190.84it/s]\n",
      "iterations: 100%|██████████| 1000/1000 [00:00<00:00, 8930.02it/s]\n",
      "iterations: 100%|██████████| 1000/1000 [00:00<00:00, 9685.79it/s]\n",
      "iterations: 100%|██████████| 1000/1000 [00:00<00:00, 8150.29it/s]\n",
      "iterations:   0%|          | 0/1000 [00:00<?, ?it/s]"
     ]
    },
    {
     "name": "stdout",
     "output_type": "stream",
     "text": [
      "Experiment:  168\n"
     ]
    },
    {
     "name": "stderr",
     "output_type": "stream",
     "text": [
      "iterations: 100%|██████████| 1000/1000 [00:00<00:00, 9056.00it/s]\n",
      "iterations: 100%|██████████| 1000/1000 [00:00<00:00, 9190.78it/s]\n",
      "iterations: 100%|██████████| 1000/1000 [00:00<00:00, 10061.27it/s]\n",
      "iterations: 100%|██████████| 1000/1000 [00:00<00:00, 8131.54it/s]\n",
      "iterations:   0%|          | 0/1000 [00:00<?, ?it/s]"
     ]
    },
    {
     "name": "stdout",
     "output_type": "stream",
     "text": [
      "Experiment:  169\n"
     ]
    },
    {
     "name": "stderr",
     "output_type": "stream",
     "text": [
      "iterations: 100%|██████████| 1000/1000 [00:00<00:00, 3490.58it/s]\n",
      "iterations: 100%|██████████| 1000/1000 [00:00<00:00, 6745.23it/s]\n",
      "iterations: 100%|██████████| 1000/1000 [00:00<00:00, 11212.65it/s]\n",
      "iterations: 100%|██████████| 1000/1000 [00:00<00:00, 8927.05it/s]\n",
      "iterations:   0%|          | 0/1000 [00:00<?, ?it/s]"
     ]
    },
    {
     "name": "stdout",
     "output_type": "stream",
     "text": [
      "Experiment:  170\n"
     ]
    },
    {
     "name": "stderr",
     "output_type": "stream",
     "text": [
      "iterations: 100%|██████████| 1000/1000 [00:00<00:00, 5389.12it/s]\n",
      "iterations: 100%|██████████| 1000/1000 [00:00<00:00, 6373.31it/s]\n",
      "iterations: 100%|██████████| 1000/1000 [00:00<00:00, 10169.96it/s]\n",
      "iterations: 100%|██████████| 1000/1000 [00:00<00:00, 9470.50it/s]\n",
      "iterations:   0%|          | 0/1000 [00:00<?, ?it/s]"
     ]
    },
    {
     "name": "stdout",
     "output_type": "stream",
     "text": [
      "Experiment:  171\n"
     ]
    },
    {
     "name": "stderr",
     "output_type": "stream",
     "text": [
      "iterations: 100%|██████████| 1000/1000 [00:00<00:00, 9366.82it/s]\n",
      "iterations: 100%|██████████| 1000/1000 [00:00<00:00, 11366.99it/s]\n",
      "iterations: 100%|██████████| 1000/1000 [00:00<00:00, 11391.10it/s]\n",
      "iterations: 100%|██████████| 1000/1000 [00:00<00:00, 10297.32it/s]\n",
      "iterations:  95%|█████████▍| 947/1000 [00:00<00:00, 9468.00it/s]"
     ]
    },
    {
     "name": "stdout",
     "output_type": "stream",
     "text": [
      "Experiment:  172\n"
     ]
    },
    {
     "name": "stderr",
     "output_type": "stream",
     "text": [
      "iterations: 100%|██████████| 1000/1000 [00:00<00:00, 8539.27it/s]\n",
      "iterations: 100%|██████████| 1000/1000 [00:00<00:00, 11996.17it/s]\n",
      "iterations: 100%|██████████| 1000/1000 [00:00<00:00, 11472.64it/s]\n",
      "iterations: 100%|██████████| 1000/1000 [00:00<00:00, 10809.09it/s]\n",
      "iterations: 100%|██████████| 1000/1000 [00:00<00:00, 10914.88it/s]\n",
      "iterations:   0%|          | 0/1000 [00:00<?, ?it/s]"
     ]
    },
    {
     "name": "stdout",
     "output_type": "stream",
     "text": [
      "Experiment:  173\n"
     ]
    },
    {
     "name": "stderr",
     "output_type": "stream",
     "text": [
      "iterations: 100%|██████████| 1000/1000 [00:00<00:00, 7543.41it/s]\n",
      "iterations: 100%|██████████| 1000/1000 [00:00<00:00, 8890.55it/s]\n",
      "iterations: 100%|██████████| 1000/1000 [00:00<00:00, 8125.60it/s]\n",
      "iterations:   0%|          | 0/1000 [00:00<?, ?it/s]"
     ]
    },
    {
     "name": "stdout",
     "output_type": "stream",
     "text": [
      "Experiment:  174\n"
     ]
    },
    {
     "name": "stderr",
     "output_type": "stream",
     "text": [
      "iterations: 100%|██████████| 1000/1000 [00:00<00:00, 9567.63it/s]\n",
      "iterations: 100%|██████████| 1000/1000 [00:00<00:00, 10448.90it/s]\n",
      "iterations: 100%|██████████| 1000/1000 [00:00<00:00, 10756.03it/s]\n",
      "iterations: 100%|██████████| 1000/1000 [00:00<00:00, 9745.99it/s]\n",
      "iterations:   0%|          | 0/1000 [00:00<?, ?it/s]"
     ]
    },
    {
     "name": "stdout",
     "output_type": "stream",
     "text": [
      "Experiment:  175\n"
     ]
    },
    {
     "name": "stderr",
     "output_type": "stream",
     "text": [
      "iterations: 100%|██████████| 1000/1000 [00:00<00:00, 9256.01it/s]\n",
      "iterations: 100%|██████████| 1000/1000 [00:00<00:00, 11971.48it/s]\n",
      "iterations: 100%|██████████| 1000/1000 [00:00<00:00, 11541.74it/s]\n",
      "iterations: 100%|██████████| 1000/1000 [00:00<00:00, 9049.53it/s]\n",
      "iterations:   0%|          | 0/1000 [00:00<?, ?it/s]"
     ]
    },
    {
     "name": "stdout",
     "output_type": "stream",
     "text": [
      "Experiment:  176\n"
     ]
    },
    {
     "name": "stderr",
     "output_type": "stream",
     "text": [
      "iterations: 100%|██████████| 1000/1000 [00:00<00:00, 9832.05it/s]\n",
      "iterations: 100%|██████████| 1000/1000 [00:00<00:00, 11363.63it/s]\n",
      "iterations: 100%|██████████| 1000/1000 [00:00<00:00, 11964.00it/s]\n",
      "iterations: 100%|██████████| 1000/1000 [00:00<00:00, 10102.13it/s]\n",
      "iterations: 100%|██████████| 1000/1000 [00:00<00:00, 10521.88it/s]\n",
      "iterations:   0%|          | 0/1000 [00:00<?, ?it/s]"
     ]
    },
    {
     "name": "stdout",
     "output_type": "stream",
     "text": [
      "Experiment:  177\n"
     ]
    },
    {
     "name": "stderr",
     "output_type": "stream",
     "text": [
      "iterations: 100%|██████████| 1000/1000 [00:00<00:00, 11409.28it/s]\n",
      "iterations: 100%|██████████| 1000/1000 [00:00<00:00, 11856.25it/s]\n",
      "iterations: 100%|██████████| 1000/1000 [00:00<00:00, 9708.39it/s]\n",
      "iterations:   0%|          | 0/1000 [00:00<?, ?it/s]"
     ]
    },
    {
     "name": "stdout",
     "output_type": "stream",
     "text": [
      "Experiment:  178\n"
     ]
    },
    {
     "name": "stderr",
     "output_type": "stream",
     "text": [
      "iterations: 100%|██████████| 1000/1000 [00:00<00:00, 8921.24it/s]\n",
      "iterations: 100%|██████████| 1000/1000 [00:00<00:00, 5869.96it/s]\n",
      "iterations: 100%|██████████| 1000/1000 [00:00<00:00, 10722.81it/s]\n",
      "iterations: 100%|██████████| 1000/1000 [00:00<00:00, 9123.67it/s]\n",
      "iterations:   0%|          | 0/1000 [00:00<?, ?it/s]"
     ]
    },
    {
     "name": "stdout",
     "output_type": "stream",
     "text": [
      "Experiment:  179\n"
     ]
    },
    {
     "name": "stderr",
     "output_type": "stream",
     "text": [
      "iterations: 100%|██████████| 1000/1000 [00:00<00:00, 10280.66it/s]\n",
      "iterations: 100%|██████████| 1000/1000 [00:00<00:00, 11809.05it/s]\n",
      "iterations: 100%|██████████| 1000/1000 [00:00<00:00, 11907.18it/s]\n",
      "iterations: 100%|██████████| 1000/1000 [00:00<00:00, 10066.66it/s]\n",
      "iterations:   0%|          | 0/1000 [00:00<?, ?it/s]"
     ]
    },
    {
     "name": "stdout",
     "output_type": "stream",
     "text": [
      "Experiment:  180\n"
     ]
    },
    {
     "name": "stderr",
     "output_type": "stream",
     "text": [
      "iterations: 100%|██████████| 1000/1000 [00:00<00:00, 10180.84it/s]\n",
      "iterations: 100%|██████████| 1000/1000 [00:00<00:00, 11689.06it/s]\n",
      "iterations: 100%|██████████| 1000/1000 [00:00<00:00, 10363.47it/s]\n",
      "iterations: 100%|██████████| 1000/1000 [00:00<00:00, 7782.94it/s]\n",
      "iterations:   0%|          | 0/1000 [00:00<?, ?it/s]"
     ]
    },
    {
     "name": "stdout",
     "output_type": "stream",
     "text": [
      "Experiment:  181\n"
     ]
    },
    {
     "name": "stderr",
     "output_type": "stream",
     "text": [
      "iterations: 100%|██████████| 1000/1000 [00:00<00:00, 7635.16it/s]\n",
      "iterations: 100%|██████████| 1000/1000 [00:00<00:00, 8999.84it/s]\n",
      "iterations: 100%|██████████| 1000/1000 [00:00<00:00, 6164.73it/s]\n",
      "iterations:  24%|██▎       | 235/1000 [00:00<00:00, 2327.40it/s]"
     ]
    },
    {
     "name": "stdout",
     "output_type": "stream",
     "text": [
      "Experiment:  182\n"
     ]
    },
    {
     "name": "stderr",
     "output_type": "stream",
     "text": [
      "iterations: 100%|██████████| 1000/1000 [00:00<00:00, 2080.91it/s]\n",
      "iterations: 100%|██████████| 1000/1000 [00:00<00:00, 7084.91it/s]\n",
      "iterations: 100%|██████████| 1000/1000 [00:00<00:00, 11437.60it/s]\n",
      "iterations: 100%|██████████| 1000/1000 [00:00<00:00, 10663.60it/s]\n",
      "iterations: 100%|██████████| 1000/1000 [00:00<00:00, 8824.73it/s]\n",
      "iterations:   0%|          | 0/1000 [00:00<?, ?it/s]"
     ]
    },
    {
     "name": "stdout",
     "output_type": "stream",
     "text": [
      "Experiment:  183\n"
     ]
    },
    {
     "name": "stderr",
     "output_type": "stream",
     "text": [
      "iterations: 100%|██████████| 1000/1000 [00:00<00:00, 2865.32it/s]\n",
      "iterations: 100%|██████████| 1000/1000 [00:00<00:00, 3711.73it/s]\n",
      "iterations: 100%|██████████| 1000/1000 [00:00<00:00, 8489.48it/s]\n",
      "iterations: 100%|██████████| 1000/1000 [00:00<00:00, 7666.77it/s]\n",
      "iterations:   0%|          | 0/1000 [00:00<?, ?it/s]"
     ]
    },
    {
     "name": "stdout",
     "output_type": "stream",
     "text": [
      "Experiment:  184\n"
     ]
    },
    {
     "name": "stderr",
     "output_type": "stream",
     "text": [
      "iterations: 100%|██████████| 1000/1000 [00:00<00:00, 8590.63it/s]\n",
      "iterations: 100%|██████████| 1000/1000 [00:00<00:00, 7561.16it/s]\n",
      "iterations: 100%|██████████| 1000/1000 [00:00<00:00, 8723.65it/s]\n",
      "iterations: 100%|██████████| 1000/1000 [00:00<00:00, 6268.60it/s]\n",
      "iterations:   0%|          | 0/1000 [00:00<?, ?it/s]"
     ]
    },
    {
     "name": "stdout",
     "output_type": "stream",
     "text": [
      "Experiment:  185\n"
     ]
    },
    {
     "name": "stderr",
     "output_type": "stream",
     "text": [
      "iterations: 100%|██████████| 1000/1000 [00:00<00:00, 6687.35it/s]\n",
      "iterations: 100%|██████████| 1000/1000 [00:00<00:00, 7684.51it/s]\n",
      "iterations: 100%|██████████| 1000/1000 [00:00<00:00, 6837.85it/s]\n",
      "iterations:  32%|███▏      | 316/1000 [00:00<00:00, 3156.65it/s]"
     ]
    },
    {
     "name": "stdout",
     "output_type": "stream",
     "text": [
      "Experiment:  186\n"
     ]
    },
    {
     "name": "stderr",
     "output_type": "stream",
     "text": [
      "iterations: 100%|██████████| 1000/1000 [00:00<00:00, 3795.38it/s]\n",
      "iterations: 100%|██████████| 1000/1000 [00:00<00:00, 2964.97it/s]\n",
      "iterations: 100%|██████████| 1000/1000 [00:00<00:00, 4830.28it/s]\n",
      "iterations: 100%|██████████| 1000/1000 [00:00<00:00, 9501.31it/s]\n",
      "iterations: 100%|██████████| 1000/1000 [00:00<00:00, 7140.40it/s]\n",
      "iterations:   0%|          | 0/1000 [00:00<?, ?it/s]"
     ]
    },
    {
     "name": "stdout",
     "output_type": "stream",
     "text": [
      "Experiment:  187\n"
     ]
    },
    {
     "name": "stderr",
     "output_type": "stream",
     "text": [
      "iterations: 100%|██████████| 1000/1000 [00:00<00:00, 7583.62it/s]\n",
      "iterations: 100%|██████████| 1000/1000 [00:00<00:00, 9514.22it/s]\n",
      "iterations: 100%|██████████| 1000/1000 [00:00<00:00, 10004.99it/s]\n",
      "iterations:  41%|████      | 407/1000 [00:00<00:00, 4053.43it/s]"
     ]
    },
    {
     "name": "stdout",
     "output_type": "stream",
     "text": [
      "Experiment:  188\n"
     ]
    },
    {
     "name": "stderr",
     "output_type": "stream",
     "text": [
      "iterations: 100%|██████████| 1000/1000 [00:00<00:00, 3878.47it/s]\n",
      "iterations: 100%|██████████| 1000/1000 [00:00<00:00, 1859.92it/s]\n",
      "iterations: 100%|██████████| 1000/1000 [00:00<00:00, 8354.09it/s]\n",
      "iterations: 100%|██████████| 1000/1000 [00:00<00:00, 9092.81it/s]\n",
      "iterations: 100%|██████████| 1000/1000 [00:00<00:00, 8566.64it/s]\n",
      "iterations:   0%|          | 0/1000 [00:00<?, ?it/s]"
     ]
    },
    {
     "name": "stdout",
     "output_type": "stream",
     "text": [
      "Experiment:  189\n"
     ]
    },
    {
     "name": "stderr",
     "output_type": "stream",
     "text": [
      "iterations: 100%|██████████| 1000/1000 [00:00<00:00, 8244.85it/s]\n",
      "iterations: 100%|██████████| 1000/1000 [00:00<00:00, 9748.80it/s]\n",
      "iterations: 100%|██████████| 1000/1000 [00:00<00:00, 10671.44it/s]\n",
      "iterations: 100%|██████████| 1000/1000 [00:00<00:00, 8635.89it/s]\n",
      "iterations:   0%|          | 0/1000 [00:00<?, ?it/s]"
     ]
    },
    {
     "name": "stdout",
     "output_type": "stream",
     "text": [
      "Experiment:  190\n"
     ]
    },
    {
     "name": "stderr",
     "output_type": "stream",
     "text": [
      "iterations: 100%|██████████| 1000/1000 [00:00<00:00, 8683.95it/s]\n",
      "iterations: 100%|██████████| 1000/1000 [00:00<00:00, 10360.09it/s]\n",
      "iterations: 100%|██████████| 1000/1000 [00:00<00:00, 10611.00it/s]\n",
      "iterations: 100%|██████████| 1000/1000 [00:00<00:00, 8781.80it/s]\n",
      "iterations:   0%|          | 0/1000 [00:00<?, ?it/s]"
     ]
    },
    {
     "name": "stdout",
     "output_type": "stream",
     "text": [
      "Experiment:  191\n"
     ]
    },
    {
     "name": "stderr",
     "output_type": "stream",
     "text": [
      "iterations: 100%|██████████| 1000/1000 [00:00<00:00, 7494.63it/s]\n",
      "iterations: 100%|██████████| 1000/1000 [00:00<00:00, 7831.29it/s]\n",
      "iterations: 100%|██████████| 1000/1000 [00:00<00:00, 3164.12it/s]\n",
      "iterations:  24%|██▍       | 242/1000 [00:00<00:00, 2406.02it/s]"
     ]
    },
    {
     "name": "stdout",
     "output_type": "stream",
     "text": [
      "Experiment:  192\n"
     ]
    },
    {
     "name": "stderr",
     "output_type": "stream",
     "text": [
      "iterations: 100%|██████████| 1000/1000 [00:00<00:00, 2472.32it/s]\n",
      "iterations: 100%|██████████| 1000/1000 [00:00<00:00, 6765.49it/s]\n",
      "iterations: 100%|██████████| 1000/1000 [00:00<00:00, 9513.37it/s]\n",
      "iterations: 100%|██████████| 1000/1000 [00:00<00:00, 8911.86it/s]\n",
      "iterations: 100%|██████████| 1000/1000 [00:00<00:00, 10683.87it/s]\n",
      "iterations:  97%|█████████▋| 969/1000 [00:00<00:00, 9682.44it/s]"
     ]
    },
    {
     "name": "stdout",
     "output_type": "stream",
     "text": [
      "Experiment:  193\n"
     ]
    },
    {
     "name": "stderr",
     "output_type": "stream",
     "text": [
      "iterations: 100%|██████████| 1000/1000 [00:00<00:00, 9475.95it/s]\n",
      "iterations: 100%|██████████| 1000/1000 [00:00<00:00, 7639.59it/s]\n",
      "iterations: 100%|██████████| 1000/1000 [00:00<00:00, 8876.82it/s]\n",
      "iterations: 100%|██████████| 1000/1000 [00:00<00:00, 8672.49it/s]\n",
      "iterations:   0%|          | 0/1000 [00:00<?, ?it/s]"
     ]
    },
    {
     "name": "stdout",
     "output_type": "stream",
     "text": [
      "Experiment:  194\n"
     ]
    },
    {
     "name": "stderr",
     "output_type": "stream",
     "text": [
      "iterations: 100%|██████████| 1000/1000 [00:00<00:00, 10242.75it/s]\n",
      "iterations: 100%|██████████| 1000/1000 [00:00<00:00, 11239.15it/s]\n",
      "iterations: 100%|██████████| 1000/1000 [00:00<00:00, 11955.54it/s]\n",
      "iterations: 100%|██████████| 1000/1000 [00:00<00:00, 9710.07it/s]\n",
      "iterations:   0%|          | 0/1000 [00:00<?, ?it/s]"
     ]
    },
    {
     "name": "stdout",
     "output_type": "stream",
     "text": [
      "Experiment:  195\n"
     ]
    },
    {
     "name": "stderr",
     "output_type": "stream",
     "text": [
      "iterations: 100%|██████████| 1000/1000 [00:00<00:00, 10407.34it/s]\n",
      "iterations: 100%|██████████| 1000/1000 [00:00<00:00, 11881.41it/s]\n",
      "iterations: 100%|██████████| 1000/1000 [00:00<00:00, 11307.50it/s]\n",
      "iterations: 100%|██████████| 1000/1000 [00:00<00:00, 10365.47it/s]\n",
      "iterations: 100%|██████████| 1000/1000 [00:00<00:00, 10158.90it/s]"
     ]
    },
    {
     "name": "stdout",
     "output_type": "stream",
     "text": [
      "Experiment:  196\n"
     ]
    },
    {
     "name": "stderr",
     "output_type": "stream",
     "text": [
      "\n",
      "iterations: 100%|██████████| 1000/1000 [00:00<00:00, 11876.77it/s]\n",
      "iterations: 100%|██████████| 1000/1000 [00:00<00:00, 12039.94it/s]\n",
      "iterations: 100%|██████████| 1000/1000 [00:00<00:00, 9036.45it/s]\n",
      "iterations:   0%|          | 0/1000 [00:00<?, ?it/s]"
     ]
    },
    {
     "name": "stdout",
     "output_type": "stream",
     "text": [
      "Experiment:  197\n"
     ]
    },
    {
     "name": "stderr",
     "output_type": "stream",
     "text": [
      "iterations: 100%|██████████| 1000/1000 [00:00<00:00, 10162.98it/s]\n",
      "iterations: 100%|██████████| 1000/1000 [00:00<00:00, 11462.92it/s]\n",
      "iterations: 100%|██████████| 1000/1000 [00:00<00:00, 11986.57it/s]\n",
      "iterations: 100%|██████████| 1000/1000 [00:00<00:00, 11116.89it/s]\n",
      "iterations: 100%|██████████| 1000/1000 [00:00<00:00, 10575.20it/s]\n",
      "iterations:   0%|          | 0/1000 [00:00<?, ?it/s]"
     ]
    },
    {
     "name": "stdout",
     "output_type": "stream",
     "text": [
      "Experiment:  198\n"
     ]
    },
    {
     "name": "stderr",
     "output_type": "stream",
     "text": [
      "iterations: 100%|██████████| 1000/1000 [00:00<00:00, 11907.59it/s]\n",
      "iterations: 100%|██████████| 1000/1000 [00:00<00:00, 9708.57it/s]\n",
      "iterations: 100%|██████████| 1000/1000 [00:00<00:00, 6022.53it/s]\n",
      "iterations:   0%|          | 0/1000 [00:00<?, ?it/s]"
     ]
    },
    {
     "name": "stdout",
     "output_type": "stream",
     "text": [
      "Experiment:  199\n"
     ]
    },
    {
     "name": "stderr",
     "output_type": "stream",
     "text": [
      "iterations: 100%|██████████| 1000/1000 [00:00<00:00, 2504.85it/s]\n",
      "iterations: 100%|██████████| 1000/1000 [00:00<00:00, 10750.74it/s]\n",
      "iterations: 100%|██████████| 1000/1000 [00:00<00:00, 11930.92it/s]\n",
      "iterations: 100%|██████████| 1000/1000 [00:00<00:00, 9236.01it/s]\n",
      "iterations:   0%|          | 0/1000 [00:00<?, ?it/s]"
     ]
    },
    {
     "name": "stdout",
     "output_type": "stream",
     "text": [
      "Experiment:  200\n"
     ]
    },
    {
     "name": "stderr",
     "output_type": "stream",
     "text": [
      "iterations: 100%|██████████| 1000/1000 [00:00<00:00, 10217.13it/s]\n",
      "iterations: 100%|██████████| 1000/1000 [00:00<00:00, 10703.66it/s]\n",
      "iterations: 100%|██████████| 1000/1000 [00:00<00:00, 7649.60it/s]\n",
      "iterations: 100%|██████████| 1000/1000 [00:00<00:00, 6737.46it/s]\n",
      "iterations:   0%|          | 0/1000 [00:00<?, ?it/s]"
     ]
    },
    {
     "name": "stdout",
     "output_type": "stream",
     "text": [
      "Experiment:  201\n"
     ]
    },
    {
     "name": "stderr",
     "output_type": "stream",
     "text": [
      "iterations: 100%|██████████| 1000/1000 [00:00<00:00, 7219.65it/s]\n",
      "iterations: 100%|██████████| 1000/1000 [00:00<00:00, 9552.20it/s]\n",
      "iterations: 100%|██████████| 1000/1000 [00:00<00:00, 8309.65it/s]\n",
      "iterations:  34%|███▍      | 343/1000 [00:00<00:00, 3402.00it/s]"
     ]
    },
    {
     "name": "stdout",
     "output_type": "stream",
     "text": [
      "Experiment:  202\n"
     ]
    },
    {
     "name": "stderr",
     "output_type": "stream",
     "text": [
      "iterations: 100%|██████████| 1000/1000 [00:00<00:00, 2596.69it/s]\n",
      "iterations: 100%|██████████| 1000/1000 [00:00<00:00, 2481.58it/s]\n",
      "iterations: 100%|██████████| 1000/1000 [00:00<00:00, 4974.16it/s]\n",
      "iterations: 100%|██████████| 1000/1000 [00:00<00:00, 7436.83it/s]\n",
      "iterations: 100%|██████████| 1000/1000 [00:00<00:00, 6272.89it/s]\n",
      "iterations:   0%|          | 0/1000 [00:00<?, ?it/s]"
     ]
    },
    {
     "name": "stdout",
     "output_type": "stream",
     "text": [
      "Experiment:  203\n"
     ]
    },
    {
     "name": "stderr",
     "output_type": "stream",
     "text": [
      "iterations: 100%|██████████| 1000/1000 [00:00<00:00, 8443.59it/s]\n",
      "iterations: 100%|██████████| 1000/1000 [00:00<00:00, 10647.58it/s]\n",
      "iterations: 100%|██████████| 1000/1000 [00:00<00:00, 8438.51it/s]\n",
      "iterations: 100%|██████████| 1000/1000 [00:00<00:00, 6157.79it/s]\n",
      "iterations:   0%|          | 0/1000 [00:00<?, ?it/s]"
     ]
    },
    {
     "name": "stdout",
     "output_type": "stream",
     "text": [
      "Experiment:  204\n"
     ]
    },
    {
     "name": "stderr",
     "output_type": "stream",
     "text": [
      "iterations: 100%|██████████| 1000/1000 [00:00<00:00, 6776.21it/s]\n",
      "iterations: 100%|██████████| 1000/1000 [00:00<00:00, 10203.13it/s]\n",
      "iterations: 100%|██████████| 1000/1000 [00:00<00:00, 10953.73it/s]\n",
      "iterations: 100%|██████████| 1000/1000 [00:00<00:00, 9561.04it/s]\n",
      "iterations:   0%|          | 0/1000 [00:00<?, ?it/s]"
     ]
    },
    {
     "name": "stdout",
     "output_type": "stream",
     "text": [
      "Experiment:  205\n"
     ]
    },
    {
     "name": "stderr",
     "output_type": "stream",
     "text": [
      "iterations: 100%|██████████| 1000/1000 [00:00<00:00, 9511.56it/s]\n",
      "iterations: 100%|██████████| 1000/1000 [00:00<00:00, 11549.88it/s]\n",
      "iterations: 100%|██████████| 1000/1000 [00:00<00:00, 11125.45it/s]\n",
      "iterations: 100%|██████████| 1000/1000 [00:00<00:00, 9470.97it/s]\n",
      "iterations:   0%|          | 0/1000 [00:00<?, ?it/s]"
     ]
    },
    {
     "name": "stdout",
     "output_type": "stream",
     "text": [
      "Experiment:  206\n"
     ]
    },
    {
     "name": "stderr",
     "output_type": "stream",
     "text": [
      "iterations: 100%|██████████| 1000/1000 [00:00<00:00, 8819.27it/s]\n",
      "iterations: 100%|██████████| 1000/1000 [00:00<00:00, 10814.08it/s]\n",
      "iterations: 100%|██████████| 1000/1000 [00:00<00:00, 11305.28it/s]\n",
      "iterations: 100%|██████████| 1000/1000 [00:00<00:00, 8399.06it/s]\n",
      "iterations:   0%|          | 0/1000 [00:00<?, ?it/s]"
     ]
    },
    {
     "name": "stdout",
     "output_type": "stream",
     "text": [
      "Experiment:  207\n"
     ]
    },
    {
     "name": "stderr",
     "output_type": "stream",
     "text": [
      "iterations: 100%|██████████| 1000/1000 [00:00<00:00, 8903.69it/s]\n",
      "iterations: 100%|██████████| 1000/1000 [00:00<00:00, 10143.00it/s]\n",
      "iterations: 100%|██████████| 1000/1000 [00:00<00:00, 9499.18it/s]\n",
      "iterations: 100%|██████████| 1000/1000 [00:00<00:00, 8023.55it/s]\n",
      "iterations:   0%|          | 0/1000 [00:00<?, ?it/s]"
     ]
    },
    {
     "name": "stdout",
     "output_type": "stream",
     "text": [
      "Experiment:  208\n"
     ]
    },
    {
     "name": "stderr",
     "output_type": "stream",
     "text": [
      "iterations: 100%|██████████| 1000/1000 [00:00<00:00, 8982.23it/s]\n",
      "iterations: 100%|██████████| 1000/1000 [00:00<00:00, 11343.93it/s]\n",
      "iterations: 100%|██████████| 1000/1000 [00:00<00:00, 11909.21it/s]\n",
      "iterations:  36%|███▌      | 356/1000 [00:00<00:00, 3548.83it/s]"
     ]
    },
    {
     "name": "stdout",
     "output_type": "stream",
     "text": [
      "Experiment:  209\n"
     ]
    },
    {
     "name": "stderr",
     "output_type": "stream",
     "text": [
      "iterations: 100%|██████████| 1000/1000 [00:00<00:00, 3247.63it/s]\n",
      "iterations: 100%|██████████| 1000/1000 [00:00<00:00, 3333.21it/s]\n",
      "iterations: 100%|██████████| 1000/1000 [00:00<00:00, 7797.21it/s]\n",
      "iterations: 100%|██████████| 1000/1000 [00:00<00:00, 6539.03it/s]\n",
      "iterations:  48%|████▊     | 482/1000 [00:00<00:00, 4809.47it/s]"
     ]
    },
    {
     "name": "stdout",
     "output_type": "stream",
     "text": [
      "Experiment:  210\n"
     ]
    },
    {
     "name": "stderr",
     "output_type": "stream",
     "text": [
      "iterations: 100%|██████████| 1000/1000 [00:00<00:00, 4090.83it/s]\n",
      "iterations: 100%|██████████| 1000/1000 [00:00<00:00, 7058.19it/s]\n",
      "iterations: 100%|██████████| 1000/1000 [00:00<00:00, 7758.49it/s]\n",
      "iterations: 100%|██████████| 1000/1000 [00:00<00:00, 9713.17it/s]\n",
      "iterations: 100%|██████████| 1000/1000 [00:00<00:00, 7705.16it/s]\n",
      "iterations:   0%|          | 0/1000 [00:00<?, ?it/s]"
     ]
    },
    {
     "name": "stdout",
     "output_type": "stream",
     "text": [
      "Experiment:  211\n"
     ]
    },
    {
     "name": "stderr",
     "output_type": "stream",
     "text": [
      "iterations: 100%|██████████| 1000/1000 [00:00<00:00, 9015.59it/s]\n",
      "iterations: 100%|██████████| 1000/1000 [00:00<00:00, 12344.65it/s]\n",
      "iterations: 100%|██████████| 1000/1000 [00:00<00:00, 12293.45it/s]\n",
      "iterations: 100%|██████████| 1000/1000 [00:00<00:00, 10453.02it/s]\n",
      "iterations: 100%|██████████| 1000/1000 [00:00<00:00, 10353.14it/s]"
     ]
    },
    {
     "name": "stdout",
     "output_type": "stream",
     "text": [
      "Experiment:  212\n"
     ]
    },
    {
     "name": "stderr",
     "output_type": "stream",
     "text": [
      "\n",
      "iterations: 100%|██████████| 1000/1000 [00:00<00:00, 11759.32it/s]\n",
      "iterations: 100%|██████████| 1000/1000 [00:00<00:00, 11925.90it/s]\n",
      "iterations: 100%|██████████| 1000/1000 [00:00<00:00, 10349.82it/s]\n",
      "iterations: 100%|██████████| 1000/1000 [00:00<00:00, 10866.89it/s]\n",
      "iterations:   0%|          | 0/1000 [00:00<?, ?it/s]"
     ]
    },
    {
     "name": "stdout",
     "output_type": "stream",
     "text": [
      "Experiment:  213\n"
     ]
    },
    {
     "name": "stderr",
     "output_type": "stream",
     "text": [
      "iterations: 100%|██████████| 1000/1000 [00:00<00:00, 11419.16it/s]\n",
      "iterations: 100%|██████████| 1000/1000 [00:00<00:00, 12229.43it/s]\n",
      "iterations: 100%|██████████| 1000/1000 [00:00<00:00, 11074.19it/s]\n",
      "iterations: 100%|██████████| 1000/1000 [00:00<00:00, 10483.95it/s]\n",
      "iterations:   0%|          | 0/1000 [00:00<?, ?it/s]"
     ]
    },
    {
     "name": "stdout",
     "output_type": "stream",
     "text": [
      "Experiment:  214\n"
     ]
    },
    {
     "name": "stderr",
     "output_type": "stream",
     "text": [
      "iterations: 100%|██████████| 1000/1000 [00:00<00:00, 11653.53it/s]\n",
      "iterations: 100%|██████████| 1000/1000 [00:00<00:00, 12420.50it/s]\n",
      "iterations: 100%|██████████| 1000/1000 [00:00<00:00, 9757.24it/s]\n",
      "iterations:   0%|          | 0/1000 [00:00<?, ?it/s]"
     ]
    },
    {
     "name": "stdout",
     "output_type": "stream",
     "text": [
      "Experiment:  215\n"
     ]
    },
    {
     "name": "stderr",
     "output_type": "stream",
     "text": [
      "iterations: 100%|██████████| 1000/1000 [00:00<00:00, 8720.98it/s]\n",
      "iterations: 100%|██████████| 1000/1000 [00:00<00:00, 12234.82it/s]\n",
      "iterations: 100%|██████████| 1000/1000 [00:00<00:00, 10810.81it/s]\n",
      "iterations: 100%|██████████| 1000/1000 [00:00<00:00, 9279.27it/s]\n",
      "iterations:   0%|          | 0/1000 [00:00<?, ?it/s]"
     ]
    },
    {
     "name": "stdout",
     "output_type": "stream",
     "text": [
      "Experiment:  216\n"
     ]
    },
    {
     "name": "stderr",
     "output_type": "stream",
     "text": [
      "iterations: 100%|██████████| 1000/1000 [00:00<00:00, 8018.72it/s]\n",
      "iterations: 100%|██████████| 1000/1000 [00:00<00:00, 7499.00it/s]\n",
      "iterations: 100%|██████████| 1000/1000 [00:00<00:00, 7382.87it/s]\n",
      "iterations: 100%|██████████| 1000/1000 [00:00<00:00, 8023.11it/s]\n",
      "iterations:   0%|          | 0/1000 [00:00<?, ?it/s]"
     ]
    },
    {
     "name": "stdout",
     "output_type": "stream",
     "text": [
      "Experiment:  217\n"
     ]
    },
    {
     "name": "stderr",
     "output_type": "stream",
     "text": [
      "iterations: 100%|██████████| 1000/1000 [00:00<00:00, 6923.82it/s]\n",
      "iterations: 100%|██████████| 1000/1000 [00:00<00:00, 10030.91it/s]\n",
      "iterations: 100%|██████████| 1000/1000 [00:00<00:00, 11911.30it/s]\n",
      "iterations: 100%|██████████| 1000/1000 [00:00<00:00, 11295.87it/s]\n",
      "iterations: 100%|██████████| 1000/1000 [00:00<00:00, 10905.60it/s]\n",
      "iterations:   0%|          | 0/1000 [00:00<?, ?it/s]"
     ]
    },
    {
     "name": "stdout",
     "output_type": "stream",
     "text": [
      "Experiment:  218\n"
     ]
    },
    {
     "name": "stderr",
     "output_type": "stream",
     "text": [
      "iterations: 100%|██████████| 1000/1000 [00:00<00:00, 12922.61it/s]\n",
      "iterations: 100%|██████████| 1000/1000 [00:00<00:00, 12212.70it/s]\n",
      "iterations: 100%|██████████| 1000/1000 [00:00<00:00, 10784.10it/s]\n",
      "iterations: 100%|██████████| 1000/1000 [00:00<00:00, 10732.50it/s]\n",
      "iterations:   0%|          | 0/1000 [00:00<?, ?it/s]"
     ]
    },
    {
     "name": "stdout",
     "output_type": "stream",
     "text": [
      "Experiment:  219\n"
     ]
    },
    {
     "name": "stderr",
     "output_type": "stream",
     "text": [
      "iterations: 100%|██████████| 1000/1000 [00:00<00:00, 12229.72it/s]\n",
      "iterations: 100%|██████████| 1000/1000 [00:00<00:00, 13066.61it/s]\n",
      "iterations: 100%|██████████| 1000/1000 [00:00<00:00, 8210.12it/s]\n",
      "iterations:   0%|          | 0/1000 [00:00<?, ?it/s]"
     ]
    },
    {
     "name": "stdout",
     "output_type": "stream",
     "text": [
      "Experiment:  220\n"
     ]
    },
    {
     "name": "stderr",
     "output_type": "stream",
     "text": [
      "iterations: 100%|██████████| 1000/1000 [00:00<00:00, 7269.38it/s]\n",
      "iterations: 100%|██████████| 1000/1000 [00:00<00:00, 8765.16it/s]\n",
      "iterations: 100%|██████████| 1000/1000 [00:00<00:00, 9616.24it/s]\n",
      "iterations: 100%|██████████| 1000/1000 [00:00<00:00, 5202.61it/s]\n",
      "iterations:   0%|          | 0/1000 [00:00<?, ?it/s]"
     ]
    },
    {
     "name": "stdout",
     "output_type": "stream",
     "text": [
      "Experiment:  221\n"
     ]
    },
    {
     "name": "stderr",
     "output_type": "stream",
     "text": [
      "iterations: 100%|██████████| 1000/1000 [00:00<00:00, 7701.31it/s]\n",
      "iterations: 100%|██████████| 1000/1000 [00:00<00:00, 8351.96it/s]\n",
      "iterations: 100%|██████████| 1000/1000 [00:00<00:00, 12255.84it/s]\n",
      "iterations: 100%|██████████| 1000/1000 [00:00<00:00, 9353.50it/s]\n",
      "iterations: 100%|██████████| 1000/1000 [00:00<00:00, 11243.43it/s]"
     ]
    },
    {
     "name": "stdout",
     "output_type": "stream",
     "text": [
      "Experiment:  222\n"
     ]
    },
    {
     "name": "stderr",
     "output_type": "stream",
     "text": [
      "\n",
      "iterations: 100%|██████████| 1000/1000 [00:00<00:00, 12155.54it/s]\n",
      "iterations: 100%|██████████| 1000/1000 [00:00<00:00, 10079.14it/s]\n",
      "iterations: 100%|██████████| 1000/1000 [00:00<00:00, 7007.42it/s]\n",
      "iterations:   0%|          | 0/1000 [00:00<?, ?it/s]"
     ]
    },
    {
     "name": "stdout",
     "output_type": "stream",
     "text": [
      "Experiment:  223\n"
     ]
    },
    {
     "name": "stderr",
     "output_type": "stream",
     "text": [
      "iterations: 100%|██████████| 1000/1000 [00:00<00:00, 5288.71it/s]\n",
      "iterations: 100%|██████████| 1000/1000 [00:00<00:00, 9873.60it/s]\n",
      "iterations: 100%|██████████| 1000/1000 [00:00<00:00, 8238.26it/s]\n",
      "iterations: 100%|██████████| 1000/1000 [00:00<00:00, 9353.22it/s]\n",
      "iterations:   0%|          | 0/1000 [00:00<?, ?it/s]"
     ]
    },
    {
     "name": "stdout",
     "output_type": "stream",
     "text": [
      "Experiment:  224\n"
     ]
    },
    {
     "name": "stderr",
     "output_type": "stream",
     "text": [
      "iterations: 100%|██████████| 1000/1000 [00:00<00:00, 8434.76it/s]\n",
      "iterations: 100%|██████████| 1000/1000 [00:00<00:00, 6526.69it/s]\n",
      "iterations: 100%|██████████| 1000/1000 [00:00<00:00, 7805.49it/s]\n",
      "iterations:  47%|████▋     | 467/1000 [00:00<00:00, 4526.69it/s]"
     ]
    },
    {
     "name": "stdout",
     "output_type": "stream",
     "text": [
      "Experiment:  225\n"
     ]
    },
    {
     "name": "stderr",
     "output_type": "stream",
     "text": [
      "iterations: 100%|██████████| 1000/1000 [00:00<00:00, 4405.72it/s]\n",
      "iterations: 100%|██████████| 1000/1000 [00:00<00:00, 11186.69it/s]\n",
      "iterations: 100%|██████████| 1000/1000 [00:00<00:00, 12023.44it/s]\n",
      "iterations: 100%|██████████| 1000/1000 [00:00<00:00, 11730.91it/s]\n",
      "iterations: 100%|██████████| 1000/1000 [00:00<00:00, 11055.59it/s]\n",
      "iterations: 100%|██████████| 1000/1000 [00:00<00:00, 10901.32it/s]\n",
      "iterations:   0%|          | 0/1000 [00:00<?, ?it/s]"
     ]
    },
    {
     "name": "stdout",
     "output_type": "stream",
     "text": [
      "Experiment:  226\n"
     ]
    },
    {
     "name": "stderr",
     "output_type": "stream",
     "text": [
      "iterations: 100%|██████████| 1000/1000 [00:00<00:00, 11792.02it/s]\n",
      "iterations: 100%|██████████| 1000/1000 [00:00<00:00, 9547.18it/s]\n",
      "iterations: 100%|██████████| 1000/1000 [00:00<00:00, 8953.83it/s]\n",
      "iterations:   0%|          | 0/1000 [00:00<?, ?it/s]"
     ]
    },
    {
     "name": "stdout",
     "output_type": "stream",
     "text": [
      "Experiment:  227\n"
     ]
    },
    {
     "name": "stderr",
     "output_type": "stream",
     "text": [
      "iterations: 100%|██████████| 1000/1000 [00:00<00:00, 8365.34it/s]\n",
      "iterations: 100%|██████████| 1000/1000 [00:00<00:00, 9841.49it/s]\n",
      "iterations: 100%|██████████| 1000/1000 [00:00<00:00, 10142.49it/s]\n",
      "iterations: 100%|██████████| 1000/1000 [00:00<00:00, 6047.26it/s]\n",
      "iterations:   0%|          | 0/1000 [00:00<?, ?it/s]"
     ]
    },
    {
     "name": "stdout",
     "output_type": "stream",
     "text": [
      "Experiment:  228\n"
     ]
    },
    {
     "name": "stderr",
     "output_type": "stream",
     "text": [
      "iterations: 100%|██████████| 1000/1000 [00:00<00:00, 8034.33it/s]\n",
      "iterations: 100%|██████████| 1000/1000 [00:00<00:00, 10710.99it/s]\n",
      "iterations: 100%|██████████| 1000/1000 [00:00<00:00, 9371.36it/s]\n",
      "iterations: 100%|██████████| 1000/1000 [00:00<00:00, 8656.96it/s]\n",
      "iterations:   0%|          | 0/1000 [00:00<?, ?it/s]"
     ]
    },
    {
     "name": "stdout",
     "output_type": "stream",
     "text": [
      "Experiment:  229\n"
     ]
    },
    {
     "name": "stderr",
     "output_type": "stream",
     "text": [
      "iterations: 100%|██████████| 1000/1000 [00:00<00:00, 10024.84it/s]\n",
      "iterations: 100%|██████████| 1000/1000 [00:00<00:00, 12042.70it/s]\n",
      "iterations: 100%|██████████| 1000/1000 [00:00<00:00, 10520.48it/s]\n",
      "iterations: 100%|██████████| 1000/1000 [00:00<00:00, 6234.65it/s]\n",
      "iterations:   0%|          | 0/1000 [00:00<?, ?it/s]"
     ]
    },
    {
     "name": "stdout",
     "output_type": "stream",
     "text": [
      "Experiment:  230\n"
     ]
    },
    {
     "name": "stderr",
     "output_type": "stream",
     "text": [
      "iterations: 100%|██████████| 1000/1000 [00:00<00:00, 9651.75it/s]\n",
      "iterations: 100%|██████████| 1000/1000 [00:00<00:00, 9176.90it/s]\n",
      "iterations: 100%|██████████| 1000/1000 [00:00<00:00, 10609.31it/s]\n",
      "iterations: 100%|██████████| 1000/1000 [00:00<00:00, 9128.77it/s]\n",
      "iterations:   0%|          | 0/1000 [00:00<?, ?it/s]"
     ]
    },
    {
     "name": "stdout",
     "output_type": "stream",
     "text": [
      "Experiment:  231\n"
     ]
    },
    {
     "name": "stderr",
     "output_type": "stream",
     "text": [
      "iterations: 100%|██████████| 1000/1000 [00:00<00:00, 9976.65it/s]\n",
      "iterations: 100%|██████████| 1000/1000 [00:00<00:00, 11466.99it/s]\n",
      "iterations: 100%|██████████| 1000/1000 [00:00<00:00, 11908.87it/s]\n",
      "iterations: 100%|██████████| 1000/1000 [00:00<00:00, 9221.27it/s]\n",
      "iterations:   0%|          | 0/1000 [00:00<?, ?it/s]"
     ]
    },
    {
     "name": "stdout",
     "output_type": "stream",
     "text": [
      "Experiment:  232\n"
     ]
    },
    {
     "name": "stderr",
     "output_type": "stream",
     "text": [
      "iterations: 100%|██████████| 1000/1000 [00:00<00:00, 7460.90it/s]\n",
      "iterations: 100%|██████████| 1000/1000 [00:00<00:00, 10501.01it/s]\n",
      "iterations: 100%|██████████| 1000/1000 [00:00<00:00, 9992.41it/s]\n",
      "iterations: 100%|██████████| 1000/1000 [00:00<00:00, 8976.42it/s]\n",
      "iterations:   0%|          | 0/1000 [00:00<?, ?it/s]"
     ]
    },
    {
     "name": "stdout",
     "output_type": "stream",
     "text": [
      "Experiment:  233\n"
     ]
    },
    {
     "name": "stderr",
     "output_type": "stream",
     "text": [
      "iterations: 100%|██████████| 1000/1000 [00:00<00:00, 9287.28it/s]\n",
      "iterations: 100%|██████████| 1000/1000 [00:00<00:00, 13803.41it/s]\n",
      "iterations: 100%|██████████| 1000/1000 [00:00<00:00, 11202.62it/s]\n",
      "iterations: 100%|██████████| 1000/1000 [00:00<00:00, 7388.70it/s]\n",
      "iterations:   0%|          | 0/1000 [00:00<?, ?it/s]"
     ]
    },
    {
     "name": "stdout",
     "output_type": "stream",
     "text": [
      "Experiment:  234\n"
     ]
    },
    {
     "name": "stderr",
     "output_type": "stream",
     "text": [
      "iterations: 100%|██████████| 1000/1000 [00:00<00:00, 9336.01it/s]\n",
      "iterations: 100%|██████████| 1000/1000 [00:00<00:00, 11994.28it/s]\n",
      "iterations: 100%|██████████| 1000/1000 [00:00<00:00, 12167.52it/s]\n",
      "iterations: 100%|██████████| 1000/1000 [00:00<00:00, 11475.68it/s]\n",
      "iterations: 100%|██████████| 1000/1000 [00:00<00:00, 11330.17it/s]\n",
      "iterations:   0%|          | 0/1000 [00:00<?, ?it/s]"
     ]
    },
    {
     "name": "stdout",
     "output_type": "stream",
     "text": [
      "Experiment:  235\n"
     ]
    },
    {
     "name": "stderr",
     "output_type": "stream",
     "text": [
      "iterations: 100%|██████████| 1000/1000 [00:00<00:00, 12605.27it/s]\n",
      "iterations: 100%|██████████| 1000/1000 [00:00<00:00, 13361.61it/s]\n",
      "iterations: 100%|██████████| 1000/1000 [00:00<00:00, 11409.53it/s]\n",
      "iterations: 100%|██████████| 1000/1000 [00:00<00:00, 11179.95it/s]\n",
      "iterations:   0%|          | 0/1000 [00:00<?, ?it/s]"
     ]
    },
    {
     "name": "stdout",
     "output_type": "stream",
     "text": [
      "Experiment:  236\n"
     ]
    },
    {
     "name": "stderr",
     "output_type": "stream",
     "text": [
      "iterations: 100%|██████████| 1000/1000 [00:00<00:00, 13008.50it/s]\n",
      "iterations: 100%|██████████| 1000/1000 [00:00<00:00, 10402.36it/s]\n",
      "iterations: 100%|██████████| 1000/1000 [00:00<00:00, 9642.45it/s]\n",
      "iterations: 100%|██████████| 1000/1000 [00:00<00:00, 11194.45it/s]\n",
      "iterations:   0%|          | 0/1000 [00:00<?, ?it/s]"
     ]
    },
    {
     "name": "stdout",
     "output_type": "stream",
     "text": [
      "Experiment:  237\n"
     ]
    },
    {
     "name": "stderr",
     "output_type": "stream",
     "text": [
      "iterations: 100%|██████████| 1000/1000 [00:00<00:00, 11352.80it/s]\n",
      "iterations: 100%|██████████| 1000/1000 [00:00<00:00, 11599.48it/s]\n",
      "iterations: 100%|██████████| 1000/1000 [00:00<00:00, 9685.59it/s]\n",
      "iterations:   0%|          | 0/1000 [00:00<?, ?it/s]"
     ]
    },
    {
     "name": "stdout",
     "output_type": "stream",
     "text": [
      "Experiment:  238\n"
     ]
    },
    {
     "name": "stderr",
     "output_type": "stream",
     "text": [
      "iterations: 100%|██████████| 1000/1000 [00:00<00:00, 9333.58it/s]\n",
      "iterations: 100%|██████████| 1000/1000 [00:00<00:00, 11055.83it/s]\n",
      "iterations: 100%|██████████| 1000/1000 [00:00<00:00, 12339.09it/s]\n",
      "iterations: 100%|██████████| 1000/1000 [00:00<00:00, 11299.07it/s]\n",
      "iterations:  73%|███████▎  | 729/1000 [00:00<00:00, 7286.93it/s]"
     ]
    },
    {
     "name": "stdout",
     "output_type": "stream",
     "text": [
      "Experiment:  239\n"
     ]
    },
    {
     "name": "stderr",
     "output_type": "stream",
     "text": [
      "iterations: 100%|██████████| 1000/1000 [00:00<00:00, 7938.66it/s]\n",
      "iterations: 100%|██████████| 1000/1000 [00:00<00:00, 13461.14it/s]\n",
      "iterations: 100%|██████████| 1000/1000 [00:00<00:00, 13938.83it/s]\n",
      "iterations: 100%|██████████| 1000/1000 [00:00<00:00, 12088.10it/s]\n",
      "iterations: 100%|██████████| 1000/1000 [00:00<00:00, 12067.09it/s]\n",
      "iterations:   0%|          | 0/1000 [00:00<?, ?it/s]"
     ]
    },
    {
     "name": "stdout",
     "output_type": "stream",
     "text": [
      "Experiment:  240\n"
     ]
    },
    {
     "name": "stderr",
     "output_type": "stream",
     "text": [
      "iterations: 100%|██████████| 1000/1000 [00:00<00:00, 13305.66it/s]\n",
      "iterations: 100%|██████████| 1000/1000 [00:00<00:00, 13478.14it/s]\n",
      "iterations: 100%|██████████| 1000/1000 [00:00<00:00, 11622.40it/s]\n",
      "iterations: 100%|██████████| 1000/1000 [00:00<00:00, 10745.07it/s]\n",
      "iterations:   0%|          | 0/1000 [00:00<?, ?it/s]"
     ]
    },
    {
     "name": "stdout",
     "output_type": "stream",
     "text": [
      "Experiment:  241\n"
     ]
    },
    {
     "name": "stderr",
     "output_type": "stream",
     "text": [
      "iterations: 100%|██████████| 1000/1000 [00:00<00:00, 12271.08it/s]\n",
      "iterations: 100%|██████████| 1000/1000 [00:00<00:00, 12707.28it/s]\n",
      "iterations: 100%|██████████| 1000/1000 [00:00<00:00, 11165.19it/s]\n",
      "iterations: 100%|██████████| 1000/1000 [00:00<00:00, 10848.70it/s]\n",
      "iterations:   0%|          | 0/1000 [00:00<?, ?it/s]"
     ]
    },
    {
     "name": "stdout",
     "output_type": "stream",
     "text": [
      "Experiment:  242\n"
     ]
    },
    {
     "name": "stderr",
     "output_type": "stream",
     "text": [
      "iterations: 100%|██████████| 1000/1000 [00:00<00:00, 12439.47it/s]\n",
      "iterations: 100%|██████████| 1000/1000 [00:00<00:00, 11881.41it/s]\n",
      "iterations: 100%|██████████| 1000/1000 [00:00<00:00, 10236.55it/s]\n",
      "iterations:   0%|          | 0/1000 [00:00<?, ?it/s]"
     ]
    },
    {
     "name": "stdout",
     "output_type": "stream",
     "text": [
      "Experiment:  243\n"
     ]
    },
    {
     "name": "stderr",
     "output_type": "stream",
     "text": [
      "iterations: 100%|██████████| 1000/1000 [00:00<00:00, 8433.25it/s]\n",
      "iterations: 100%|██████████| 1000/1000 [00:00<00:00, 13227.11it/s]\n",
      "iterations: 100%|██████████| 1000/1000 [00:00<00:00, 6783.53it/s]\n",
      "iterations: 100%|██████████| 1000/1000 [00:00<00:00, 9046.82it/s]\n",
      "iterations:   0%|          | 0/1000 [00:00<?, ?it/s]"
     ]
    },
    {
     "name": "stdout",
     "output_type": "stream",
     "text": [
      "Experiment:  244\n"
     ]
    },
    {
     "name": "stderr",
     "output_type": "stream",
     "text": [
      "iterations: 100%|██████████| 1000/1000 [00:00<00:00, 8363.52it/s]\n",
      "iterations: 100%|██████████| 1000/1000 [00:00<00:00, 12469.72it/s]\n",
      "iterations: 100%|██████████| 1000/1000 [00:00<00:00, 11646.99it/s]\n",
      "iterations: 100%|██████████| 1000/1000 [00:00<00:00, 9688.99it/s]\n",
      "iterations:   0%|          | 0/1000 [00:00<?, ?it/s]"
     ]
    },
    {
     "name": "stdout",
     "output_type": "stream",
     "text": [
      "Experiment:  245\n"
     ]
    },
    {
     "name": "stderr",
     "output_type": "stream",
     "text": [
      "iterations: 100%|██████████| 1000/1000 [00:00<00:00, 9828.32it/s]\n",
      "iterations: 100%|██████████| 1000/1000 [00:00<00:00, 12086.67it/s]\n",
      "iterations: 100%|██████████| 1000/1000 [00:00<00:00, 12725.40it/s]\n",
      "iterations: 100%|██████████| 1000/1000 [00:00<00:00, 10475.39it/s]\n",
      "iterations: 100%|██████████| 1000/1000 [00:00<00:00, 10463.11it/s]\n",
      "iterations:   0%|          | 0/1000 [00:00<?, ?it/s]"
     ]
    },
    {
     "name": "stdout",
     "output_type": "stream",
     "text": [
      "Experiment:  246\n"
     ]
    },
    {
     "name": "stderr",
     "output_type": "stream",
     "text": [
      "iterations: 100%|██████████| 1000/1000 [00:00<00:00, 11774.41it/s]\n",
      "iterations: 100%|██████████| 1000/1000 [00:00<00:00, 11630.07it/s]\n",
      "iterations: 100%|██████████| 1000/1000 [00:00<00:00, 11629.01it/s]\n",
      "iterations: 100%|██████████| 1000/1000 [00:00<00:00, 11676.63it/s]\n",
      "iterations:   0%|          | 0/1000 [00:00<?, ?it/s]"
     ]
    },
    {
     "name": "stdout",
     "output_type": "stream",
     "text": [
      "Experiment:  247\n"
     ]
    },
    {
     "name": "stderr",
     "output_type": "stream",
     "text": [
      "iterations: 100%|██████████| 1000/1000 [00:00<00:00, 13221.94it/s]\n",
      "iterations: 100%|██████████| 1000/1000 [00:00<00:00, 10717.88it/s]\n",
      "iterations:  44%|████▍     | 444/1000 [00:00<00:00, 4439.12it/s]"
     ]
    },
    {
     "name": "stdout",
     "output_type": "stream",
     "text": [
      "Experiment:  248\n"
     ]
    },
    {
     "name": "stderr",
     "output_type": "stream",
     "text": [
      "iterations: 100%|██████████| 1000/1000 [00:00<00:00, 2908.92it/s]\n",
      "iterations: 100%|██████████| 1000/1000 [00:00<00:00, 7441.87it/s]\n",
      "iterations: 100%|██████████| 1000/1000 [00:00<00:00, 9781.77it/s]\n",
      "iterations: 100%|██████████| 1000/1000 [00:00<00:00, 11307.60it/s]\n",
      "iterations: 100%|██████████| 1000/1000 [00:00<00:00, 8201.76it/s]\n",
      "iterations:   0%|          | 0/1000 [00:00<?, ?it/s]"
     ]
    },
    {
     "name": "stdout",
     "output_type": "stream",
     "text": [
      "Experiment:  249\n"
     ]
    },
    {
     "name": "stderr",
     "output_type": "stream",
     "text": [
      "iterations: 100%|██████████| 1000/1000 [00:00<00:00, 4384.02it/s]\n",
      "iterations: 100%|██████████| 1000/1000 [00:00<00:00, 6675.39it/s]\n",
      "iterations: 100%|██████████| 1000/1000 [00:00<00:00, 8822.29it/s]\n",
      "iterations: 100%|██████████| 1000/1000 [00:00<00:00, 8455.51it/s]\n",
      "iterations:   0%|          | 0/1000 [00:00<?, ?it/s]"
     ]
    },
    {
     "name": "stdout",
     "output_type": "stream",
     "text": [
      "Experiment:  250\n"
     ]
    },
    {
     "name": "stderr",
     "output_type": "stream",
     "text": [
      "iterations: 100%|██████████| 1000/1000 [00:00<00:00, 8795.91it/s]\n",
      "iterations: 100%|██████████| 1000/1000 [00:00<00:00, 10773.19it/s]\n",
      "iterations: 100%|██████████| 1000/1000 [00:00<00:00, 6853.17it/s]\n",
      "iterations: 100%|██████████| 1000/1000 [00:00<00:00, 6200.63it/s]\n",
      "iterations:   0%|          | 0/1000 [00:00<?, ?it/s]"
     ]
    },
    {
     "name": "stdout",
     "output_type": "stream",
     "text": [
      "Experiment:  251\n"
     ]
    },
    {
     "name": "stderr",
     "output_type": "stream",
     "text": [
      "iterations: 100%|██████████| 1000/1000 [00:00<00:00, 8737.73it/s]\n",
      "iterations: 100%|██████████| 1000/1000 [00:00<00:00, 9289.63it/s]\n",
      "iterations: 100%|██████████| 1000/1000 [00:00<00:00, 12595.62it/s]\n",
      "iterations: 100%|██████████| 1000/1000 [00:00<00:00, 10502.46it/s]\n",
      "iterations:   0%|          | 0/1000 [00:00<?, ?it/s]"
     ]
    },
    {
     "name": "stdout",
     "output_type": "stream",
     "text": [
      "Experiment:  252\n"
     ]
    },
    {
     "name": "stderr",
     "output_type": "stream",
     "text": [
      "iterations: 100%|██████████| 1000/1000 [00:00<00:00, 4244.68it/s]\n",
      "iterations: 100%|██████████| 1000/1000 [00:00<00:00, 10136.73it/s]\n",
      "iterations: 100%|██████████| 1000/1000 [00:00<00:00, 8761.24it/s]\n",
      "iterations: 100%|██████████| 1000/1000 [00:00<00:00, 7461.86it/s]\n",
      "iterations:   0%|          | 0/1000 [00:00<?, ?it/s]"
     ]
    },
    {
     "name": "stdout",
     "output_type": "stream",
     "text": [
      "Experiment:  253\n"
     ]
    },
    {
     "name": "stderr",
     "output_type": "stream",
     "text": [
      "iterations: 100%|██████████| 1000/1000 [00:00<00:00, 6619.50it/s]\n",
      "iterations: 100%|██████████| 1000/1000 [00:00<00:00, 8037.42it/s]\n",
      "iterations: 100%|██████████| 1000/1000 [00:00<00:00, 10328.03it/s]\n",
      "iterations: 100%|██████████| 1000/1000 [00:00<00:00, 5468.75it/s]\n",
      "iterations:   0%|          | 0/1000 [00:00<?, ?it/s]"
     ]
    },
    {
     "name": "stdout",
     "output_type": "stream",
     "text": [
      "Experiment:  254\n"
     ]
    },
    {
     "name": "stderr",
     "output_type": "stream",
     "text": [
      "iterations: 100%|██████████| 1000/1000 [00:00<00:00, 7882.15it/s]\n",
      "iterations: 100%|██████████| 1000/1000 [00:00<00:00, 10492.53it/s]\n",
      "iterations: 100%|██████████| 1000/1000 [00:00<00:00, 9254.72it/s]\n",
      "iterations: 100%|██████████| 1000/1000 [00:00<00:00, 10846.21it/s]\n",
      "iterations:  84%|████████▍ | 839/1000 [00:00<00:00, 8376.85it/s]"
     ]
    },
    {
     "name": "stdout",
     "output_type": "stream",
     "text": [
      "Experiment:  255\n"
     ]
    },
    {
     "name": "stderr",
     "output_type": "stream",
     "text": [
      "iterations: 100%|██████████| 1000/1000 [00:00<00:00, 7964.00it/s]\n",
      "iterations: 100%|██████████| 1000/1000 [00:00<00:00, 10947.27it/s]\n",
      "iterations: 100%|██████████| 1000/1000 [00:00<00:00, 12440.39it/s]\n",
      "iterations: 100%|██████████| 1000/1000 [00:00<00:00, 10573.84it/s]\n",
      "iterations: 100%|██████████| 1000/1000 [00:00<00:00, 10496.05it/s]\n",
      "iterations:   0%|          | 0/1000 [00:00<?, ?it/s]"
     ]
    },
    {
     "name": "stdout",
     "output_type": "stream",
     "text": [
      "Experiment:  256\n"
     ]
    },
    {
     "name": "stderr",
     "output_type": "stream",
     "text": [
      "iterations: 100%|██████████| 1000/1000 [00:00<00:00, 12216.32it/s]\n",
      "iterations: 100%|██████████| 1000/1000 [00:00<00:00, 12185.77it/s]\n",
      "iterations: 100%|██████████| 1000/1000 [00:00<00:00, 10896.59it/s]\n",
      "iterations: 100%|██████████| 1000/1000 [00:00<00:00, 10934.57it/s]\n",
      "iterations:   0%|          | 0/1000 [00:00<?, ?it/s]"
     ]
    },
    {
     "name": "stdout",
     "output_type": "stream",
     "text": [
      "Experiment:  257\n"
     ]
    },
    {
     "name": "stderr",
     "output_type": "stream",
     "text": [
      "iterations: 100%|██████████| 1000/1000 [00:00<00:00, 8643.49it/s]\n",
      "iterations: 100%|██████████| 1000/1000 [00:00<00:00, 8922.44it/s]\n",
      "iterations: 100%|██████████| 1000/1000 [00:00<00:00, 8563.68it/s]\n",
      "iterations:   0%|          | 0/1000 [00:00<?, ?it/s]"
     ]
    },
    {
     "name": "stdout",
     "output_type": "stream",
     "text": [
      "Experiment:  258\n"
     ]
    },
    {
     "name": "stderr",
     "output_type": "stream",
     "text": [
      "iterations: 100%|██████████| 1000/1000 [00:00<00:00, 7916.35it/s]\n",
      "iterations: 100%|██████████| 1000/1000 [00:00<00:00, 13218.77it/s]\n",
      "iterations: 100%|██████████| 1000/1000 [00:00<00:00, 13521.38it/s]\n",
      "iterations: 100%|██████████| 1000/1000 [00:00<00:00, 11532.29it/s]\n",
      "iterations: 100%|██████████| 1000/1000 [00:00<00:00, 11470.16it/s]\n",
      "iterations:   0%|          | 0/1000 [00:00<?, ?it/s]"
     ]
    },
    {
     "name": "stdout",
     "output_type": "stream",
     "text": [
      "Experiment:  259\n"
     ]
    },
    {
     "name": "stderr",
     "output_type": "stream",
     "text": [
      "iterations: 100%|██████████| 1000/1000 [00:00<00:00, 9018.28it/s]\n",
      "iterations: 100%|██████████| 1000/1000 [00:00<00:00, 10317.66it/s]\n",
      "iterations: 100%|██████████| 1000/1000 [00:00<00:00, 10549.00it/s]\n",
      "iterations: 100%|██████████| 1000/1000 [00:00<00:00, 10583.93it/s]\n",
      "iterations:   0%|          | 0/1000 [00:00<?, ?it/s]"
     ]
    },
    {
     "name": "stdout",
     "output_type": "stream",
     "text": [
      "Experiment:  260\n"
     ]
    },
    {
     "name": "stderr",
     "output_type": "stream",
     "text": [
      "iterations: 100%|██████████| 1000/1000 [00:00<00:00, 11720.71it/s]\n",
      "iterations: 100%|██████████| 1000/1000 [00:00<00:00, 11489.10it/s]\n",
      "iterations: 100%|██████████| 1000/1000 [00:00<00:00, 10297.37it/s]\n",
      "iterations: 100%|█████████▉| 995/1000 [00:00<00:00, 9947.83it/s]"
     ]
    },
    {
     "name": "stdout",
     "output_type": "stream",
     "text": [
      "Experiment:  261\n"
     ]
    },
    {
     "name": "stderr",
     "output_type": "stream",
     "text": [
      "iterations: 100%|██████████| 1000/1000 [00:00<00:00, 9768.01it/s]\n",
      "iterations: 100%|██████████| 1000/1000 [00:00<00:00, 10890.65it/s]\n",
      "iterations: 100%|██████████| 1000/1000 [00:00<00:00, 9589.57it/s]\n",
      "iterations: 100%|██████████| 1000/1000 [00:00<00:00, 6399.68it/s]\n",
      "iterations:   0%|          | 0/1000 [00:00<?, ?it/s]"
     ]
    },
    {
     "name": "stdout",
     "output_type": "stream",
     "text": [
      "Experiment:  262\n"
     ]
    },
    {
     "name": "stderr",
     "output_type": "stream",
     "text": [
      "iterations: 100%|██████████| 1000/1000 [00:00<00:00, 9039.78it/s]\n",
      "iterations: 100%|██████████| 1000/1000 [00:00<00:00, 10429.36it/s]\n",
      "iterations: 100%|██████████| 1000/1000 [00:00<00:00, 11985.37it/s]\n",
      "iterations: 100%|██████████| 1000/1000 [00:00<00:00, 11340.58it/s]\n",
      "iterations: 100%|██████████| 1000/1000 [00:00<00:00, 10782.13it/s]\n",
      "iterations:   0%|          | 0/1000 [00:00<?, ?it/s]"
     ]
    },
    {
     "name": "stdout",
     "output_type": "stream",
     "text": [
      "Experiment:  263\n"
     ]
    },
    {
     "name": "stderr",
     "output_type": "stream",
     "text": [
      "iterations: 100%|██████████| 1000/1000 [00:00<00:00, 10686.72it/s]\n",
      "iterations: 100%|██████████| 1000/1000 [00:00<00:00, 11421.40it/s]\n",
      "iterations: 100%|██████████| 1000/1000 [00:00<00:00, 8807.09it/s]\n",
      "iterations:   0%|          | 0/1000 [00:00<?, ?it/s]"
     ]
    },
    {
     "name": "stdout",
     "output_type": "stream",
     "text": [
      "Experiment:  264\n"
     ]
    },
    {
     "name": "stderr",
     "output_type": "stream",
     "text": [
      "iterations: 100%|██████████| 1000/1000 [00:00<00:00, 10506.62it/s]\n",
      "iterations: 100%|██████████| 1000/1000 [00:00<00:00, 13952.41it/s]\n",
      "iterations: 100%|██████████| 1000/1000 [00:00<00:00, 12564.23it/s]\n",
      "iterations: 100%|██████████| 1000/1000 [00:00<00:00, 11965.44it/s]\n",
      "iterations: 100%|██████████| 1000/1000 [00:00<00:00, 11761.80it/s]\n",
      "iterations:   0%|          | 0/1000 [00:00<?, ?it/s]"
     ]
    },
    {
     "name": "stdout",
     "output_type": "stream",
     "text": [
      "Experiment:  265\n"
     ]
    },
    {
     "name": "stderr",
     "output_type": "stream",
     "text": [
      "iterations: 100%|██████████| 1000/1000 [00:00<00:00, 13342.23it/s]\n",
      "iterations: 100%|██████████| 1000/1000 [00:00<00:00, 11823.40it/s]\n",
      "iterations: 100%|██████████| 1000/1000 [00:00<00:00, 11830.37it/s]\n",
      "iterations: 100%|██████████| 1000/1000 [00:00<00:00, 12186.37it/s]\n",
      "iterations:   0%|          | 0/1000 [00:00<?, ?it/s]"
     ]
    },
    {
     "name": "stdout",
     "output_type": "stream",
     "text": [
      "Experiment:  266\n"
     ]
    },
    {
     "name": "stderr",
     "output_type": "stream",
     "text": [
      "iterations: 100%|██████████| 1000/1000 [00:00<00:00, 12749.92it/s]\n",
      "iterations: 100%|██████████| 1000/1000 [00:00<00:00, 12849.33it/s]\n",
      "iterations: 100%|██████████| 1000/1000 [00:00<00:00, 11786.92it/s]\n",
      "iterations: 100%|██████████| 1000/1000 [00:00<00:00, 11089.53it/s]\n",
      "iterations:   0%|          | 0/1000 [00:00<?, ?it/s]"
     ]
    },
    {
     "name": "stdout",
     "output_type": "stream",
     "text": [
      "Experiment:  267\n"
     ]
    },
    {
     "name": "stderr",
     "output_type": "stream",
     "text": [
      "iterations: 100%|██████████| 1000/1000 [00:00<00:00, 12903.96it/s]\n",
      "iterations: 100%|██████████| 1000/1000 [00:00<00:00, 11793.71it/s]\n",
      "iterations: 100%|██████████| 1000/1000 [00:00<00:00, 11625.85it/s]\n",
      "iterations: 100%|██████████| 1000/1000 [00:00<00:00, 11662.77it/s]\n",
      "iterations:   0%|          | 0/1000 [00:00<?, ?it/s]"
     ]
    },
    {
     "name": "stdout",
     "output_type": "stream",
     "text": [
      "Experiment:  268\n"
     ]
    },
    {
     "name": "stderr",
     "output_type": "stream",
     "text": [
      "iterations: 100%|██████████| 1000/1000 [00:00<00:00, 13396.35it/s]\n",
      "iterations: 100%|██████████| 1000/1000 [00:00<00:00, 13691.71it/s]\n",
      "iterations: 100%|██████████| 1000/1000 [00:00<00:00, 12145.64it/s]\n",
      "iterations: 100%|██████████| 1000/1000 [00:00<00:00, 12114.91it/s]\n",
      "iterations:   0%|          | 0/1000 [00:00<?, ?it/s]"
     ]
    },
    {
     "name": "stdout",
     "output_type": "stream",
     "text": [
      "Experiment:  269\n"
     ]
    },
    {
     "name": "stderr",
     "output_type": "stream",
     "text": [
      "iterations: 100%|██████████| 1000/1000 [00:00<00:00, 13544.26it/s]\n",
      "iterations: 100%|██████████| 1000/1000 [00:00<00:00, 13796.73it/s]\n",
      "iterations: 100%|██████████| 1000/1000 [00:00<00:00, 12158.50it/s]\n",
      "iterations: 100%|██████████| 1000/1000 [00:00<00:00, 12202.96it/s]\n",
      "iterations:   0%|          | 0/1000 [00:00<?, ?it/s]"
     ]
    },
    {
     "name": "stdout",
     "output_type": "stream",
     "text": [
      "Experiment:  270\n"
     ]
    },
    {
     "name": "stderr",
     "output_type": "stream",
     "text": [
      "iterations: 100%|██████████| 1000/1000 [00:00<00:00, 13689.61it/s]\n",
      "iterations: 100%|██████████| 1000/1000 [00:00<00:00, 13373.97it/s]\n",
      "iterations: 100%|██████████| 1000/1000 [00:00<00:00, 12028.47it/s]\n",
      "iterations: 100%|██████████| 1000/1000 [00:00<00:00, 11742.63it/s]\n",
      "iterations:   0%|          | 0/1000 [00:00<?, ?it/s]"
     ]
    },
    {
     "name": "stdout",
     "output_type": "stream",
     "text": [
      "Experiment:  271\n"
     ]
    },
    {
     "name": "stderr",
     "output_type": "stream",
     "text": [
      "iterations: 100%|██████████| 1000/1000 [00:00<00:00, 12943.62it/s]\n",
      "iterations: 100%|██████████| 1000/1000 [00:00<00:00, 13108.02it/s]\n",
      "iterations: 100%|██████████| 1000/1000 [00:00<00:00, 11749.34it/s]\n",
      "iterations: 100%|██████████| 1000/1000 [00:00<00:00, 11967.93it/s]\n",
      "iterations:   0%|          | 0/1000 [00:00<?, ?it/s]"
     ]
    },
    {
     "name": "stdout",
     "output_type": "stream",
     "text": [
      "Experiment:  272\n"
     ]
    },
    {
     "name": "stderr",
     "output_type": "stream",
     "text": [
      "iterations: 100%|██████████| 1000/1000 [00:00<00:00, 13589.19it/s]\n",
      "iterations: 100%|██████████| 1000/1000 [00:00<00:00, 13682.86it/s]\n",
      "iterations: 100%|██████████| 1000/1000 [00:00<00:00, 11574.48it/s]\n",
      "iterations: 100%|██████████| 1000/1000 [00:00<00:00, 11803.87it/s]\n",
      "iterations:   0%|          | 0/1000 [00:00<?, ?it/s]"
     ]
    },
    {
     "name": "stdout",
     "output_type": "stream",
     "text": [
      "Experiment:  273\n"
     ]
    },
    {
     "name": "stderr",
     "output_type": "stream",
     "text": [
      "iterations: 100%|██████████| 1000/1000 [00:00<00:00, 12884.10it/s]\n",
      "iterations: 100%|██████████| 1000/1000 [00:00<00:00, 5746.66it/s]\n",
      "iterations: 100%|██████████| 1000/1000 [00:00<00:00, 11969.33it/s]\n",
      "iterations: 100%|██████████| 1000/1000 [00:00<00:00, 11958.61it/s]\n",
      "iterations:   0%|          | 0/1000 [00:00<?, ?it/s]"
     ]
    },
    {
     "name": "stdout",
     "output_type": "stream",
     "text": [
      "Experiment:  274\n"
     ]
    },
    {
     "name": "stderr",
     "output_type": "stream",
     "text": [
      "iterations: 100%|██████████| 1000/1000 [00:00<00:00, 10597.51it/s]\n",
      "iterations: 100%|██████████| 1000/1000 [00:00<00:00, 11702.76it/s]\n",
      "iterations: 100%|██████████| 1000/1000 [00:00<00:00, 11027.89it/s]\n",
      "iterations: 100%|██████████| 1000/1000 [00:00<00:00, 12234.03it/s]\n",
      "iterations:   0%|          | 0/1000 [00:00<?, ?it/s]"
     ]
    },
    {
     "name": "stdout",
     "output_type": "stream",
     "text": [
      "Experiment:  275\n"
     ]
    },
    {
     "name": "stderr",
     "output_type": "stream",
     "text": [
      "iterations: 100%|██████████| 1000/1000 [00:00<00:00, 12733.20it/s]\n",
      "iterations: 100%|██████████| 1000/1000 [00:00<00:00, 11079.48it/s]\n",
      "iterations: 100%|██████████| 1000/1000 [00:00<00:00, 11118.63it/s]\n",
      "iterations: 100%|██████████| 1000/1000 [00:00<00:00, 11867.32it/s]\n",
      "iterations:   0%|          | 0/1000 [00:00<?, ?it/s]"
     ]
    },
    {
     "name": "stdout",
     "output_type": "stream",
     "text": [
      "Experiment:  276\n"
     ]
    },
    {
     "name": "stderr",
     "output_type": "stream",
     "text": [
      "iterations: 100%|██████████| 1000/1000 [00:00<00:00, 13466.59it/s]\n",
      "iterations: 100%|██████████| 1000/1000 [00:00<00:00, 13774.26it/s]\n",
      "iterations: 100%|██████████| 1000/1000 [00:00<00:00, 11829.94it/s]\n",
      "iterations: 100%|██████████| 1000/1000 [00:00<00:00, 11885.82it/s]\n",
      "iterations:   0%|          | 0/1000 [00:00<?, ?it/s]"
     ]
    },
    {
     "name": "stdout",
     "output_type": "stream",
     "text": [
      "Experiment:  277\n"
     ]
    },
    {
     "name": "stderr",
     "output_type": "stream",
     "text": [
      "iterations: 100%|██████████| 1000/1000 [00:00<00:00, 13307.77it/s]\n",
      "iterations: 100%|██████████| 1000/1000 [00:00<00:00, 13552.00it/s]\n",
      "iterations: 100%|██████████| 1000/1000 [00:00<00:00, 11222.73it/s]\n",
      "iterations: 100%|██████████| 1000/1000 [00:00<00:00, 11649.19it/s]\n",
      "iterations:   0%|          | 0/1000 [00:00<?, ?it/s]"
     ]
    },
    {
     "name": "stdout",
     "output_type": "stream",
     "text": [
      "Experiment:  278\n"
     ]
    },
    {
     "name": "stderr",
     "output_type": "stream",
     "text": [
      "iterations: 100%|██████████| 1000/1000 [00:00<00:00, 12138.86it/s]\n",
      "iterations: 100%|██████████| 1000/1000 [00:00<00:00, 12585.08it/s]\n",
      "iterations: 100%|██████████| 1000/1000 [00:00<00:00, 11012.86it/s]\n",
      "iterations: 100%|██████████| 1000/1000 [00:00<00:00, 10992.86it/s]\n",
      "iterations:   0%|          | 0/1000 [00:00<?, ?it/s]"
     ]
    },
    {
     "name": "stdout",
     "output_type": "stream",
     "text": [
      "Experiment:  279\n"
     ]
    },
    {
     "name": "stderr",
     "output_type": "stream",
     "text": [
      "iterations: 100%|██████████| 1000/1000 [00:00<00:00, 12418.22it/s]\n",
      "iterations: 100%|██████████| 1000/1000 [00:00<00:00, 12540.94it/s]\n",
      "iterations: 100%|██████████| 1000/1000 [00:00<00:00, 10867.68it/s]\n",
      "iterations: 100%|██████████| 1000/1000 [00:00<00:00, 11233.07it/s]\n",
      "iterations:   0%|          | 0/1000 [00:00<?, ?it/s]"
     ]
    },
    {
     "name": "stdout",
     "output_type": "stream",
     "text": [
      "Experiment:  280\n"
     ]
    },
    {
     "name": "stderr",
     "output_type": "stream",
     "text": [
      "iterations: 100%|██████████| 1000/1000 [00:00<00:00, 12489.70it/s]\n",
      "iterations: 100%|██████████| 1000/1000 [00:00<00:00, 13050.80it/s]\n",
      "iterations: 100%|██████████| 1000/1000 [00:00<00:00, 10077.71it/s]\n",
      "iterations: 100%|██████████| 1000/1000 [00:00<00:00, 10888.05it/s]\n",
      "iterations:   0%|          | 0/1000 [00:00<?, ?it/s]"
     ]
    },
    {
     "name": "stdout",
     "output_type": "stream",
     "text": [
      "Experiment:  281\n"
     ]
    },
    {
     "name": "stderr",
     "output_type": "stream",
     "text": [
      "iterations: 100%|██████████| 1000/1000 [00:00<00:00, 12204.52it/s]\n",
      "iterations: 100%|██████████| 1000/1000 [00:00<00:00, 12651.17it/s]\n",
      "iterations: 100%|██████████| 1000/1000 [00:00<00:00, 8706.08it/s]\n",
      "iterations:   0%|          | 0/1000 [00:00<?, ?it/s]"
     ]
    },
    {
     "name": "stdout",
     "output_type": "stream",
     "text": [
      "Experiment:  282\n"
     ]
    },
    {
     "name": "stderr",
     "output_type": "stream",
     "text": [
      "iterations: 100%|██████████| 1000/1000 [00:00<00:00, 10564.47it/s]\n",
      "iterations: 100%|██████████| 1000/1000 [00:00<00:00, 13350.60it/s]\n",
      "iterations: 100%|██████████| 1000/1000 [00:00<00:00, 13667.75it/s]\n",
      "iterations: 100%|██████████| 1000/1000 [00:00<00:00, 11731.86it/s]\n",
      "iterations: 100%|██████████| 1000/1000 [00:00<00:00, 11615.22it/s]\n",
      "iterations:   0%|          | 0/1000 [00:00<?, ?it/s]"
     ]
    },
    {
     "name": "stdout",
     "output_type": "stream",
     "text": [
      "Experiment:  283\n"
     ]
    },
    {
     "name": "stderr",
     "output_type": "stream",
     "text": [
      "iterations: 100%|██████████| 1000/1000 [00:00<00:00, 13366.68it/s]\n",
      "iterations: 100%|██████████| 1000/1000 [00:00<00:00, 10067.05it/s]\n",
      "iterations: 100%|██████████| 1000/1000 [00:00<00:00, 9425.87it/s]\n",
      "iterations:   0%|          | 0/1000 [00:00<?, ?it/s]"
     ]
    },
    {
     "name": "stdout",
     "output_type": "stream",
     "text": [
      "Experiment:  284\n"
     ]
    },
    {
     "name": "stderr",
     "output_type": "stream",
     "text": [
      "iterations: 100%|██████████| 1000/1000 [00:00<00:00, 10631.63it/s]\n",
      "iterations: 100%|██████████| 1000/1000 [00:00<00:00, 9223.99it/s]\n",
      "iterations: 100%|██████████| 1000/1000 [00:00<00:00, 7203.53it/s]\n",
      "iterations:  58%|█████▊    | 584/1000 [00:00<00:00, 5836.04it/s]"
     ]
    },
    {
     "name": "stdout",
     "output_type": "stream",
     "text": [
      "Experiment:  285\n"
     ]
    },
    {
     "name": "stderr",
     "output_type": "stream",
     "text": [
      "iterations: 100%|██████████| 1000/1000 [00:00<00:00, 3902.83it/s]\n",
      "iterations: 100%|██████████| 1000/1000 [00:00<00:00, 4869.59it/s]\n",
      "iterations: 100%|██████████| 1000/1000 [00:00<00:00, 7954.44it/s]\n",
      "iterations: 100%|██████████| 1000/1000 [00:00<00:00, 9278.35it/s]\n",
      "iterations: 100%|██████████| 1000/1000 [00:00<00:00, 8935.99it/s]\n",
      "iterations:   0%|          | 0/1000 [00:00<?, ?it/s]"
     ]
    },
    {
     "name": "stdout",
     "output_type": "stream",
     "text": [
      "Experiment:  286\n"
     ]
    },
    {
     "name": "stderr",
     "output_type": "stream",
     "text": [
      "iterations: 100%|██████████| 1000/1000 [00:00<00:00, 9799.13it/s]\n",
      "iterations: 100%|██████████| 1000/1000 [00:00<00:00, 11400.01it/s]\n",
      "iterations: 100%|██████████| 1000/1000 [00:00<00:00, 12167.38it/s]\n",
      "iterations: 100%|██████████| 1000/1000 [00:00<00:00, 10875.96it/s]\n",
      "iterations: 100%|██████████| 1000/1000 [00:00<00:00, 10700.68it/s]\n",
      "iterations:   0%|          | 0/1000 [00:00<?, ?it/s]"
     ]
    },
    {
     "name": "stdout",
     "output_type": "stream",
     "text": [
      "Experiment:  287\n"
     ]
    },
    {
     "name": "stderr",
     "output_type": "stream",
     "text": [
      "iterations: 100%|██████████| 1000/1000 [00:00<00:00, 11099.42it/s]\n",
      "iterations: 100%|██████████| 1000/1000 [00:00<00:00, 12663.50it/s]\n",
      "iterations: 100%|██████████| 1000/1000 [00:00<00:00, 10695.06it/s]\n",
      "iterations: 100%|██████████| 1000/1000 [00:00<00:00, 10904.07it/s]\n",
      "iterations:   0%|          | 0/1000 [00:00<?, ?it/s]"
     ]
    },
    {
     "name": "stdout",
     "output_type": "stream",
     "text": [
      "Experiment:  288\n"
     ]
    },
    {
     "name": "stderr",
     "output_type": "stream",
     "text": [
      "iterations: 100%|██████████| 1000/1000 [00:00<00:00, 8625.75it/s]\n",
      "iterations: 100%|██████████| 1000/1000 [00:00<00:00, 11388.10it/s]\n",
      "iterations: 100%|██████████| 1000/1000 [00:00<00:00, 7427.87it/s]\n",
      "iterations:   0%|          | 0/1000 [00:00<?, ?it/s]"
     ]
    },
    {
     "name": "stdout",
     "output_type": "stream",
     "text": [
      "Experiment:  289\n"
     ]
    },
    {
     "name": "stderr",
     "output_type": "stream",
     "text": [
      "iterations: 100%|██████████| 1000/1000 [00:00<00:00, 7265.80it/s]\n",
      "iterations: 100%|██████████| 1000/1000 [00:00<00:00, 9586.17it/s]\n",
      "iterations: 100%|██████████| 1000/1000 [00:00<00:00, 10634.78it/s]\n",
      "iterations: 100%|██████████| 1000/1000 [00:00<00:00, 10249.48it/s]\n",
      "iterations:   0%|          | 0/1000 [00:00<?, ?it/s]"
     ]
    },
    {
     "name": "stdout",
     "output_type": "stream",
     "text": [
      "Experiment:  290\n"
     ]
    },
    {
     "name": "stderr",
     "output_type": "stream",
     "text": [
      "iterations: 100%|██████████| 1000/1000 [00:00<00:00, 8375.83it/s]\n",
      "iterations: 100%|██████████| 1000/1000 [00:00<00:00, 9110.80it/s]\n",
      "iterations: 100%|██████████| 1000/1000 [00:00<00:00, 7648.59it/s]\n",
      "iterations:  32%|███▏      | 324/1000 [00:00<00:00, 2641.71it/s]"
     ]
    },
    {
     "name": "stdout",
     "output_type": "stream",
     "text": [
      "Experiment:  291\n"
     ]
    },
    {
     "name": "stderr",
     "output_type": "stream",
     "text": [
      "iterations: 100%|██████████| 1000/1000 [00:00<00:00, 3290.69it/s]\n",
      "iterations: 100%|██████████| 1000/1000 [00:00<00:00, 5101.41it/s]\n",
      "iterations: 100%|██████████| 1000/1000 [00:00<00:00, 6842.80it/s]\n",
      "iterations: 100%|██████████| 1000/1000 [00:00<00:00, 5557.25it/s]\n",
      "iterations: 100%|██████████| 1000/1000 [00:00<00:00, 7748.58it/s]\n",
      "iterations:   0%|          | 0/1000 [00:00<?, ?it/s]"
     ]
    },
    {
     "name": "stdout",
     "output_type": "stream",
     "text": [
      "Experiment:  292\n"
     ]
    },
    {
     "name": "stderr",
     "output_type": "stream",
     "text": [
      "iterations: 100%|██████████| 1000/1000 [00:00<00:00, 8473.43it/s]\n",
      "iterations: 100%|██████████| 1000/1000 [00:00<00:00, 13012.70it/s]\n",
      "iterations: 100%|██████████| 1000/1000 [00:00<00:00, 11713.25it/s]\n",
      "iterations: 100%|██████████| 1000/1000 [00:00<00:00, 8616.74it/s]\n",
      "iterations:   0%|          | 0/1000 [00:00<?, ?it/s]"
     ]
    },
    {
     "name": "stdout",
     "output_type": "stream",
     "text": [
      "Experiment:  293\n"
     ]
    },
    {
     "name": "stderr",
     "output_type": "stream",
     "text": [
      "iterations: 100%|██████████| 1000/1000 [00:00<00:00, 6446.33it/s]\n",
      "iterations: 100%|██████████| 1000/1000 [00:00<00:00, 10775.07it/s]\n",
      "iterations: 100%|██████████| 1000/1000 [00:00<00:00, 10982.73it/s]\n",
      "iterations: 100%|██████████| 1000/1000 [00:00<00:00, 8356.12it/s]\n",
      "iterations:   0%|          | 0/1000 [00:00<?, ?it/s]"
     ]
    },
    {
     "name": "stdout",
     "output_type": "stream",
     "text": [
      "Experiment:  294\n"
     ]
    },
    {
     "name": "stderr",
     "output_type": "stream",
     "text": [
      "iterations: 100%|██████████| 1000/1000 [00:00<00:00, 5816.70it/s]\n",
      "iterations: 100%|██████████| 1000/1000 [00:00<00:00, 6668.32it/s]\n",
      "iterations: 100%|██████████| 1000/1000 [00:00<00:00, 10514.39it/s]\n",
      "iterations: 100%|██████████| 1000/1000 [00:00<00:00, 7411.52it/s]\n",
      "iterations:   0%|          | 0/1000 [00:00<?, ?it/s]"
     ]
    },
    {
     "name": "stdout",
     "output_type": "stream",
     "text": [
      "Experiment:  295\n"
     ]
    },
    {
     "name": "stderr",
     "output_type": "stream",
     "text": [
      "iterations: 100%|██████████| 1000/1000 [00:00<00:00, 9415.73it/s]\n",
      "iterations: 100%|██████████| 1000/1000 [00:00<00:00, 10717.53it/s]\n",
      "iterations: 100%|██████████| 1000/1000 [00:00<00:00, 12055.44it/s]\n",
      "iterations: 100%|██████████| 1000/1000 [00:00<00:00, 10468.80it/s]\n",
      "iterations: 100%|██████████| 1000/1000 [00:00<00:00, 10377.21it/s]\n",
      "iterations:   0%|          | 0/1000 [00:00<?, ?it/s]"
     ]
    },
    {
     "name": "stdout",
     "output_type": "stream",
     "text": [
      "Experiment:  296\n"
     ]
    },
    {
     "name": "stderr",
     "output_type": "stream",
     "text": [
      "iterations: 100%|██████████| 1000/1000 [00:00<00:00, 7290.95it/s]\n",
      "iterations: 100%|██████████| 1000/1000 [00:00<00:00, 10557.76it/s]\n",
      "iterations: 100%|██████████| 1000/1000 [00:00<00:00, 7577.48it/s]\n",
      "iterations:   0%|          | 0/1000 [00:00<?, ?it/s]"
     ]
    },
    {
     "name": "stdout",
     "output_type": "stream",
     "text": [
      "Experiment:  297\n"
     ]
    },
    {
     "name": "stderr",
     "output_type": "stream",
     "text": [
      "iterations: 100%|██████████| 1000/1000 [00:00<00:00, 8791.04it/s]\n",
      "iterations: 100%|██████████| 1000/1000 [00:00<00:00, 9517.26it/s]\n",
      "iterations: 100%|██████████| 1000/1000 [00:00<00:00, 7245.80it/s]\n",
      "iterations: 100%|██████████| 1000/1000 [00:00<00:00, 6183.30it/s]\n",
      "iterations:   0%|          | 0/1000 [00:00<?, ?it/s]"
     ]
    },
    {
     "name": "stdout",
     "output_type": "stream",
     "text": [
      "Experiment:  298\n"
     ]
    },
    {
     "name": "stderr",
     "output_type": "stream",
     "text": [
      "iterations: 100%|██████████| 1000/1000 [00:00<00:00, 7897.39it/s]\n",
      "iterations: 100%|██████████| 1000/1000 [00:00<00:00, 8924.03it/s]\n",
      "iterations: 100%|██████████| 1000/1000 [00:00<00:00, 7073.23it/s]\n",
      "iterations: 100%|██████████| 1000/1000 [00:00<00:00, 7259.38it/s]\n",
      "iterations:   0%|          | 0/1000 [00:00<?, ?it/s]"
     ]
    },
    {
     "name": "stdout",
     "output_type": "stream",
     "text": [
      "Experiment:  299\n"
     ]
    },
    {
     "name": "stderr",
     "output_type": "stream",
     "text": [
      "iterations: 100%|██████████| 1000/1000 [00:00<00:00, 6782.79it/s]\n",
      "iterations: 100%|██████████| 1000/1000 [00:00<00:00, 9115.83it/s]\n",
      "iterations: 100%|██████████| 1000/1000 [00:00<00:00, 9226.99it/s]\n",
      "iterations: 100%|██████████| 1000/1000 [00:00<00:00, 8445.96it/s]\n",
      "iterations:   0%|          | 0/1000 [00:00<?, ?it/s]"
     ]
    },
    {
     "name": "stdout",
     "output_type": "stream",
     "text": [
      "Experiment:  300\n"
     ]
    },
    {
     "name": "stderr",
     "output_type": "stream",
     "text": [
      "iterations: 100%|██████████| 1000/1000 [00:00<00:00, 4833.86it/s]\n",
      "iterations: 100%|██████████| 1000/1000 [00:00<00:00, 11997.88it/s]\n",
      "iterations: 100%|██████████| 1000/1000 [00:00<00:00, 11582.38it/s]\n",
      "iterations: 100%|██████████| 1000/1000 [00:00<00:00, 8650.81it/s]\n",
      "iterations:   0%|          | 0/1000 [00:00<?, ?it/s]"
     ]
    },
    {
     "name": "stdout",
     "output_type": "stream",
     "text": [
      "Experiment:  301\n"
     ]
    },
    {
     "name": "stderr",
     "output_type": "stream",
     "text": [
      "iterations: 100%|██████████| 1000/1000 [00:00<00:00, 7297.68it/s]\n",
      "iterations: 100%|██████████| 1000/1000 [00:00<00:00, 11077.64it/s]\n",
      "iterations: 100%|██████████| 1000/1000 [00:00<00:00, 10914.76it/s]\n",
      "iterations: 100%|██████████| 1000/1000 [00:00<00:00, 7868.93it/s]\n",
      "iterations:   0%|          | 0/1000 [00:00<?, ?it/s]"
     ]
    },
    {
     "name": "stdout",
     "output_type": "stream",
     "text": [
      "Experiment:  302\n"
     ]
    },
    {
     "name": "stderr",
     "output_type": "stream",
     "text": [
      "iterations: 100%|██████████| 1000/1000 [00:00<00:00, 7782.35it/s]\n",
      "iterations: 100%|██████████| 1000/1000 [00:00<00:00, 7621.56it/s]\n",
      "iterations: 100%|██████████| 1000/1000 [00:00<00:00, 4680.66it/s]\n",
      "iterations: 100%|██████████| 1000/1000 [00:00<00:00, 6730.02it/s]\n",
      "iterations:   0%|          | 0/1000 [00:00<?, ?it/s]"
     ]
    },
    {
     "name": "stdout",
     "output_type": "stream",
     "text": [
      "Experiment:  303\n"
     ]
    },
    {
     "name": "stderr",
     "output_type": "stream",
     "text": [
      "iterations: 100%|██████████| 1000/1000 [00:00<00:00, 6116.46it/s]\n",
      "iterations: 100%|██████████| 1000/1000 [00:00<00:00, 10320.35it/s]\n",
      "iterations: 100%|██████████| 1000/1000 [00:00<00:00, 10736.48it/s]\n",
      "iterations: 100%|██████████| 1000/1000 [00:00<00:00, 8109.64it/s]\n",
      "iterations:   0%|          | 0/1000 [00:00<?, ?it/s]"
     ]
    },
    {
     "name": "stdout",
     "output_type": "stream",
     "text": [
      "Experiment:  304\n"
     ]
    },
    {
     "name": "stderr",
     "output_type": "stream",
     "text": [
      "iterations: 100%|██████████| 1000/1000 [00:00<00:00, 8733.46it/s]\n",
      "iterations: 100%|██████████| 1000/1000 [00:00<00:00, 9994.12it/s]\n",
      "iterations: 100%|██████████| 1000/1000 [00:00<00:00, 11712.07it/s]\n",
      "iterations: 100%|██████████| 1000/1000 [00:00<00:00, 8260.57it/s]\n",
      "iterations:   0%|          | 0/1000 [00:00<?, ?it/s]"
     ]
    },
    {
     "name": "stdout",
     "output_type": "stream",
     "text": [
      "Experiment:  305\n"
     ]
    },
    {
     "name": "stderr",
     "output_type": "stream",
     "text": [
      "iterations: 100%|██████████| 1000/1000 [00:00<00:00, 7959.63it/s]\n",
      "iterations: 100%|██████████| 1000/1000 [00:00<00:00, 9031.78it/s]\n",
      "iterations: 100%|██████████| 1000/1000 [00:00<00:00, 11057.69it/s]\n",
      "iterations: 100%|██████████| 1000/1000 [00:00<00:00, 5244.12it/s]\n"
     ]
    },
    {
     "name": "stdout",
     "output_type": "stream",
     "text": [
      "Experiment:  306\n"
     ]
    },
    {
     "name": "stderr",
     "output_type": "stream",
     "text": [
      "iterations: 100%|██████████| 1000/1000 [00:00<00:00, 7838.96it/s]\n",
      "iterations: 100%|██████████| 1000/1000 [00:00<00:00, 10826.86it/s]\n",
      "iterations: 100%|██████████| 1000/1000 [00:00<00:00, 9294.03it/s]\n",
      "iterations: 100%|██████████| 1000/1000 [00:00<00:00, 10375.73it/s]\n",
      "iterations: 100%|██████████| 1000/1000 [00:00<00:00, 11042.73it/s]\n",
      "iterations:   0%|          | 0/1000 [00:00<?, ?it/s]"
     ]
    },
    {
     "name": "stdout",
     "output_type": "stream",
     "text": [
      "Experiment:  307\n"
     ]
    },
    {
     "name": "stderr",
     "output_type": "stream",
     "text": [
      "iterations: 100%|██████████| 1000/1000 [00:00<00:00, 12304.38it/s]\n",
      "iterations: 100%|██████████| 1000/1000 [00:00<00:00, 12681.84it/s]\n",
      "iterations: 100%|██████████| 1000/1000 [00:00<00:00, 11417.36it/s]\n",
      "iterations: 100%|██████████| 1000/1000 [00:00<00:00, 10844.22it/s]\n",
      "iterations:   0%|          | 0/1000 [00:00<?, ?it/s]"
     ]
    },
    {
     "name": "stdout",
     "output_type": "stream",
     "text": [
      "Experiment:  308\n"
     ]
    },
    {
     "name": "stderr",
     "output_type": "stream",
     "text": [
      "iterations: 100%|██████████| 1000/1000 [00:00<00:00, 13057.05it/s]\n",
      "iterations: 100%|██████████| 1000/1000 [00:00<00:00, 13380.20it/s]\n",
      "iterations: 100%|██████████| 1000/1000 [00:00<00:00, 11332.50it/s]\n",
      "iterations: 100%|██████████| 1000/1000 [00:00<00:00, 11547.08it/s]\n",
      "iterations:   0%|          | 0/1000 [00:00<?, ?it/s]"
     ]
    },
    {
     "name": "stdout",
     "output_type": "stream",
     "text": [
      "Experiment:  309\n"
     ]
    },
    {
     "name": "stderr",
     "output_type": "stream",
     "text": [
      "iterations: 100%|██████████| 1000/1000 [00:00<00:00, 12781.67it/s]\n",
      "iterations: 100%|██████████| 1000/1000 [00:00<00:00, 13465.64it/s]\n",
      "iterations: 100%|██████████| 1000/1000 [00:00<00:00, 10042.60it/s]\n",
      "iterations:   0%|          | 0/1000 [00:00<?, ?it/s]"
     ]
    },
    {
     "name": "stdout",
     "output_type": "stream",
     "text": [
      "Experiment:  310\n"
     ]
    },
    {
     "name": "stderr",
     "output_type": "stream",
     "text": [
      "iterations: 100%|██████████| 1000/1000 [00:00<00:00, 9303.21it/s]\n",
      "iterations: 100%|██████████| 1000/1000 [00:00<00:00, 11157.62it/s]\n",
      "iterations: 100%|██████████| 1000/1000 [00:00<00:00, 10895.65it/s]\n",
      "iterations: 100%|██████████| 1000/1000 [00:00<00:00, 9151.87it/s]\n",
      "iterations:   0%|          | 0/1000 [00:00<?, ?it/s]"
     ]
    },
    {
     "name": "stdout",
     "output_type": "stream",
     "text": [
      "Experiment:  311\n"
     ]
    },
    {
     "name": "stderr",
     "output_type": "stream",
     "text": [
      "iterations: 100%|██████████| 1000/1000 [00:00<00:00, 8831.25it/s]\n",
      "iterations: 100%|██████████| 1000/1000 [00:00<00:00, 10003.21it/s]\n",
      "iterations: 100%|██████████| 1000/1000 [00:00<00:00, 11484.60it/s]\n",
      "iterations: 100%|██████████| 1000/1000 [00:00<00:00, 6747.96it/s]\n",
      "iterations:   0%|          | 0/1000 [00:00<?, ?it/s]"
     ]
    },
    {
     "name": "stdout",
     "output_type": "stream",
     "text": [
      "Experiment:  312\n"
     ]
    },
    {
     "name": "stderr",
     "output_type": "stream",
     "text": [
      "iterations: 100%|██████████| 1000/1000 [00:00<00:00, 5105.35it/s]\n",
      "iterations: 100%|██████████| 1000/1000 [00:00<00:00, 8867.84it/s]\n",
      "iterations: 100%|██████████| 1000/1000 [00:00<00:00, 10341.90it/s]\n",
      "iterations: 100%|██████████| 1000/1000 [00:00<00:00, 7539.03it/s]\n",
      "iterations:   0%|          | 0/1000 [00:00<?, ?it/s]"
     ]
    },
    {
     "name": "stdout",
     "output_type": "stream",
     "text": [
      "Experiment:  313\n"
     ]
    },
    {
     "name": "stderr",
     "output_type": "stream",
     "text": [
      "iterations: 100%|██████████| 1000/1000 [00:00<00:00, 10333.22it/s]\n",
      "iterations: 100%|██████████| 1000/1000 [00:00<00:00, 12357.12it/s]\n",
      "iterations: 100%|██████████| 1000/1000 [00:00<00:00, 12059.81it/s]\n",
      "iterations: 100%|██████████| 1000/1000 [00:00<00:00, 10245.08it/s]\n",
      "iterations: 100%|██████████| 1000/1000 [00:00<00:00, 10638.75it/s]\n",
      "iterations:   0%|          | 0/1000 [00:00<?, ?it/s]"
     ]
    },
    {
     "name": "stdout",
     "output_type": "stream",
     "text": [
      "Experiment:  314\n"
     ]
    },
    {
     "name": "stderr",
     "output_type": "stream",
     "text": [
      "iterations: 100%|██████████| 1000/1000 [00:00<00:00, 13144.21it/s]\n",
      "iterations: 100%|██████████| 1000/1000 [00:00<00:00, 13347.41it/s]\n",
      "iterations: 100%|██████████| 1000/1000 [00:00<00:00, 5526.75it/s]\n",
      "iterations:   0%|          | 0/1000 [00:00<?, ?it/s]"
     ]
    },
    {
     "name": "stdout",
     "output_type": "stream",
     "text": [
      "Experiment:  315\n"
     ]
    },
    {
     "name": "stderr",
     "output_type": "stream",
     "text": [
      "iterations: 100%|██████████| 1000/1000 [00:00<00:00, 9782.15it/s]\n",
      "iterations: 100%|██████████| 1000/1000 [00:00<00:00, 11786.09it/s]\n",
      "iterations: 100%|██████████| 1000/1000 [00:00<00:00, 12216.57it/s]\n",
      "iterations: 100%|██████████| 1000/1000 [00:00<00:00, 10632.52it/s]\n",
      "iterations: 100%|██████████| 1000/1000 [00:00<00:00, 10802.63it/s]\n",
      "iterations:   0%|          | 0/1000 [00:00<?, ?it/s]"
     ]
    },
    {
     "name": "stdout",
     "output_type": "stream",
     "text": [
      "Experiment:  316\n"
     ]
    },
    {
     "name": "stderr",
     "output_type": "stream",
     "text": [
      "iterations: 100%|██████████| 1000/1000 [00:00<00:00, 12403.86it/s]\n",
      "iterations: 100%|██████████| 1000/1000 [00:00<00:00, 12783.30it/s]\n",
      "iterations: 100%|██████████| 1000/1000 [00:00<00:00, 10541.98it/s]\n",
      "iterations: 100%|██████████| 1000/1000 [00:00<00:00, 11003.50it/s]\n",
      "iterations:   0%|          | 0/1000 [00:00<?, ?it/s]"
     ]
    },
    {
     "name": "stdout",
     "output_type": "stream",
     "text": [
      "Experiment:  317\n"
     ]
    },
    {
     "name": "stderr",
     "output_type": "stream",
     "text": [
      "iterations: 100%|██████████| 1000/1000 [00:00<00:00, 12433.65it/s]\n",
      "iterations: 100%|██████████| 1000/1000 [00:00<00:00, 12911.23it/s]\n",
      "iterations: 100%|██████████| 1000/1000 [00:00<00:00, 11657.48it/s]\n",
      "iterations: 100%|██████████| 1000/1000 [00:00<00:00, 11411.74it/s]\n",
      "iterations:   0%|          | 0/1000 [00:00<?, ?it/s]"
     ]
    },
    {
     "name": "stdout",
     "output_type": "stream",
     "text": [
      "Experiment:  318\n"
     ]
    },
    {
     "name": "stderr",
     "output_type": "stream",
     "text": [
      "iterations: 100%|██████████| 1000/1000 [00:00<00:00, 12417.08it/s]\n",
      "iterations: 100%|██████████| 1000/1000 [00:00<00:00, 12890.91it/s]\n",
      "iterations: 100%|██████████| 1000/1000 [00:00<00:00, 11200.25it/s]\n",
      "iterations: 100%|██████████| 1000/1000 [00:00<00:00, 11215.56it/s]\n",
      "iterations:   0%|          | 0/1000 [00:00<?, ?it/s]"
     ]
    },
    {
     "name": "stdout",
     "output_type": "stream",
     "text": [
      "Experiment:  319\n"
     ]
    },
    {
     "name": "stderr",
     "output_type": "stream",
     "text": [
      "iterations: 100%|██████████| 1000/1000 [00:00<00:00, 12870.82it/s]\n",
      "iterations: 100%|██████████| 1000/1000 [00:00<00:00, 12576.70it/s]\n",
      "iterations: 100%|██████████| 1000/1000 [00:00<00:00, 10796.48it/s]\n",
      "iterations: 100%|██████████| 1000/1000 [00:00<00:00, 11414.10it/s]\n",
      "iterations:   0%|          | 0/1000 [00:00<?, ?it/s]"
     ]
    },
    {
     "name": "stdout",
     "output_type": "stream",
     "text": [
      "Experiment:  320\n"
     ]
    },
    {
     "name": "stderr",
     "output_type": "stream",
     "text": [
      "iterations: 100%|██████████| 1000/1000 [00:00<00:00, 12174.48it/s]\n",
      "iterations: 100%|██████████| 1000/1000 [00:00<00:00, 13231.70it/s]\n",
      "iterations: 100%|██████████| 1000/1000 [00:00<00:00, 11491.18it/s]\n",
      "iterations: 100%|██████████| 1000/1000 [00:00<00:00, 11004.02it/s]\n",
      "iterations:   0%|          | 0/1000 [00:00<?, ?it/s]"
     ]
    },
    {
     "name": "stdout",
     "output_type": "stream",
     "text": [
      "Experiment:  321\n"
     ]
    },
    {
     "name": "stderr",
     "output_type": "stream",
     "text": [
      "iterations: 100%|██████████| 1000/1000 [00:00<00:00, 10427.39it/s]\n",
      "iterations: 100%|██████████| 1000/1000 [00:00<00:00, 11623.72it/s]\n",
      "iterations: 100%|██████████| 1000/1000 [00:00<00:00, 10516.44it/s]\n",
      "iterations: 100%|██████████| 1000/1000 [00:00<00:00, 10405.82it/s]\n",
      "iterations:   0%|          | 0/1000 [00:00<?, ?it/s]"
     ]
    },
    {
     "name": "stdout",
     "output_type": "stream",
     "text": [
      "Experiment:  322\n"
     ]
    },
    {
     "name": "stderr",
     "output_type": "stream",
     "text": [
      "iterations: 100%|██████████| 1000/1000 [00:00<00:00, 11889.19it/s]\n",
      "iterations: 100%|██████████| 1000/1000 [00:00<00:00, 12789.66it/s]\n",
      "iterations: 100%|██████████| 1000/1000 [00:00<00:00, 11258.24it/s]\n",
      "iterations: 100%|██████████| 1000/1000 [00:00<00:00, 10920.70it/s]\n",
      "iterations:   0%|          | 0/1000 [00:00<?, ?it/s]"
     ]
    },
    {
     "name": "stdout",
     "output_type": "stream",
     "text": [
      "Experiment:  323\n"
     ]
    },
    {
     "name": "stderr",
     "output_type": "stream",
     "text": [
      "iterations: 100%|██████████| 1000/1000 [00:00<00:00, 12457.47it/s]\n",
      "iterations: 100%|██████████| 1000/1000 [00:00<00:00, 12342.90it/s]\n",
      "iterations: 100%|██████████| 1000/1000 [00:00<00:00, 11282.87it/s]\n",
      "iterations: 100%|██████████| 1000/1000 [00:00<00:00, 11077.49it/s]\n",
      "iterations:   0%|          | 0/1000 [00:00<?, ?it/s]"
     ]
    },
    {
     "name": "stdout",
     "output_type": "stream",
     "text": [
      "Experiment:  324\n"
     ]
    },
    {
     "name": "stderr",
     "output_type": "stream",
     "text": [
      "iterations: 100%|██████████| 1000/1000 [00:00<00:00, 12716.49it/s]\n",
      "iterations: 100%|██████████| 1000/1000 [00:00<00:00, 12358.36it/s]\n",
      "iterations: 100%|██████████| 1000/1000 [00:00<00:00, 11026.33it/s]\n",
      "iterations: 100%|██████████| 1000/1000 [00:00<00:00, 11313.24it/s]\n",
      "iterations:   0%|          | 0/1000 [00:00<?, ?it/s]"
     ]
    },
    {
     "name": "stdout",
     "output_type": "stream",
     "text": [
      "Experiment:  325\n"
     ]
    },
    {
     "name": "stderr",
     "output_type": "stream",
     "text": [
      "iterations: 100%|██████████| 1000/1000 [00:00<00:00, 12320.90it/s]\n",
      "iterations: 100%|██████████| 1000/1000 [00:00<00:00, 13419.20it/s]\n",
      "iterations: 100%|██████████| 1000/1000 [00:00<00:00, 11326.96it/s]\n",
      "iterations: 100%|██████████| 1000/1000 [00:00<00:00, 10296.23it/s]\n",
      "iterations:   0%|          | 0/1000 [00:00<?, ?it/s]"
     ]
    },
    {
     "name": "stdout",
     "output_type": "stream",
     "text": [
      "Experiment:  326\n"
     ]
    },
    {
     "name": "stderr",
     "output_type": "stream",
     "text": [
      "iterations: 100%|██████████| 1000/1000 [00:00<00:00, 11710.86it/s]\n",
      "iterations: 100%|██████████| 1000/1000 [00:00<00:00, 10735.14it/s]\n",
      "iterations: 100%|██████████| 1000/1000 [00:00<00:00, 9550.35it/s]\n",
      "iterations:   0%|          | 0/1000 [00:00<?, ?it/s]"
     ]
    },
    {
     "name": "stdout",
     "output_type": "stream",
     "text": [
      "Experiment:  327\n"
     ]
    },
    {
     "name": "stderr",
     "output_type": "stream",
     "text": [
      "iterations: 100%|██████████| 1000/1000 [00:00<00:00, 10477.14it/s]\n",
      "iterations: 100%|██████████| 1000/1000 [00:00<00:00, 12249.93it/s]\n",
      "iterations: 100%|██████████| 1000/1000 [00:00<00:00, 12194.98it/s]\n",
      "iterations: 100%|██████████| 1000/1000 [00:00<00:00, 10812.79it/s]\n",
      "iterations:  96%|█████████▋| 963/1000 [00:00<00:00, 9629.62it/s]"
     ]
    },
    {
     "name": "stdout",
     "output_type": "stream",
     "text": [
      "Experiment:  328\n"
     ]
    },
    {
     "name": "stderr",
     "output_type": "stream",
     "text": [
      "iterations: 100%|██████████| 1000/1000 [00:00<00:00, 9490.19it/s]\n",
      "iterations: 100%|██████████| 1000/1000 [00:00<00:00, 11870.41it/s]\n",
      "iterations: 100%|██████████| 1000/1000 [00:00<00:00, 11771.90it/s]\n",
      "iterations: 100%|██████████| 1000/1000 [00:00<00:00, 10825.32it/s]\n",
      "iterations: 100%|██████████| 1000/1000 [00:00<00:00, 10222.75it/s]\n",
      "iterations:   0%|          | 0/1000 [00:00<?, ?it/s]"
     ]
    },
    {
     "name": "stdout",
     "output_type": "stream",
     "text": [
      "Experiment:  329\n"
     ]
    },
    {
     "name": "stderr",
     "output_type": "stream",
     "text": [
      "iterations: 100%|██████████| 1000/1000 [00:00<00:00, 11533.74it/s]\n",
      "iterations: 100%|██████████| 1000/1000 [00:00<00:00, 13169.18it/s]\n",
      "iterations: 100%|██████████| 1000/1000 [00:00<00:00, 11291.13it/s]\n",
      "iterations: 100%|██████████| 1000/1000 [00:00<00:00, 10245.08it/s]\n",
      "iterations:   0%|          | 0/1000 [00:00<?, ?it/s]"
     ]
    },
    {
     "name": "stdout",
     "output_type": "stream",
     "text": [
      "Experiment:  330\n"
     ]
    },
    {
     "name": "stderr",
     "output_type": "stream",
     "text": [
      "iterations: 100%|██████████| 1000/1000 [00:00<00:00, 11028.88it/s]\n",
      "iterations: 100%|██████████| 1000/1000 [00:00<00:00, 11344.51it/s]\n",
      "iterations: 100%|██████████| 1000/1000 [00:00<00:00, 10663.01it/s]\n",
      "iterations: 100%|██████████| 1000/1000 [00:00<00:00, 10576.53it/s]\n",
      "iterations:   0%|          | 0/1000 [00:00<?, ?it/s]"
     ]
    },
    {
     "name": "stdout",
     "output_type": "stream",
     "text": [
      "Experiment:  331\n"
     ]
    },
    {
     "name": "stderr",
     "output_type": "stream",
     "text": [
      "iterations: 100%|██████████| 1000/1000 [00:00<00:00, 11528.45it/s]\n",
      "iterations: 100%|██████████| 1000/1000 [00:00<00:00, 12528.50it/s]\n",
      "iterations: 100%|██████████| 1000/1000 [00:00<00:00, 10958.05it/s]\n",
      "iterations: 100%|██████████| 1000/1000 [00:00<00:00, 10541.98it/s]\n",
      "iterations:   0%|          | 0/1000 [00:00<?, ?it/s]"
     ]
    },
    {
     "name": "stdout",
     "output_type": "stream",
     "text": [
      "Experiment:  332\n"
     ]
    },
    {
     "name": "stderr",
     "output_type": "stream",
     "text": [
      "iterations: 100%|██████████| 1000/1000 [00:00<00:00, 11863.40it/s]\n",
      "iterations: 100%|██████████| 1000/1000 [00:00<00:00, 12428.38it/s]\n",
      "iterations: 100%|██████████| 1000/1000 [00:00<00:00, 10258.41it/s]\n",
      "iterations: 100%|██████████| 1000/1000 [00:00<00:00, 10140.75it/s]"
     ]
    },
    {
     "name": "stdout",
     "output_type": "stream",
     "text": [
      "Experiment:  333\n"
     ]
    },
    {
     "name": "stderr",
     "output_type": "stream",
     "text": [
      "\n",
      "iterations: 100%|██████████| 1000/1000 [00:00<00:00, 10689.34it/s]\n",
      "iterations: 100%|██████████| 1000/1000 [00:00<00:00, 11690.46it/s]\n",
      "iterations: 100%|██████████| 1000/1000 [00:00<00:00, 9750.09it/s]\n",
      "iterations: 100%|██████████| 1000/1000 [00:00<00:00, 10856.93it/s]\n"
     ]
    },
    {
     "name": "stdout",
     "output_type": "stream",
     "text": [
      "Experiment:  334\n"
     ]
    },
    {
     "name": "stderr",
     "output_type": "stream",
     "text": [
      "iterations: 100%|██████████| 1000/1000 [00:00<00:00, 12234.39it/s]\n",
      "iterations: 100%|██████████| 1000/1000 [00:00<00:00, 12054.57it/s]\n",
      "iterations: 100%|██████████| 1000/1000 [00:00<00:00, 10092.04it/s]\n",
      "iterations: 100%|██████████| 1000/1000 [00:00<00:00, 10752.34it/s]\n",
      "iterations:   0%|          | 0/1000 [00:00<?, ?it/s]"
     ]
    },
    {
     "name": "stdout",
     "output_type": "stream",
     "text": [
      "Experiment:  335\n"
     ]
    },
    {
     "name": "stderr",
     "output_type": "stream",
     "text": [
      "iterations: 100%|██████████| 1000/1000 [00:00<00:00, 12710.51it/s]\n",
      "iterations: 100%|██████████| 1000/1000 [00:00<00:00, 12975.74it/s]\n",
      "iterations: 100%|██████████| 1000/1000 [00:00<00:00, 10919.88it/s]\n",
      "iterations:  61%|██████    | 610/1000 [00:00<00:00, 6093.86it/s]"
     ]
    },
    {
     "name": "stdout",
     "output_type": "stream",
     "text": [
      "Experiment:  336\n"
     ]
    },
    {
     "name": "stderr",
     "output_type": "stream",
     "text": [
      "iterations: 100%|██████████| 1000/1000 [00:00<00:00, 7115.68it/s]\n",
      "iterations: 100%|██████████| 1000/1000 [00:00<00:00, 8409.01it/s]\n",
      "iterations: 100%|██████████| 1000/1000 [00:00<00:00, 11710.83it/s]\n",
      "iterations: 100%|██████████| 1000/1000 [00:00<00:00, 7983.48it/s]\n",
      "iterations:   0%|          | 0/1000 [00:00<?, ?it/s]"
     ]
    },
    {
     "name": "stdout",
     "output_type": "stream",
     "text": [
      "Experiment:  337\n"
     ]
    },
    {
     "name": "stderr",
     "output_type": "stream",
     "text": [
      "iterations: 100%|██████████| 1000/1000 [00:00<00:00, 7213.29it/s]\n",
      "iterations: 100%|██████████| 1000/1000 [00:00<00:00, 12110.61it/s]\n",
      "iterations: 100%|██████████| 1000/1000 [00:00<00:00, 12770.73it/s]\n",
      "iterations: 100%|██████████| 1000/1000 [00:00<00:00, 11061.69it/s]\n",
      "iterations: 100%|██████████| 1000/1000 [00:00<00:00, 11073.72it/s]\n",
      "iterations:   0%|          | 0/1000 [00:00<?, ?it/s]"
     ]
    },
    {
     "name": "stdout",
     "output_type": "stream",
     "text": [
      "Experiment:  338\n"
     ]
    },
    {
     "name": "stderr",
     "output_type": "stream",
     "text": [
      "iterations: 100%|██████████| 1000/1000 [00:00<00:00, 12585.27it/s]\n",
      "iterations: 100%|██████████| 1000/1000 [00:00<00:00, 12726.52it/s]\n",
      "iterations: 100%|██████████| 1000/1000 [00:00<00:00, 7665.66it/s]\n",
      "iterations:   0%|          | 0/1000 [00:00<?, ?it/s]"
     ]
    },
    {
     "name": "stdout",
     "output_type": "stream",
     "text": [
      "Experiment:  339\n"
     ]
    },
    {
     "name": "stderr",
     "output_type": "stream",
     "text": [
      "iterations: 100%|██████████| 1000/1000 [00:00<00:00, 10789.96it/s]\n",
      "iterations: 100%|██████████| 1000/1000 [00:00<00:00, 12219.71it/s]\n",
      "iterations: 100%|██████████| 1000/1000 [00:00<00:00, 10267.98it/s]\n",
      "iterations: 100%|██████████| 1000/1000 [00:00<00:00, 9035.53it/s]\n",
      "iterations:   0%|          | 0/1000 [00:00<?, ?it/s]"
     ]
    },
    {
     "name": "stdout",
     "output_type": "stream",
     "text": [
      "Experiment:  340\n"
     ]
    },
    {
     "name": "stderr",
     "output_type": "stream",
     "text": [
      "iterations: 100%|██████████| 1000/1000 [00:00<00:00, 10163.43it/s]\n",
      "iterations: 100%|██████████| 1000/1000 [00:00<00:00, 12347.77it/s]\n",
      "iterations: 100%|██████████| 1000/1000 [00:00<00:00, 11376.05it/s]\n",
      "iterations: 100%|██████████| 1000/1000 [00:00<00:00, 10374.31it/s]\n",
      "iterations: 100%|██████████| 1000/1000 [00:00<00:00, 10710.77it/s]\n",
      "iterations:   0%|          | 0/1000 [00:00<?, ?it/s]"
     ]
    },
    {
     "name": "stdout",
     "output_type": "stream",
     "text": [
      "Experiment:  341\n"
     ]
    },
    {
     "name": "stderr",
     "output_type": "stream",
     "text": [
      "iterations: 100%|██████████| 1000/1000 [00:00<00:00, 11353.45it/s]\n",
      "iterations: 100%|██████████| 1000/1000 [00:00<00:00, 11380.74it/s]\n",
      "iterations: 100%|██████████| 1000/1000 [00:00<00:00, 9425.40it/s]\n",
      "iterations:   0%|          | 0/1000 [00:00<?, ?it/s]"
     ]
    },
    {
     "name": "stdout",
     "output_type": "stream",
     "text": [
      "Experiment:  342\n"
     ]
    },
    {
     "name": "stderr",
     "output_type": "stream",
     "text": [
      "iterations: 100%|██████████| 1000/1000 [00:00<00:00, 9216.33it/s]\n",
      "iterations: 100%|██████████| 1000/1000 [00:00<00:00, 11084.14it/s]\n",
      "iterations: 100%|██████████| 1000/1000 [00:00<00:00, 12310.44it/s]\n",
      "iterations: 100%|██████████| 1000/1000 [00:00<00:00, 10599.65it/s]\n",
      "iterations: 100%|██████████| 1000/1000 [00:00<00:00, 10895.48it/s]\n",
      "iterations:   0%|          | 0/1000 [00:00<?, ?it/s]"
     ]
    },
    {
     "name": "stdout",
     "output_type": "stream",
     "text": [
      "Experiment:  343\n"
     ]
    },
    {
     "name": "stderr",
     "output_type": "stream",
     "text": [
      "iterations: 100%|██████████| 1000/1000 [00:00<00:00, 10946.21it/s]\n",
      "iterations: 100%|██████████| 1000/1000 [00:00<00:00, 10232.90it/s]\n",
      "iterations: 100%|██████████| 1000/1000 [00:00<00:00, 6508.27it/s]\n",
      "iterations:   0%|          | 0/1000 [00:00<?, ?it/s]"
     ]
    },
    {
     "name": "stdout",
     "output_type": "stream",
     "text": [
      "Experiment:  344\n"
     ]
    },
    {
     "name": "stderr",
     "output_type": "stream",
     "text": [
      "iterations: 100%|██████████| 1000/1000 [00:00<00:00, 7463.80it/s]\n",
      "iterations: 100%|██████████| 1000/1000 [00:00<00:00, 6688.31it/s]\n",
      "iterations: 100%|██████████| 1000/1000 [00:00<00:00, 9366.47it/s]\n",
      "iterations: 100%|██████████| 1000/1000 [00:00<00:00, 9912.89it/s]\n",
      "iterations:   0%|          | 0/1000 [00:00<?, ?it/s]"
     ]
    },
    {
     "name": "stdout",
     "output_type": "stream",
     "text": [
      "Experiment:  345\n"
     ]
    },
    {
     "name": "stderr",
     "output_type": "stream",
     "text": [
      "iterations: 100%|██████████| 1000/1000 [00:00<00:00, 10273.48it/s]\n",
      "iterations: 100%|██████████| 1000/1000 [00:00<00:00, 10761.61it/s]\n",
      "iterations: 100%|██████████| 1000/1000 [00:00<00:00, 10053.10it/s]\n",
      "iterations: 100%|██████████| 1000/1000 [00:00<00:00, 8778.64it/s]\n",
      "iterations:   0%|          | 0/1000 [00:00<?, ?it/s]"
     ]
    },
    {
     "name": "stdout",
     "output_type": "stream",
     "text": [
      "Experiment:  346\n"
     ]
    },
    {
     "name": "stderr",
     "output_type": "stream",
     "text": [
      "iterations: 100%|██████████| 1000/1000 [00:00<00:00, 11300.59it/s]\n",
      "iterations: 100%|██████████| 1000/1000 [00:00<00:00, 13333.83it/s]\n",
      "iterations: 100%|██████████| 1000/1000 [00:00<00:00, 13441.43it/s]\n",
      "iterations: 100%|██████████| 1000/1000 [00:00<00:00, 11094.08it/s]\n",
      "iterations: 100%|██████████| 1000/1000 [00:00<00:00, 9333.60it/s]"
     ]
    },
    {
     "name": "stdout",
     "output_type": "stream",
     "text": [
      "Experiment:  347\n"
     ]
    },
    {
     "name": "stderr",
     "output_type": "stream",
     "text": [
      "\n",
      "iterations: 100%|██████████| 1000/1000 [00:00<00:00, 8803.30it/s]\n",
      "iterations: 100%|██████████| 1000/1000 [00:00<00:00, 6486.63it/s]\n",
      "iterations: 100%|██████████| 1000/1000 [00:00<00:00, 5745.38it/s]\n",
      "iterations:   0%|          | 0/1000 [00:00<?, ?it/s]"
     ]
    },
    {
     "name": "stdout",
     "output_type": "stream",
     "text": [
      "Experiment:  348\n"
     ]
    },
    {
     "name": "stderr",
     "output_type": "stream",
     "text": [
      "iterations: 100%|██████████| 1000/1000 [00:00<00:00, 7536.81it/s]\n",
      "iterations: 100%|██████████| 1000/1000 [00:00<00:00, 9738.14it/s]\n",
      "iterations: 100%|██████████| 1000/1000 [00:00<00:00, 11910.56it/s]\n",
      "iterations: 100%|██████████| 1000/1000 [00:00<00:00, 10900.64it/s]\n",
      "iterations: 100%|██████████| 1000/1000 [00:00<00:00, 10704.45it/s]\n",
      "iterations:   0%|          | 0/1000 [00:00<?, ?it/s]"
     ]
    },
    {
     "name": "stdout",
     "output_type": "stream",
     "text": [
      "Experiment:  349\n"
     ]
    },
    {
     "name": "stderr",
     "output_type": "stream",
     "text": [
      "iterations: 100%|██████████| 1000/1000 [00:00<00:00, 10608.96it/s]\n",
      "iterations: 100%|██████████| 1000/1000 [00:00<00:00, 10873.59it/s]\n",
      "iterations: 100%|██████████| 1000/1000 [00:00<00:00, 9660.71it/s]\n",
      "iterations:   0%|          | 0/1000 [00:00<?, ?it/s]"
     ]
    },
    {
     "name": "stdout",
     "output_type": "stream",
     "text": [
      "Experiment:  350\n"
     ]
    },
    {
     "name": "stderr",
     "output_type": "stream",
     "text": [
      "iterations: 100%|██████████| 1000/1000 [00:00<00:00, 8200.34it/s]\n",
      "iterations: 100%|██████████| 1000/1000 [00:00<00:00, 11395.74it/s]\n",
      "iterations: 100%|██████████| 1000/1000 [00:00<00:00, 8547.23it/s]\n",
      "iterations:  51%|█████     | 510/1000 [00:00<00:00, 5076.64it/s]"
     ]
    },
    {
     "name": "stdout",
     "output_type": "stream",
     "text": [
      "Experiment:  351\n"
     ]
    },
    {
     "name": "stderr",
     "output_type": "stream",
     "text": [
      "iterations: 100%|██████████| 1000/1000 [00:00<00:00, 4669.69it/s]\n",
      "iterations: 100%|██████████| 1000/1000 [00:00<00:00, 6744.53it/s]\n",
      "iterations: 100%|██████████| 1000/1000 [00:00<00:00, 8176.09it/s]\n",
      "iterations: 100%|██████████| 1000/1000 [00:00<00:00, 10131.39it/s]\n",
      "iterations: 100%|██████████| 1000/1000 [00:00<00:00, 5583.10it/s]\n",
      "iterations:   0%|          | 0/1000 [00:00<?, ?it/s]"
     ]
    },
    {
     "name": "stdout",
     "output_type": "stream",
     "text": [
      "Experiment:  352\n"
     ]
    },
    {
     "name": "stderr",
     "output_type": "stream",
     "text": [
      "iterations: 100%|██████████| 1000/1000 [00:00<00:00, 8696.25it/s]\n",
      "iterations: 100%|██████████| 1000/1000 [00:00<00:00, 10378.40it/s]\n",
      "iterations: 100%|██████████| 1000/1000 [00:00<00:00, 10235.53it/s]\n",
      "iterations: 100%|██████████| 1000/1000 [00:00<00:00, 9001.14it/s]\n",
      "iterations:   0%|          | 0/1000 [00:00<?, ?it/s]"
     ]
    },
    {
     "name": "stdout",
     "output_type": "stream",
     "text": [
      "Experiment:  353\n"
     ]
    },
    {
     "name": "stderr",
     "output_type": "stream",
     "text": [
      "iterations: 100%|██████████| 1000/1000 [00:00<00:00, 9107.04it/s]\n",
      "iterations: 100%|██████████| 1000/1000 [00:00<00:00, 8350.16it/s]\n",
      "iterations: 100%|██████████| 1000/1000 [00:00<00:00, 7598.43it/s]\n",
      "iterations: 100%|██████████| 1000/1000 [00:00<00:00, 7468.14it/s]\n",
      "iterations:   0%|          | 0/1000 [00:00<?, ?it/s]"
     ]
    },
    {
     "name": "stdout",
     "output_type": "stream",
     "text": [
      "Experiment:  354\n"
     ]
    },
    {
     "name": "stderr",
     "output_type": "stream",
     "text": [
      "iterations: 100%|██████████| 1000/1000 [00:00<00:00, 4300.97it/s]\n",
      "iterations: 100%|██████████| 1000/1000 [00:00<00:00, 10060.77it/s]\n",
      "iterations: 100%|██████████| 1000/1000 [00:00<00:00, 12392.21it/s]\n",
      "iterations: 100%|██████████| 1000/1000 [00:00<00:00, 11250.91it/s]\n",
      "iterations: 100%|██████████| 1000/1000 [00:00<00:00, 10516.02it/s]\n",
      "iterations:   0%|          | 0/1000 [00:00<?, ?it/s]"
     ]
    },
    {
     "name": "stdout",
     "output_type": "stream",
     "text": [
      "Experiment:  355\n"
     ]
    },
    {
     "name": "stderr",
     "output_type": "stream",
     "text": [
      "iterations: 100%|██████████| 1000/1000 [00:00<00:00, 11154.77it/s]\n",
      "iterations: 100%|██████████| 1000/1000 [00:00<00:00, 9490.11it/s]\n",
      "iterations: 100%|██████████| 1000/1000 [00:00<00:00, 9234.79it/s]\n",
      "iterations:   0%|          | 0/1000 [00:00<?, ?it/s]"
     ]
    },
    {
     "name": "stdout",
     "output_type": "stream",
     "text": [
      "Experiment:  356\n"
     ]
    },
    {
     "name": "stderr",
     "output_type": "stream",
     "text": [
      "iterations: 100%|██████████| 1000/1000 [00:00<00:00, 7746.72it/s]\n",
      "iterations: 100%|██████████| 1000/1000 [00:00<00:00, 10415.38it/s]\n",
      "iterations: 100%|██████████| 1000/1000 [00:00<00:00, 10924.77it/s]\n",
      "iterations: 100%|██████████| 1000/1000 [00:00<00:00, 9696.49it/s]\n",
      "iterations:   0%|          | 0/1000 [00:00<?, ?it/s]"
     ]
    },
    {
     "name": "stdout",
     "output_type": "stream",
     "text": [
      "Experiment:  357\n"
     ]
    },
    {
     "name": "stderr",
     "output_type": "stream",
     "text": [
      "iterations: 100%|██████████| 1000/1000 [00:00<00:00, 8048.49it/s]\n",
      "iterations: 100%|██████████| 1000/1000 [00:00<00:00, 9191.48it/s]\n",
      "iterations: 100%|██████████| 1000/1000 [00:00<00:00, 10652.36it/s]\n",
      "iterations: 100%|██████████| 1000/1000 [00:00<00:00, 8239.88it/s]\n",
      "iterations:   0%|          | 0/1000 [00:00<?, ?it/s]"
     ]
    },
    {
     "name": "stdout",
     "output_type": "stream",
     "text": [
      "Experiment:  358\n"
     ]
    },
    {
     "name": "stderr",
     "output_type": "stream",
     "text": [
      "iterations: 100%|██████████| 1000/1000 [00:00<00:00, 8172.96it/s]\n",
      "iterations: 100%|██████████| 1000/1000 [00:00<00:00, 9590.86it/s]\n",
      "iterations: 100%|██████████| 1000/1000 [00:00<00:00, 7110.19it/s]\n",
      "iterations: 100%|██████████| 1000/1000 [00:00<00:00, 7573.30it/s]\n",
      "iterations:   0%|          | 0/1000 [00:00<?, ?it/s]"
     ]
    },
    {
     "name": "stdout",
     "output_type": "stream",
     "text": [
      "Experiment:  359\n"
     ]
    },
    {
     "name": "stderr",
     "output_type": "stream",
     "text": [
      "iterations: 100%|██████████| 1000/1000 [00:00<00:00, 10658.37it/s]\n",
      "iterations: 100%|██████████| 1000/1000 [00:00<00:00, 11602.82it/s]\n",
      "iterations: 100%|██████████| 1000/1000 [00:00<00:00, 11187.82it/s]\n",
      "iterations: 100%|██████████| 1000/1000 [00:00<00:00, 9643.65it/s]\n",
      "iterations:   0%|          | 0/1000 [00:00<?, ?it/s]"
     ]
    },
    {
     "name": "stdout",
     "output_type": "stream",
     "text": [
      "Experiment:  360\n"
     ]
    },
    {
     "name": "stderr",
     "output_type": "stream",
     "text": [
      "iterations: 100%|██████████| 1000/1000 [00:00<00:00, 10163.75it/s]\n",
      "iterations: 100%|██████████| 1000/1000 [00:00<00:00, 13128.53it/s]\n",
      "iterations: 100%|██████████| 1000/1000 [00:00<00:00, 13563.18it/s]\n",
      "iterations: 100%|██████████| 1000/1000 [00:00<00:00, 9671.38it/s]\n",
      "iterations:   0%|          | 0/1000 [00:00<?, ?it/s]"
     ]
    },
    {
     "name": "stdout",
     "output_type": "stream",
     "text": [
      "Experiment:  361\n"
     ]
    },
    {
     "name": "stderr",
     "output_type": "stream",
     "text": [
      "iterations: 100%|██████████| 1000/1000 [00:00<00:00, 8760.55it/s]\n",
      "iterations: 100%|██████████| 1000/1000 [00:00<00:00, 9984.44it/s]\n",
      "iterations: 100%|██████████| 1000/1000 [00:00<00:00, 9234.39it/s]\n",
      "iterations: 100%|██████████| 1000/1000 [00:00<00:00, 6864.04it/s]\n",
      "iterations:   0%|          | 0/1000 [00:00<?, ?it/s]"
     ]
    },
    {
     "name": "stdout",
     "output_type": "stream",
     "text": [
      "Experiment:  362\n"
     ]
    },
    {
     "name": "stderr",
     "output_type": "stream",
     "text": [
      "iterations: 100%|██████████| 1000/1000 [00:00<00:00, 6837.71it/s]\n",
      "iterations: 100%|██████████| 1000/1000 [00:00<00:00, 7466.15it/s]\n",
      "iterations: 100%|██████████| 1000/1000 [00:00<00:00, 7898.01it/s]\n",
      "iterations: 100%|██████████| 1000/1000 [00:00<00:00, 9354.50it/s]\n",
      "iterations:   0%|          | 0/1000 [00:00<?, ?it/s]"
     ]
    },
    {
     "name": "stdout",
     "output_type": "stream",
     "text": [
      "Experiment:  363\n"
     ]
    },
    {
     "name": "stderr",
     "output_type": "stream",
     "text": [
      "iterations: 100%|██████████| 1000/1000 [00:00<00:00, 10827.08it/s]\n",
      "iterations: 100%|██████████| 1000/1000 [00:00<00:00, 6029.11it/s]\n",
      "iterations: 100%|██████████| 1000/1000 [00:00<00:00, 10805.80it/s]\n",
      "iterations: 100%|██████████| 1000/1000 [00:00<00:00, 8868.33it/s]\n",
      "iterations:   0%|          | 0/1000 [00:00<?, ?it/s]"
     ]
    },
    {
     "name": "stdout",
     "output_type": "stream",
     "text": [
      "Experiment:  364\n"
     ]
    },
    {
     "name": "stderr",
     "output_type": "stream",
     "text": [
      "iterations: 100%|██████████| 1000/1000 [00:00<00:00, 9353.41it/s]\n",
      "iterations: 100%|██████████| 1000/1000 [00:00<00:00, 13094.15it/s]\n",
      "iterations: 100%|██████████| 1000/1000 [00:00<00:00, 13318.29it/s]\n",
      "iterations: 100%|██████████| 1000/1000 [00:00<00:00, 10854.94it/s]\n",
      "iterations:  98%|█████████▊| 984/1000 [00:00<00:00, 9833.80it/s]"
     ]
    },
    {
     "name": "stdout",
     "output_type": "stream",
     "text": [
      "Experiment:  365\n"
     ]
    },
    {
     "name": "stderr",
     "output_type": "stream",
     "text": [
      "iterations: 100%|██████████| 1000/1000 [00:00<00:00, 9544.70it/s]\n",
      "iterations: 100%|██████████| 1000/1000 [00:00<00:00, 6943.61it/s]\n",
      "iterations: 100%|██████████| 1000/1000 [00:00<00:00, 6594.39it/s]\n",
      "iterations: 100%|██████████| 1000/1000 [00:00<00:00, 8244.85it/s]\n",
      "iterations:   0%|          | 0/1000 [00:00<?, ?it/s]"
     ]
    },
    {
     "name": "stdout",
     "output_type": "stream",
     "text": [
      "Experiment:  366\n"
     ]
    },
    {
     "name": "stderr",
     "output_type": "stream",
     "text": [
      "iterations: 100%|██████████| 1000/1000 [00:00<00:00, 8781.40it/s]\n",
      "iterations: 100%|██████████| 1000/1000 [00:00<00:00, 11302.60it/s]\n",
      "iterations: 100%|██████████| 1000/1000 [00:00<00:00, 11210.64it/s]\n",
      "iterations: 100%|██████████| 1000/1000 [00:00<00:00, 9343.60it/s]\n",
      "iterations:   0%|          | 0/1000 [00:00<?, ?it/s]"
     ]
    },
    {
     "name": "stdout",
     "output_type": "stream",
     "text": [
      "Experiment:  367\n"
     ]
    },
    {
     "name": "stderr",
     "output_type": "stream",
     "text": [
      "iterations: 100%|██████████| 1000/1000 [00:00<00:00, 9533.55it/s]\n",
      "iterations: 100%|██████████| 1000/1000 [00:00<00:00, 11743.68it/s]\n",
      "iterations: 100%|██████████| 1000/1000 [00:00<00:00, 11718.13it/s]\n",
      "iterations: 100%|██████████| 1000/1000 [00:00<00:00, 7162.72it/s]\n",
      "iterations:   0%|          | 0/1000 [00:00<?, ?it/s]"
     ]
    },
    {
     "name": "stdout",
     "output_type": "stream",
     "text": [
      "Experiment:  368\n"
     ]
    },
    {
     "name": "stderr",
     "output_type": "stream",
     "text": [
      "iterations: 100%|██████████| 1000/1000 [00:00<00:00, 6660.49it/s]\n",
      "iterations: 100%|██████████| 1000/1000 [00:00<00:00, 11013.62it/s]\n",
      "iterations: 100%|██████████| 1000/1000 [00:00<00:00, 10256.83it/s]\n",
      "iterations: 100%|██████████| 1000/1000 [00:00<00:00, 8671.45it/s]\n",
      "iterations:   0%|          | 0/1000 [00:00<?, ?it/s]"
     ]
    },
    {
     "name": "stdout",
     "output_type": "stream",
     "text": [
      "Experiment:  369\n"
     ]
    },
    {
     "name": "stderr",
     "output_type": "stream",
     "text": [
      "iterations: 100%|██████████| 1000/1000 [00:00<00:00, 6710.19it/s]\n",
      "iterations: 100%|██████████| 1000/1000 [00:00<00:00, 11955.61it/s]\n",
      "iterations: 100%|██████████| 1000/1000 [00:00<00:00, 12039.21it/s]\n",
      "iterations: 100%|██████████| 1000/1000 [00:00<00:00, 7871.04it/s]\n",
      "iterations:   0%|          | 0/1000 [00:00<?, ?it/s]"
     ]
    },
    {
     "name": "stdout",
     "output_type": "stream",
     "text": [
      "Experiment:  370\n"
     ]
    },
    {
     "name": "stderr",
     "output_type": "stream",
     "text": [
      "iterations: 100%|██████████| 1000/1000 [00:00<00:00, 8139.21it/s]\n",
      "iterations: 100%|██████████| 1000/1000 [00:00<00:00, 10961.06it/s]\n",
      "iterations: 100%|██████████| 1000/1000 [00:00<00:00, 11215.95it/s]\n",
      "iterations: 100%|██████████| 1000/1000 [00:00<00:00, 10372.62it/s]\n",
      "iterations: 100%|██████████| 1000/1000 [00:00<00:00, 10810.12it/s]\n",
      "iterations:   0%|          | 0/1000 [00:00<?, ?it/s]"
     ]
    },
    {
     "name": "stdout",
     "output_type": "stream",
     "text": [
      "Experiment:  371\n"
     ]
    },
    {
     "name": "stderr",
     "output_type": "stream",
     "text": [
      "iterations: 100%|██████████| 1000/1000 [00:00<00:00, 12351.63it/s]\n",
      "iterations: 100%|██████████| 1000/1000 [00:00<00:00, 12576.89it/s]\n",
      "iterations: 100%|██████████| 1000/1000 [00:00<00:00, 10406.93it/s]\n",
      "iterations: 100%|██████████| 1000/1000 [00:00<00:00, 10701.39it/s]\n",
      "iterations:   0%|          | 0/1000 [00:00<?, ?it/s]"
     ]
    },
    {
     "name": "stdout",
     "output_type": "stream",
     "text": [
      "Experiment:  372\n"
     ]
    },
    {
     "name": "stderr",
     "output_type": "stream",
     "text": [
      "iterations: 100%|██████████| 1000/1000 [00:00<00:00, 11872.83it/s]\n",
      "iterations: 100%|██████████| 1000/1000 [00:00<00:00, 11003.50it/s]\n",
      "iterations: 100%|██████████| 1000/1000 [00:00<00:00, 8846.13it/s]\n",
      "iterations:   0%|          | 0/1000 [00:00<?, ?it/s]"
     ]
    },
    {
     "name": "stdout",
     "output_type": "stream",
     "text": [
      "Experiment:  373\n"
     ]
    },
    {
     "name": "stderr",
     "output_type": "stream",
     "text": [
      "iterations: 100%|██████████| 1000/1000 [00:00<00:00, 7847.45it/s]\n",
      "iterations: 100%|██████████| 1000/1000 [00:00<00:00, 11465.92it/s]\n",
      "iterations: 100%|██████████| 1000/1000 [00:00<00:00, 10135.60it/s]\n",
      "iterations: 100%|██████████| 1000/1000 [00:00<00:00, 8533.23it/s]\n",
      "iterations:   0%|          | 0/1000 [00:00<?, ?it/s]"
     ]
    },
    {
     "name": "stdout",
     "output_type": "stream",
     "text": [
      "Experiment:  374\n"
     ]
    },
    {
     "name": "stderr",
     "output_type": "stream",
     "text": [
      "iterations: 100%|██████████| 1000/1000 [00:00<00:00, 10557.21it/s]\n",
      "iterations: 100%|██████████| 1000/1000 [00:00<00:00, 13864.23it/s]\n",
      "iterations: 100%|██████████| 1000/1000 [00:00<00:00, 13823.20it/s]\n",
      "iterations: 100%|██████████| 1000/1000 [00:00<00:00, 12239.60it/s]\n",
      "iterations: 100%|██████████| 1000/1000 [00:00<00:00, 10458.96it/s]\n",
      "iterations:   0%|          | 0/1000 [00:00<?, ?it/s]"
     ]
    },
    {
     "name": "stdout",
     "output_type": "stream",
     "text": [
      "Experiment:  375\n"
     ]
    },
    {
     "name": "stderr",
     "output_type": "stream",
     "text": [
      "iterations: 100%|██████████| 1000/1000 [00:00<00:00, 11335.71it/s]\n",
      "iterations: 100%|██████████| 1000/1000 [00:00<00:00, 11248.97it/s]\n",
      "iterations: 100%|██████████| 1000/1000 [00:00<00:00, 10946.70it/s]\n",
      "iterations: 100%|██████████| 1000/1000 [00:00<00:00, 11139.33it/s]\n",
      "iterations:   0%|          | 0/1000 [00:00<?, ?it/s]"
     ]
    },
    {
     "name": "stdout",
     "output_type": "stream",
     "text": [
      "Experiment:  376\n"
     ]
    },
    {
     "name": "stderr",
     "output_type": "stream",
     "text": [
      "iterations: 100%|██████████| 1000/1000 [00:00<00:00, 11254.53it/s]\n",
      "iterations: 100%|██████████| 1000/1000 [00:00<00:00, 12547.54it/s]\n",
      "iterations: 100%|██████████| 1000/1000 [00:00<00:00, 11030.82it/s]\n",
      "iterations: 100%|██████████| 1000/1000 [00:00<00:00, 11158.60it/s]\n",
      "iterations:   0%|          | 0/1000 [00:00<?, ?it/s]"
     ]
    },
    {
     "name": "stdout",
     "output_type": "stream",
     "text": [
      "Experiment:  377\n"
     ]
    },
    {
     "name": "stderr",
     "output_type": "stream",
     "text": [
      "iterations: 100%|██████████| 1000/1000 [00:00<00:00, 13248.17it/s]\n",
      "iterations: 100%|██████████| 1000/1000 [00:00<00:00, 13588.80it/s]\n",
      "iterations: 100%|██████████| 1000/1000 [00:00<00:00, 12205.55it/s]\n",
      "iterations: 100%|██████████| 1000/1000 [00:00<00:00, 11998.05it/s]\n",
      "iterations:   0%|          | 0/1000 [00:00<?, ?it/s]"
     ]
    },
    {
     "name": "stdout",
     "output_type": "stream",
     "text": [
      "Experiment:  378\n"
     ]
    },
    {
     "name": "stderr",
     "output_type": "stream",
     "text": [
      "iterations: 100%|██████████| 1000/1000 [00:00<00:00, 13248.04it/s]\n",
      "iterations: 100%|██████████| 1000/1000 [00:00<00:00, 13736.28it/s]\n",
      "iterations: 100%|██████████| 1000/1000 [00:00<00:00, 10630.14it/s]\n",
      "iterations:  81%|████████  | 810/1000 [00:00<00:00, 8094.66it/s]"
     ]
    },
    {
     "name": "stdout",
     "output_type": "stream",
     "text": [
      "Experiment:  379\n"
     ]
    },
    {
     "name": "stderr",
     "output_type": "stream",
     "text": [
      "iterations: 100%|██████████| 1000/1000 [00:00<00:00, 8457.16it/s]\n",
      "iterations: 100%|██████████| 1000/1000 [00:00<00:00, 8725.61it/s]\n",
      "iterations: 100%|██████████| 1000/1000 [00:00<00:00, 7562.71it/s]\n",
      "iterations: 100%|██████████| 1000/1000 [00:00<00:00, 7009.77it/s]\n",
      "iterations:   0%|          | 0/1000 [00:00<?, ?it/s]"
     ]
    },
    {
     "name": "stdout",
     "output_type": "stream",
     "text": [
      "Experiment:  380\n"
     ]
    },
    {
     "name": "stderr",
     "output_type": "stream",
     "text": [
      "iterations: 100%|██████████| 1000/1000 [00:00<00:00, 7782.94it/s]\n",
      "iterations: 100%|██████████| 1000/1000 [00:00<00:00, 10540.04it/s]\n",
      "iterations: 100%|██████████| 1000/1000 [00:00<00:00, 9663.98it/s]\n",
      "iterations: 100%|██████████| 1000/1000 [00:00<00:00, 7917.10it/s]\n",
      "iterations:   0%|          | 0/1000 [00:00<?, ?it/s]"
     ]
    },
    {
     "name": "stdout",
     "output_type": "stream",
     "text": [
      "Experiment:  381\n"
     ]
    },
    {
     "name": "stderr",
     "output_type": "stream",
     "text": [
      "iterations: 100%|██████████| 1000/1000 [00:00<00:00, 11518.35it/s]\n",
      "iterations: 100%|██████████| 1000/1000 [00:00<00:00, 11678.03it/s]\n",
      "iterations: 100%|██████████| 1000/1000 [00:00<00:00, 10949.78it/s]\n",
      "iterations: 100%|██████████| 1000/1000 [00:00<00:00, 11485.39it/s]\n",
      "iterations: 100%|██████████| 1000/1000 [00:00<00:00, 11934.18it/s]\n",
      "iterations:   0%|          | 0/1000 [00:00<?, ?it/s]"
     ]
    },
    {
     "name": "stdout",
     "output_type": "stream",
     "text": [
      "Experiment:  382\n"
     ]
    },
    {
     "name": "stderr",
     "output_type": "stream",
     "text": [
      "iterations: 100%|██████████| 1000/1000 [00:00<00:00, 13738.03it/s]\n",
      "iterations: 100%|██████████| 1000/1000 [00:00<00:00, 13888.65it/s]\n",
      "iterations: 100%|██████████| 1000/1000 [00:00<00:00, 12204.35it/s]\n",
      "iterations: 100%|██████████| 1000/1000 [00:00<00:00, 11567.62it/s]\n",
      "iterations:   0%|          | 0/1000 [00:00<?, ?it/s]"
     ]
    },
    {
     "name": "stdout",
     "output_type": "stream",
     "text": [
      "Experiment:  383\n"
     ]
    },
    {
     "name": "stderr",
     "output_type": "stream",
     "text": [
      "iterations: 100%|██████████| 1000/1000 [00:00<00:00, 11725.96it/s]\n",
      "iterations: 100%|██████████| 1000/1000 [00:00<00:00, 10934.71it/s]\n",
      "iterations: 100%|██████████| 1000/1000 [00:00<00:00, 5093.51it/s]\n",
      "iterations:   0%|          | 0/1000 [00:00<?, ?it/s]"
     ]
    },
    {
     "name": "stdout",
     "output_type": "stream",
     "text": [
      "Experiment:  384\n"
     ]
    },
    {
     "name": "stderr",
     "output_type": "stream",
     "text": [
      "iterations: 100%|██████████| 1000/1000 [00:00<00:00, 11282.44it/s]\n",
      "iterations: 100%|██████████| 1000/1000 [00:00<00:00, 12421.09it/s]\n",
      "iterations: 100%|██████████| 1000/1000 [00:00<00:00, 11389.77it/s]\n",
      "iterations: 100%|██████████| 1000/1000 [00:00<00:00, 9298.52it/s]\n",
      "iterations: 100%|██████████| 1000/1000 [00:00<00:00, 12118.69it/s]\n",
      "iterations:   0%|          | 0/1000 [00:00<?, ?it/s]"
     ]
    },
    {
     "name": "stdout",
     "output_type": "stream",
     "text": [
      "Experiment:  385\n"
     ]
    },
    {
     "name": "stderr",
     "output_type": "stream",
     "text": [
      "iterations: 100%|██████████| 1000/1000 [00:00<00:00, 13669.08it/s]\n",
      "iterations: 100%|██████████| 1000/1000 [00:00<00:00, 13098.56it/s]\n",
      "iterations: 100%|██████████| 1000/1000 [00:00<00:00, 10915.13it/s]\n",
      "iterations: 100%|██████████| 1000/1000 [00:00<00:00, 11038.98it/s]\n",
      "iterations:   0%|          | 0/1000 [00:00<?, ?it/s]"
     ]
    },
    {
     "name": "stdout",
     "output_type": "stream",
     "text": [
      "Experiment:  386\n"
     ]
    },
    {
     "name": "stderr",
     "output_type": "stream",
     "text": [
      "iterations: 100%|██████████| 1000/1000 [00:00<00:00, 12025.16it/s]\n",
      "iterations: 100%|██████████| 1000/1000 [00:00<00:00, 14155.93it/s]\n",
      "iterations: 100%|██████████| 1000/1000 [00:00<00:00, 12272.34it/s]\n",
      "iterations: 100%|██████████| 1000/1000 [00:00<00:00, 11243.31it/s]\n",
      "iterations:   0%|          | 0/1000 [00:00<?, ?it/s]"
     ]
    },
    {
     "name": "stdout",
     "output_type": "stream",
     "text": [
      "Experiment:  387\n"
     ]
    },
    {
     "name": "stderr",
     "output_type": "stream",
     "text": [
      "iterations: 100%|██████████| 1000/1000 [00:00<00:00, 9230.91it/s]\n",
      "iterations: 100%|██████████| 1000/1000 [00:00<00:00, 10481.65it/s]\n",
      "iterations: 100%|██████████| 1000/1000 [00:00<00:00, 10024.34it/s]\n",
      "iterations:   0%|          | 0/1000 [00:00<?, ?it/s]"
     ]
    },
    {
     "name": "stdout",
     "output_type": "stream",
     "text": [
      "Experiment:  388\n"
     ]
    },
    {
     "name": "stderr",
     "output_type": "stream",
     "text": [
      "iterations: 100%|██████████| 1000/1000 [00:00<00:00, 10617.52it/s]\n",
      "iterations: 100%|██████████| 1000/1000 [00:00<00:00, 13884.65it/s]\n",
      "iterations: 100%|██████████| 1000/1000 [00:00<00:00, 13890.03it/s]\n",
      "iterations: 100%|██████████| 1000/1000 [00:00<00:00, 11850.63it/s]\n",
      "iterations: 100%|██████████| 1000/1000 [00:00<00:00, 11852.54it/s]\n",
      "iterations:   0%|          | 0/1000 [00:00<?, ?it/s]"
     ]
    },
    {
     "name": "stdout",
     "output_type": "stream",
     "text": [
      "Experiment:  389\n"
     ]
    },
    {
     "name": "stderr",
     "output_type": "stream",
     "text": [
      "iterations: 100%|██████████| 1000/1000 [00:00<00:00, 11791.46it/s]\n",
      "iterations: 100%|██████████| 1000/1000 [00:00<00:00, 10488.30it/s]\n",
      "iterations: 100%|██████████| 1000/1000 [00:00<00:00, 8836.94it/s]\n",
      "iterations:   0%|          | 0/1000 [00:00<?, ?it/s]"
     ]
    },
    {
     "name": "stdout",
     "output_type": "stream",
     "text": [
      "Experiment:  390\n"
     ]
    },
    {
     "name": "stderr",
     "output_type": "stream",
     "text": [
      "iterations: 100%|██████████| 1000/1000 [00:00<00:00, 11638.62it/s]\n",
      "iterations: 100%|██████████| 1000/1000 [00:00<00:00, 13762.51it/s]\n",
      "iterations: 100%|██████████| 1000/1000 [00:00<00:00, 13053.64it/s]\n",
      "iterations: 100%|██████████| 1000/1000 [00:00<00:00, 12087.12it/s]\n",
      "iterations: 100%|██████████| 1000/1000 [00:00<00:00, 12337.17it/s]\n",
      "iterations:   0%|          | 0/1000 [00:00<?, ?it/s]"
     ]
    },
    {
     "name": "stdout",
     "output_type": "stream",
     "text": [
      "Experiment:  391\n"
     ]
    },
    {
     "name": "stderr",
     "output_type": "stream",
     "text": [
      "iterations: 100%|██████████| 1000/1000 [00:00<00:00, 13803.32it/s]\n",
      "iterations: 100%|██████████| 1000/1000 [00:00<00:00, 14028.19it/s]\n",
      "iterations: 100%|██████████| 1000/1000 [00:00<00:00, 12211.20it/s]\n",
      "iterations: 100%|██████████| 1000/1000 [00:00<00:00, 12218.21it/s]\n",
      "iterations:   0%|          | 0/1000 [00:00<?, ?it/s]"
     ]
    },
    {
     "name": "stdout",
     "output_type": "stream",
     "text": [
      "Experiment:  392\n"
     ]
    },
    {
     "name": "stderr",
     "output_type": "stream",
     "text": [
      "iterations: 100%|██████████| 1000/1000 [00:00<00:00, 11665.07it/s]\n",
      "iterations: 100%|██████████| 1000/1000 [00:00<00:00, 14058.57it/s]\n",
      "iterations: 100%|██████████| 1000/1000 [00:00<00:00, 10443.88it/s]\n",
      "iterations:  81%|████████  | 807/1000 [00:00<00:00, 8056.56it/s]"
     ]
    },
    {
     "name": "stdout",
     "output_type": "stream",
     "text": [
      "Experiment:  393\n"
     ]
    },
    {
     "name": "stderr",
     "output_type": "stream",
     "text": [
      "iterations: 100%|██████████| 1000/1000 [00:00<00:00, 7391.09it/s]\n",
      "iterations: 100%|██████████| 1000/1000 [00:00<00:00, 10701.83it/s]\n",
      "iterations: 100%|██████████| 1000/1000 [00:00<00:00, 11886.26it/s]\n",
      "iterations: 100%|██████████| 1000/1000 [00:00<00:00, 10304.07it/s]\n",
      "iterations: 100%|██████████| 1000/1000 [00:00<00:00, 10979.13it/s]\n",
      "iterations:   0%|          | 0/1000 [00:00<?, ?it/s]"
     ]
    },
    {
     "name": "stdout",
     "output_type": "stream",
     "text": [
      "Experiment:  394\n"
     ]
    },
    {
     "name": "stderr",
     "output_type": "stream",
     "text": [
      "iterations: 100%|██████████| 1000/1000 [00:00<00:00, 11971.31it/s]\n",
      "iterations: 100%|██████████| 1000/1000 [00:00<00:00, 13977.80it/s]\n",
      "iterations: 100%|██████████| 1000/1000 [00:00<00:00, 12076.58it/s]\n",
      "iterations: 100%|██████████| 1000/1000 [00:00<00:00, 11001.42it/s]\n",
      "iterations:   0%|          | 0/1000 [00:00<?, ?it/s]"
     ]
    },
    {
     "name": "stdout",
     "output_type": "stream",
     "text": [
      "Experiment:  395\n"
     ]
    },
    {
     "name": "stderr",
     "output_type": "stream",
     "text": [
      "iterations: 100%|██████████| 1000/1000 [00:00<00:00, 11334.24it/s]\n",
      "iterations: 100%|██████████| 1000/1000 [00:00<00:00, 9160.03it/s]\n",
      "iterations: 100%|██████████| 1000/1000 [00:00<00:00, 9726.60it/s]\n",
      "iterations: 100%|██████████| 1000/1000 [00:00<00:00, 11304.91it/s]\n",
      "iterations:   0%|          | 0/1000 [00:00<?, ?it/s]"
     ]
    },
    {
     "name": "stdout",
     "output_type": "stream",
     "text": [
      "Experiment:  396\n"
     ]
    },
    {
     "name": "stderr",
     "output_type": "stream",
     "text": [
      "iterations: 100%|██████████| 1000/1000 [00:00<00:00, 13041.54it/s]\n",
      "iterations: 100%|██████████| 1000/1000 [00:00<00:00, 13793.65it/s]\n",
      "iterations: 100%|██████████| 1000/1000 [00:00<00:00, 11013.56it/s]\n",
      "iterations:  88%|████████▊ | 877/1000 [00:00<00:00, 8765.18it/s]"
     ]
    },
    {
     "name": "stdout",
     "output_type": "stream",
     "text": [
      "Experiment:  397\n"
     ]
    },
    {
     "name": "stderr",
     "output_type": "stream",
     "text": [
      "iterations: 100%|██████████| 1000/1000 [00:00<00:00, 8772.07it/s]\n",
      "iterations: 100%|██████████| 1000/1000 [00:00<00:00, 11098.80it/s]\n",
      "iterations: 100%|██████████| 1000/1000 [00:00<00:00, 13441.99it/s]\n",
      "iterations: 100%|██████████| 1000/1000 [00:00<00:00, 11788.71it/s]\n",
      "iterations: 100%|██████████| 1000/1000 [00:00<00:00, 11487.94it/s]\n",
      "iterations:   0%|          | 0/1000 [00:00<?, ?it/s]"
     ]
    },
    {
     "name": "stdout",
     "output_type": "stream",
     "text": [
      "Experiment:  398\n"
     ]
    },
    {
     "name": "stderr",
     "output_type": "stream",
     "text": [
      "iterations: 100%|██████████| 1000/1000 [00:00<00:00, 12173.74it/s]\n",
      "iterations: 100%|██████████| 1000/1000 [00:00<00:00, 12454.84it/s]\n",
      "iterations: 100%|██████████| 1000/1000 [00:00<00:00, 10046.84it/s]\n",
      "iterations: 100%|██████████| 1000/1000 [00:00<00:00, 11373.18it/s]\n",
      "iterations:   0%|          | 0/1000 [00:00<?, ?it/s]"
     ]
    },
    {
     "name": "stdout",
     "output_type": "stream",
     "text": [
      "Experiment:  399\n"
     ]
    },
    {
     "name": "stderr",
     "output_type": "stream",
     "text": [
      "iterations: 100%|██████████| 1000/1000 [00:00<00:00, 10020.44it/s]\n",
      "iterations: 100%|██████████| 1000/1000 [00:00<00:00, 11712.92it/s]\n",
      "iterations: 100%|██████████| 1000/1000 [00:00<00:00, 9853.58it/s]\n",
      "iterations: 100%|██████████| 1000/1000 [00:00<00:00, 10637.15it/s]"
     ]
    },
    {
     "name": "stdout",
     "output_type": "stream",
     "text": [
      "Experiment:  400\n"
     ]
    },
    {
     "name": "stderr",
     "output_type": "stream",
     "text": [
      "\n",
      "iterations: 100%|██████████| 1000/1000 [00:00<00:00, 11343.50it/s]\n",
      "iterations: 100%|██████████| 1000/1000 [00:00<00:00, 11457.00it/s]\n",
      "iterations: 100%|██████████| 1000/1000 [00:00<00:00, 8557.99it/s]\n",
      "iterations:   0%|          | 0/1000 [00:00<?, ?it/s]"
     ]
    },
    {
     "name": "stdout",
     "output_type": "stream",
     "text": [
      "Experiment:  401\n"
     ]
    },
    {
     "name": "stderr",
     "output_type": "stream",
     "text": [
      "iterations: 100%|██████████| 1000/1000 [00:00<00:00, 11283.78it/s]\n",
      "iterations: 100%|██████████| 1000/1000 [00:00<00:00, 13639.04it/s]\n",
      "iterations: 100%|██████████| 1000/1000 [00:00<00:00, 13962.82it/s]\n",
      "iterations: 100%|██████████| 1000/1000 [00:00<00:00, 12267.24it/s]\n",
      "iterations: 100%|██████████| 1000/1000 [00:00<00:00, 11805.26it/s]\n",
      "iterations:   0%|          | 0/1000 [00:00<?, ?it/s]"
     ]
    },
    {
     "name": "stdout",
     "output_type": "stream",
     "text": [
      "Experiment:  402\n"
     ]
    },
    {
     "name": "stderr",
     "output_type": "stream",
     "text": [
      "iterations: 100%|██████████| 1000/1000 [00:00<00:00, 13469.27it/s]\n",
      "iterations: 100%|██████████| 1000/1000 [00:00<00:00, 12970.20it/s]\n",
      "iterations: 100%|██████████| 1000/1000 [00:00<00:00, 10056.93it/s]\n",
      "iterations:   0%|          | 0/1000 [00:00<?, ?it/s]"
     ]
    },
    {
     "name": "stdout",
     "output_type": "stream",
     "text": [
      "Experiment:  403\n"
     ]
    },
    {
     "name": "stderr",
     "output_type": "stream",
     "text": [
      "iterations: 100%|██████████| 1000/1000 [00:00<00:00, 9963.26it/s]\n",
      "iterations: 100%|██████████| 1000/1000 [00:00<00:00, 12195.72it/s]\n",
      "iterations: 100%|██████████| 1000/1000 [00:00<00:00, 11613.62it/s]\n",
      "iterations: 100%|██████████| 1000/1000 [00:00<00:00, 6844.95it/s]\n",
      "iterations:   0%|          | 0/1000 [00:00<?, ?it/s]"
     ]
    },
    {
     "name": "stdout",
     "output_type": "stream",
     "text": [
      "Experiment:  404\n"
     ]
    },
    {
     "name": "stderr",
     "output_type": "stream",
     "text": [
      "iterations: 100%|██████████| 1000/1000 [00:00<00:00, 9994.91it/s]\n",
      "iterations: 100%|██████████| 1000/1000 [00:00<00:00, 12712.48it/s]\n",
      "iterations: 100%|██████████| 1000/1000 [00:00<00:00, 11274.71it/s]\n",
      "iterations: 100%|██████████| 1000/1000 [00:00<00:00, 9149.28it/s]\n",
      "iterations:   0%|          | 0/1000 [00:00<?, ?it/s]"
     ]
    },
    {
     "name": "stdout",
     "output_type": "stream",
     "text": [
      "Experiment:  405\n"
     ]
    },
    {
     "name": "stderr",
     "output_type": "stream",
     "text": [
      "iterations: 100%|██████████| 1000/1000 [00:00<00:00, 9763.35it/s]\n",
      "iterations: 100%|██████████| 1000/1000 [00:00<00:00, 11222.34it/s]\n",
      "iterations: 100%|██████████| 1000/1000 [00:00<00:00, 9414.70it/s]\n",
      "iterations: 100%|██████████| 1000/1000 [00:00<00:00, 11181.08it/s]\n",
      "iterations: 100%|██████████| 1000/1000 [00:00<00:00, 11445.71it/s]\n",
      "iterations:   0%|          | 0/1000 [00:00<?, ?it/s]"
     ]
    },
    {
     "name": "stdout",
     "output_type": "stream",
     "text": [
      "Experiment:  406\n"
     ]
    },
    {
     "name": "stderr",
     "output_type": "stream",
     "text": [
      "iterations: 100%|██████████| 1000/1000 [00:00<00:00, 12122.13it/s]\n",
      "iterations: 100%|██████████| 1000/1000 [00:00<00:00, 12738.50it/s]\n",
      "iterations: 100%|██████████| 1000/1000 [00:00<00:00, 11327.20it/s]\n",
      "iterations: 100%|██████████| 1000/1000 [00:00<00:00, 10261.34it/s]\n",
      "iterations:   0%|          | 0/1000 [00:00<?, ?it/s]"
     ]
    },
    {
     "name": "stdout",
     "output_type": "stream",
     "text": [
      "Experiment:  407\n"
     ]
    },
    {
     "name": "stderr",
     "output_type": "stream",
     "text": [
      "iterations: 100%|██████████| 1000/1000 [00:00<00:00, 11197.23it/s]\n",
      "iterations: 100%|██████████| 1000/1000 [00:00<00:00, 12547.09it/s]\n",
      "iterations: 100%|██████████| 1000/1000 [00:00<00:00, 11507.89it/s]\n",
      "iterations: 100%|██████████| 1000/1000 [00:00<00:00, 11401.10it/s]\n",
      "iterations:   0%|          | 0/1000 [00:00<?, ?it/s]"
     ]
    },
    {
     "name": "stdout",
     "output_type": "stream",
     "text": [
      "Experiment:  408\n"
     ]
    },
    {
     "name": "stderr",
     "output_type": "stream",
     "text": [
      "iterations: 100%|██████████| 1000/1000 [00:00<00:00, 13007.29it/s]\n",
      "iterations: 100%|██████████| 1000/1000 [00:00<00:00, 13191.21it/s]\n",
      "iterations: 100%|██████████| 1000/1000 [00:00<00:00, 11578.48it/s]\n",
      "iterations: 100%|██████████| 1000/1000 [00:00<00:00, 11126.57it/s]\n",
      "iterations:   0%|          | 0/1000 [00:00<?, ?it/s]"
     ]
    },
    {
     "name": "stdout",
     "output_type": "stream",
     "text": [
      "Experiment:  409\n"
     ]
    },
    {
     "name": "stderr",
     "output_type": "stream",
     "text": [
      "iterations: 100%|██████████| 1000/1000 [00:00<00:00, 11954.56it/s]\n",
      "iterations: 100%|██████████| 1000/1000 [00:00<00:00, 12331.26it/s]\n",
      "iterations: 100%|██████████| 1000/1000 [00:00<00:00, 11170.60it/s]\n",
      "iterations: 100%|██████████| 1000/1000 [00:00<00:00, 10809.84it/s]\n",
      "iterations:   0%|          | 0/1000 [00:00<?, ?it/s]"
     ]
    },
    {
     "name": "stdout",
     "output_type": "stream",
     "text": [
      "Experiment:  410\n"
     ]
    },
    {
     "name": "stderr",
     "output_type": "stream",
     "text": [
      "iterations: 100%|██████████| 1000/1000 [00:00<00:00, 11558.28it/s]\n",
      "iterations: 100%|██████████| 1000/1000 [00:00<00:00, 11868.47it/s]\n",
      "iterations: 100%|██████████| 1000/1000 [00:00<00:00, 10454.76it/s]\n",
      "iterations:  89%|████████▉ | 888/1000 [00:00<00:00, 8875.65it/s]"
     ]
    },
    {
     "name": "stdout",
     "output_type": "stream",
     "text": [
      "Experiment:  411\n"
     ]
    },
    {
     "name": "stderr",
     "output_type": "stream",
     "text": [
      "iterations: 100%|██████████| 1000/1000 [00:00<00:00, 8889.61it/s]\n",
      "iterations: 100%|██████████| 1000/1000 [00:00<00:00, 11335.28it/s]\n",
      "iterations: 100%|██████████| 1000/1000 [00:00<00:00, 11401.84it/s]\n",
      "iterations: 100%|██████████| 1000/1000 [00:00<00:00, 10301.64it/s]\n",
      "iterations:   0%|          | 0/1000 [00:00<?, ?it/s]"
     ]
    },
    {
     "name": "stdout",
     "output_type": "stream",
     "text": [
      "Experiment:  412\n"
     ]
    },
    {
     "name": "stderr",
     "output_type": "stream",
     "text": [
      "iterations: 100%|██████████| 1000/1000 [00:00<00:00, 9960.35it/s]\n",
      "iterations: 100%|██████████| 1000/1000 [00:00<00:00, 9426.99it/s]\n",
      "iterations: 100%|██████████| 1000/1000 [00:00<00:00, 10318.01it/s]\n",
      "iterations: 100%|██████████| 1000/1000 [00:00<00:00, 8121.76it/s]\n",
      "iterations:   0%|          | 0/1000 [00:00<?, ?it/s]"
     ]
    },
    {
     "name": "stdout",
     "output_type": "stream",
     "text": [
      "Experiment:  413\n"
     ]
    },
    {
     "name": "stderr",
     "output_type": "stream",
     "text": [
      "iterations: 100%|██████████| 1000/1000 [00:00<00:00, 8110.23it/s]\n",
      "iterations: 100%|██████████| 1000/1000 [00:00<00:00, 9217.36it/s]\n",
      "iterations: 100%|██████████| 1000/1000 [00:00<00:00, 11210.01it/s]\n",
      "iterations: 100%|██████████| 1000/1000 [00:00<00:00, 9649.35it/s]\n",
      "iterations:   0%|          | 0/1000 [00:00<?, ?it/s]"
     ]
    },
    {
     "name": "stdout",
     "output_type": "stream",
     "text": [
      "Experiment:  414\n"
     ]
    },
    {
     "name": "stderr",
     "output_type": "stream",
     "text": [
      "iterations: 100%|██████████| 1000/1000 [00:00<00:00, 10665.42it/s]\n",
      "iterations: 100%|██████████| 1000/1000 [00:00<00:00, 12362.77it/s]\n",
      "iterations: 100%|██████████| 1000/1000 [00:00<00:00, 12157.93it/s]\n",
      "iterations: 100%|██████████| 1000/1000 [00:00<00:00, 10927.16it/s]\n",
      "iterations: 100%|██████████| 1000/1000 [00:00<00:00, 10791.45it/s]\n",
      "iterations:   0%|          | 0/1000 [00:00<?, ?it/s]"
     ]
    },
    {
     "name": "stdout",
     "output_type": "stream",
     "text": [
      "Experiment:  415\n"
     ]
    },
    {
     "name": "stderr",
     "output_type": "stream",
     "text": [
      "iterations: 100%|██████████| 1000/1000 [00:00<00:00, 12259.10it/s]\n",
      "iterations: 100%|██████████| 1000/1000 [00:00<00:00, 11846.81it/s]\n",
      "iterations: 100%|██████████| 1000/1000 [00:00<00:00, 10924.32it/s]\n",
      "iterations: 100%|██████████| 1000/1000 [00:00<00:00, 11037.53it/s]\n",
      "iterations:   0%|          | 0/1000 [00:00<?, ?it/s]"
     ]
    },
    {
     "name": "stdout",
     "output_type": "stream",
     "text": [
      "Experiment:  416\n"
     ]
    },
    {
     "name": "stderr",
     "output_type": "stream",
     "text": [
      "iterations: 100%|██████████| 1000/1000 [00:00<00:00, 11474.33it/s]\n",
      "iterations: 100%|██████████| 1000/1000 [00:00<00:00, 12023.85it/s]\n",
      "iterations: 100%|██████████| 1000/1000 [00:00<00:00, 9142.42it/s]\n",
      "iterations:   0%|          | 0/1000 [00:00<?, ?it/s]"
     ]
    },
    {
     "name": "stdout",
     "output_type": "stream",
     "text": [
      "Experiment:  417\n"
     ]
    },
    {
     "name": "stderr",
     "output_type": "stream",
     "text": [
      "iterations: 100%|██████████| 1000/1000 [00:00<00:00, 9036.53it/s]\n",
      "iterations: 100%|██████████| 1000/1000 [00:00<00:00, 10454.55it/s]\n",
      "iterations: 100%|██████████| 1000/1000 [00:00<00:00, 10725.61it/s]\n",
      "iterations: 100%|██████████| 1000/1000 [00:00<00:00, 7679.32it/s]\n",
      "iterations:   0%|          | 0/1000 [00:00<?, ?it/s]"
     ]
    },
    {
     "name": "stdout",
     "output_type": "stream",
     "text": [
      "Experiment:  418\n"
     ]
    },
    {
     "name": "stderr",
     "output_type": "stream",
     "text": [
      "iterations: 100%|██████████| 1000/1000 [00:00<00:00, 11897.25it/s]\n",
      "iterations: 100%|██████████| 1000/1000 [00:00<00:00, 12646.70it/s]\n",
      "iterations: 100%|██████████| 1000/1000 [00:00<00:00, 10996.98it/s]\n",
      "iterations: 100%|██████████| 1000/1000 [00:00<00:00, 9751.36it/s]\n",
      "iterations: 100%|██████████| 1000/1000 [00:00<00:00, 11621.79it/s]\n",
      "iterations:   0%|          | 0/1000 [00:00<?, ?it/s]"
     ]
    },
    {
     "name": "stdout",
     "output_type": "stream",
     "text": [
      "Experiment:  419\n"
     ]
    },
    {
     "name": "stderr",
     "output_type": "stream",
     "text": [
      "iterations: 100%|██████████| 1000/1000 [00:00<00:00, 13844.10it/s]\n",
      "iterations: 100%|██████████| 1000/1000 [00:00<00:00, 11579.44it/s]\n",
      "iterations: 100%|██████████| 1000/1000 [00:00<00:00, 12196.01it/s]\n",
      "iterations: 100%|██████████| 1000/1000 [00:00<00:00, 12165.30it/s]\n",
      "iterations:   0%|          | 0/1000 [00:00<?, ?it/s]"
     ]
    },
    {
     "name": "stdout",
     "output_type": "stream",
     "text": [
      "Experiment:  420\n"
     ]
    },
    {
     "name": "stderr",
     "output_type": "stream",
     "text": [
      "iterations: 100%|██████████| 1000/1000 [00:00<00:00, 13125.58it/s]\n",
      "iterations: 100%|██████████| 1000/1000 [00:00<00:00, 11070.50it/s]\n",
      "iterations: 100%|██████████| 1000/1000 [00:00<00:00, 9654.26it/s]\n",
      "iterations:   0%|          | 0/1000 [00:00<?, ?it/s]"
     ]
    },
    {
     "name": "stdout",
     "output_type": "stream",
     "text": [
      "Experiment:  421\n"
     ]
    },
    {
     "name": "stderr",
     "output_type": "stream",
     "text": [
      "iterations: 100%|██████████| 1000/1000 [00:00<00:00, 9392.77it/s]\n",
      "iterations: 100%|██████████| 1000/1000 [00:00<00:00, 11785.10it/s]\n",
      "iterations: 100%|██████████| 1000/1000 [00:00<00:00, 11324.79it/s]\n",
      "iterations: 100%|██████████| 1000/1000 [00:00<00:00, 9999.79it/s]\n",
      "iterations:   0%|          | 0/1000 [00:00<?, ?it/s]"
     ]
    },
    {
     "name": "stdout",
     "output_type": "stream",
     "text": [
      "Experiment:  422\n"
     ]
    },
    {
     "name": "stderr",
     "output_type": "stream",
     "text": [
      "iterations: 100%|██████████| 1000/1000 [00:00<00:00, 9948.59it/s]\n",
      "iterations: 100%|██████████| 1000/1000 [00:00<00:00, 12088.24it/s]\n",
      "iterations: 100%|██████████| 1000/1000 [00:00<00:00, 13862.12it/s]\n",
      "iterations: 100%|██████████| 1000/1000 [00:00<00:00, 9332.00it/s]\n",
      "iterations: 100%|██████████| 1000/1000 [00:00<00:00, 11537.62it/s]\n"
     ]
    },
    {
     "name": "stdout",
     "output_type": "stream",
     "text": [
      "Experiment:  423\n"
     ]
    },
    {
     "name": "stderr",
     "output_type": "stream",
     "text": [
      "iterations: 100%|██████████| 1000/1000 [00:00<00:00, 12803.44it/s]\n",
      "iterations: 100%|██████████| 1000/1000 [00:00<00:00, 12577.53it/s]\n",
      "iterations: 100%|██████████| 1000/1000 [00:00<00:00, 11089.44it/s]\n",
      "iterations:  74%|███████▍  | 742/1000 [00:00<00:00, 7419.62it/s]"
     ]
    },
    {
     "name": "stdout",
     "output_type": "stream",
     "text": [
      "Experiment:  424\n"
     ]
    },
    {
     "name": "stderr",
     "output_type": "stream",
     "text": [
      "iterations: 100%|██████████| 1000/1000 [00:00<00:00, 7193.98it/s]\n",
      "iterations: 100%|██████████| 1000/1000 [00:00<00:00, 7738.67it/s]\n",
      "iterations: 100%|██████████| 1000/1000 [00:00<00:00, 11519.02it/s]\n",
      "iterations: 100%|██████████| 1000/1000 [00:00<00:00, 10167.17it/s]\n",
      "iterations: 100%|██████████| 1000/1000 [00:00<00:00, 10682.15it/s]\n",
      "iterations:   0%|          | 0/1000 [00:00<?, ?it/s]"
     ]
    },
    {
     "name": "stdout",
     "output_type": "stream",
     "text": [
      "Experiment:  425\n"
     ]
    },
    {
     "name": "stderr",
     "output_type": "stream",
     "text": [
      "iterations: 100%|██████████| 1000/1000 [00:00<00:00, 11275.71it/s]\n",
      "iterations: 100%|██████████| 1000/1000 [00:00<00:00, 10873.09it/s]\n",
      "iterations: 100%|██████████| 1000/1000 [00:00<00:00, 9049.45it/s]\n",
      "iterations:   0%|          | 0/1000 [00:00<?, ?it/s]"
     ]
    },
    {
     "name": "stdout",
     "output_type": "stream",
     "text": [
      "Experiment:  426\n"
     ]
    },
    {
     "name": "stderr",
     "output_type": "stream",
     "text": [
      "iterations: 100%|██████████| 1000/1000 [00:00<00:00, 11591.09it/s]\n",
      "iterations: 100%|██████████| 1000/1000 [00:00<00:00, 13226.44it/s]\n",
      "iterations: 100%|██████████| 1000/1000 [00:00<00:00, 12541.05it/s]\n",
      "iterations: 100%|██████████| 1000/1000 [00:00<00:00, 10299.49it/s]\n",
      "iterations:   0%|          | 0/1000 [00:00<?, ?it/s]"
     ]
    },
    {
     "name": "stdout",
     "output_type": "stream",
     "text": [
      "Experiment:  427\n"
     ]
    },
    {
     "name": "stderr",
     "output_type": "stream",
     "text": [
      "iterations: 100%|██████████| 1000/1000 [00:00<00:00, 9433.97it/s]\n",
      "iterations: 100%|██████████| 1000/1000 [00:00<00:00, 12035.27it/s]\n",
      "iterations: 100%|██████████| 1000/1000 [00:00<00:00, 11536.03it/s]\n",
      "iterations: 100%|██████████| 1000/1000 [00:00<00:00, 10018.83it/s]\n",
      "iterations:   0%|          | 0/1000 [00:00<?, ?it/s]"
     ]
    },
    {
     "name": "stdout",
     "output_type": "stream",
     "text": [
      "Experiment:  428\n"
     ]
    },
    {
     "name": "stderr",
     "output_type": "stream",
     "text": [
      "iterations: 100%|██████████| 1000/1000 [00:00<00:00, 9426.84it/s]\n",
      "iterations: 100%|██████████| 1000/1000 [00:00<00:00, 11712.33it/s]\n",
      "iterations: 100%|██████████| 1000/1000 [00:00<00:00, 11216.04it/s]\n",
      "iterations: 100%|██████████| 1000/1000 [00:00<00:00, 10213.25it/s]\n",
      "iterations: 100%|██████████| 1000/1000 [00:00<00:00, 11277.92it/s]\n",
      "iterations:   0%|          | 0/1000 [00:00<?, ?it/s]"
     ]
    },
    {
     "name": "stdout",
     "output_type": "stream",
     "text": [
      "Experiment:  429\n"
     ]
    },
    {
     "name": "stderr",
     "output_type": "stream",
     "text": [
      "iterations: 100%|██████████| 1000/1000 [00:00<00:00, 12450.03it/s]\n",
      "iterations: 100%|██████████| 1000/1000 [00:00<00:00, 11520.47it/s]\n",
      "iterations: 100%|██████████| 1000/1000 [00:00<00:00, 9398.41it/s]\n",
      "iterations:   0%|          | 0/1000 [00:00<?, ?it/s]"
     ]
    },
    {
     "name": "stdout",
     "output_type": "stream",
     "text": [
      "Experiment:  430\n"
     ]
    },
    {
     "name": "stderr",
     "output_type": "stream",
     "text": [
      "iterations: 100%|██████████| 1000/1000 [00:00<00:00, 11190.06it/s]\n",
      "iterations: 100%|██████████| 1000/1000 [00:00<00:00, 13328.33it/s]\n",
      "iterations: 100%|██████████| 1000/1000 [00:00<00:00, 12172.40it/s]\n",
      "iterations: 100%|██████████| 1000/1000 [00:00<00:00, 10090.61it/s]\n",
      "iterations: 100%|██████████| 1000/1000 [00:00<00:00, 10297.09it/s]"
     ]
    },
    {
     "name": "stdout",
     "output_type": "stream",
     "text": [
      "Experiment:  431\n"
     ]
    },
    {
     "name": "stderr",
     "output_type": "stream",
     "text": [
      "\n",
      "iterations: 100%|██████████| 1000/1000 [00:00<00:00, 13883.92it/s]\n",
      "iterations: 100%|██████████| 1000/1000 [00:00<00:00, 12296.98it/s]\n",
      "iterations: 100%|██████████| 1000/1000 [00:00<00:00, 11711.75it/s]\n",
      "iterations: 100%|██████████| 1000/1000 [00:00<00:00, 11446.74it/s]\n",
      "iterations:   0%|          | 0/1000 [00:00<?, ?it/s]"
     ]
    },
    {
     "name": "stdout",
     "output_type": "stream",
     "text": [
      "Experiment:  432\n"
     ]
    },
    {
     "name": "stderr",
     "output_type": "stream",
     "text": [
      "iterations: 100%|██████████| 1000/1000 [00:00<00:00, 13612.48it/s]\n",
      "iterations: 100%|██████████| 1000/1000 [00:00<00:00, 14008.52it/s]\n",
      "iterations: 100%|██████████| 1000/1000 [00:00<00:00, 11443.62it/s]\n",
      "iterations: 100%|██████████| 1000/1000 [00:00<00:00, 12085.45it/s]\n",
      "iterations:   0%|          | 0/1000 [00:00<?, ?it/s]"
     ]
    },
    {
     "name": "stdout",
     "output_type": "stream",
     "text": [
      "Experiment:  433\n"
     ]
    },
    {
     "name": "stderr",
     "output_type": "stream",
     "text": [
      "iterations: 100%|██████████| 1000/1000 [00:00<00:00, 13664.77it/s]\n",
      "iterations: 100%|██████████| 1000/1000 [00:00<00:00, 13901.04it/s]\n",
      "iterations: 100%|██████████| 1000/1000 [00:00<00:00, 12119.32it/s]\n",
      "iterations: 100%|██████████| 1000/1000 [00:00<00:00, 12219.39it/s]\n",
      "iterations:   0%|          | 0/1000 [00:00<?, ?it/s]"
     ]
    },
    {
     "name": "stdout",
     "output_type": "stream",
     "text": [
      "Experiment:  434\n"
     ]
    },
    {
     "name": "stderr",
     "output_type": "stream",
     "text": [
      "iterations: 100%|██████████| 1000/1000 [00:00<00:00, 13793.29it/s]\n",
      "iterations: 100%|██████████| 1000/1000 [00:00<00:00, 14187.63it/s]\n",
      "iterations: 100%|██████████| 1000/1000 [00:00<00:00, 12174.80it/s]\n",
      "iterations: 100%|██████████| 1000/1000 [00:00<00:00, 12360.18it/s]\n",
      "iterations:   0%|          | 0/1000 [00:00<?, ?it/s]"
     ]
    },
    {
     "name": "stdout",
     "output_type": "stream",
     "text": [
      "Experiment:  435\n"
     ]
    },
    {
     "name": "stderr",
     "output_type": "stream",
     "text": [
      "iterations: 100%|██████████| 1000/1000 [00:00<00:00, 13792.38it/s]\n",
      "iterations: 100%|██████████| 1000/1000 [00:00<00:00, 14107.94it/s]\n",
      "iterations: 100%|██████████| 1000/1000 [00:00<00:00, 12282.43it/s]\n",
      "iterations: 100%|██████████| 1000/1000 [00:00<00:00, 12032.27it/s]\n",
      "iterations:   0%|          | 0/1000 [00:00<?, ?it/s]"
     ]
    },
    {
     "name": "stdout",
     "output_type": "stream",
     "text": [
      "Experiment:  436\n"
     ]
    },
    {
     "name": "stderr",
     "output_type": "stream",
     "text": [
      "iterations: 100%|██████████| 1000/1000 [00:00<00:00, 10483.61it/s]\n",
      "iterations: 100%|██████████| 1000/1000 [00:00<00:00, 11107.27it/s]\n",
      "iterations: 100%|██████████| 1000/1000 [00:00<00:00, 11513.70it/s]\n",
      "iterations: 100%|██████████| 1000/1000 [00:00<00:00, 11611.59it/s]\n",
      "iterations:   0%|          | 0/1000 [00:00<?, ?it/s]"
     ]
    },
    {
     "name": "stdout",
     "output_type": "stream",
     "text": [
      "Experiment:  437\n"
     ]
    },
    {
     "name": "stderr",
     "output_type": "stream",
     "text": [
      "iterations: 100%|██████████| 1000/1000 [00:00<00:00, 13233.25it/s]\n",
      "iterations: 100%|██████████| 1000/1000 [00:00<00:00, 12157.76it/s]\n",
      "iterations: 100%|██████████| 1000/1000 [00:00<00:00, 11128.66it/s]\n",
      "iterations: 100%|██████████| 1000/1000 [00:00<00:00, 11703.41it/s]\n",
      "iterations:   0%|          | 0/1000 [00:00<?, ?it/s]"
     ]
    },
    {
     "name": "stdout",
     "output_type": "stream",
     "text": [
      "Experiment:  438\n"
     ]
    },
    {
     "name": "stderr",
     "output_type": "stream",
     "text": [
      "iterations: 100%|██████████| 1000/1000 [00:00<00:00, 13688.45it/s]\n",
      "iterations: 100%|██████████| 1000/1000 [00:00<00:00, 12040.18it/s]\n",
      "iterations: 100%|██████████| 1000/1000 [00:00<00:00, 11612.43it/s]\n",
      "iterations: 100%|██████████| 1000/1000 [00:00<00:00, 11241.77it/s]\n",
      "iterations:   0%|          | 0/1000 [00:00<?, ?it/s]"
     ]
    },
    {
     "name": "stdout",
     "output_type": "stream",
     "text": [
      "Experiment:  439\n"
     ]
    },
    {
     "name": "stderr",
     "output_type": "stream",
     "text": [
      "iterations: 100%|██████████| 1000/1000 [00:00<00:00, 13357.36it/s]\n",
      "iterations: 100%|██████████| 1000/1000 [00:00<00:00, 13352.26it/s]\n",
      "iterations: 100%|██████████| 1000/1000 [00:00<00:00, 12151.84it/s]\n",
      "iterations: 100%|██████████| 1000/1000 [00:00<00:00, 12119.11it/s]\n",
      "iterations:   0%|          | 0/1000 [00:00<?, ?it/s]"
     ]
    },
    {
     "name": "stdout",
     "output_type": "stream",
     "text": [
      "Experiment:  440\n"
     ]
    },
    {
     "name": "stderr",
     "output_type": "stream",
     "text": [
      "iterations: 100%|██████████| 1000/1000 [00:00<00:00, 12215.68it/s]\n",
      "iterations: 100%|██████████| 1000/1000 [00:00<00:00, 13570.37it/s]\n",
      "iterations: 100%|██████████| 1000/1000 [00:00<00:00, 11396.42it/s]\n",
      "iterations: 100%|██████████| 1000/1000 [00:00<00:00, 11777.49it/s]\n",
      "iterations:   0%|          | 0/1000 [00:00<?, ?it/s]"
     ]
    },
    {
     "name": "stdout",
     "output_type": "stream",
     "text": [
      "Experiment:  441\n"
     ]
    },
    {
     "name": "stderr",
     "output_type": "stream",
     "text": [
      "iterations: 100%|██████████| 1000/1000 [00:00<00:00, 13272.61it/s]\n",
      "iterations: 100%|██████████| 1000/1000 [00:00<00:00, 12345.81it/s]\n",
      "iterations: 100%|██████████| 1000/1000 [00:00<00:00, 10820.30it/s]\n",
      "iterations: 100%|██████████| 1000/1000 [00:00<00:00, 10635.70it/s]\n",
      "iterations:   0%|          | 0/1000 [00:00<?, ?it/s]"
     ]
    },
    {
     "name": "stdout",
     "output_type": "stream",
     "text": [
      "Experiment:  442\n"
     ]
    },
    {
     "name": "stderr",
     "output_type": "stream",
     "text": [
      "iterations: 100%|██████████| 1000/1000 [00:00<00:00, 10166.31it/s]\n",
      "iterations: 100%|██████████| 1000/1000 [00:00<00:00, 13722.89it/s]\n",
      "iterations: 100%|██████████| 1000/1000 [00:00<00:00, 6114.00it/s]\n",
      "iterations:   0%|          | 0/1000 [00:00<?, ?it/s]"
     ]
    },
    {
     "name": "stdout",
     "output_type": "stream",
     "text": [
      "Experiment:  443\n"
     ]
    },
    {
     "name": "stderr",
     "output_type": "stream",
     "text": [
      "iterations: 100%|██████████| 1000/1000 [00:00<00:00, 6057.62it/s]\n",
      "iterations: 100%|██████████| 1000/1000 [00:00<00:00, 11704.26it/s]\n",
      "iterations: 100%|██████████| 1000/1000 [00:00<00:00, 12813.14it/s]\n",
      "iterations: 100%|██████████| 1000/1000 [00:00<00:00, 11334.55it/s]\n",
      "iterations:  68%|██████▊   | 685/1000 [00:00<00:00, 6758.97it/s]"
     ]
    },
    {
     "name": "stdout",
     "output_type": "stream",
     "text": [
      "Experiment:  444\n"
     ]
    },
    {
     "name": "stderr",
     "output_type": "stream",
     "text": [
      "iterations: 100%|██████████| 1000/1000 [00:00<00:00, 6071.72it/s]\n",
      "iterations: 100%|██████████| 1000/1000 [00:00<00:00, 8231.95it/s]\n",
      "iterations: 100%|██████████| 1000/1000 [00:00<00:00, 10991.22it/s]\n",
      "iterations: 100%|██████████| 1000/1000 [00:00<00:00, 8097.94it/s]\n",
      "iterations:   0%|          | 0/1000 [00:00<?, ?it/s]"
     ]
    },
    {
     "name": "stdout",
     "output_type": "stream",
     "text": [
      "Experiment:  445\n"
     ]
    },
    {
     "name": "stderr",
     "output_type": "stream",
     "text": [
      "iterations: 100%|██████████| 1000/1000 [00:00<00:00, 5614.92it/s]\n",
      "iterations: 100%|██████████| 1000/1000 [00:00<00:00, 6276.88it/s]\n",
      "iterations: 100%|██████████| 1000/1000 [00:00<00:00, 9506.43it/s]\n",
      "iterations: 100%|██████████| 1000/1000 [00:00<00:00, 10389.91it/s]\n",
      "iterations:   0%|          | 0/1000 [00:00<?, ?it/s]"
     ]
    },
    {
     "name": "stdout",
     "output_type": "stream",
     "text": [
      "Experiment:  446\n"
     ]
    },
    {
     "name": "stderr",
     "output_type": "stream",
     "text": [
      "iterations: 100%|██████████| 1000/1000 [00:00<00:00, 8496.84it/s]\n",
      "iterations: 100%|██████████| 1000/1000 [00:00<00:00, 11053.64it/s]\n",
      "iterations: 100%|██████████| 1000/1000 [00:00<00:00, 13016.81it/s]\n",
      "iterations: 100%|██████████| 1000/1000 [00:00<00:00, 11154.86it/s]\n",
      "iterations: 100%|██████████| 1000/1000 [00:00<00:00, 11047.41it/s]\n",
      "iterations:   0%|          | 0/1000 [00:00<?, ?it/s]"
     ]
    },
    {
     "name": "stdout",
     "output_type": "stream",
     "text": [
      "Experiment:  447\n"
     ]
    },
    {
     "name": "stderr",
     "output_type": "stream",
     "text": [
      "iterations: 100%|██████████| 1000/1000 [00:00<00:00, 12726.87it/s]\n",
      "iterations: 100%|██████████| 1000/1000 [00:00<00:00, 12418.96it/s]\n",
      "iterations: 100%|██████████| 1000/1000 [00:00<00:00, 11532.06it/s]\n",
      "iterations: 100%|██████████| 1000/1000 [00:00<00:00, 11620.73it/s]\n",
      "iterations:   0%|          | 0/1000 [00:00<?, ?it/s]"
     ]
    },
    {
     "name": "stdout",
     "output_type": "stream",
     "text": [
      "Experiment:  448\n"
     ]
    },
    {
     "name": "stderr",
     "output_type": "stream",
     "text": [
      "iterations: 100%|██████████| 1000/1000 [00:00<00:00, 13255.24it/s]\n",
      "iterations: 100%|██████████| 1000/1000 [00:00<00:00, 10536.52it/s]\n",
      "iterations: 100%|██████████| 1000/1000 [00:00<00:00, 8878.00it/s]\n",
      "iterations:   0%|          | 0/1000 [00:00<?, ?it/s]"
     ]
    },
    {
     "name": "stdout",
     "output_type": "stream",
     "text": [
      "Experiment:  449\n"
     ]
    },
    {
     "name": "stderr",
     "output_type": "stream",
     "text": [
      "iterations: 100%|██████████| 1000/1000 [00:00<00:00, 11137.82it/s]\n",
      "iterations: 100%|██████████| 1000/1000 [00:00<00:00, 12895.75it/s]\n",
      "iterations: 100%|██████████| 1000/1000 [00:00<00:00, 12985.18it/s]\n",
      "iterations: 100%|██████████| 1000/1000 [00:00<00:00, 11367.36it/s]\n",
      "iterations: 100%|██████████| 1000/1000 [00:00<00:00, 11593.14it/s]\n",
      "iterations:   0%|          | 0/1000 [00:00<?, ?it/s]"
     ]
    },
    {
     "name": "stdout",
     "output_type": "stream",
     "text": [
      "Experiment:  450\n"
     ]
    },
    {
     "name": "stderr",
     "output_type": "stream",
     "text": [
      "iterations: 100%|██████████| 1000/1000 [00:00<00:00, 7954.95it/s]\n",
      "iterations: 100%|██████████| 1000/1000 [00:00<00:00, 12003.07it/s]\n",
      "iterations: 100%|██████████| 1000/1000 [00:00<00:00, 9348.16it/s]\n",
      "iterations:   0%|          | 0/1000 [00:00<?, ?it/s]"
     ]
    },
    {
     "name": "stdout",
     "output_type": "stream",
     "text": [
      "Experiment:  451\n"
     ]
    },
    {
     "name": "stderr",
     "output_type": "stream",
     "text": [
      "iterations: 100%|██████████| 1000/1000 [00:00<00:00, 5789.08it/s]\n",
      "iterations: 100%|██████████| 1000/1000 [00:00<00:00, 7038.24it/s]\n",
      "iterations: 100%|██████████| 1000/1000 [00:00<00:00, 8089.51it/s]\n",
      "iterations: 100%|██████████| 1000/1000 [00:00<00:00, 8270.95it/s]\n",
      "iterations:   0%|          | 0/1000 [00:00<?, ?it/s]"
     ]
    },
    {
     "name": "stdout",
     "output_type": "stream",
     "text": [
      "Experiment:  452\n"
     ]
    },
    {
     "name": "stderr",
     "output_type": "stream",
     "text": [
      "iterations: 100%|██████████| 1000/1000 [00:00<00:00, 10966.59it/s]\n",
      "iterations: 100%|██████████| 1000/1000 [00:00<00:00, 11124.83it/s]\n",
      "iterations: 100%|██████████| 1000/1000 [00:00<00:00, 13741.36it/s]\n",
      "iterations: 100%|██████████| 1000/1000 [00:00<00:00, 12293.16it/s]\n",
      "iterations:  81%|████████  | 809/1000 [00:00<00:00, 8088.14it/s]"
     ]
    },
    {
     "name": "stdout",
     "output_type": "stream",
     "text": [
      "Experiment:  453\n"
     ]
    },
    {
     "name": "stderr",
     "output_type": "stream",
     "text": [
      "iterations: 100%|██████████| 1000/1000 [00:00<00:00, 8279.30it/s]\n",
      "iterations: 100%|██████████| 1000/1000 [00:00<00:00, 11084.61it/s]\n",
      "iterations: 100%|██████████| 1000/1000 [00:00<00:00, 11787.35it/s]\n",
      "iterations: 100%|██████████| 1000/1000 [00:00<00:00, 11751.81it/s]\n",
      "iterations: 100%|██████████| 1000/1000 [00:00<00:00, 12089.39it/s]\n",
      "iterations:   0%|          | 0/1000 [00:00<?, ?it/s]"
     ]
    },
    {
     "name": "stdout",
     "output_type": "stream",
     "text": [
      "Experiment:  454\n"
     ]
    },
    {
     "name": "stderr",
     "output_type": "stream",
     "text": [
      "iterations: 100%|██████████| 1000/1000 [00:00<00:00, 12731.27it/s]\n",
      "iterations: 100%|██████████| 1000/1000 [00:00<00:00, 13401.92it/s]\n",
      "iterations: 100%|██████████| 1000/1000 [00:00<00:00, 12103.90it/s]\n",
      "iterations: 100%|██████████| 1000/1000 [00:00<00:00, 11517.28it/s]\n",
      "iterations:   0%|          | 0/1000 [00:00<?, ?it/s]"
     ]
    },
    {
     "name": "stdout",
     "output_type": "stream",
     "text": [
      "Experiment:  455\n"
     ]
    },
    {
     "name": "stderr",
     "output_type": "stream",
     "text": [
      "iterations: 100%|██████████| 1000/1000 [00:00<00:00, 12802.93it/s]\n",
      "iterations: 100%|██████████| 1000/1000 [00:00<00:00, 13096.89it/s]\n",
      "iterations: 100%|██████████| 1000/1000 [00:00<00:00, 11637.49it/s]\n",
      "iterations: 100%|██████████| 1000/1000 [00:00<00:00, 12254.19it/s]\n",
      "iterations:   0%|          | 0/1000 [00:00<?, ?it/s]"
     ]
    },
    {
     "name": "stdout",
     "output_type": "stream",
     "text": [
      "Experiment:  456\n"
     ]
    },
    {
     "name": "stderr",
     "output_type": "stream",
     "text": [
      "iterations: 100%|██████████| 1000/1000 [00:00<00:00, 13246.50it/s]\n",
      "iterations: 100%|██████████| 1000/1000 [00:00<00:00, 13139.76it/s]\n",
      "iterations: 100%|██████████| 1000/1000 [00:00<00:00, 11450.68it/s]\n",
      "iterations: 100%|██████████| 1000/1000 [00:00<00:00, 11798.16it/s]\n",
      "iterations:   0%|          | 0/1000 [00:00<?, ?it/s]"
     ]
    },
    {
     "name": "stdout",
     "output_type": "stream",
     "text": [
      "Experiment:  457\n"
     ]
    },
    {
     "name": "stderr",
     "output_type": "stream",
     "text": [
      "iterations: 100%|██████████| 1000/1000 [00:00<00:00, 13260.32it/s]\n",
      "iterations: 100%|██████████| 1000/1000 [00:00<00:00, 11985.51it/s]\n",
      "iterations: 100%|██████████| 1000/1000 [00:00<00:00, 7245.85it/s]\n",
      "iterations:   0%|          | 0/1000 [00:00<?, ?it/s]"
     ]
    },
    {
     "name": "stdout",
     "output_type": "stream",
     "text": [
      "Experiment:  458\n"
     ]
    },
    {
     "name": "stderr",
     "output_type": "stream",
     "text": [
      "iterations: 100%|██████████| 1000/1000 [00:00<00:00, 10407.81it/s]\n",
      "iterations: 100%|██████████| 1000/1000 [00:00<00:00, 8983.69it/s]\n",
      "iterations: 100%|██████████| 1000/1000 [00:00<00:00, 11039.24it/s]\n",
      "iterations: 100%|██████████| 1000/1000 [00:00<00:00, 9673.99it/s]\n",
      "iterations: 100%|██████████| 1000/1000 [00:00<00:00, 11294.96it/s]\n"
     ]
    },
    {
     "name": "stdout",
     "output_type": "stream",
     "text": [
      "Experiment:  459\n"
     ]
    },
    {
     "name": "stderr",
     "output_type": "stream",
     "text": [
      "iterations: 100%|██████████| 1000/1000 [00:00<00:00, 11879.29it/s]\n",
      "iterations: 100%|██████████| 1000/1000 [00:00<00:00, 12654.56it/s]\n",
      "iterations: 100%|██████████| 1000/1000 [00:00<00:00, 9059.13it/s]\n",
      "iterations:   0%|          | 0/1000 [00:00<?, ?it/s]"
     ]
    },
    {
     "name": "stdout",
     "output_type": "stream",
     "text": [
      "Experiment:  460\n"
     ]
    },
    {
     "name": "stderr",
     "output_type": "stream",
     "text": [
      "iterations: 100%|██████████| 1000/1000 [00:00<00:00, 9468.10it/s]\n",
      "iterations: 100%|██████████| 1000/1000 [00:00<00:00, 11636.82it/s]\n",
      "iterations: 100%|██████████| 1000/1000 [00:00<00:00, 13799.41it/s]\n",
      "iterations: 100%|██████████| 1000/1000 [00:00<00:00, 10700.22it/s]\n",
      "iterations: 100%|██████████| 1000/1000 [00:00<00:00, 11138.86it/s]\n",
      "iterations:   0%|          | 0/1000 [00:00<?, ?it/s]"
     ]
    },
    {
     "name": "stdout",
     "output_type": "stream",
     "text": [
      "Experiment:  461\n"
     ]
    },
    {
     "name": "stderr",
     "output_type": "stream",
     "text": [
      "iterations: 100%|██████████| 1000/1000 [00:00<00:00, 11555.70it/s]\n",
      "iterations: 100%|██████████| 1000/1000 [00:00<00:00, 10609.41it/s]\n",
      "iterations: 100%|██████████| 1000/1000 [00:00<00:00, 7727.12it/s]\n",
      "iterations:   0%|          | 0/1000 [00:00<?, ?it/s]"
     ]
    },
    {
     "name": "stdout",
     "output_type": "stream",
     "text": [
      "Experiment:  462\n"
     ]
    },
    {
     "name": "stderr",
     "output_type": "stream",
     "text": [
      "iterations: 100%|██████████| 1000/1000 [00:00<00:00, 6556.65it/s]\n",
      "iterations: 100%|██████████| 1000/1000 [00:00<00:00, 5464.66it/s]\n",
      "iterations: 100%|██████████| 1000/1000 [00:00<00:00, 6170.67it/s]\n",
      "iterations:  40%|████      | 400/1000 [00:00<00:00, 3998.53it/s]"
     ]
    },
    {
     "name": "stdout",
     "output_type": "stream",
     "text": [
      "Experiment:  463\n"
     ]
    },
    {
     "name": "stderr",
     "output_type": "stream",
     "text": [
      "iterations: 100%|██████████| 1000/1000 [00:00<00:00, 3847.10it/s]\n",
      "iterations: 100%|██████████| 1000/1000 [00:00<00:00, 5090.67it/s]\n",
      "iterations: 100%|██████████| 1000/1000 [00:00<00:00, 2786.41it/s]\n",
      "iterations: 100%|██████████| 1000/1000 [00:00<00:00, 4487.35it/s]\n",
      "iterations:  23%|██▎       | 229/1000 [00:00<00:00, 1522.44it/s]"
     ]
    },
    {
     "name": "stdout",
     "output_type": "stream",
     "text": [
      "Experiment:  464\n"
     ]
    },
    {
     "name": "stderr",
     "output_type": "stream",
     "text": [
      "iterations: 100%|██████████| 1000/1000 [00:00<00:00, 3351.49it/s]\n",
      "iterations: 100%|██████████| 1000/1000 [00:00<00:00, 5541.70it/s]\n",
      "iterations: 100%|██████████| 1000/1000 [00:00<00:00, 9191.50it/s]\n",
      "iterations: 100%|██████████| 1000/1000 [00:00<00:00, 10593.23it/s]\n",
      "iterations: 100%|██████████| 1000/1000 [00:00<00:00, 10085.01it/s]\n",
      "iterations:   0%|          | 0/1000 [00:00<?, ?it/s]"
     ]
    },
    {
     "name": "stdout",
     "output_type": "stream",
     "text": [
      "Experiment:  465\n"
     ]
    },
    {
     "name": "stderr",
     "output_type": "stream",
     "text": [
      "iterations: 100%|██████████| 1000/1000 [00:00<00:00, 7037.20it/s]\n",
      "iterations: 100%|██████████| 1000/1000 [00:00<00:00, 7407.41it/s]\n",
      "iterations: 100%|██████████| 1000/1000 [00:00<00:00, 6619.62it/s]\n",
      "iterations:  15%|█▌        | 153/1000 [00:00<00:00, 1528.98it/s]"
     ]
    },
    {
     "name": "stdout",
     "output_type": "stream",
     "text": [
      "Experiment:  466\n"
     ]
    },
    {
     "name": "stderr",
     "output_type": "stream",
     "text": [
      "iterations: 100%|██████████| 1000/1000 [00:00<00:00, 3764.18it/s]\n",
      "iterations: 100%|██████████| 1000/1000 [00:00<00:00, 6777.45it/s]\n",
      "iterations: 100%|██████████| 1000/1000 [00:00<00:00, 12341.52it/s]\n",
      "iterations: 100%|██████████| 1000/1000 [00:00<00:00, 10152.70it/s]\n",
      "iterations: 100%|██████████| 1000/1000 [00:00<00:00, 6168.87it/s]\n",
      "iterations:   0%|          | 0/1000 [00:00<?, ?it/s]"
     ]
    },
    {
     "name": "stdout",
     "output_type": "stream",
     "text": [
      "Experiment:  467\n"
     ]
    },
    {
     "name": "stderr",
     "output_type": "stream",
     "text": [
      "iterations: 100%|██████████| 1000/1000 [00:00<00:00, 6133.43it/s]\n",
      "iterations: 100%|██████████| 1000/1000 [00:00<00:00, 12290.78it/s]\n",
      "iterations: 100%|██████████| 1000/1000 [00:00<00:00, 12214.79it/s]\n",
      "iterations: 100%|██████████| 1000/1000 [00:00<00:00, 11040.55it/s]\n",
      "iterations: 100%|██████████| 1000/1000 [00:00<00:00, 10374.96it/s]\n",
      "iterations:   0%|          | 0/1000 [00:00<?, ?it/s]"
     ]
    },
    {
     "name": "stdout",
     "output_type": "stream",
     "text": [
      "Experiment:  468\n"
     ]
    },
    {
     "name": "stderr",
     "output_type": "stream",
     "text": [
      "iterations: 100%|██████████| 1000/1000 [00:00<00:00, 10376.75it/s]\n",
      "iterations: 100%|██████████| 1000/1000 [00:00<00:00, 11920.95it/s]\n",
      "iterations: 100%|██████████| 1000/1000 [00:00<00:00, 10176.87it/s]\n",
      "iterations: 100%|██████████| 1000/1000 [00:00<00:00, 10606.94it/s]\n",
      "iterations:   0%|          | 0/1000 [00:00<?, ?it/s]"
     ]
    },
    {
     "name": "stdout",
     "output_type": "stream",
     "text": [
      "Experiment:  469\n"
     ]
    },
    {
     "name": "stderr",
     "output_type": "stream",
     "text": [
      "iterations: 100%|██████████| 1000/1000 [00:00<00:00, 12363.39it/s]\n",
      "iterations: 100%|██████████| 1000/1000 [00:00<00:00, 10612.93it/s]\n",
      "iterations: 100%|██████████| 1000/1000 [00:00<00:00, 11045.20it/s]\n",
      "iterations: 100%|██████████| 1000/1000 [00:00<00:00, 11379.14it/s]\n",
      "iterations:   0%|          | 0/1000 [00:00<?, ?it/s]"
     ]
    },
    {
     "name": "stdout",
     "output_type": "stream",
     "text": [
      "Experiment:  470\n"
     ]
    },
    {
     "name": "stderr",
     "output_type": "stream",
     "text": [
      "iterations: 100%|██████████| 1000/1000 [00:00<00:00, 13795.42it/s]\n",
      "iterations: 100%|██████████| 1000/1000 [00:00<00:00, 13864.41it/s]\n",
      "iterations: 100%|██████████| 1000/1000 [00:00<00:00, 12063.14it/s]\n",
      "iterations: 100%|██████████| 1000/1000 [00:00<00:00, 10762.55it/s]\n",
      "iterations:   0%|          | 0/1000 [00:00<?, ?it/s]"
     ]
    },
    {
     "name": "stdout",
     "output_type": "stream",
     "text": [
      "Experiment:  471\n"
     ]
    },
    {
     "name": "stderr",
     "output_type": "stream",
     "text": [
      "iterations: 100%|██████████| 1000/1000 [00:00<00:00, 12325.31it/s]\n",
      "iterations: 100%|██████████| 1000/1000 [00:00<00:00, 11762.06it/s]\n",
      "iterations: 100%|██████████| 1000/1000 [00:00<00:00, 10676.90it/s]\n",
      "iterations: 100%|██████████| 1000/1000 [00:00<00:00, 8893.49it/s]"
     ]
    },
    {
     "name": "stdout",
     "output_type": "stream",
     "text": [
      "Experiment:  472\n"
     ]
    },
    {
     "name": "stderr",
     "output_type": "stream",
     "text": [
      "\n",
      "iterations: 100%|██████████| 1000/1000 [00:00<00:00, 11809.29it/s]\n",
      "iterations: 100%|██████████| 1000/1000 [00:00<00:00, 13818.28it/s]\n",
      "iterations: 100%|██████████| 1000/1000 [00:00<00:00, 12201.97it/s]\n",
      "iterations: 100%|██████████| 1000/1000 [00:00<00:00, 12206.12it/s]\n",
      "iterations:   0%|          | 0/1000 [00:00<?, ?it/s]"
     ]
    },
    {
     "name": "stdout",
     "output_type": "stream",
     "text": [
      "Experiment:  473\n"
     ]
    },
    {
     "name": "stderr",
     "output_type": "stream",
     "text": [
      "iterations: 100%|██████████| 1000/1000 [00:00<00:00, 13362.59it/s]\n",
      "iterations: 100%|██████████| 1000/1000 [00:00<00:00, 13765.22it/s]\n",
      "iterations: 100%|██████████| 1000/1000 [00:00<00:00, 12248.15it/s]\n",
      "iterations: 100%|██████████| 1000/1000 [00:00<00:00, 10355.05it/s]\n",
      "iterations:   0%|          | 0/1000 [00:00<?, ?it/s]"
     ]
    },
    {
     "name": "stdout",
     "output_type": "stream",
     "text": [
      "Experiment:  474\n"
     ]
    },
    {
     "name": "stderr",
     "output_type": "stream",
     "text": [
      "iterations: 100%|██████████| 1000/1000 [00:00<00:00, 11820.60it/s]\n",
      "iterations: 100%|██████████| 1000/1000 [00:00<00:00, 12322.56it/s]\n",
      "iterations: 100%|██████████| 1000/1000 [00:00<00:00, 11686.10it/s]\n",
      "iterations: 100%|██████████| 1000/1000 [00:00<00:00, 12028.33it/s]\n",
      "iterations:   0%|          | 0/1000 [00:00<?, ?it/s]"
     ]
    },
    {
     "name": "stdout",
     "output_type": "stream",
     "text": [
      "Experiment:  475\n"
     ]
    },
    {
     "name": "stderr",
     "output_type": "stream",
     "text": [
      "iterations: 100%|██████████| 1000/1000 [00:00<00:00, 12509.37it/s]\n",
      "iterations: 100%|██████████| 1000/1000 [00:00<00:00, 14059.14it/s]\n",
      "iterations: 100%|██████████| 1000/1000 [00:00<00:00, 11797.46it/s]\n",
      "iterations: 100%|██████████| 1000/1000 [00:00<00:00, 11257.58it/s]\n",
      "iterations:   0%|          | 0/1000 [00:00<?, ?it/s]"
     ]
    },
    {
     "name": "stdout",
     "output_type": "stream",
     "text": [
      "Experiment:  476\n"
     ]
    },
    {
     "name": "stderr",
     "output_type": "stream",
     "text": [
      "iterations: 100%|██████████| 1000/1000 [00:00<00:00, 11583.21it/s]\n",
      "iterations: 100%|██████████| 1000/1000 [00:00<00:00, 12847.20it/s]\n",
      "iterations: 100%|██████████| 1000/1000 [00:00<00:00, 12072.48it/s]\n",
      "iterations: 100%|██████████| 1000/1000 [00:00<00:00, 12311.31it/s]\n",
      "iterations:   0%|          | 0/1000 [00:00<?, ?it/s]"
     ]
    },
    {
     "name": "stdout",
     "output_type": "stream",
     "text": [
      "Experiment:  477\n"
     ]
    },
    {
     "name": "stderr",
     "output_type": "stream",
     "text": [
      "iterations: 100%|██████████| 1000/1000 [00:00<00:00, 13754.79it/s]\n",
      "iterations: 100%|██████████| 1000/1000 [00:00<00:00, 13610.31it/s]\n",
      "iterations: 100%|██████████| 1000/1000 [00:00<00:00, 12074.39it/s]\n",
      "iterations: 100%|██████████| 1000/1000 [00:00<00:00, 12057.76it/s]\n",
      "iterations:   0%|          | 0/1000 [00:00<?, ?it/s]"
     ]
    },
    {
     "name": "stdout",
     "output_type": "stream",
     "text": [
      "Experiment:  478\n"
     ]
    },
    {
     "name": "stderr",
     "output_type": "stream",
     "text": [
      "iterations: 100%|██████████| 1000/1000 [00:00<00:00, 13776.80it/s]\n",
      "iterations: 100%|██████████| 1000/1000 [00:00<00:00, 13703.56it/s]\n",
      "iterations: 100%|██████████| 1000/1000 [00:00<00:00, 12122.23it/s]\n",
      "iterations: 100%|██████████| 1000/1000 [00:00<00:00, 11798.59it/s]\n",
      "iterations:   0%|          | 0/1000 [00:00<?, ?it/s]"
     ]
    },
    {
     "name": "stdout",
     "output_type": "stream",
     "text": [
      "Experiment:  479\n"
     ]
    },
    {
     "name": "stderr",
     "output_type": "stream",
     "text": [
      "iterations: 100%|██████████| 1000/1000 [00:00<00:00, 13629.95it/s]\n",
      "iterations: 100%|██████████| 1000/1000 [00:00<00:00, 13969.37it/s]\n",
      "iterations: 100%|██████████| 1000/1000 [00:00<00:00, 10473.82it/s]\n",
      "iterations:  93%|█████████▎| 931/1000 [00:00<00:00, 9307.37it/s]"
     ]
    },
    {
     "name": "stdout",
     "output_type": "stream",
     "text": [
      "Experiment:  480\n"
     ]
    },
    {
     "name": "stderr",
     "output_type": "stream",
     "text": [
      "iterations: 100%|██████████| 1000/1000 [00:00<00:00, 9301.54it/s]\n",
      "iterations: 100%|██████████| 1000/1000 [00:00<00:00, 9621.97it/s]\n",
      "iterations: 100%|██████████| 1000/1000 [00:00<00:00, 11607.12it/s]\n",
      "iterations: 100%|██████████| 1000/1000 [00:00<00:00, 9082.06it/s]\n",
      "iterations:   0%|          | 0/1000 [00:00<?, ?it/s]"
     ]
    },
    {
     "name": "stdout",
     "output_type": "stream",
     "text": [
      "Experiment:  481\n"
     ]
    },
    {
     "name": "stderr",
     "output_type": "stream",
     "text": [
      "iterations: 100%|██████████| 1000/1000 [00:00<00:00, 9986.01it/s]\n",
      "iterations: 100%|██████████| 1000/1000 [00:00<00:00, 11506.15it/s]\n",
      "iterations: 100%|██████████| 1000/1000 [00:00<00:00, 13695.42it/s]\n",
      "iterations: 100%|██████████| 1000/1000 [00:00<00:00, 11949.55it/s]\n",
      "iterations: 100%|██████████| 1000/1000 [00:00<00:00, 12186.37it/s]\n",
      "iterations:   0%|          | 0/1000 [00:00<?, ?it/s]"
     ]
    },
    {
     "name": "stdout",
     "output_type": "stream",
     "text": [
      "Experiment:  482\n"
     ]
    },
    {
     "name": "stderr",
     "output_type": "stream",
     "text": [
      "iterations: 100%|██████████| 1000/1000 [00:00<00:00, 13853.70it/s]\n",
      "iterations: 100%|██████████| 1000/1000 [00:00<00:00, 13682.15it/s]\n",
      "iterations: 100%|██████████| 1000/1000 [00:00<00:00, 12078.73it/s]\n",
      "iterations:  81%|████████  | 808/1000 [00:00<00:00, 8079.29it/s]"
     ]
    },
    {
     "name": "stdout",
     "output_type": "stream",
     "text": [
      "Experiment:  483\n"
     ]
    },
    {
     "name": "stderr",
     "output_type": "stream",
     "text": [
      "iterations: 100%|██████████| 1000/1000 [00:00<00:00, 8525.39it/s]\n",
      "iterations: 100%|██████████| 1000/1000 [00:00<00:00, 13203.42it/s]\n",
      "iterations: 100%|██████████| 1000/1000 [00:00<00:00, 12789.23it/s]\n",
      "iterations: 100%|██████████| 1000/1000 [00:00<00:00, 11893.27it/s]\n",
      "iterations: 100%|██████████| 1000/1000 [00:00<00:00, 12027.33it/s]\n",
      "iterations:   0%|          | 0/1000 [00:00<?, ?it/s]"
     ]
    },
    {
     "name": "stdout",
     "output_type": "stream",
     "text": [
      "Experiment:  484\n"
     ]
    },
    {
     "name": "stderr",
     "output_type": "stream",
     "text": [
      "iterations: 100%|██████████| 1000/1000 [00:00<00:00, 13752.54it/s]\n",
      "iterations: 100%|██████████| 1000/1000 [00:00<00:00, 13188.93it/s]\n",
      "iterations: 100%|██████████| 1000/1000 [00:00<00:00, 10424.80it/s]\n",
      "iterations: 100%|██████████| 1000/1000 [00:00<00:00, 10755.56it/s]\n",
      "iterations:   0%|          | 0/1000 [00:00<?, ?it/s]"
     ]
    },
    {
     "name": "stdout",
     "output_type": "stream",
     "text": [
      "Experiment:  485\n"
     ]
    },
    {
     "name": "stderr",
     "output_type": "stream",
     "text": [
      "iterations: 100%|██████████| 1000/1000 [00:00<00:00, 11820.10it/s]\n",
      "iterations: 100%|██████████| 1000/1000 [00:00<00:00, 10512.59it/s]\n",
      "iterations: 100%|██████████| 1000/1000 [00:00<00:00, 10675.63it/s]\n",
      "iterations: 100%|██████████| 1000/1000 [00:00<00:00, 11175.07it/s]\n",
      "iterations:   0%|          | 0/1000 [00:00<?, ?it/s]"
     ]
    },
    {
     "name": "stdout",
     "output_type": "stream",
     "text": [
      "Experiment:  486\n"
     ]
    },
    {
     "name": "stderr",
     "output_type": "stream",
     "text": [
      "iterations: 100%|██████████| 1000/1000 [00:00<00:00, 13053.96it/s]\n",
      "iterations: 100%|██████████| 1000/1000 [00:00<00:00, 13422.50it/s]\n",
      "iterations: 100%|██████████| 1000/1000 [00:00<00:00, 11933.16it/s]\n",
      "iterations: 100%|██████████| 1000/1000 [00:00<00:00, 10575.63it/s]\n",
      "iterations:   0%|          | 0/1000 [00:00<?, ?it/s]"
     ]
    },
    {
     "name": "stdout",
     "output_type": "stream",
     "text": [
      "Experiment:  487\n"
     ]
    },
    {
     "name": "stderr",
     "output_type": "stream",
     "text": [
      "iterations: 100%|██████████| 1000/1000 [00:00<00:00, 10461.99it/s]\n",
      "iterations: 100%|██████████| 1000/1000 [00:00<00:00, 11677.74it/s]\n",
      "iterations: 100%|██████████| 1000/1000 [00:00<00:00, 11251.51it/s]\n",
      "iterations: 100%|██████████| 1000/1000 [00:00<00:00, 11308.75it/s]\n",
      "iterations:   0%|          | 0/1000 [00:00<?, ?it/s]"
     ]
    },
    {
     "name": "stdout",
     "output_type": "stream",
     "text": [
      "Experiment:  488\n"
     ]
    },
    {
     "name": "stderr",
     "output_type": "stream",
     "text": [
      "iterations: 100%|██████████| 1000/1000 [00:00<00:00, 12296.33it/s]\n",
      "iterations: 100%|██████████| 1000/1000 [00:00<00:00, 12912.38it/s]\n",
      "iterations: 100%|██████████| 1000/1000 [00:00<00:00, 12124.89it/s]\n",
      "iterations: 100%|██████████| 1000/1000 [00:00<00:00, 12235.25it/s]\n",
      "iterations:   0%|          | 0/1000 [00:00<?, ?it/s]"
     ]
    },
    {
     "name": "stdout",
     "output_type": "stream",
     "text": [
      "Experiment:  489\n"
     ]
    },
    {
     "name": "stderr",
     "output_type": "stream",
     "text": [
      "iterations: 100%|██████████| 1000/1000 [00:00<00:00, 13596.42it/s]\n",
      "iterations: 100%|██████████| 1000/1000 [00:00<00:00, 13799.73it/s]\n",
      "iterations: 100%|██████████| 1000/1000 [00:00<00:00, 10277.08it/s]\n",
      "iterations: 100%|██████████| 1000/1000 [00:00<00:00, 10233.85it/s]\n"
     ]
    },
    {
     "name": "stdout",
     "output_type": "stream",
     "text": [
      "Experiment:  490\n"
     ]
    },
    {
     "name": "stderr",
     "output_type": "stream",
     "text": [
      "iterations: 100%|██████████| 1000/1000 [00:00<00:00, 12779.41it/s]\n",
      "iterations: 100%|██████████| 1000/1000 [00:00<00:00, 13345.08it/s]\n",
      "iterations: 100%|██████████| 1000/1000 [00:00<00:00, 11957.45it/s]\n",
      "iterations: 100%|██████████| 1000/1000 [00:00<00:00, 12059.81it/s]\n",
      "iterations:   0%|          | 0/1000 [00:00<?, ?it/s]"
     ]
    },
    {
     "name": "stdout",
     "output_type": "stream",
     "text": [
      "Experiment:  491\n"
     ]
    },
    {
     "name": "stderr",
     "output_type": "stream",
     "text": [
      "iterations: 100%|██████████| 1000/1000 [00:00<00:00, 13736.23it/s]\n",
      "iterations: 100%|██████████| 1000/1000 [00:00<00:00, 14024.49it/s]\n",
      "iterations: 100%|██████████| 1000/1000 [00:00<00:00, 10535.51it/s]\n",
      "iterations:   0%|          | 0/1000 [00:00<?, ?it/s]"
     ]
    },
    {
     "name": "stdout",
     "output_type": "stream",
     "text": [
      "Experiment:  492\n"
     ]
    },
    {
     "name": "stderr",
     "output_type": "stream",
     "text": [
      "iterations: 100%|██████████| 1000/1000 [00:00<00:00, 9692.28it/s]\n",
      "iterations: 100%|██████████| 1000/1000 [00:00<00:00, 11792.88it/s]\n",
      "iterations: 100%|██████████| 1000/1000 [00:00<00:00, 13674.48it/s]\n",
      "iterations: 100%|██████████| 1000/1000 [00:00<00:00, 12032.09it/s]\n",
      "iterations: 100%|██████████| 1000/1000 [00:00<00:00, 11969.87it/s]\n",
      "iterations:   0%|          | 0/1000 [00:00<?, ?it/s]"
     ]
    },
    {
     "name": "stdout",
     "output_type": "stream",
     "text": [
      "Experiment:  493\n"
     ]
    },
    {
     "name": "stderr",
     "output_type": "stream",
     "text": [
      "iterations: 100%|██████████| 1000/1000 [00:00<00:00, 13664.32it/s]\n",
      "iterations: 100%|██████████| 1000/1000 [00:00<00:00, 13108.59it/s]\n",
      "iterations: 100%|██████████| 1000/1000 [00:00<00:00, 9807.38it/s]\n",
      "iterations:   0%|          | 0/1000 [00:00<?, ?it/s]"
     ]
    },
    {
     "name": "stdout",
     "output_type": "stream",
     "text": [
      "Experiment:  494\n"
     ]
    },
    {
     "name": "stderr",
     "output_type": "stream",
     "text": [
      "iterations: 100%|██████████| 1000/1000 [00:00<00:00, 10499.80it/s]\n",
      "iterations: 100%|██████████| 1000/1000 [00:00<00:00, 13677.64it/s]\n",
      "iterations: 100%|██████████| 1000/1000 [00:00<00:00, 13857.68it/s]\n",
      "iterations: 100%|██████████| 1000/1000 [00:00<00:00, 12185.59it/s]\n",
      "iterations: 100%|██████████| 1000/1000 [00:00<00:00, 12103.03it/s]\n",
      "iterations:   0%|          | 0/1000 [00:00<?, ?it/s]"
     ]
    },
    {
     "name": "stdout",
     "output_type": "stream",
     "text": [
      "Experiment:  495\n"
     ]
    },
    {
     "name": "stderr",
     "output_type": "stream",
     "text": [
      "iterations: 100%|██████████| 1000/1000 [00:00<00:00, 13216.53it/s]\n",
      "iterations: 100%|██████████| 1000/1000 [00:00<00:00, 13823.06it/s]\n",
      "iterations: 100%|██████████| 1000/1000 [00:00<00:00, 11177.81it/s]\n",
      "iterations: 100%|██████████| 1000/1000 [00:00<00:00, 12330.17it/s]\n",
      "iterations:   0%|          | 0/1000 [00:00<?, ?it/s]"
     ]
    },
    {
     "name": "stdout",
     "output_type": "stream",
     "text": [
      "Experiment:  496\n"
     ]
    },
    {
     "name": "stderr",
     "output_type": "stream",
     "text": [
      "iterations: 100%|██████████| 1000/1000 [00:00<00:00, 13474.16it/s]\n",
      "iterations: 100%|██████████| 1000/1000 [00:00<00:00, 12061.99it/s]\n",
      "iterations: 100%|██████████| 1000/1000 [00:00<00:00, 10186.83it/s]\n",
      "iterations: 100%|██████████| 1000/1000 [00:00<00:00, 10919.54it/s]\n",
      "iterations:   0%|          | 0/1000 [00:00<?, ?it/s]"
     ]
    },
    {
     "name": "stdout",
     "output_type": "stream",
     "text": [
      "Experiment:  497\n"
     ]
    },
    {
     "name": "stderr",
     "output_type": "stream",
     "text": [
      "iterations: 100%|██████████| 1000/1000 [00:00<00:00, 13464.60it/s]\n",
      "iterations: 100%|██████████| 1000/1000 [00:00<00:00, 13119.38it/s]\n",
      "iterations: 100%|██████████| 1000/1000 [00:00<00:00, 11831.10it/s]\n",
      "iterations: 100%|██████████| 1000/1000 [00:00<00:00, 11450.18it/s]\n",
      "iterations:   0%|          | 0/1000 [00:00<?, ?it/s]"
     ]
    },
    {
     "name": "stdout",
     "output_type": "stream",
     "text": [
      "Experiment:  498\n"
     ]
    },
    {
     "name": "stderr",
     "output_type": "stream",
     "text": [
      "iterations: 100%|██████████| 1000/1000 [00:00<00:00, 12817.09it/s]\n",
      "iterations: 100%|██████████| 1000/1000 [00:00<00:00, 13630.48it/s]\n",
      "iterations: 100%|██████████| 1000/1000 [00:00<00:00, 10897.75it/s]\n",
      "iterations: 100%|██████████| 1000/1000 [00:00<00:00, 10513.94it/s]\n",
      "iterations:   0%|          | 0/1000 [00:00<?, ?it/s]"
     ]
    },
    {
     "name": "stdout",
     "output_type": "stream",
     "text": [
      "Experiment:  499\n"
     ]
    },
    {
     "name": "stderr",
     "output_type": "stream",
     "text": [
      "iterations: 100%|██████████| 1000/1000 [00:00<00:00, 12941.47it/s]\n",
      "iterations: 100%|██████████| 1000/1000 [00:00<00:00, 13640.32it/s]\n"
     ]
    },
    {
     "data": {
      "image/png": "[encoded data removed]",
      "text/plain": [
       "<Figure size 432x288 with 1 Axes>"
      ]
     },
     "metadata": {},
     "output_type": "display_data"
    }
   ],
   "source": [
    "# Environment, Agent, and Strategy\n",
    "bandit = GaussianBandit(num_arm=num_arm, mean_reward=1, stddev_reward=1)    # Gaussian distribution\n",
    "agents = [\n",
    "    GradientAgent(policy=Softmax(), num_arm=num_arm, alpha=0.1),\n",
    "    GradientAgent(policy=Softmax(), num_arm=num_arm, alpha=0.4),\n",
    "    GradientAgent(policy=Softmax(), num_arm=num_arm, alpha=0.1, b_use_baseline=False),\n",
    "    GradientAgent(policy=Softmax(), num_arm=num_arm, alpha=0.4, b_use_baseline=False)\n",
    "]\n",
    "\n",
    "# Run simulation\n",
    "scores, optimal = runner(bandit=bandit, agents=agents, num_iter=num_iter, num_experiment=num_experiment)\n",
    "plot_result(agents, scores, optimal, [\"A\", \"B\", \"C\", \"D\"])"
   ]
  }
 ],
 "metadata": {
  "kernelspec": {
   "display_name": "Python 3",
   "language": "python",
   "name": "python3"
  },
  "language_info": {
   "codemirror_mode": {
    "name": "ipython",
    "version": 3
   },
   "file_extension": ".py",
   "mimetype": "text/x-python",
   "name": "python",
   "nbconvert_exporter": "python",
   "pygments_lexer": "ipython3",
   "version": "3.7.4"
  }
 },
 "nbformat": 4,
 "nbformat_minor": 2
}
