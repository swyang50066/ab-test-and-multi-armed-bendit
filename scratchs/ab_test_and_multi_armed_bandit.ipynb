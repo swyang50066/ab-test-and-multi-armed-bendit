{
 "cells": [
  {
   "cell_type": "code",
   "execution_count": 1,
   "metadata": {},
   "outputs": [
    {
     "name": "stderr",
     "output_type": "stream",
     "text": [
      "/Users/yang-seungwon/anaconda3/lib/python3.7/site-packages/statsmodels/tools/_testing.py:19: FutureWarning: pandas.util.testing is deprecated. Use the functions in the public API at pandas.testing instead.\n",
      "  import pandas.util.testing as tm\n"
     ]
    }
   ],
   "source": [
    "import sys\n",
    "sys.path.append(\"../source\")\n",
    "\n",
    "import numpy as np\n",
    "\n",
    "import matplotlib.pyplot as plt\n",
    "import seaborn as sns\n",
    "\n",
    "from runner import runner\n",
    "from multi_armed_bandit import (\n",
    "    DeterministicBandit,\n",
    "    GaussianBandit,\n",
    "    BinomialBandit,\n",
    ")\n",
    "from agent import (\n",
    "    Agent,\n",
    "    GradientAgent,\n",
    "    BetaAgent,\n",
    ")\n",
    "from strategy import (\n",
    "    EpsilonGreedy,\n",
    "    UpperConfidenceBound,\n",
    "    Softmax,\n",
    ")"
   ]
  },
  {
   "cell_type": "code",
   "execution_count": 2,
   "metadata": {},
   "outputs": [],
   "source": [
    "# Plots    \n",
    "def plot_result(agents, scores, optimal, labels):\n",
    "    sns.set_style('white')\n",
    "    sns.set_context('talk')\n",
    "    plt.subplot(1, 1, 1)\n",
    "    plt.plot(scores)\n",
    "    plt.ylabel('Average Reward')\n",
    "    plt.ylim([0, np.max(scores)+1])\n",
    "    plt.legend(labels, loc=4)\n",
    "    sns.despine()\n",
    "    plt.show()"
   ]
  },
  {
   "cell_type": "code",
   "execution_count": 3,
   "metadata": {},
   "outputs": [],
   "source": [
    "# Configuration\n",
    "num_arm = 2    # A/B groups\n",
    "num_sample = 1000\n",
    "num_iter = 1000\n",
    "num_experiment = 500\n",
    "probs = (0.84, 0.85)"
   ]
  },
  {
   "cell_type": "code",
   "execution_count": 4,
   "metadata": {},
   "outputs": [],
   "source": [
    "# Environment\n",
    "bandit = BinomialBandit(\n",
    "    num_arm=num_arm, \n",
    "    num_trial=1, \n",
    "    num_sample=num_sample, \n",
    "    probs=probs\n",
    ")\n",
    "bandit.setup()\n",
    "\n",
    "# Agent\n",
    "agents = [\n",
    "    BetaAgent(policy=EpsilonGreedy(epsilon=0), num_arm=num_arm, num_trial=1)\n",
    "]"
   ]
  },
  {
   "cell_type": "code",
   "execution_count": 5,
   "metadata": {},
   "outputs": [
    {
     "name": "stdout",
     "output_type": "stream",
     "text": [
      "0.827 0.829\n",
      "0.0020000000000000018\n"
     ]
    }
   ],
   "source": [
    "# Test dataset\n",
    "dataset = shuffled_dataset = bandit._samples\n",
    "\n",
    "num_groupA_selected = np.sum(dataset[:, 0])\n",
    "num_groupB_selected = np.sum(dataset[:, 1])\n",
    "rate_groupA_selected = num_groupA_selected / num_sample\n",
    "rate_groupB_selected = num_groupB_selected / num_sample\n",
    "original_difference = rate_groupB_selected - rate_groupA_selected\n",
    "\n",
    "print(rate_groupA_selected, rate_groupB_selected)\n",
    "print(original_difference)"
   ]
  },
  {
   "cell_type": "code",
   "execution_count": 6,
   "metadata": {},
   "outputs": [
    {
     "data": {
      "image/png": "[encoded data removed]",
      "text/plain": [
       "<Figure size 432x288 with 1 Axes>"
      ]
     },
     "metadata": {
      "needs_background": "light"
     },
     "output_type": "display_data"
    }
   ],
   "source": [
    "shuffled_dataset = shuffled_dataset.ravel()\n",
    "shuffled_differences = []\n",
    "for step in range(num_iter):\n",
    "    np.random.shuffle(shuffled_dataset)\n",
    "    shuffled_groupA = shuffled_dataset[:num_sample]\n",
    "    shuffled_groupB = shuffled_dataset[num_sample:]\n",
    "\n",
    "    rate_groupA_shuffled = np.sum(shuffled_groupA) / num_sample\n",
    "    rate_groupB_shuffled = np.sum(shuffled_groupB) / num_sample\n",
    "\n",
    "    shuffled_differences.append(rate_groupB_shuffled - rate_groupA_shuffled)\n",
    "\n",
    "min_difference = np.min(shuffled_differences)\n",
    "max_difference = np.max(shuffled_differences)\n",
    "\n",
    "hist, bins = np.histogram(\n",
    "    shuffled_differences,\n",
    "    bins=np.linspace(min_difference, max_difference, 100)\n",
    ")\n",
    "\n",
    "p_ratio = np.sum(shuffled_differences > original_difference) / num_sample\n",
    "\n",
    "plt.hist(shuffled_differences, bins)\n",
    "plt.ylim([0, np.max(hist)])\n",
    "plt.text(original_difference, np.max(hist)//2, \"p-value: {0:0>3}%\".format(p_ratio*100))\n",
    "plt.axvline(x=original_difference, color=\"red\")\n",
    "plt.show()"
   ]
  },
  {
   "cell_type": "code",
   "execution_count": 7,
   "metadata": {},
   "outputs": [
    {
     "name": "stderr",
     "output_type": "stream",
     "text": [
      "iterations: 100%|██████████| 1000/1000 [00:00<00:00, 14388.10it/s]\n",
      "iterations: 100%|██████████| 1000/1000 [00:00<00:00, 15786.34it/s]\n",
      "iterations:   0%|          | 0/1000 [00:00<?, ?it/s]"
     ]
    },
    {
     "name": "stdout",
     "output_type": "stream",
     "text": [
      "Experiment:  0\n",
      "Experiment:  1\n",
      "Experiment:  2\n"
     ]
    },
    {
     "name": "stderr",
     "output_type": "stream",
     "text": [
      "iterations: 100%|██████████| 1000/1000 [00:00<00:00, 14724.09it/s]\n",
      "iterations: 100%|██████████| 1000/1000 [00:00<00:00, 10738.71it/s]\n",
      "iterations: 100%|██████████| 1000/1000 [00:00<00:00, 16828.24it/s]\n",
      "iterations:   0%|          | 0/1000 [00:00<?, ?it/s]"
     ]
    },
    {
     "name": "stdout",
     "output_type": "stream",
     "text": [
      "Experiment:  3\n",
      "Experiment:  4\n",
      "Experiment:  5\n"
     ]
    },
    {
     "name": "stderr",
     "output_type": "stream",
     "text": [
      "iterations: 100%|██████████| 1000/1000 [00:00<00:00, 13105.32it/s]\n",
      "iterations: 100%|██████████| 1000/1000 [00:00<00:00, 13743.80it/s]\n",
      "iterations: 100%|██████████| 1000/1000 [00:00<00:00, 16195.66it/s]\n",
      "iterations:   0%|          | 0/1000 [00:00<?, ?it/s]"
     ]
    },
    {
     "name": "stdout",
     "output_type": "stream",
     "text": [
      "Experiment:  6\n",
      "Experiment:  7\n",
      "Experiment:  8\n"
     ]
    },
    {
     "name": "stderr",
     "output_type": "stream",
     "text": [
      "iterations: 100%|██████████| 1000/1000 [00:00<00:00, 13219.11it/s]\n",
      "iterations: 100%|██████████| 1000/1000 [00:00<00:00, 15578.77it/s]\n",
      "iterations: 100%|██████████| 1000/1000 [00:00<00:00, 16365.01it/s]\n",
      "iterations:   0%|          | 0/1000 [00:00<?, ?it/s]"
     ]
    },
    {
     "name": "stdout",
     "output_type": "stream",
     "text": [
      "Experiment:  9\n",
      "Experiment:  10\n",
      "Experiment:  11\n"
     ]
    },
    {
     "name": "stderr",
     "output_type": "stream",
     "text": [
      "iterations: 100%|██████████| 1000/1000 [00:00<00:00, 14794.41it/s]\n",
      "iterations: 100%|██████████| 1000/1000 [00:00<00:00, 15490.63it/s]\n",
      "iterations: 100%|██████████| 1000/1000 [00:00<00:00, 14238.06it/s]\n",
      "iterations:   0%|          | 0/1000 [00:00<?, ?it/s]"
     ]
    },
    {
     "name": "stdout",
     "output_type": "stream",
     "text": [
      "Experiment:  12\n",
      "Experiment:  13\n",
      "Experiment:  14\n"
     ]
    },
    {
     "name": "stderr",
     "output_type": "stream",
     "text": [
      "iterations: 100%|██████████| 1000/1000 [00:00<00:00, 15507.52it/s]\n",
      "iterations: 100%|██████████| 1000/1000 [00:00<00:00, 14303.90it/s]\n",
      "iterations: 100%|██████████| 1000/1000 [00:00<00:00, 10991.91it/s]\n",
      "iterations:   0%|          | 0/1000 [00:00<?, ?it/s]"
     ]
    },
    {
     "name": "stdout",
     "output_type": "stream",
     "text": [
      "Experiment:  15\n",
      "Experiment:  16\n",
      "Experiment:  17\n"
     ]
    },
    {
     "name": "stderr",
     "output_type": "stream",
     "text": [
      "iterations: 100%|██████████| 1000/1000 [00:00<00:00, 16055.49it/s]\n",
      "iterations: 100%|██████████| 1000/1000 [00:00<00:00, 13531.24it/s]\n",
      "iterations: 100%|██████████| 1000/1000 [00:00<00:00, 15840.83it/s]\n",
      "iterations:   0%|          | 0/1000 [00:00<?, ?it/s]"
     ]
    },
    {
     "name": "stdout",
     "output_type": "stream",
     "text": [
      "Experiment:  18\n",
      "Experiment:  19\n",
      "Experiment:  20\n"
     ]
    },
    {
     "name": "stderr",
     "output_type": "stream",
     "text": [
      "iterations: 100%|██████████| 1000/1000 [00:00<00:00, 13609.87it/s]\n",
      "iterations: 100%|██████████| 1000/1000 [00:00<00:00, 15527.96it/s]\n",
      "iterations: 100%|██████████| 1000/1000 [00:00<00:00, 13219.32it/s]\n",
      "iterations:   0%|          | 0/1000 [00:00<?, ?it/s]"
     ]
    },
    {
     "name": "stdout",
     "output_type": "stream",
     "text": [
      "Experiment:  21\n",
      "Experiment:  22\n",
      "Experiment:  23\n"
     ]
    },
    {
     "name": "stderr",
     "output_type": "stream",
     "text": [
      "iterations: 100%|██████████| 1000/1000 [00:00<00:00, 8835.86it/s]\n",
      "iterations: 100%|██████████| 1000/1000 [00:00<00:00, 15941.56it/s]\n",
      "iterations: 100%|██████████| 1000/1000 [00:00<00:00, 15055.04it/s]\n",
      "iterations:   0%|          | 0/1000 [00:00<?, ?it/s]"
     ]
    },
    {
     "name": "stdout",
     "output_type": "stream",
     "text": [
      "Experiment:  24\n",
      "Experiment:  25\n",
      "Experiment:  26\n"
     ]
    },
    {
     "name": "stderr",
     "output_type": "stream",
     "text": [
      "iterations: 100%|██████████| 1000/1000 [00:00<00:00, 15975.68it/s]\n",
      "iterations: 100%|██████████| 1000/1000 [00:00<00:00, 14066.40it/s]\n",
      "iterations: 100%|██████████| 1000/1000 [00:00<00:00, 15661.96it/s]\n",
      "iterations:   0%|          | 0/1000 [00:00<?, ?it/s]"
     ]
    },
    {
     "name": "stdout",
     "output_type": "stream",
     "text": [
      "Experiment:  27\n",
      "Experiment:  28\n",
      "Experiment:  29\n"
     ]
    },
    {
     "name": "stderr",
     "output_type": "stream",
     "text": [
      "iterations: 100%|██████████| 1000/1000 [00:00<00:00, 13822.52it/s]\n",
      "iterations: 100%|██████████| 1000/1000 [00:00<00:00, 9065.20it/s]\n",
      "iterations: 100%|██████████| 1000/1000 [00:00<00:00, 12827.40it/s]\n",
      "iterations:   0%|          | 0/1000 [00:00<?, ?it/s]"
     ]
    },
    {
     "name": "stdout",
     "output_type": "stream",
     "text": [
      "Experiment:  30\n",
      "Experiment:  31\n",
      "Experiment:  32\n"
     ]
    },
    {
     "name": "stderr",
     "output_type": "stream",
     "text": [
      "iterations: 100%|██████████| 1000/1000 [00:00<00:00, 11030.85it/s]\n",
      "iterations: 100%|██████████| 1000/1000 [00:00<00:00, 14036.08it/s]\n",
      "iterations: 100%|██████████| 1000/1000 [00:00<00:00, 15338.80it/s]\n",
      "iterations:   0%|          | 0/1000 [00:00<?, ?it/s]"
     ]
    },
    {
     "name": "stdout",
     "output_type": "stream",
     "text": [
      "Experiment:  33\n",
      "Experiment:  34\n",
      "Experiment:  35\n"
     ]
    },
    {
     "name": "stderr",
     "output_type": "stream",
     "text": [
      "iterations: 100%|██████████| 1000/1000 [00:00<00:00, 16870.00it/s]\n",
      "iterations: 100%|██████████| 1000/1000 [00:00<00:00, 15159.79it/s]\n",
      "iterations: 100%|██████████| 1000/1000 [00:00<00:00, 14576.46it/s]\n",
      "iterations: 100%|██████████| 1000/1000 [00:00<00:00, 18918.32it/s]\n",
      "iterations:   0%|          | 0/1000 [00:00<?, ?it/s]"
     ]
    },
    {
     "name": "stdout",
     "output_type": "stream",
     "text": [
      "Experiment:  36\n",
      "Experiment:  37\n",
      "Experiment:  38\n",
      "Experiment:  39\n"
     ]
    },
    {
     "name": "stderr",
     "output_type": "stream",
     "text": [
      "iterations: 100%|██████████| 1000/1000 [00:00<00:00, 15245.97it/s]\n",
      "iterations: 100%|██████████| 1000/1000 [00:00<00:00, 14670.78it/s]\n",
      "iterations: 100%|██████████| 1000/1000 [00:00<00:00, 15832.76it/s]\n",
      "iterations: 100%|██████████| 1000/1000 [00:00<00:00, 14834.18it/s]"
     ]
    },
    {
     "name": "stdout",
     "output_type": "stream",
     "text": [
      "Experiment:  40\n",
      "Experiment:  41\n",
      "Experiment:  42\n"
     ]
    },
    {
     "name": "stderr",
     "output_type": "stream",
     "text": [
      "\n",
      "iterations: 100%|██████████| 1000/1000 [00:00<00:00, 15176.30it/s]\n",
      "iterations: 100%|██████████| 1000/1000 [00:00<00:00, 19418.25it/s]\n",
      "iterations: 100%|██████████| 1000/1000 [00:00<00:00, 17727.03it/s]\n",
      "iterations:   0%|          | 0/1000 [00:00<?, ?it/s]"
     ]
    },
    {
     "name": "stdout",
     "output_type": "stream",
     "text": [
      "Experiment:  43\n",
      "Experiment:  44\n",
      "Experiment:  45\n",
      "Experiment:  46\n"
     ]
    },
    {
     "name": "stderr",
     "output_type": "stream",
     "text": [
      "iterations: 100%|██████████| 1000/1000 [00:00<00:00, 16203.55it/s]\n",
      "iterations: 100%|██████████| 1000/1000 [00:00<00:00, 16039.77it/s]\n",
      "iterations: 100%|██████████| 1000/1000 [00:00<00:00, 14000.71it/s]\n",
      "iterations: 100%|██████████| 1000/1000 [00:00<00:00, 17984.94it/s]\n",
      "iterations:   0%|          | 0/1000 [00:00<?, ?it/s]"
     ]
    },
    {
     "name": "stdout",
     "output_type": "stream",
     "text": [
      "Experiment:  47\n",
      "Experiment:  48\n",
      "Experiment:  49\n",
      "Experiment:  50\n"
     ]
    },
    {
     "name": "stderr",
     "output_type": "stream",
     "text": [
      "iterations: 100%|██████████| 1000/1000 [00:00<00:00, 12627.02it/s]\n",
      "iterations: 100%|██████████| 1000/1000 [00:00<00:00, 12034.86it/s]\n",
      "iterations: 100%|██████████| 1000/1000 [00:00<00:00, 14576.56it/s]\n",
      "iterations:   0%|          | 0/1000 [00:00<?, ?it/s]"
     ]
    },
    {
     "name": "stdout",
     "output_type": "stream",
     "text": [
      "Experiment:  51\n",
      "Experiment:  52\n",
      "Experiment:  53\n"
     ]
    },
    {
     "name": "stderr",
     "output_type": "stream",
     "text": [
      "iterations: 100%|██████████| 1000/1000 [00:00<00:00, 14278.58it/s]\n",
      "iterations: 100%|██████████| 1000/1000 [00:00<00:00, 13814.46it/s]\n",
      "iterations: 100%|██████████| 1000/1000 [00:00<00:00, 11220.93it/s]\n",
      "iterations:   0%|          | 0/1000 [00:00<?, ?it/s]"
     ]
    },
    {
     "name": "stdout",
     "output_type": "stream",
     "text": [
      "Experiment:  54\n",
      "Experiment:  55\n",
      "Experiment:  56\n"
     ]
    },
    {
     "name": "stderr",
     "output_type": "stream",
     "text": [
      "iterations: 100%|██████████| 1000/1000 [00:00<00:00, 14587.46it/s]\n",
      "iterations: 100%|██████████| 1000/1000 [00:00<00:00, 16376.00it/s]\n",
      "iterations: 100%|██████████| 1000/1000 [00:00<00:00, 14251.12it/s]\n",
      "iterations: 100%|██████████| 1000/1000 [00:00<00:00, 16743.93it/s]"
     ]
    },
    {
     "name": "stdout",
     "output_type": "stream",
     "text": [
      "Experiment:  57\n",
      "Experiment:  58\n",
      "Experiment:  59\n"
     ]
    },
    {
     "name": "stderr",
     "output_type": "stream",
     "text": [
      "\n",
      "iterations: 100%|██████████| 1000/1000 [00:00<00:00, 14691.70it/s]\n",
      "iterations: 100%|██████████| 1000/1000 [00:00<00:00, 16949.15it/s]\n",
      "iterations:   0%|          | 0/1000 [00:00<?, ?it/s]"
     ]
    },
    {
     "name": "stdout",
     "output_type": "stream",
     "text": [
      "Experiment:  60\n",
      "Experiment:  61\n",
      "Experiment:  62\n"
     ]
    },
    {
     "name": "stderr",
     "output_type": "stream",
     "text": [
      "iterations: 100%|██████████| 1000/1000 [00:00<00:00, 11743.55it/s]\n",
      "iterations: 100%|██████████| 1000/1000 [00:00<00:00, 13738.17it/s]\n",
      "iterations: 100%|██████████| 1000/1000 [00:00<00:00, 15374.51it/s]\n",
      "iterations:   0%|          | 0/1000 [00:00<?, ?it/s]"
     ]
    },
    {
     "name": "stdout",
     "output_type": "stream",
     "text": [
      "Experiment:  63\n",
      "Experiment:  64\n",
      "Experiment:  65\n"
     ]
    },
    {
     "name": "stderr",
     "output_type": "stream",
     "text": [
      "iterations: 100%|██████████| 1000/1000 [00:00<00:00, 13946.38it/s]\n",
      "iterations: 100%|██████████| 1000/1000 [00:00<00:00, 15227.65it/s]\n",
      "iterations: 100%|██████████| 1000/1000 [00:00<00:00, 15997.25it/s]\n",
      "iterations:   0%|          | 0/1000 [00:00<?, ?it/s]"
     ]
    },
    {
     "name": "stdout",
     "output_type": "stream",
     "text": [
      "Experiment:  66\n",
      "Experiment:  67\n",
      "Experiment:  68\n"
     ]
    },
    {
     "name": "stderr",
     "output_type": "stream",
     "text": [
      "iterations: 100%|██████████| 1000/1000 [00:00<00:00, 12751.67it/s]\n",
      "iterations: 100%|██████████| 1000/1000 [00:00<00:00, 5908.52it/s]\n",
      "iterations:   0%|          | 0/1000 [00:00<?, ?it/s]"
     ]
    },
    {
     "name": "stdout",
     "output_type": "stream",
     "text": [
      "Experiment:  69\n",
      "Experiment:  70\n"
     ]
    },
    {
     "name": "stderr",
     "output_type": "stream",
     "text": [
      "iterations: 100%|██████████| 1000/1000 [00:00<00:00, 11691.54it/s]\n",
      "iterations: 100%|██████████| 1000/1000 [00:00<00:00, 16956.34it/s]\n",
      "iterations: 100%|██████████| 1000/1000 [00:00<00:00, 14309.02it/s]\n",
      "iterations:   0%|          | 0/1000 [00:00<?, ?it/s]"
     ]
    },
    {
     "name": "stdout",
     "output_type": "stream",
     "text": [
      "Experiment:  71\n",
      "Experiment:  72\n",
      "Experiment:  73\n"
     ]
    },
    {
     "name": "stderr",
     "output_type": "stream",
     "text": [
      "iterations: 100%|██████████| 1000/1000 [00:00<00:00, 14630.15it/s]\n",
      "iterations: 100%|██████████| 1000/1000 [00:00<00:00, 14551.98it/s]\n",
      "iterations: 100%|██████████| 1000/1000 [00:00<00:00, 15123.11it/s]\n",
      "iterations:   0%|          | 0/1000 [00:00<?, ?it/s]"
     ]
    },
    {
     "name": "stdout",
     "output_type": "stream",
     "text": [
      "Experiment:  74\n",
      "Experiment:  75\n",
      "Experiment:  76\n"
     ]
    },
    {
     "name": "stderr",
     "output_type": "stream",
     "text": [
      "iterations: 100%|██████████| 1000/1000 [00:00<00:00, 10764.01it/s]\n",
      "iterations: 100%|██████████| 1000/1000 [00:00<00:00, 15692.96it/s]\n",
      "iterations: 100%|██████████| 1000/1000 [00:00<00:00, 14738.84it/s]\n",
      "iterations:   0%|          | 0/1000 [00:00<?, ?it/s]"
     ]
    },
    {
     "name": "stdout",
     "output_type": "stream",
     "text": [
      "Experiment:  77\n",
      "Experiment:  78\n",
      "Experiment:  79\n"
     ]
    },
    {
     "name": "stderr",
     "output_type": "stream",
     "text": [
      "iterations: 100%|██████████| 1000/1000 [00:00<00:00, 12639.69it/s]\n",
      "iterations: 100%|██████████| 1000/1000 [00:00<00:00, 13790.84it/s]\n",
      "iterations: 100%|██████████| 1000/1000 [00:00<00:00, 15525.03it/s]\n",
      "iterations:   0%|          | 0/1000 [00:00<?, ?it/s]"
     ]
    },
    {
     "name": "stdout",
     "output_type": "stream",
     "text": [
      "Experiment:  80\n",
      "Experiment:  81\n",
      "Experiment:  82\n"
     ]
    },
    {
     "name": "stderr",
     "output_type": "stream",
     "text": [
      "iterations: 100%|██████████| 1000/1000 [00:00<00:00, 13265.56it/s]\n",
      "iterations: 100%|██████████| 1000/1000 [00:00<00:00, 10721.31it/s]\n",
      "iterations: 100%|██████████| 1000/1000 [00:00<00:00, 16531.69it/s]\n",
      "iterations:   0%|          | 0/1000 [00:00<?, ?it/s]"
     ]
    },
    {
     "name": "stdout",
     "output_type": "stream",
     "text": [
      "Experiment:  83\n",
      "Experiment:  84\n",
      "Experiment:  85\n"
     ]
    },
    {
     "name": "stderr",
     "output_type": "stream",
     "text": [
      "iterations: 100%|██████████| 1000/1000 [00:00<00:00, 14525.38it/s]\n",
      "iterations: 100%|██████████| 1000/1000 [00:00<00:00, 17699.43it/s]\n",
      "iterations: 100%|██████████| 1000/1000 [00:00<00:00, 13286.02it/s]\n",
      "iterations:   0%|          | 0/1000 [00:00<?, ?it/s]"
     ]
    },
    {
     "name": "stdout",
     "output_type": "stream",
     "text": [
      "Experiment:  86\n",
      "Experiment:  87\n",
      "Experiment:  88\n"
     ]
    },
    {
     "name": "stderr",
     "output_type": "stream",
     "text": [
      "iterations: 100%|██████████| 1000/1000 [00:00<00:00, 15656.58it/s]\n",
      "iterations: 100%|██████████| 1000/1000 [00:00<00:00, 15050.02it/s]\n",
      "iterations: 100%|██████████| 1000/1000 [00:00<00:00, 15236.22it/s]\n",
      "iterations:   0%|          | 0/1000 [00:00<?, ?it/s]"
     ]
    },
    {
     "name": "stdout",
     "output_type": "stream",
     "text": [
      "Experiment:  89\n",
      "Experiment:  90\n",
      "Experiment:  91\n"
     ]
    },
    {
     "name": "stderr",
     "output_type": "stream",
     "text": [
      "iterations: 100%|██████████| 1000/1000 [00:00<00:00, 9515.47it/s]\n",
      "iterations: 100%|██████████| 1000/1000 [00:00<00:00, 14028.99it/s]\n",
      "iterations: 100%|██████████| 1000/1000 [00:00<00:00, 17606.63it/s]\n",
      "iterations:   0%|          | 0/1000 [00:00<?, ?it/s]"
     ]
    },
    {
     "name": "stdout",
     "output_type": "stream",
     "text": [
      "Experiment:  92\n",
      "Experiment:  93\n",
      "Experiment:  94\n"
     ]
    },
    {
     "name": "stderr",
     "output_type": "stream",
     "text": [
      "iterations: 100%|██████████| 1000/1000 [00:00<00:00, 12995.80it/s]\n",
      "iterations: 100%|██████████| 1000/1000 [00:00<00:00, 14673.71it/s]\n",
      "iterations: 100%|██████████| 1000/1000 [00:00<00:00, 14897.83it/s]\n",
      "iterations:   0%|          | 0/1000 [00:00<?, ?it/s]"
     ]
    },
    {
     "name": "stdout",
     "output_type": "stream",
     "text": [
      "Experiment:  95\n",
      "Experiment:  96\n",
      "Experiment:  97\n"
     ]
    },
    {
     "name": "stderr",
     "output_type": "stream",
     "text": [
      "iterations: 100%|██████████| 1000/1000 [00:00<00:00, 10998.19it/s]\n",
      "iterations: 100%|██████████| 1000/1000 [00:00<00:00, 14905.82it/s]\n",
      "iterations: 100%|██████████| 1000/1000 [00:00<00:00, 15592.38it/s]\n",
      "iterations: 100%|██████████| 1000/1000 [00:00<00:00, 16533.25it/s]\n"
     ]
    },
    {
     "name": "stdout",
     "output_type": "stream",
     "text": [
      "Experiment:  98\n",
      "Experiment:  99\n",
      "Experiment:  100\n",
      "Experiment: "
     ]
    },
    {
     "name": "stderr",
     "output_type": "stream",
     "text": [
      "iterations: 100%|██████████| 1000/1000 [00:00<00:00, 13031.70it/s]\n",
      "iterations: 100%|██████████| 1000/1000 [00:00<00:00, 15438.51it/s]\n",
      "iterations:   0%|          | 0/1000 [00:00<?, ?it/s]"
     ]
    },
    {
     "name": "stdout",
     "output_type": "stream",
     "text": [
      " 101\n",
      "Experiment:  102\n",
      "Experiment:  103\n"
     ]
    },
    {
     "name": "stderr",
     "output_type": "stream",
     "text": [
      "iterations: 100%|██████████| 1000/1000 [00:00<00:00, 15079.40it/s]\n",
      "iterations: 100%|██████████| 1000/1000 [00:00<00:00, 14393.28it/s]\n",
      "iterations: 100%|██████████| 1000/1000 [00:00<00:00, 12732.70it/s]\n",
      "iterations:   0%|          | 0/1000 [00:00<?, ?it/s]"
     ]
    },
    {
     "name": "stdout",
     "output_type": "stream",
     "text": [
      "Experiment:  104\n",
      "Experiment:  105\n",
      "Experiment:  106\n"
     ]
    },
    {
     "name": "stderr",
     "output_type": "stream",
     "text": [
      "iterations: 100%|██████████| 1000/1000 [00:00<00:00, 16136.78it/s]\n",
      "iterations: 100%|██████████| 1000/1000 [00:00<00:00, 15849.87it/s]\n",
      "iterations: 100%|██████████| 1000/1000 [00:00<00:00, 12742.60it/s]\n",
      "iterations:   0%|          | 0/1000 [00:00<?, ?it/s]"
     ]
    },
    {
     "name": "stdout",
     "output_type": "stream",
     "text": [
      "Experiment:  107\n",
      "Experiment:  108\n",
      "Experiment:  109\n"
     ]
    },
    {
     "name": "stderr",
     "output_type": "stream",
     "text": [
      "iterations: 100%|██████████| 1000/1000 [00:00<00:00, 13279.00it/s]\n",
      "iterations: 100%|██████████| 1000/1000 [00:00<00:00, 14754.70it/s]\n",
      "iterations: 100%|██████████| 1000/1000 [00:00<00:00, 18124.05it/s]\n",
      "iterations:   0%|          | 0/1000 [00:00<?, ?it/s]"
     ]
    },
    {
     "name": "stdout",
     "output_type": "stream",
     "text": [
      "Experiment:  110\n",
      "Experiment:  111\n",
      "Experiment:  112\n"
     ]
    },
    {
     "name": "stderr",
     "output_type": "stream",
     "text": [
      "iterations: 100%|██████████| 1000/1000 [00:00<00:00, 12389.43it/s]\n",
      "iterations: 100%|██████████| 1000/1000 [00:00<00:00, 17035.82it/s]\n",
      "iterations: 100%|██████████| 1000/1000 [00:00<00:00, 16975.28it/s]\n",
      "iterations: 100%|██████████| 1000/1000 [00:00<00:00, 17127.72it/s]\n",
      "iterations:   0%|          | 0/1000 [00:00<?, ?it/s]"
     ]
    },
    {
     "name": "stdout",
     "output_type": "stream",
     "text": [
      "Experiment:  113\n",
      "Experiment:  114\n",
      "Experiment:  115\n",
      "Experiment:  116\n"
     ]
    },
    {
     "name": "stderr",
     "output_type": "stream",
     "text": [
      "iterations: 100%|██████████| 1000/1000 [00:00<00:00, 10204.30it/s]\n",
      "iterations: 100%|██████████| 1000/1000 [00:00<00:00, 16690.89it/s]\n",
      "iterations: 100%|██████████| 1000/1000 [00:00<00:00, 16521.33it/s]\n",
      "iterations:   0%|          | 0/1000 [00:00<?, ?it/s]"
     ]
    },
    {
     "name": "stdout",
     "output_type": "stream",
     "text": [
      "Experiment:  117\n",
      "Experiment:  118\n",
      "Experiment:  119\n"
     ]
    },
    {
     "name": "stderr",
     "output_type": "stream",
     "text": [
      "iterations: 100%|██████████| 1000/1000 [00:00<00:00, 5611.30it/s]\n",
      "iterations: 100%|██████████| 1000/1000 [00:00<00:00, 10600.40it/s]\n",
      "iterations: 100%|██████████| 1000/1000 [00:00<00:00, 10499.57it/s]\n",
      "iterations:   0%|          | 0/1000 [00:00<?, ?it/s]"
     ]
    },
    {
     "name": "stdout",
     "output_type": "stream",
     "text": [
      "Experiment:  120\n",
      "Experiment:  121\n",
      "Experiment:  122\n"
     ]
    },
    {
     "name": "stderr",
     "output_type": "stream",
     "text": [
      "iterations: 100%|██████████| 1000/1000 [00:00<00:00, 10580.94it/s]\n",
      "iterations: 100%|██████████| 1000/1000 [00:00<00:00, 14847.36it/s]\n",
      "iterations: 100%|██████████| 1000/1000 [00:00<00:00, 15555.66it/s]\n",
      "iterations:   0%|          | 0/1000 [00:00<?, ?it/s]"
     ]
    },
    {
     "name": "stdout",
     "output_type": "stream",
     "text": [
      "Experiment:  123\n",
      "Experiment:  124\n",
      "Experiment:  125\n"
     ]
    },
    {
     "name": "stderr",
     "output_type": "stream",
     "text": [
      "iterations: 100%|██████████| 1000/1000 [00:00<00:00, 15057.31it/s]\n",
      "iterations: 100%|██████████| 1000/1000 [00:00<00:00, 19329.66it/s]\n",
      "iterations: 100%|██████████| 1000/1000 [00:00<00:00, 11880.13it/s]\n",
      "iterations: 100%|██████████| 1000/1000 [00:00<00:00, 18848.01it/s]\n",
      "iterations:   0%|          | 0/1000 [00:00<?, ?it/s]"
     ]
    },
    {
     "name": "stdout",
     "output_type": "stream",
     "text": [
      "Experiment:  126\n",
      "Experiment:  127\n",
      "Experiment:  128\n",
      "Experiment:  129\n"
     ]
    },
    {
     "name": "stderr",
     "output_type": "stream",
     "text": [
      "iterations: 100%|██████████| 1000/1000 [00:00<00:00, 18290.50it/s]\n",
      "iterations: 100%|██████████| 1000/1000 [00:00<00:00, 17830.42it/s]\n",
      "iterations: 100%|██████████| 1000/1000 [00:00<00:00, 17118.91it/s]\n",
      "iterations: 100%|██████████| 1000/1000 [00:00<00:00, 17212.63it/s]\n",
      "iterations:   0%|          | 0/1000 [00:00<?, ?it/s]"
     ]
    },
    {
     "name": "stdout",
     "output_type": "stream",
     "text": [
      "Experiment:  130\n",
      "Experiment:  131\n",
      "Experiment:  132\n",
      "Experiment:  133\n"
     ]
    },
    {
     "name": "stderr",
     "output_type": "stream",
     "text": [
      "iterations: 100%|██████████| 1000/1000 [00:00<00:00, 15065.48it/s]\n",
      "iterations: 100%|██████████| 1000/1000 [00:00<00:00, 13314.15it/s]\n",
      "iterations: 100%|██████████| 1000/1000 [00:00<00:00, 14434.40it/s]\n",
      "iterations:   0%|          | 0/1000 [00:00<?, ?it/s]"
     ]
    },
    {
     "name": "stdout",
     "output_type": "stream",
     "text": [
      "Experiment:  134\n",
      "Experiment:  135\n",
      "Experiment:  136\n"
     ]
    },
    {
     "name": "stderr",
     "output_type": "stream",
     "text": [
      "iterations: 100%|██████████| 1000/1000 [00:00<00:00, 16469.56it/s]\n",
      "iterations: 100%|██████████| 1000/1000 [00:00<00:00, 16942.85it/s]\n",
      "iterations: 100%|██████████| 1000/1000 [00:00<00:00, 17357.73it/s]\n",
      "iterations: 100%|██████████| 1000/1000 [00:00<00:00, 17947.85it/s]\n",
      "iterations:   0%|          | 0/1000 [00:00<?, ?it/s]"
     ]
    },
    {
     "name": "stdout",
     "output_type": "stream",
     "text": [
      "Experiment:  137\n",
      "Experiment:  138\n",
      "Experiment:  139\n",
      "Experiment:  140\n"
     ]
    },
    {
     "name": "stderr",
     "output_type": "stream",
     "text": [
      "iterations: 100%|██████████| 1000/1000 [00:00<00:00, 16977.89it/s]\n",
      "iterations: 100%|██████████| 1000/1000 [00:00<00:00, 16643.67it/s]\n",
      "iterations: 100%|██████████| 1000/1000 [00:00<00:00, 13931.28it/s]\n",
      "iterations: 100%|██████████| 1000/1000 [00:00<00:00, 16875.09it/s]"
     ]
    },
    {
     "name": "stdout",
     "output_type": "stream",
     "text": [
      "Experiment:  141\n",
      "Experiment:  142\n",
      "Experiment:  143\n"
     ]
    },
    {
     "name": "stderr",
     "output_type": "stream",
     "text": [
      "\n",
      "iterations: 100%|██████████| 1000/1000 [00:00<00:00, 15030.76it/s]\n",
      "iterations: 100%|██████████| 1000/1000 [00:00<00:00, 16902.43it/s]\n",
      "iterations: 100%|██████████| 1000/1000 [00:00<00:00, 15653.78it/s]\n",
      "iterations:   0%|          | 0/1000 [00:00<?, ?it/s]"
     ]
    },
    {
     "name": "stdout",
     "output_type": "stream",
     "text": [
      "Experiment:  144\n",
      "Experiment:  145\n",
      "Experiment:  146\n",
      "Experiment:  147\n"
     ]
    },
    {
     "name": "stderr",
     "output_type": "stream",
     "text": [
      "iterations: 100%|██████████| 1000/1000 [00:00<00:00, 15686.03it/s]\n",
      "iterations: 100%|██████████| 1000/1000 [00:00<00:00, 13920.78it/s]\n",
      "iterations: 100%|██████████| 1000/1000 [00:00<00:00, 15711.95it/s]\n",
      "iterations:   0%|          | 0/1000 [00:00<?, ?it/s]"
     ]
    },
    {
     "name": "stdout",
     "output_type": "stream",
     "text": [
      "Experiment:  148\n",
      "Experiment:  149\n",
      "Experiment:  150\n"
     ]
    },
    {
     "name": "stderr",
     "output_type": "stream",
     "text": [
      "iterations: 100%|██████████| 1000/1000 [00:00<00:00, 15095.90it/s]\n",
      "iterations: 100%|██████████| 1000/1000 [00:00<00:00, 14861.30it/s]\n",
      "iterations: 100%|██████████| 1000/1000 [00:00<00:00, 16790.65it/s]\n",
      "iterations: 100%|██████████| 1000/1000 [00:00<00:00, 15993.11it/s]\n",
      "iterations:   0%|          | 0/1000 [00:00<?, ?it/s]"
     ]
    },
    {
     "name": "stdout",
     "output_type": "stream",
     "text": [
      "Experiment:  151\n",
      "Experiment:  152\n",
      "Experiment:  153\n",
      "Experiment:  154\n"
     ]
    },
    {
     "name": "stderr",
     "output_type": "stream",
     "text": [
      "iterations: 100%|██████████| 1000/1000 [00:00<00:00, 14944.32it/s]\n",
      "iterations: 100%|██████████| 1000/1000 [00:00<00:00, 15458.54it/s]\n",
      "iterations: 100%|██████████| 1000/1000 [00:00<00:00, 16205.61it/s]\n",
      "iterations: 100%|██████████| 1000/1000 [00:00<00:00, 15422.33it/s]"
     ]
    },
    {
     "name": "stdout",
     "output_type": "stream",
     "text": [
      "Experiment:  155\n",
      "Experiment:  156\n",
      "Experiment:  157\n"
     ]
    },
    {
     "name": "stderr",
     "output_type": "stream",
     "text": [
      "\n",
      "iterations: 100%|██████████| 1000/1000 [00:00<00:00, 17846.58it/s]\n",
      "iterations: 100%|██████████| 1000/1000 [00:00<00:00, 16760.72it/s]\n",
      "iterations:   0%|          | 0/1000 [00:00<?, ?it/s]"
     ]
    },
    {
     "name": "stdout",
     "output_type": "stream",
     "text": [
      "Experiment:  158\n",
      "Experiment:  159\n",
      "Experiment:  160\n"
     ]
    },
    {
     "name": "stderr",
     "output_type": "stream",
     "text": [
      "iterations: 100%|██████████| 1000/1000 [00:00<00:00, 9296.88it/s]\n",
      "iterations: 100%|██████████| 1000/1000 [00:00<00:00, 10891.33it/s]\n",
      "iterations: 100%|██████████| 1000/1000 [00:00<00:00, 16224.29it/s]\n",
      "iterations:   0%|          | 0/1000 [00:00<?, ?it/s]"
     ]
    },
    {
     "name": "stdout",
     "output_type": "stream",
     "text": [
      "Experiment:  161\n",
      "Experiment:  162\n",
      "Experiment:  163\n"
     ]
    },
    {
     "name": "stderr",
     "output_type": "stream",
     "text": [
      "iterations: 100%|██████████| 1000/1000 [00:00<00:00, 14677.61it/s]\n",
      "iterations: 100%|██████████| 1000/1000 [00:00<00:00, 15865.22it/s]\n",
      "iterations: 100%|██████████| 1000/1000 [00:00<00:00, 16090.10it/s]\n",
      "iterations: 100%|██████████| 1000/1000 [00:00<00:00, 16357.48it/s]\n"
     ]
    },
    {
     "name": "stdout",
     "output_type": "stream",
     "text": [
      "Experiment:  164\n",
      "Experiment:  165\n",
      "Experiment:  166\n",
      "Experiment:  167\n"
     ]
    },
    {
     "name": "stderr",
     "output_type": "stream",
     "text": [
      "iterations: 100%|██████████| 1000/1000 [00:00<00:00, 11772.59it/s]\n",
      "iterations: 100%|██████████| 1000/1000 [00:00<00:00, 15728.38it/s]\n",
      "iterations: 100%|██████████| 1000/1000 [00:00<00:00, 15774.82it/s]\n",
      "iterations:   0%|          | 0/1000 [00:00<?, ?it/s]"
     ]
    },
    {
     "name": "stdout",
     "output_type": "stream",
     "text": [
      "Experiment:  168\n",
      "Experiment:  169\n",
      "Experiment:  170\n"
     ]
    },
    {
     "name": "stderr",
     "output_type": "stream",
     "text": [
      "iterations: 100%|██████████| 1000/1000 [00:00<00:00, 12314.20it/s]\n",
      "iterations: 100%|██████████| 1000/1000 [00:00<00:00, 12332.42it/s]\n",
      "iterations: 100%|██████████| 1000/1000 [00:00<00:00, 15192.02it/s]\n",
      "iterations:   0%|          | 0/1000 [00:00<?, ?it/s]"
     ]
    },
    {
     "name": "stdout",
     "output_type": "stream",
     "text": [
      "Experiment:  171\n",
      "Experiment:  172\n",
      "Experiment:  173\n"
     ]
    },
    {
     "name": "stderr",
     "output_type": "stream",
     "text": [
      "iterations: 100%|██████████| 1000/1000 [00:00<00:00, 16944.83it/s]\n",
      "iterations: 100%|██████████| 1000/1000 [00:00<00:00, 13915.98it/s]\n",
      "iterations: 100%|██████████| 1000/1000 [00:00<00:00, 14688.77it/s]\n",
      "iterations:   0%|          | 0/1000 [00:00<?, ?it/s]"
     ]
    },
    {
     "name": "stdout",
     "output_type": "stream",
     "text": [
      "Experiment:  174\n",
      "Experiment:  175\n",
      "Experiment:  176\n"
     ]
    },
    {
     "name": "stderr",
     "output_type": "stream",
     "text": [
      "iterations: 100%|██████████| 1000/1000 [00:00<00:00, 12882.13it/s]\n",
      "iterations: 100%|██████████| 1000/1000 [00:00<00:00, 13849.67it/s]\n",
      "iterations: 100%|██████████| 1000/1000 [00:00<00:00, 16333.21it/s]\n",
      "iterations:   0%|          | 0/1000 [00:00<?, ?it/s]"
     ]
    },
    {
     "name": "stdout",
     "output_type": "stream",
     "text": [
      "Experiment:  177\n",
      "Experiment:  178\n",
      "Experiment:  179\n"
     ]
    },
    {
     "name": "stderr",
     "output_type": "stream",
     "text": [
      "iterations: 100%|██████████| 1000/1000 [00:00<00:00, 16012.03it/s]\n",
      "iterations: 100%|██████████| 1000/1000 [00:00<00:00, 14516.73it/s]\n",
      "iterations: 100%|██████████| 1000/1000 [00:00<00:00, 14378.58it/s]\n",
      "iterations:   0%|          | 0/1000 [00:00<?, ?it/s]"
     ]
    },
    {
     "name": "stdout",
     "output_type": "stream",
     "text": [
      "Experiment:  180\n",
      "Experiment:  181\n",
      "Experiment:  182\n"
     ]
    },
    {
     "name": "stderr",
     "output_type": "stream",
     "text": [
      "iterations: 100%|██████████| 1000/1000 [00:00<00:00, 14455.44it/s]\n",
      "iterations: 100%|██████████| 1000/1000 [00:00<00:00, 15605.44it/s]\n",
      "iterations: 100%|██████████| 1000/1000 [00:00<00:00, 15162.31it/s]\n",
      "iterations: 100%|██████████| 1000/1000 [00:00<00:00, 15871.46it/s]"
     ]
    },
    {
     "name": "stdout",
     "output_type": "stream",
     "text": [
      "Experiment:  183\n",
      "Experiment:  184\n",
      "Experiment:  185\n"
     ]
    },
    {
     "name": "stderr",
     "output_type": "stream",
     "text": [
      "\n",
      "iterations: 100%|██████████| 1000/1000 [00:00<00:00, 15796.80it/s]\n",
      "iterations: 100%|██████████| 1000/1000 [00:00<00:00, 16023.84it/s]\n",
      "iterations: 100%|██████████| 1000/1000 [00:00<00:00, 16065.76it/s]\n",
      "iterations:   0%|          | 0/1000 [00:00<?, ?it/s]"
     ]
    },
    {
     "name": "stdout",
     "output_type": "stream",
     "text": [
      "Experiment:  186\n",
      "Experiment:  187\n",
      "Experiment:  188\n",
      "Experiment:  189\n"
     ]
    },
    {
     "name": "stderr",
     "output_type": "stream",
     "text": [
      "iterations: 100%|██████████| 1000/1000 [00:00<00:00, 14561.99it/s]\n",
      "iterations: 100%|██████████| 1000/1000 [00:00<00:00, 15340.94it/s]\n",
      "iterations: 100%|██████████| 1000/1000 [00:00<00:00, 14634.19it/s]\n",
      "iterations:   0%|          | 0/1000 [00:00<?, ?it/s]"
     ]
    },
    {
     "name": "stdout",
     "output_type": "stream",
     "text": [
      "Experiment:  190\n",
      "Experiment:  191\n",
      "Experiment:  192\n"
     ]
    },
    {
     "name": "stderr",
     "output_type": "stream",
     "text": [
      "iterations: 100%|██████████| 1000/1000 [00:00<00:00, 12372.87it/s]\n",
      "iterations: 100%|██████████| 1000/1000 [00:00<00:00, 17346.89it/s]\n",
      "iterations: 100%|██████████| 1000/1000 [00:00<00:00, 19018.94it/s]\n",
      "iterations: 100%|██████████| 1000/1000 [00:00<00:00, 16008.18it/s]\n",
      "iterations:   0%|          | 0/1000 [00:00<?, ?it/s]"
     ]
    },
    {
     "name": "stdout",
     "output_type": "stream",
     "text": [
      "Experiment:  193\n",
      "Experiment:  194\n",
      "Experiment:  195\n",
      "Experiment:  196\n"
     ]
    },
    {
     "name": "stderr",
     "output_type": "stream",
     "text": [
      "iterations: 100%|██████████| 1000/1000 [00:00<00:00, 14210.46it/s]\n",
      "iterations: 100%|██████████| 1000/1000 [00:00<00:00, 16881.68it/s]\n",
      "iterations: 100%|██████████| 1000/1000 [00:00<00:00, 15998.23it/s]\n",
      "iterations: 100%|██████████| 1000/1000 [00:00<00:00, 15734.64it/s]\n",
      "iterations:   0%|          | 0/1000 [00:00<?, ?it/s]"
     ]
    },
    {
     "name": "stdout",
     "output_type": "stream",
     "text": [
      "Experiment:  197\n",
      "Experiment:  198\n",
      "Experiment:  199\n",
      "Experiment:  200\n"
     ]
    },
    {
     "name": "stderr",
     "output_type": "stream",
     "text": [
      "iterations: 100%|██████████| 1000/1000 [00:00<00:00, 12813.76it/s]\n",
      "iterations: 100%|██████████| 1000/1000 [00:00<00:00, 15188.33it/s]\n",
      "iterations: 100%|██████████| 1000/1000 [00:00<00:00, 15349.69it/s]\n",
      "iterations:   0%|          | 0/1000 [00:00<?, ?it/s]"
     ]
    },
    {
     "name": "stdout",
     "output_type": "stream",
     "text": [
      "Experiment:  201\n",
      "Experiment:  202\n",
      "Experiment:  203\n"
     ]
    },
    {
     "name": "stderr",
     "output_type": "stream",
     "text": [
      "iterations: 100%|██████████| 1000/1000 [00:00<00:00, 14709.27it/s]\n",
      "iterations: 100%|██████████| 1000/1000 [00:00<00:00, 15531.81it/s]\n",
      "iterations: 100%|██████████| 1000/1000 [00:00<00:00, 13114.45it/s]\n",
      "iterations:   0%|          | 0/1000 [00:00<?, ?it/s]"
     ]
    },
    {
     "name": "stdout",
     "output_type": "stream",
     "text": [
      "Experiment:  204\n",
      "Experiment:  205\n",
      "Experiment:  206\n"
     ]
    },
    {
     "name": "stderr",
     "output_type": "stream",
     "text": [
      "iterations: 100%|██████████| 1000/1000 [00:00<00:00, 14511.46it/s]\n",
      "iterations: 100%|██████████| 1000/1000 [00:00<00:00, 19165.55it/s]\n",
      "iterations: 100%|██████████| 1000/1000 [00:00<00:00, 16735.04it/s]\n",
      "iterations: 100%|██████████| 1000/1000 [00:00<00:00, 15478.45it/s]\n",
      "iterations:   0%|          | 0/1000 [00:00<?, ?it/s]"
     ]
    },
    {
     "name": "stdout",
     "output_type": "stream",
     "text": [
      "Experiment:  207\n",
      "Experiment:  208\n",
      "Experiment:  209\n",
      "Experiment:  210\n"
     ]
    },
    {
     "name": "stderr",
     "output_type": "stream",
     "text": [
      "iterations: 100%|██████████| 1000/1000 [00:00<00:00, 11416.46it/s]\n",
      "iterations: 100%|██████████| 1000/1000 [00:00<00:00, 13635.14it/s]\n",
      "iterations: 100%|██████████| 1000/1000 [00:00<00:00, 16556.81it/s]\n",
      "iterations:   0%|          | 0/1000 [00:00<?, ?it/s]"
     ]
    },
    {
     "name": "stdout",
     "output_type": "stream",
     "text": [
      "Experiment:  211\n",
      "Experiment:  212\n",
      "Experiment:  213\n"
     ]
    },
    {
     "name": "stderr",
     "output_type": "stream",
     "text": [
      "iterations: 100%|██████████| 1000/1000 [00:00<00:00, 14944.38it/s]\n",
      "iterations: 100%|██████████| 1000/1000 [00:00<00:00, 11699.33it/s]\n",
      "iterations: 100%|██████████| 1000/1000 [00:00<00:00, 15352.05it/s]\n",
      "iterations:   0%|          | 0/1000 [00:00<?, ?it/s]"
     ]
    },
    {
     "name": "stdout",
     "output_type": "stream",
     "text": [
      "Experiment:  214\n",
      "Experiment:  215\n",
      "Experiment:  216\n"
     ]
    },
    {
     "name": "stderr",
     "output_type": "stream",
     "text": [
      "iterations: 100%|██████████| 1000/1000 [00:00<00:00, 14642.36it/s]\n",
      "iterations: 100%|██████████| 1000/1000 [00:00<00:00, 14899.57it/s]\n",
      "iterations: 100%|██████████| 1000/1000 [00:00<00:00, 15214.67it/s]\n",
      "iterations:   0%|          | 0/1000 [00:00<?, ?it/s]"
     ]
    },
    {
     "name": "stdout",
     "output_type": "stream",
     "text": [
      "Experiment:  217\n",
      "Experiment:  218\n",
      "Experiment:  219\n"
     ]
    },
    {
     "name": "stderr",
     "output_type": "stream",
     "text": [
      "iterations: 100%|██████████| 1000/1000 [00:00<00:00, 15276.51it/s]\n",
      "iterations: 100%|██████████| 1000/1000 [00:00<00:00, 15436.64it/s]\n",
      "iterations: 100%|██████████| 1000/1000 [00:00<00:00, 14412.77it/s]\n",
      "iterations:   0%|          | 0/1000 [00:00<?, ?it/s]"
     ]
    },
    {
     "name": "stdout",
     "output_type": "stream",
     "text": [
      "Experiment:  220\n",
      "Experiment:  221\n",
      "Experiment:  222\n"
     ]
    },
    {
     "name": "stderr",
     "output_type": "stream",
     "text": [
      "iterations: 100%|██████████| 1000/1000 [00:00<00:00, 11517.43it/s]\n",
      "iterations: 100%|██████████| 1000/1000 [00:00<00:00, 6596.79it/s]\n",
      "iterations:   0%|          | 0/1000 [00:00<?, ?it/s]"
     ]
    },
    {
     "name": "stdout",
     "output_type": "stream",
     "text": [
      "Experiment:  223\n",
      "Experiment:  224\n"
     ]
    },
    {
     "name": "stderr",
     "output_type": "stream",
     "text": [
      "iterations: 100%|██████████| 1000/1000 [00:00<00:00, 7776.47it/s]\n",
      "iterations: 100%|██████████| 1000/1000 [00:00<00:00, 7092.40it/s]\n",
      "iterations:   0%|          | 0/1000 [00:00<?, ?it/s]"
     ]
    },
    {
     "name": "stdout",
     "output_type": "stream",
     "text": [
      "Experiment:  225\n",
      "Experiment:  226\n"
     ]
    },
    {
     "name": "stderr",
     "output_type": "stream",
     "text": [
      "iterations: 100%|██████████| 1000/1000 [00:00<00:00, 3644.25it/s]\n",
      "iterations: 100%|██████████| 1000/1000 [00:00<00:00, 6190.98it/s]\n",
      "iterations:   0%|          | 0/1000 [00:00<?, ?it/s]"
     ]
    },
    {
     "name": "stdout",
     "output_type": "stream",
     "text": [
      "Experiment:  227\n",
      "Experiment:  228\n"
     ]
    },
    {
     "name": "stderr",
     "output_type": "stream",
     "text": [
      "iterations: 100%|██████████| 1000/1000 [00:00<00:00, 10844.10it/s]\n",
      "iterations: 100%|██████████| 1000/1000 [00:00<00:00, 5297.54it/s]\n",
      "iterations:   0%|          | 0/1000 [00:00<?, ?it/s]"
     ]
    },
    {
     "name": "stdout",
     "output_type": "stream",
     "text": [
      "Experiment:  229\n",
      "Experiment:  230\n"
     ]
    },
    {
     "name": "stderr",
     "output_type": "stream",
     "text": [
      "iterations: 100%|██████████| 1000/1000 [00:00<00:00, 3365.28it/s]\n",
      "iterations: 100%|██████████| 1000/1000 [00:00<00:00, 7227.78it/s]\n",
      "iterations:   0%|          | 0/1000 [00:00<?, ?it/s]"
     ]
    },
    {
     "name": "stdout",
     "output_type": "stream",
     "text": [
      "Experiment:  231\n",
      "Experiment:  232\n"
     ]
    },
    {
     "name": "stderr",
     "output_type": "stream",
     "text": [
      "iterations: 100%|██████████| 1000/1000 [00:00<00:00, 9996.89it/s]\n",
      "iterations: 100%|██████████| 1000/1000 [00:00<00:00, 8168.67it/s]\n",
      "iterations:   0%|          | 0/1000 [00:00<?, ?it/s]"
     ]
    },
    {
     "name": "stdout",
     "output_type": "stream",
     "text": [
      "Experiment:  233\n",
      "Experiment:  234\n"
     ]
    },
    {
     "name": "stderr",
     "output_type": "stream",
     "text": [
      "iterations: 100%|██████████| 1000/1000 [00:00<00:00, 7419.00it/s]\n",
      "iterations: 100%|██████████| 1000/1000 [00:00<00:00, 5841.67it/s]\n",
      "iterations:   0%|          | 0/1000 [00:00<?, ?it/s]"
     ]
    },
    {
     "name": "stdout",
     "output_type": "stream",
     "text": [
      "Experiment:  235\n",
      "Experiment:  236\n"
     ]
    },
    {
     "name": "stderr",
     "output_type": "stream",
     "text": [
      "iterations: 100%|██████████| 1000/1000 [00:00<00:00, 7939.85it/s]\n",
      "iterations: 100%|██████████| 1000/1000 [00:00<00:00, 8120.19it/s]\n",
      "iterations:   0%|          | 0/1000 [00:00<?, ?it/s]"
     ]
    },
    {
     "name": "stdout",
     "output_type": "stream",
     "text": [
      "Experiment:  237\n",
      "Experiment:  238\n"
     ]
    },
    {
     "name": "stderr",
     "output_type": "stream",
     "text": [
      "iterations: 100%|██████████| 1000/1000 [00:00<00:00, 12181.77it/s]\n",
      "iterations: 100%|██████████| 1000/1000 [00:00<00:00, 14077.16it/s]\n",
      "iterations:  69%|██████▊   | 687/1000 [00:00<00:00, 6862.51it/s]"
     ]
    },
    {
     "name": "stdout",
     "output_type": "stream",
     "text": [
      "Experiment:  239\n",
      "Experiment:  240\n"
     ]
    },
    {
     "name": "stderr",
     "output_type": "stream",
     "text": [
      "iterations: 100%|██████████| 1000/1000 [00:00<00:00, 5583.72it/s]\n",
      "iterations: 100%|██████████| 1000/1000 [00:00<00:00, 8696.05it/s]\n",
      "iterations:   0%|          | 0/1000 [00:00<?, ?it/s]"
     ]
    },
    {
     "name": "stdout",
     "output_type": "stream",
     "text": [
      "Experiment:  241\n",
      "Experiment:  242\n"
     ]
    },
    {
     "name": "stderr",
     "output_type": "stream",
     "text": [
      "iterations: 100%|██████████| 1000/1000 [00:00<00:00, 11683.62it/s]\n",
      "iterations: 100%|██████████| 1000/1000 [00:00<00:00, 17762.31it/s]\n",
      "iterations: 100%|██████████| 1000/1000 [00:00<00:00, 17015.22it/s]\n",
      "iterations: 100%|██████████| 1000/1000 [00:00<00:00, 17056.12it/s]\n",
      "iterations:   0%|          | 0/1000 [00:00<?, ?it/s]"
     ]
    },
    {
     "name": "stdout",
     "output_type": "stream",
     "text": [
      "Experiment:  243\n",
      "Experiment:  244\n",
      "Experiment:  245\n",
      "Experiment:  246\n"
     ]
    },
    {
     "name": "stderr",
     "output_type": "stream",
     "text": [
      "iterations: 100%|██████████| 1000/1000 [00:00<00:00, 14892.27it/s]\n",
      "iterations: 100%|██████████| 1000/1000 [00:00<00:00, 14241.54it/s]\n",
      "iterations: 100%|██████████| 1000/1000 [00:00<00:00, 14735.57it/s]\n",
      "iterations:   0%|          | 0/1000 [00:00<?, ?it/s]"
     ]
    },
    {
     "name": "stdout",
     "output_type": "stream",
     "text": [
      "Experiment:  247\n",
      "Experiment:  248\n",
      "Experiment:  249\n"
     ]
    },
    {
     "name": "stderr",
     "output_type": "stream",
     "text": [
      "iterations: 100%|██████████| 1000/1000 [00:00<00:00, 15402.91it/s]\n",
      "iterations: 100%|██████████| 1000/1000 [00:00<00:00, 16881.61it/s]\n",
      "iterations: 100%|██████████| 1000/1000 [00:00<00:00, 16669.99it/s]\n",
      "iterations: 100%|██████████| 1000/1000 [00:00<00:00, 16797.10it/s]\n",
      "iterations:   0%|          | 0/1000 [00:00<?, ?it/s]"
     ]
    },
    {
     "name": "stdout",
     "output_type": "stream",
     "text": [
      "Experiment:  250\n",
      "Experiment:  251\n",
      "Experiment:  252\n",
      "Experiment:  253\n"
     ]
    },
    {
     "name": "stderr",
     "output_type": "stream",
     "text": [
      "iterations: 100%|██████████| 1000/1000 [00:00<00:00, 12530.22it/s]\n",
      "iterations: 100%|██████████| 1000/1000 [00:00<00:00, 9757.42it/s]\n",
      "iterations:   0%|          | 0/1000 [00:00<?, ?it/s]"
     ]
    },
    {
     "name": "stdout",
     "output_type": "stream",
     "text": [
      "Experiment:  254\n",
      "Experiment:  255\n"
     ]
    },
    {
     "name": "stderr",
     "output_type": "stream",
     "text": [
      "iterations: 100%|██████████| 1000/1000 [00:00<00:00, 7389.91it/s]\n",
      "iterations: 100%|██████████| 1000/1000 [00:00<00:00, 11579.15it/s]\n",
      "iterations:  87%|████████▋ | 871/1000 [00:00<00:00, 8705.07it/s]"
     ]
    },
    {
     "name": "stdout",
     "output_type": "stream",
     "text": [
      "Experiment:  256\n",
      "Experiment:  257\n"
     ]
    },
    {
     "name": "stderr",
     "output_type": "stream",
     "text": [
      "iterations: 100%|██████████| 1000/1000 [00:00<00:00, 7474.08it/s]\n",
      "iterations: 100%|██████████| 1000/1000 [00:00<00:00, 7596.48it/s]\n",
      "iterations:   0%|          | 0/1000 [00:00<?, ?it/s]"
     ]
    },
    {
     "name": "stdout",
     "output_type": "stream",
     "text": [
      "Experiment:  258\n",
      "Experiment:  259\n"
     ]
    },
    {
     "name": "stderr",
     "output_type": "stream",
     "text": [
      "iterations: 100%|██████████| 1000/1000 [00:00<00:00, 8230.92it/s]\n",
      "iterations: 100%|██████████| 1000/1000 [00:00<00:00, 15500.76it/s]\n",
      "iterations: 100%|██████████| 1000/1000 [00:00<00:00, 16943.94it/s]\n",
      "iterations: 100%|██████████| 1000/1000 [00:00<00:00, 16779.63it/s]\n",
      "iterations:   0%|          | 0/1000 [00:00<?, ?it/s]"
     ]
    },
    {
     "name": "stdout",
     "output_type": "stream",
     "text": [
      "Experiment:  260\n",
      "Experiment:  261\n",
      "Experiment:  262\n",
      "Experiment:  263\n"
     ]
    },
    {
     "name": "stderr",
     "output_type": "stream",
     "text": [
      "iterations: 100%|██████████| 1000/1000 [00:00<00:00, 16860.24it/s]\n",
      "iterations: 100%|██████████| 1000/1000 [00:00<00:00, 17773.00it/s]\n",
      "iterations: 100%|██████████| 1000/1000 [00:00<00:00, 18270.58it/s]\n",
      "iterations: 100%|██████████| 1000/1000 [00:00<00:00, 17412.20it/s]\n",
      "iterations:   0%|          | 0/1000 [00:00<?, ?it/s]"
     ]
    },
    {
     "name": "stdout",
     "output_type": "stream",
     "text": [
      "Experiment:  264\n",
      "Experiment:  265\n",
      "Experiment:  266\n",
      "Experiment:  267\n"
     ]
    },
    {
     "name": "stderr",
     "output_type": "stream",
     "text": [
      "iterations: 100%|██████████| 1000/1000 [00:00<00:00, 16530.58it/s]\n",
      "iterations: 100%|██████████| 1000/1000 [00:00<00:00, 17446.17it/s]\n",
      "iterations: 100%|██████████| 1000/1000 [00:00<00:00, 17706.30it/s]\n",
      "iterations: 100%|██████████| 1000/1000 [00:00<00:00, 17288.54it/s]\n",
      "iterations:   0%|          | 0/1000 [00:00<?, ?it/s]"
     ]
    },
    {
     "name": "stdout",
     "output_type": "stream",
     "text": [
      "Experiment:  268\n",
      "Experiment:  269\n",
      "Experiment:  270\n",
      "Experiment:  271\n"
     ]
    },
    {
     "name": "stderr",
     "output_type": "stream",
     "text": [
      "iterations: 100%|██████████| 1000/1000 [00:00<00:00, 17710.34it/s]\n",
      "iterations: 100%|██████████| 1000/1000 [00:00<00:00, 17520.14it/s]\n",
      "iterations: 100%|██████████| 1000/1000 [00:00<00:00, 16375.49it/s]\n",
      "iterations: 100%|██████████| 1000/1000 [00:00<00:00, 17320.24it/s]\n",
      "iterations:   0%|          | 0/1000 [00:00<?, ?it/s]"
     ]
    },
    {
     "name": "stdout",
     "output_type": "stream",
     "text": [
      "Experiment:  272\n",
      "Experiment:  273\n",
      "Experiment:  274\n",
      "Experiment:  275\n"
     ]
    },
    {
     "name": "stderr",
     "output_type": "stream",
     "text": [
      "iterations: 100%|██████████| 1000/1000 [00:00<00:00, 14057.77it/s]\n",
      "iterations: 100%|██████████| 1000/1000 [00:00<00:00, 15627.70it/s]\n",
      "iterations: 100%|██████████| 1000/1000 [00:00<00:00, 12807.90it/s]\n",
      "iterations:   0%|          | 0/1000 [00:00<?, ?it/s]"
     ]
    },
    {
     "name": "stdout",
     "output_type": "stream",
     "text": [
      "Experiment:  276\n",
      "Experiment:  277\n",
      "Experiment:  278\n"
     ]
    },
    {
     "name": "stderr",
     "output_type": "stream",
     "text": [
      "iterations: 100%|██████████| 1000/1000 [00:00<00:00, 15876.03it/s]\n",
      "iterations: 100%|██████████| 1000/1000 [00:00<00:00, 16360.80it/s]\n",
      "iterations: 100%|██████████| 1000/1000 [00:00<00:00, 16858.88it/s]\n",
      "iterations: 100%|██████████| 1000/1000 [00:00<00:00, 18466.21it/s]\n",
      "iterations:   0%|          | 0/1000 [00:00<?, ?it/s]"
     ]
    },
    {
     "name": "stdout",
     "output_type": "stream",
     "text": [
      "Experiment:  279\n",
      "Experiment:  280\n",
      "Experiment:  281\n",
      "Experiment:  282\n"
     ]
    },
    {
     "name": "stderr",
     "output_type": "stream",
     "text": [
      "iterations: 100%|██████████| 1000/1000 [00:00<00:00, 15199.62it/s]\n",
      "iterations: 100%|██████████| 1000/1000 [00:00<00:00, 18471.66it/s]\n",
      "iterations: 100%|██████████| 1000/1000 [00:00<00:00, 17805.60it/s]\n",
      "iterations: 100%|██████████| 1000/1000 [00:00<00:00, 18945.83it/s]\n",
      "iterations:   0%|          | 0/1000 [00:00<?, ?it/s]"
     ]
    },
    {
     "name": "stdout",
     "output_type": "stream",
     "text": [
      "Experiment:  283\n",
      "Experiment:  284\n",
      "Experiment:  285\n",
      "Experiment:  286\n"
     ]
    },
    {
     "name": "stderr",
     "output_type": "stream",
     "text": [
      "iterations: 100%|██████████| 1000/1000 [00:00<00:00, 7814.01it/s]\n",
      "iterations:  19%|█▉        | 188/1000 [00:00<00:00, 1879.38it/s]"
     ]
    },
    {
     "name": "stdout",
     "output_type": "stream",
     "text": [
      "Experiment:  287\n"
     ]
    },
    {
     "name": "stderr",
     "output_type": "stream",
     "text": [
      "iterations: 100%|██████████| 1000/1000 [00:00<00:00, 3017.69it/s]\n",
      "iterations: 100%|██████████| 1000/1000 [00:00<00:00, 7500.52it/s]\n",
      "iterations:   0%|          | 0/1000 [00:00<?, ?it/s]"
     ]
    },
    {
     "name": "stdout",
     "output_type": "stream",
     "text": [
      "Experiment:  288\n",
      "Experiment:  289\n"
     ]
    },
    {
     "name": "stderr",
     "output_type": "stream",
     "text": [
      "iterations: 100%|██████████| 1000/1000 [00:00<00:00, 13108.06it/s]\n",
      "iterations: 100%|██████████| 1000/1000 [00:00<00:00, 8173.88it/s]\n",
      "iterations:   0%|          | 0/1000 [00:00<?, ?it/s]"
     ]
    },
    {
     "name": "stdout",
     "output_type": "stream",
     "text": [
      "Experiment:  290\n",
      "Experiment:  291\n"
     ]
    },
    {
     "name": "stderr",
     "output_type": "stream",
     "text": [
      "iterations: 100%|██████████| 1000/1000 [00:00<00:00, 6790.67it/s]\n",
      "iterations: 100%|██████████| 1000/1000 [00:00<00:00, 12164.42it/s]\n",
      "iterations: 100%|██████████| 1000/1000 [00:00<00:00, 11641.18it/s]\n",
      "iterations:   0%|          | 0/1000 [00:00<?, ?it/s]"
     ]
    },
    {
     "name": "stdout",
     "output_type": "stream",
     "text": [
      "Experiment:  292\n",
      "Experiment:  293\n",
      "Experiment:  294\n"
     ]
    },
    {
     "name": "stderr",
     "output_type": "stream",
     "text": [
      "iterations: 100%|██████████| 1000/1000 [00:00<00:00, 7409.72it/s]\n",
      "iterations: 100%|██████████| 1000/1000 [00:00<00:00, 12540.30it/s]\n",
      "iterations: 100%|██████████| 1000/1000 [00:00<00:00, 15399.51it/s]\n",
      "iterations:   0%|          | 0/1000 [00:00<?, ?it/s]"
     ]
    },
    {
     "name": "stdout",
     "output_type": "stream",
     "text": [
      "Experiment:  295\n",
      "Experiment:  296\n",
      "Experiment:  297\n"
     ]
    },
    {
     "name": "stderr",
     "output_type": "stream",
     "text": [
      "iterations: 100%|██████████| 1000/1000 [00:00<00:00, 12738.00it/s]\n",
      "iterations: 100%|██████████| 1000/1000 [00:00<00:00, 17982.09it/s]\n",
      "iterations: 100%|██████████| 1000/1000 [00:00<00:00, 17163.04it/s]\n",
      "iterations: 100%|██████████| 1000/1000 [00:00<00:00, 17997.29it/s]\n",
      "iterations:   0%|          | 0/1000 [00:00<?, ?it/s]"
     ]
    },
    {
     "name": "stdout",
     "output_type": "stream",
     "text": [
      "Experiment:  298\n",
      "Experiment:  299\n",
      "Experiment:  300\n",
      "Experiment:  301\n"
     ]
    },
    {
     "name": "stderr",
     "output_type": "stream",
     "text": [
      "iterations: 100%|██████████| 1000/1000 [00:00<00:00, 16861.46it/s]\n",
      "iterations: 100%|██████████| 1000/1000 [00:00<00:00, 18391.47it/s]\n",
      "iterations: 100%|██████████| 1000/1000 [00:00<00:00, 17324.03it/s]\n",
      "iterations: 100%|██████████| 1000/1000 [00:00<00:00, 17497.19it/s]\n",
      "iterations:   0%|          | 0/1000 [00:00<?, ?it/s]"
     ]
    },
    {
     "name": "stdout",
     "output_type": "stream",
     "text": [
      "Experiment:  302\n",
      "Experiment:  303\n",
      "Experiment:  304\n",
      "Experiment:  305\n"
     ]
    },
    {
     "name": "stderr",
     "output_type": "stream",
     "text": [
      "iterations: 100%|██████████| 1000/1000 [00:00<00:00, 15944.17it/s]\n",
      "iterations: 100%|██████████| 1000/1000 [00:00<00:00, 17588.25it/s]\n",
      "iterations: 100%|██████████| 1000/1000 [00:00<00:00, 11323.75it/s]\n",
      "iterations:   0%|          | 0/1000 [00:00<?, ?it/s]"
     ]
    },
    {
     "name": "stdout",
     "output_type": "stream",
     "text": [
      "Experiment:  306\n",
      "Experiment:  307\n",
      "Experiment:  308\n"
     ]
    },
    {
     "name": "stderr",
     "output_type": "stream",
     "text": [
      "iterations: 100%|██████████| 1000/1000 [00:00<00:00, 14677.36it/s]\n",
      "iterations: 100%|██████████| 1000/1000 [00:00<00:00, 14388.69it/s]\n",
      "iterations: 100%|██████████| 1000/1000 [00:00<00:00, 15833.06it/s]\n",
      "iterations:   0%|          | 0/1000 [00:00<?, ?it/s]"
     ]
    },
    {
     "name": "stdout",
     "output_type": "stream",
     "text": [
      "Experiment:  309\n",
      "Experiment:  310\n",
      "Experiment:  311\n"
     ]
    },
    {
     "name": "stderr",
     "output_type": "stream",
     "text": [
      "iterations: 100%|██████████| 1000/1000 [00:00<00:00, 15383.47it/s]\n",
      "iterations: 100%|██████████| 1000/1000 [00:00<00:00, 15161.82it/s]\n",
      "iterations: 100%|██████████| 1000/1000 [00:00<00:00, 16222.97it/s]\n",
      "iterations:   0%|          | 0/1000 [00:00<?, ?it/s]"
     ]
    },
    {
     "name": "stdout",
     "output_type": "stream",
     "text": [
      "Experiment:  312\n",
      "Experiment:  313\n",
      "Experiment:  314\n"
     ]
    },
    {
     "name": "stderr",
     "output_type": "stream",
     "text": [
      "iterations: 100%|██████████| 1000/1000 [00:00<00:00, 15599.63it/s]\n",
      "iterations: 100%|██████████| 1000/1000 [00:00<00:00, 8264.33it/s]\n",
      "iterations: 100%|██████████| 1000/1000 [00:00<00:00, 15686.50it/s]\n",
      "iterations:   0%|          | 0/1000 [00:00<?, ?it/s]"
     ]
    },
    {
     "name": "stdout",
     "output_type": "stream",
     "text": [
      "Experiment:  315\n",
      "Experiment:  316\n",
      "Experiment:  317\n"
     ]
    },
    {
     "name": "stderr",
     "output_type": "stream",
     "text": [
      "iterations: 100%|██████████| 1000/1000 [00:00<00:00, 15916.27it/s]\n",
      "iterations: 100%|██████████| 1000/1000 [00:00<00:00, 17540.14it/s]\n",
      "iterations: 100%|██████████| 1000/1000 [00:00<00:00, 16370.83it/s]\n",
      "iterations: 100%|██████████| 1000/1000 [00:00<00:00, 14479.14it/s]\n",
      "iterations:   0%|          | 0/1000 [00:00<?, ?it/s]"
     ]
    },
    {
     "name": "stdout",
     "output_type": "stream",
     "text": [
      "Experiment:  318\n",
      "Experiment:  319\n",
      "Experiment:  320\n",
      "Experiment:  321\n"
     ]
    },
    {
     "name": "stderr",
     "output_type": "stream",
     "text": [
      "iterations: 100%|██████████| 1000/1000 [00:00<00:00, 16534.10it/s]\n",
      "iterations: 100%|██████████| 1000/1000 [00:00<00:00, 16545.12it/s]\n",
      "iterations: 100%|██████████| 1000/1000 [00:00<00:00, 16242.20it/s]\n",
      "iterations: 100%|██████████| 1000/1000 [00:00<00:00, 17596.07it/s]\n",
      "iterations:   0%|          | 0/1000 [00:00<?, ?it/s]"
     ]
    },
    {
     "name": "stdout",
     "output_type": "stream",
     "text": [
      "Experiment:  322\n",
      "Experiment:  323\n",
      "Experiment:  324\n",
      "Experiment:  325\n"
     ]
    },
    {
     "name": "stderr",
     "output_type": "stream",
     "text": [
      "iterations: 100%|██████████| 1000/1000 [00:00<00:00, 15684.04it/s]\n",
      "iterations: 100%|██████████| 1000/1000 [00:00<00:00, 17907.69it/s]\n",
      "iterations: 100%|██████████| 1000/1000 [00:00<00:00, 15125.24it/s]\n",
      "iterations: 100%|██████████| 1000/1000 [00:00<00:00, 15297.57it/s]\n",
      "iterations:   0%|          | 0/1000 [00:00<?, ?it/s]"
     ]
    },
    {
     "name": "stdout",
     "output_type": "stream",
     "text": [
      "Experiment:  326\n",
      "Experiment:  327\n",
      "Experiment:  328\n",
      "Experiment:  329\n"
     ]
    },
    {
     "name": "stderr",
     "output_type": "stream",
     "text": [
      "iterations: 100%|██████████| 1000/1000 [00:00<00:00, 14787.89it/s]\n",
      "iterations: 100%|██████████| 1000/1000 [00:00<00:00, 17924.99it/s]\n",
      "iterations: 100%|██████████| 1000/1000 [00:00<00:00, 15349.69it/s]\n",
      "iterations:   0%|          | 0/1000 [00:00<?, ?it/s]"
     ]
    },
    {
     "name": "stdout",
     "output_type": "stream",
     "text": [
      "Experiment:  330\n",
      "Experiment:  331\n",
      "Experiment:  332\n"
     ]
    },
    {
     "name": "stderr",
     "output_type": "stream",
     "text": [
      "iterations: 100%|██████████| 1000/1000 [00:00<00:00, 13032.91it/s]\n",
      "iterations: 100%|██████████| 1000/1000 [00:00<00:00, 14839.63it/s]\n",
      "iterations: 100%|██████████| 1000/1000 [00:00<00:00, 15252.51it/s]\n",
      "iterations:   0%|          | 0/1000 [00:00<?, ?it/s]"
     ]
    },
    {
     "name": "stdout",
     "output_type": "stream",
     "text": [
      "Experiment:  333\n",
      "Experiment:  334\n",
      "Experiment:  335\n"
     ]
    },
    {
     "name": "stderr",
     "output_type": "stream",
     "text": [
      "iterations: 100%|██████████| 1000/1000 [00:00<00:00, 14462.82it/s]\n",
      "iterations: 100%|██████████| 1000/1000 [00:00<00:00, 14785.86it/s]\n",
      "iterations: 100%|██████████| 1000/1000 [00:00<00:00, 15105.30it/s]\n",
      "iterations: 100%|██████████| 1000/1000 [00:00<00:00, 13802.82it/s]"
     ]
    },
    {
     "name": "stdout",
     "output_type": "stream",
     "text": [
      "Experiment:  336\n",
      "Experiment:  337\n",
      "Experiment:  338\n"
     ]
    },
    {
     "name": "stderr",
     "output_type": "stream",
     "text": [
      "\n",
      "iterations: 100%|██████████| 1000/1000 [00:00<00:00, 18093.40it/s]\n",
      "iterations: 100%|██████████| 1000/1000 [00:00<00:00, 19030.16it/s]\n",
      "iterations: 100%|██████████| 1000/1000 [00:00<00:00, 15836.59it/s]\n",
      "iterations:   0%|          | 0/1000 [00:00<?, ?it/s]"
     ]
    },
    {
     "name": "stdout",
     "output_type": "stream",
     "text": [
      "Experiment:  339\n",
      "Experiment:  340\n",
      "Experiment:  341\n",
      "Experiment:  342\n"
     ]
    },
    {
     "name": "stderr",
     "output_type": "stream",
     "text": [
      "iterations: 100%|██████████| 1000/1000 [00:00<00:00, 15081.40it/s]\n",
      "iterations: 100%|██████████| 1000/1000 [00:00<00:00, 15116.03it/s]\n",
      "iterations: 100%|██████████| 1000/1000 [00:00<00:00, 18950.11it/s]\n",
      "iterations: 100%|██████████| 1000/1000 [00:00<00:00, 15007.37it/s]\n",
      "iterations:   0%|          | 0/1000 [00:00<?, ?it/s]"
     ]
    },
    {
     "name": "stdout",
     "output_type": "stream",
     "text": [
      "Experiment:  343\n",
      "Experiment:  344\n",
      "Experiment:  345\n",
      "Experiment:  346\n"
     ]
    },
    {
     "name": "stderr",
     "output_type": "stream",
     "text": [
      "iterations: 100%|██████████| 1000/1000 [00:00<00:00, 14799.26it/s]\n",
      "iterations: 100%|██████████| 1000/1000 [00:00<00:00, 17057.85it/s]\n",
      "iterations: 100%|██████████| 1000/1000 [00:00<00:00, 15788.72it/s]\n",
      "iterations: 100%|██████████| 1000/1000 [00:00<00:00, 15134.73it/s]\n",
      "iterations:   0%|          | 0/1000 [00:00<?, ?it/s]"
     ]
    },
    {
     "name": "stdout",
     "output_type": "stream",
     "text": [
      "Experiment:  347\n",
      "Experiment:  348\n",
      "Experiment:  349\n",
      "Experiment:  350\n"
     ]
    },
    {
     "name": "stderr",
     "output_type": "stream",
     "text": [
      "iterations: 100%|██████████| 1000/1000 [00:00<00:00, 15250.24it/s]\n",
      "iterations: 100%|██████████| 1000/1000 [00:00<00:00, 18930.53it/s]\n",
      "iterations: 100%|██████████| 1000/1000 [00:00<00:00, 15208.44it/s]\n",
      "iterations: 100%|██████████| 1000/1000 [00:00<00:00, 15368.54it/s]\n",
      "iterations:   0%|          | 0/1000 [00:00<?, ?it/s]"
     ]
    },
    {
     "name": "stdout",
     "output_type": "stream",
     "text": [
      "Experiment:  351\n",
      "Experiment:  352\n",
      "Experiment:  353\n",
      "Experiment:  354\n"
     ]
    },
    {
     "name": "stderr",
     "output_type": "stream",
     "text": [
      "iterations: 100%|██████████| 1000/1000 [00:00<00:00, 15732.63it/s]\n",
      "iterations: 100%|██████████| 1000/1000 [00:00<00:00, 14722.54it/s]\n",
      "iterations: 100%|██████████| 1000/1000 [00:00<00:00, 16022.80it/s]\n",
      "iterations:   0%|          | 0/1000 [00:00<?, ?it/s]"
     ]
    },
    {
     "name": "stdout",
     "output_type": "stream",
     "text": [
      "Experiment:  355\n",
      "Experiment:  356\n",
      "Experiment:  357\n"
     ]
    },
    {
     "name": "stderr",
     "output_type": "stream",
     "text": [
      "iterations: 100%|██████████| 1000/1000 [00:00<00:00, 14169.52it/s]\n",
      "iterations: 100%|██████████| 1000/1000 [00:00<00:00, 15527.21it/s]\n",
      "iterations: 100%|██████████| 1000/1000 [00:00<00:00, 17965.91it/s]\n",
      "iterations: 100%|██████████| 1000/1000 [00:00<00:00, 15180.69it/s]\n",
      "iterations:   0%|          | 0/1000 [00:00<?, ?it/s]"
     ]
    },
    {
     "name": "stdout",
     "output_type": "stream",
     "text": [
      "Experiment:  358\n",
      "Experiment:  359\n",
      "Experiment:  360\n",
      "Experiment:  361\n"
     ]
    },
    {
     "name": "stderr",
     "output_type": "stream",
     "text": [
      "iterations: 100%|██████████| 1000/1000 [00:00<00:00, 12614.49it/s]\n",
      "iterations: 100%|██████████| 1000/1000 [00:00<00:00, 16514.18it/s]\n",
      "iterations: 100%|██████████| 1000/1000 [00:00<00:00, 14223.52it/s]\n",
      "iterations:   0%|          | 0/1000 [00:00<?, ?it/s]"
     ]
    },
    {
     "name": "stdout",
     "output_type": "stream",
     "text": [
      "Experiment:  362\n",
      "Experiment:  363\n",
      "Experiment:  364\n"
     ]
    },
    {
     "name": "stderr",
     "output_type": "stream",
     "text": [
      "iterations: 100%|██████████| 1000/1000 [00:00<00:00, 11531.75it/s]\n",
      "iterations: 100%|██████████| 1000/1000 [00:00<00:00, 11231.53it/s]\n",
      "iterations: 100%|██████████| 1000/1000 [00:00<00:00, 14378.58it/s]\n",
      "iterations:   0%|          | 0/1000 [00:00<?, ?it/s]"
     ]
    },
    {
     "name": "stdout",
     "output_type": "stream",
     "text": [
      "Experiment:  365\n",
      "Experiment:  366\n",
      "Experiment:  367\n"
     ]
    },
    {
     "name": "stderr",
     "output_type": "stream",
     "text": [
      "iterations: 100%|██████████| 1000/1000 [00:00<00:00, 16590.08it/s]\n",
      "iterations: 100%|██████████| 1000/1000 [00:00<00:00, 17608.40it/s]\n",
      "iterations: 100%|██████████| 1000/1000 [00:00<00:00, 15927.88it/s]\n",
      "iterations: 100%|██████████| 1000/1000 [00:00<00:00, 16615.71it/s]\n",
      "iterations:   0%|          | 0/1000 [00:00<?, ?it/s]"
     ]
    },
    {
     "name": "stdout",
     "output_type": "stream",
     "text": [
      "Experiment:  368\n",
      "Experiment:  369\n",
      "Experiment:  370\n",
      "Experiment:  371\n"
     ]
    },
    {
     "name": "stderr",
     "output_type": "stream",
     "text": [
      "iterations: 100%|██████████| 1000/1000 [00:00<00:00, 16144.92it/s]\n",
      "iterations: 100%|██████████| 1000/1000 [00:00<00:00, 17195.06it/s]\n",
      "iterations: 100%|██████████| 1000/1000 [00:00<00:00, 16302.04it/s]\n",
      "iterations: 100%|██████████| 1000/1000 [00:00<00:00, 16716.04it/s]\n",
      "iterations:   0%|          | 0/1000 [00:00<?, ?it/s]"
     ]
    },
    {
     "name": "stdout",
     "output_type": "stream",
     "text": [
      "Experiment:  372\n",
      "Experiment:  373\n",
      "Experiment:  374\n",
      "Experiment:  375\n"
     ]
    },
    {
     "name": "stderr",
     "output_type": "stream",
     "text": [
      "iterations: 100%|██████████| 1000/1000 [00:00<00:00, 14344.50it/s]\n",
      "iterations: 100%|██████████| 1000/1000 [00:00<00:00, 16634.23it/s]\n",
      "iterations: 100%|██████████| 1000/1000 [00:00<00:00, 16510.34it/s]\n",
      "iterations: 100%|██████████| 1000/1000 [00:00<00:00, 14706.33it/s]\n",
      "iterations:   0%|          | 0/1000 [00:00<?, ?it/s]"
     ]
    },
    {
     "name": "stdout",
     "output_type": "stream",
     "text": [
      "Experiment:  376\n",
      "Experiment:  377\n",
      "Experiment:  378\n",
      "Experiment:  379\n"
     ]
    },
    {
     "name": "stderr",
     "output_type": "stream",
     "text": [
      "iterations: 100%|██████████| 1000/1000 [00:00<00:00, 13225.40it/s]\n",
      "iterations: 100%|██████████| 1000/1000 [00:00<00:00, 16657.22it/s]\n",
      "iterations: 100%|██████████| 1000/1000 [00:00<00:00, 16645.85it/s]\n",
      "iterations: 100%|██████████| 1000/1000 [00:00<00:00, 16705.32it/s]\n",
      "iterations:   0%|          | 0/1000 [00:00<?, ?it/s]"
     ]
    },
    {
     "name": "stdout",
     "output_type": "stream",
     "text": [
      "Experiment:  380\n",
      "Experiment:  381\n",
      "Experiment:  382\n",
      "Experiment:  383\n"
     ]
    },
    {
     "name": "stderr",
     "output_type": "stream",
     "text": [
      "iterations: 100%|██████████| 1000/1000 [00:00<00:00, 12170.31it/s]\n",
      "iterations: 100%|██████████| 1000/1000 [00:00<00:00, 14549.31it/s]\n",
      "iterations: 100%|██████████| 1000/1000 [00:00<00:00, 16294.38it/s]\n",
      "iterations: 100%|██████████| 1000/1000 [00:00<00:00, 17992.35it/s]\n",
      "iterations:   0%|          | 0/1000 [00:00<?, ?it/s]"
     ]
    },
    {
     "name": "stdout",
     "output_type": "stream",
     "text": [
      "Experiment:  384\n",
      "Experiment:  385\n",
      "Experiment:  386\n",
      "Experiment:  387\n"
     ]
    },
    {
     "name": "stderr",
     "output_type": "stream",
     "text": [
      "iterations: 100%|██████████| 1000/1000 [00:00<00:00, 15682.81it/s]\n",
      "iterations: 100%|██████████| 1000/1000 [00:00<00:00, 15561.26it/s]\n",
      "iterations: 100%|██████████| 1000/1000 [00:00<00:00, 17197.17it/s]\n",
      "iterations: 100%|██████████| 1000/1000 [00:00<00:00, 14708.96it/s]\n",
      "iterations:   0%|          | 0/1000 [00:00<?, ?it/s]"
     ]
    },
    {
     "name": "stdout",
     "output_type": "stream",
     "text": [
      "Experiment:  388\n",
      "Experiment:  389\n",
      "Experiment:  390\n",
      "Experiment:  391\n"
     ]
    },
    {
     "name": "stderr",
     "output_type": "stream",
     "text": [
      "iterations: 100%|██████████| 1000/1000 [00:00<00:00, 16399.63it/s]\n",
      "iterations: 100%|██████████| 1000/1000 [00:00<00:00, 14781.12it/s]\n",
      "iterations: 100%|██████████| 1000/1000 [00:00<00:00, 15668.57it/s]\n",
      "iterations:   0%|          | 0/1000 [00:00<?, ?it/s]"
     ]
    },
    {
     "name": "stdout",
     "output_type": "stream",
     "text": [
      "Experiment:  392\n",
      "Experiment:  393\n",
      "Experiment:  394\n"
     ]
    },
    {
     "name": "stderr",
     "output_type": "stream",
     "text": [
      "iterations: 100%|██████████| 1000/1000 [00:00<00:00, 13438.93it/s]\n",
      "iterations: 100%|██████████| 1000/1000 [00:00<00:00, 15687.21it/s]\n",
      "iterations: 100%|██████████| 1000/1000 [00:00<00:00, 16567.47it/s]\n",
      "iterations:   0%|          | 0/1000 [00:00<?, ?it/s]"
     ]
    },
    {
     "name": "stdout",
     "output_type": "stream",
     "text": [
      "Experiment:  395\n",
      "Experiment:  396\n",
      "Experiment:  397\n"
     ]
    },
    {
     "name": "stderr",
     "output_type": "stream",
     "text": [
      "iterations: 100%|██████████| 1000/1000 [00:00<00:00, 8768.04it/s]\n",
      "iterations: 100%|██████████| 1000/1000 [00:00<00:00, 13924.11it/s]\n",
      "iterations: 100%|██████████| 1000/1000 [00:00<00:00, 16342.31it/s]\n",
      "iterations:   0%|          | 0/1000 [00:00<?, ?it/s]"
     ]
    },
    {
     "name": "stdout",
     "output_type": "stream",
     "text": [
      "Experiment:  398\n",
      "Experiment:  399\n",
      "Experiment:  400\n"
     ]
    },
    {
     "name": "stderr",
     "output_type": "stream",
     "text": [
      "iterations: 100%|██████████| 1000/1000 [00:00<00:00, 14598.99it/s]\n",
      "iterations: 100%|██████████| 1000/1000 [00:00<00:00, 13760.84it/s]\n",
      "iterations:  27%|██▋       | 274/1000 [00:00<00:00, 2739.32it/s]"
     ]
    },
    {
     "name": "stdout",
     "output_type": "stream",
     "text": [
      "Experiment:  401\n",
      "Experiment:  402\n"
     ]
    },
    {
     "name": "stderr",
     "output_type": "stream",
     "text": [
      "iterations: 100%|██████████| 1000/1000 [00:00<00:00, 4430.84it/s]\n",
      "iterations: 100%|██████████| 1000/1000 [00:00<00:00, 8011.80it/s]\n",
      "iterations:   0%|          | 0/1000 [00:00<?, ?it/s]"
     ]
    },
    {
     "name": "stdout",
     "output_type": "stream",
     "text": [
      "Experiment:  403\n",
      "Experiment:  404\n"
     ]
    },
    {
     "name": "stderr",
     "output_type": "stream",
     "text": [
      "iterations: 100%|██████████| 1000/1000 [00:00<00:00, 3986.26it/s]\n",
      "iterations: 100%|██████████| 1000/1000 [00:00<00:00, 7726.01it/s]\n",
      "iterations:   0%|          | 0/1000 [00:00<?, ?it/s]"
     ]
    },
    {
     "name": "stdout",
     "output_type": "stream",
     "text": [
      "Experiment:  405\n",
      "Experiment:  406\n"
     ]
    },
    {
     "name": "stderr",
     "output_type": "stream",
     "text": [
      "iterations: 100%|██████████| 1000/1000 [00:00<00:00, 8878.37it/s]\n",
      "iterations: 100%|██████████| 1000/1000 [00:00<00:00, 16739.52it/s]\n",
      "iterations: 100%|██████████| 1000/1000 [00:00<00:00, 15995.42it/s]\n",
      "iterations: 100%|██████████| 1000/1000 [00:00<00:00, 16720.43it/s]\n",
      "iterations:   0%|          | 0/1000 [00:00<?, ?it/s]"
     ]
    },
    {
     "name": "stdout",
     "output_type": "stream",
     "text": [
      "Experiment:  407\n",
      "Experiment:  408\n",
      "Experiment:  409\n",
      "Experiment:  410\n"
     ]
    },
    {
     "name": "stderr",
     "output_type": "stream",
     "text": [
      "iterations: 100%|██████████| 1000/1000 [00:00<00:00, 16187.79it/s]\n",
      "iterations: 100%|██████████| 1000/1000 [00:00<00:00, 16553.61it/s]\n",
      "iterations: 100%|██████████| 1000/1000 [00:00<00:00, 15355.82it/s]\n",
      "iterations: 100%|██████████| 1000/1000 [00:00<00:00, 16791.46it/s]\n"
     ]
    },
    {
     "name": "stdout",
     "output_type": "stream",
     "text": [
      "Experiment:  411\n",
      "Experiment:  412\n",
      "Experiment:  413\n",
      "Experiment: "
     ]
    },
    {
     "name": "stderr",
     "output_type": "stream",
     "text": [
      "iterations: 100%|██████████| 1000/1000 [00:00<00:00, 15371.13it/s]\n",
      "iterations: 100%|██████████| 1000/1000 [00:00<00:00, 14987.74it/s]\n",
      "iterations:   0%|          | 0/1000 [00:00<?, ?it/s]"
     ]
    },
    {
     "name": "stdout",
     "output_type": "stream",
     "text": [
      " 414\n",
      "Experiment:  415\n",
      "Experiment:  416\n"
     ]
    },
    {
     "name": "stderr",
     "output_type": "stream",
     "text": [
      "iterations: 100%|██████████| 1000/1000 [00:00<00:00, 13546.49it/s]\n",
      "iterations: 100%|██████████| 1000/1000 [00:00<00:00, 14930.55it/s]\n",
      "iterations: 100%|██████████| 1000/1000 [00:00<00:00, 14014.04it/s]\n",
      "iterations:   0%|          | 0/1000 [00:00<?, ?it/s]"
     ]
    },
    {
     "name": "stdout",
     "output_type": "stream",
     "text": [
      "Experiment:  417\n",
      "Experiment:  418\n",
      "Experiment:  419\n"
     ]
    },
    {
     "name": "stderr",
     "output_type": "stream",
     "text": [
      "iterations: 100%|██████████| 1000/1000 [00:00<00:00, 12977.75it/s]\n",
      "iterations: 100%|██████████| 1000/1000 [00:00<00:00, 12423.59it/s]\n",
      "iterations: 100%|██████████| 1000/1000 [00:00<00:00, 10194.70it/s]\n",
      "iterations:   0%|          | 0/1000 [00:00<?, ?it/s]"
     ]
    },
    {
     "name": "stdout",
     "output_type": "stream",
     "text": [
      "Experiment:  420\n",
      "Experiment:  421\n",
      "Experiment:  422\n"
     ]
    },
    {
     "name": "stderr",
     "output_type": "stream",
     "text": [
      "iterations: 100%|██████████| 1000/1000 [00:00<00:00, 13696.98it/s]\n",
      "iterations: 100%|██████████| 1000/1000 [00:00<00:00, 11922.24it/s]\n",
      "iterations:  92%|█████████▏| 924/1000 [00:00<00:00, 9239.81it/s]"
     ]
    },
    {
     "name": "stdout",
     "output_type": "stream",
     "text": [
      "Experiment:  423\n",
      "Experiment:  424\n"
     ]
    },
    {
     "name": "stderr",
     "output_type": "stream",
     "text": [
      "iterations: 100%|██████████| 1000/1000 [00:00<00:00, 9041.01it/s]\n",
      "iterations: 100%|██████████| 1000/1000 [00:00<00:00, 11623.69it/s]\n",
      "iterations: 100%|██████████| 1000/1000 [00:00<00:00, 10833.04it/s]\n",
      "iterations:   0%|          | 0/1000 [00:00<?, ?it/s]"
     ]
    },
    {
     "name": "stdout",
     "output_type": "stream",
     "text": [
      "Experiment:  425\n",
      "Experiment:  426\n",
      "Experiment:  427\n"
     ]
    },
    {
     "name": "stderr",
     "output_type": "stream",
     "text": [
      "iterations: 100%|██████████| 1000/1000 [00:00<00:00, 7121.89it/s]\n",
      "iterations: 100%|██████████| 1000/1000 [00:00<00:00, 15265.56it/s]\n",
      "iterations: 100%|██████████| 1000/1000 [00:00<00:00, 14702.62it/s]\n",
      "iterations:   0%|          | 0/1000 [00:00<?, ?it/s]"
     ]
    },
    {
     "name": "stdout",
     "output_type": "stream",
     "text": [
      "Experiment:  428\n",
      "Experiment:  429\n",
      "Experiment:  430\n"
     ]
    },
    {
     "name": "stderr",
     "output_type": "stream",
     "text": [
      "iterations: 100%|██████████| 1000/1000 [00:00<00:00, 13532.15it/s]\n",
      "iterations: 100%|██████████| 1000/1000 [00:00<00:00, 15468.80it/s]\n",
      "iterations:  79%|███████▉  | 790/1000 [00:00<00:00, 7811.56it/s]"
     ]
    },
    {
     "name": "stdout",
     "output_type": "stream",
     "text": [
      "Experiment:  431\n",
      "Experiment:  432\n"
     ]
    },
    {
     "name": "stderr",
     "output_type": "stream",
     "text": [
      "iterations: 100%|██████████| 1000/1000 [00:00<00:00, 5480.59it/s]\n",
      "iterations: 100%|██████████| 1000/1000 [00:00<00:00, 13736.28it/s]\n",
      "iterations:  80%|███████▉  | 798/1000 [00:00<00:00, 7976.81it/s]"
     ]
    },
    {
     "name": "stdout",
     "output_type": "stream",
     "text": [
      "Experiment:  433\n",
      "Experiment:  434\n"
     ]
    },
    {
     "name": "stderr",
     "output_type": "stream",
     "text": [
      "iterations: 100%|██████████| 1000/1000 [00:00<00:00, 8184.25it/s]\n",
      "iterations: 100%|██████████| 1000/1000 [00:00<00:00, 7179.99it/s]\n",
      "iterations:   0%|          | 0/1000 [00:00<?, ?it/s]"
     ]
    },
    {
     "name": "stdout",
     "output_type": "stream",
     "text": [
      "Experiment:  435\n",
      "Experiment:  436\n"
     ]
    },
    {
     "name": "stderr",
     "output_type": "stream",
     "text": [
      "iterations: 100%|██████████| 1000/1000 [00:00<00:00, 12066.50it/s]\n",
      "iterations: 100%|██████████| 1000/1000 [00:00<00:00, 17759.46it/s]\n",
      "iterations: 100%|██████████| 1000/1000 [00:00<00:00, 12913.74it/s]\n",
      "iterations:   0%|          | 0/1000 [00:00<?, ?it/s]"
     ]
    },
    {
     "name": "stdout",
     "output_type": "stream",
     "text": [
      "Experiment:  437\n",
      "Experiment:  438\n",
      "Experiment:  439\n"
     ]
    },
    {
     "name": "stderr",
     "output_type": "stream",
     "text": [
      "iterations: 100%|██████████| 1000/1000 [00:00<00:00, 12969.32it/s]\n",
      "iterations: 100%|██████████| 1000/1000 [00:00<00:00, 10738.71it/s]\n",
      "iterations: 100%|██████████| 1000/1000 [00:00<00:00, 12411.86it/s]\n",
      "iterations:   0%|          | 0/1000 [00:00<?, ?it/s]"
     ]
    },
    {
     "name": "stdout",
     "output_type": "stream",
     "text": [
      "Experiment:  440\n",
      "Experiment:  441\n",
      "Experiment:  442\n"
     ]
    },
    {
     "name": "stderr",
     "output_type": "stream",
     "text": [
      "iterations: 100%|██████████| 1000/1000 [00:00<00:00, 8101.54it/s]\n",
      "iterations: 100%|██████████| 1000/1000 [00:00<00:00, 5137.87it/s]"
     ]
    },
    {
     "name": "stdout",
     "output_type": "stream",
     "text": [
      "Experiment:  443\n"
     ]
    },
    {
     "name": "stderr",
     "output_type": "stream",
     "text": [
      "\n",
      "iterations:  64%|██████▎   | 636/1000 [00:00<00:00, 6267.11it/s]"
     ]
    },
    {
     "name": "stdout",
     "output_type": "stream",
     "text": [
      "Experiment:  444\n"
     ]
    },
    {
     "name": "stderr",
     "output_type": "stream",
     "text": [
      "iterations: 100%|██████████| 1000/1000 [00:00<00:00, 4459.92it/s]\n",
      "iterations:  55%|█████▍    | 545/1000 [00:00<00:00, 5448.91it/s]"
     ]
    },
    {
     "name": "stdout",
     "output_type": "stream",
     "text": [
      "Experiment:  445\n"
     ]
    },
    {
     "name": "stderr",
     "output_type": "stream",
     "text": [
      "iterations: 100%|██████████| 1000/1000 [00:00<00:00, 4997.75it/s]\n",
      "iterations: 100%|██████████| 1000/1000 [00:00<00:00, 6923.29it/s]\n",
      "iterations:   0%|          | 0/1000 [00:00<?, ?it/s]"
     ]
    },
    {
     "name": "stdout",
     "output_type": "stream",
     "text": [
      "Experiment:  446\n",
      "Experiment:  447\n"
     ]
    },
    {
     "name": "stderr",
     "output_type": "stream",
     "text": [
      "iterations: 100%|██████████| 1000/1000 [00:00<00:00, 8058.14it/s]\n",
      "iterations: 100%|██████████| 1000/1000 [00:00<00:00, 8193.30it/s]\n",
      "iterations:   0%|          | 0/1000 [00:00<?, ?it/s]"
     ]
    },
    {
     "name": "stdout",
     "output_type": "stream",
     "text": [
      "Experiment:  448\n",
      "Experiment:  449\n"
     ]
    },
    {
     "name": "stderr",
     "output_type": "stream",
     "text": [
      "iterations: 100%|██████████| 1000/1000 [00:00<00:00, 8331.06it/s]\n",
      "iterations: 100%|██████████| 1000/1000 [00:00<00:00, 13825.29it/s]\n",
      "iterations: 100%|██████████| 1000/1000 [00:00<00:00, 10945.61it/s]\n",
      "iterations:   0%|          | 0/1000 [00:00<?, ?it/s]"
     ]
    },
    {
     "name": "stdout",
     "output_type": "stream",
     "text": [
      "Experiment:  450\n",
      "Experiment:  451\n",
      "Experiment:  452\n"
     ]
    },
    {
     "name": "stderr",
     "output_type": "stream",
     "text": [
      "iterations: 100%|██████████| 1000/1000 [00:00<00:00, 11427.66it/s]\n",
      "iterations: 100%|██████████| 1000/1000 [00:00<00:00, 16260.96it/s]\n",
      "iterations: 100%|██████████| 1000/1000 [00:00<00:00, 9262.24it/s]\n",
      "iterations:   0%|          | 0/1000 [00:00<?, ?it/s]"
     ]
    },
    {
     "name": "stdout",
     "output_type": "stream",
     "text": [
      "Experiment:  453\n",
      "Experiment:  454\n",
      "Experiment:  455\n"
     ]
    },
    {
     "name": "stderr",
     "output_type": "stream",
     "text": [
      "iterations: 100%|██████████| 1000/1000 [00:00<00:00, 10200.30it/s]\n",
      "iterations: 100%|██████████| 1000/1000 [00:00<00:00, 7630.04it/s]\n",
      "iterations:   0%|          | 0/1000 [00:00<?, ?it/s]"
     ]
    },
    {
     "name": "stdout",
     "output_type": "stream",
     "text": [
      "Experiment:  456\n",
      "Experiment:  457\n"
     ]
    },
    {
     "name": "stderr",
     "output_type": "stream",
     "text": [
      "iterations: 100%|██████████| 1000/1000 [00:00<00:00, 10888.02it/s]\n",
      "iterations: 100%|██████████| 1000/1000 [00:00<00:00, 12508.29it/s]\n",
      "iterations: 100%|██████████| 1000/1000 [00:00<00:00, 15145.34it/s]\n",
      "iterations:   0%|          | 0/1000 [00:00<?, ?it/s]"
     ]
    },
    {
     "name": "stdout",
     "output_type": "stream",
     "text": [
      "Experiment:  458\n",
      "Experiment:  459\n",
      "Experiment:  460\n"
     ]
    },
    {
     "name": "stderr",
     "output_type": "stream",
     "text": [
      "iterations: 100%|██████████| 1000/1000 [00:00<00:00, 14790.97it/s]\n",
      "iterations: 100%|██████████| 1000/1000 [00:00<00:00, 16645.91it/s]\n",
      "iterations: 100%|██████████| 1000/1000 [00:00<00:00, 16210.62it/s]\n",
      "iterations: 100%|██████████| 1000/1000 [00:00<00:00, 15870.26it/s]\n",
      "iterations:   0%|          | 0/1000 [00:00<?, ?it/s]"
     ]
    },
    {
     "name": "stdout",
     "output_type": "stream",
     "text": [
      "Experiment:  461\n",
      "Experiment:  462\n",
      "Experiment:  463\n",
      "Experiment:  464\n"
     ]
    },
    {
     "name": "stderr",
     "output_type": "stream",
     "text": [
      "iterations: 100%|██████████| 1000/1000 [00:00<00:00, 10055.61it/s]\n",
      "iterations: 100%|██████████| 1000/1000 [00:00<00:00, 12870.50it/s]\n",
      "iterations: 100%|██████████| 1000/1000 [00:00<00:00, 9792.87it/s]\n",
      "iterations:   0%|          | 0/1000 [00:00<?, ?it/s]"
     ]
    },
    {
     "name": "stdout",
     "output_type": "stream",
     "text": [
      "Experiment:  465\n",
      "Experiment:  466\n",
      "Experiment:  467\n"
     ]
    },
    {
     "name": "stderr",
     "output_type": "stream",
     "text": [
      "iterations: 100%|██████████| 1000/1000 [00:00<00:00, 2457.92it/s]\n",
      "iterations:  28%|██▊       | 285/1000 [00:00<00:00, 2504.06it/s]"
     ]
    },
    {
     "name": "stdout",
     "output_type": "stream",
     "text": [
      "Experiment:  468\n"
     ]
    },
    {
     "name": "stderr",
     "output_type": "stream",
     "text": [
      "iterations: 100%|██████████| 1000/1000 [00:00<00:00, 3562.84it/s]\n",
      "iterations: 100%|██████████| 1000/1000 [00:00<00:00, 13474.55it/s]\n",
      "iterations: 100%|██████████| 1000/1000 [00:00<00:00, 8972.31it/s]\n",
      "iterations:   0%|          | 0/1000 [00:00<?, ?it/s]"
     ]
    },
    {
     "name": "stdout",
     "output_type": "stream",
     "text": [
      "Experiment:  469\n",
      "Experiment:  470\n",
      "Experiment:  471\n"
     ]
    },
    {
     "name": "stderr",
     "output_type": "stream",
     "text": [
      "iterations: 100%|██████████| 1000/1000 [00:00<00:00, 11637.95it/s]\n",
      "iterations: 100%|██████████| 1000/1000 [00:00<00:00, 12925.40it/s]\n",
      "iterations:  93%|█████████▎| 926/1000 [00:00<00:00, 8953.80it/s]"
     ]
    },
    {
     "name": "stdout",
     "output_type": "stream",
     "text": [
      "Experiment:  472\n",
      "Experiment:  473\n"
     ]
    },
    {
     "name": "stderr",
     "output_type": "stream",
     "text": [
      "iterations: 100%|██████████| 1000/1000 [00:00<00:00, 8399.91it/s]\n",
      "iterations: 100%|██████████| 1000/1000 [00:00<00:00, 7259.42it/s]\n",
      "iterations:   0%|          | 0/1000 [00:00<?, ?it/s]"
     ]
    },
    {
     "name": "stdout",
     "output_type": "stream",
     "text": [
      "Experiment:  474\n",
      "Experiment:  475\n"
     ]
    },
    {
     "name": "stderr",
     "output_type": "stream",
     "text": [
      "iterations: 100%|██████████| 1000/1000 [00:00<00:00, 10958.34it/s]\n",
      "iterations: 100%|██████████| 1000/1000 [00:00<00:00, 11791.49it/s]\n",
      "iterations: 100%|██████████| 1000/1000 [00:00<00:00, 16021.57it/s]\n",
      "iterations:   0%|          | 0/1000 [00:00<?, ?it/s]"
     ]
    },
    {
     "name": "stdout",
     "output_type": "stream",
     "text": [
      "Experiment:  476\n",
      "Experiment:  477\n",
      "Experiment:  478\n"
     ]
    },
    {
     "name": "stderr",
     "output_type": "stream",
     "text": [
      "iterations: 100%|██████████| 1000/1000 [00:00<00:00, 11530.70it/s]\n",
      "iterations: 100%|██████████| 1000/1000 [00:00<00:00, 12841.97it/s]\n",
      "iterations:  99%|█████████▉| 991/1000 [00:00<00:00, 9906.04it/s]"
     ]
    },
    {
     "name": "stdout",
     "output_type": "stream",
     "text": [
      "Experiment:  479\n",
      "Experiment:  480\n"
     ]
    },
    {
     "name": "stderr",
     "output_type": "stream",
     "text": [
      "iterations: 100%|██████████| 1000/1000 [00:00<00:00, 8196.72it/s]\n",
      "iterations:  29%|██▉       | 289/1000 [00:00<00:00, 2468.04it/s]"
     ]
    },
    {
     "name": "stdout",
     "output_type": "stream",
     "text": [
      "Experiment:  481\n"
     ]
    },
    {
     "name": "stderr",
     "output_type": "stream",
     "text": [
      "iterations: 100%|██████████| 1000/1000 [00:00<00:00, 2703.19it/s]\n",
      "iterations:  56%|█████▋    | 563/1000 [00:00<00:00, 5619.11it/s]"
     ]
    },
    {
     "name": "stdout",
     "output_type": "stream",
     "text": [
      "Experiment:  482\n"
     ]
    },
    {
     "name": "stderr",
     "output_type": "stream",
     "text": [
      "iterations: 100%|██████████| 1000/1000 [00:00<00:00, 3947.09it/s]\n",
      "iterations: 100%|██████████| 1000/1000 [00:00<00:00, 7883.45it/s]\n",
      "iterations: 100%|██████████| 1000/1000 [00:00<00:00, 16888.55it/s]\n",
      "iterations:   0%|          | 0/1000 [00:00<?, ?it/s]"
     ]
    },
    {
     "name": "stdout",
     "output_type": "stream",
     "text": [
      "Experiment:  483\n",
      "Experiment:  484\n",
      "Experiment:  485\n"
     ]
    },
    {
     "name": "stderr",
     "output_type": "stream",
     "text": [
      "iterations: 100%|██████████| 1000/1000 [00:00<00:00, 16083.13it/s]\n",
      "iterations: 100%|██████████| 1000/1000 [00:00<00:00, 17744.65it/s]\n",
      "iterations: 100%|██████████| 1000/1000 [00:00<00:00, 18498.30it/s]\n",
      "iterations: 100%|██████████| 1000/1000 [00:00<00:00, 18531.97it/s]\n",
      "iterations:   0%|          | 0/1000 [00:00<?, ?it/s]"
     ]
    },
    {
     "name": "stdout",
     "output_type": "stream",
     "text": [
      "Experiment:  486\n",
      "Experiment:  487\n",
      "Experiment:  488\n",
      "Experiment:  489\n"
     ]
    },
    {
     "name": "stderr",
     "output_type": "stream",
     "text": [
      "iterations: 100%|██████████| 1000/1000 [00:00<00:00, 17270.89it/s]\n",
      "iterations: 100%|██████████| 1000/1000 [00:00<00:00, 18019.25it/s]\n",
      "iterations: 100%|██████████| 1000/1000 [00:00<00:00, 18093.64it/s]\n",
      "iterations: 100%|██████████| 1000/1000 [00:00<00:00, 15000.55it/s]\n",
      "iterations:   0%|          | 0/1000 [00:00<?, ?it/s]"
     ]
    },
    {
     "name": "stdout",
     "output_type": "stream",
     "text": [
      "Experiment:  490\n",
      "Experiment:  491\n",
      "Experiment:  492\n",
      "Experiment:  493\n"
     ]
    },
    {
     "name": "stderr",
     "output_type": "stream",
     "text": [
      "iterations: 100%|██████████| 1000/1000 [00:00<00:00, 11445.99it/s]\n",
      "iterations: 100%|██████████| 1000/1000 [00:00<00:00, 9998.91it/s]\n",
      "iterations: 100%|██████████| 1000/1000 [00:00<00:00, 14772.79it/s]\n",
      "iterations:   0%|          | 0/1000 [00:00<?, ?it/s]"
     ]
    },
    {
     "name": "stdout",
     "output_type": "stream",
     "text": [
      "Experiment:  494\n",
      "Experiment:  495\n",
      "Experiment:  496\n"
     ]
    },
    {
     "name": "stderr",
     "output_type": "stream",
     "text": [
      "iterations: 100%|██████████| 1000/1000 [00:00<00:00, 14205.51it/s]\n",
      "iterations: 100%|██████████| 1000/1000 [00:00<00:00, 17541.76it/s]\n",
      "iterations: 100%|██████████| 1000/1000 [00:00<00:00, 16386.24it/s]\n",
      "iterations: 100%|██████████| 1000/1000 [00:00<00:00, 16563.42it/s]"
     ]
    },
    {
     "name": "stdout",
     "output_type": "stream",
     "text": [
      "Experiment:  497\n",
      "Experiment:  498\n",
      "Experiment:  499\n",
      "[[0.80952376 0.83532072]]\n"
     ]
    },
    {
     "name": "stderr",
     "output_type": "stream",
     "text": [
      "\n"
     ]
    }
   ],
   "source": [
    "# Run simulation\n",
    "results = runner(bandit=bandit, agents=agents, num_iter=num_iter, num_experiment=num_experiment)\n",
    "print(results[\"value_estimates\"])"
   ]
  },
  {
   "cell_type": "code",
   "execution_count": null,
   "metadata": {},
   "outputs": [],
   "source": []
  }
 ],
 "metadata": {
  "kernelspec": {
   "display_name": "Python 3",
   "language": "python",
   "name": "python3"
  },
  "language_info": {
   "codemirror_mode": {
    "name": "ipython",
    "version": 3
   },
   "file_extension": ".py",
   "mimetype": "text/x-python",
   "name": "python",
   "nbconvert_exporter": "python",
   "pygments_lexer": "ipython3",
   "version": "3.7.4"
  }
 },
 "nbformat": 4,
 "nbformat_minor": 2
}
